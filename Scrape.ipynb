{
 "cells": [
  {
   "cell_type": "markdown",
   "id": "67d49d48-b417-4f9b-9851-f2bfe1bbaa4a",
   "metadata": {},
   "source": [
    "# API investigation\n",
    "https://lastmile.lt/"
   ]
  },
  {
   "cell_type": "markdown",
   "id": "e66429ad-b745-446f-8615-c002967b01dc",
   "metadata": {},
   "source": [
    "## Main page"
   ]
  },
  {
   "cell_type": "markdown",
   "id": "fca153a3-6182-4cd9-95e5-2dec0c1c0807",
   "metadata": {},
   "source": [
    "APIs\n",
    "- https://lastmile.lt/ - html with style and scripts\n",
    "- https://search-dvbpbqktxq-lz.a.run.app/countries - specific counties data (e.g. drinking age)\n",
    "- https://search-dvbpbqktxq-lz.a.run.app/view_products - main one"
   ]
  },
  {
   "cell_type": "markdown",
   "id": "fa27029a-6345-48cc-9d89-7d68a8d32f6e",
   "metadata": {},
   "source": [
    "view_products payload example"
   ]
  },
  {
   "cell_type": "code",
   "execution_count": 117,
   "id": "a23f1172-f378-4ca0-af82-c32f91089806",
   "metadata": {},
   "outputs": [
    {
     "data": {
      "text/plain": [
       "{\n",
       "  limit: \u001b[33m4\u001b[39m,\n",
       "  params: {\n",
       "    type: \u001b[32m\"view_products\"\u001b[39m,\n",
       "    isActive: \u001b[33mtrue\u001b[39m,\n",
       "    isApproved: \u001b[33mtrue\u001b[39m,\n",
       "    chainIds: [\n",
       "      \u001b[32m\"CvKfTzV4TN5U8BTMF1Hl\"\u001b[39m, \u001b[32m\"OiGzdqIuls86njWsPYmw\"\u001b[39m,\n",
       "      \u001b[32m\"V0H88rGsB6VLgF78J9od\"\u001b[39m, \u001b[32m\"f5sdEyrvfddGmcFKT01v\"\u001b[39m,\n",
       "      \u001b[32m\"DgEa3bu5Yyk6NVj5XLAW\"\u001b[39m, \u001b[32m\"EGhL2pJWdSnGxfZWx3NO\"\u001b[39m,\n",
       "      \u001b[32m\"ME8nJYnuUfBKGfSLAaG5\"\u001b[39m, \u001b[32m\"CHkeQjQ8UKmO9MeORPe4\"\u001b[39m,\n",
       "      \u001b[32m\"YBTctNWk7hQsbYf2njlj\"\u001b[39m, \u001b[32m\"O2LBdkXTNAE3v3Mkrkc6\"\u001b[39m,\n",
       "      \u001b[32m\"5JeoycvZoB0oU9Rx1CqS\"\u001b[39m, \u001b[32m\"3cixqMb5xhJhYjIFED6x\"\u001b[39m,\n",
       "      \u001b[32m\"gMVefiUhDs7QIomr2xdT\"\u001b[39m, \u001b[32m\"0vVwsUUqORLDU0PrZXRD\"\u001b[39m,\n",
       "      \u001b[32m\"PDhUb8kDcuALavgGKXX2\"\u001b[39m, \u001b[32m\"bc3S3gEhDfi5Bz0IkC82\"\u001b[39m,\n",
       "      \u001b[32m\"I3aA4Purr0E8vecuPBDA\"\u001b[39m, \u001b[32m\"kAokIGbkw2lqK63EJ9oT\"\u001b[39m,\n",
       "      \u001b[32m\"59ks1hjKn7BKohQl6VNa\"\u001b[39m, \u001b[32m\"iDW7ky4wlWNFIj1u1csw\"\u001b[39m,\n",
       "      \u001b[32m\"GZixRM8cnWeoje1sL1Mx\"\u001b[39m, \u001b[32m\"l5wpue0Ih6LIaG5xtRPR\"\u001b[39m,\n",
       "      \u001b[32m\"quN3J8pCMyt6s4ZEPRiU\"\u001b[39m, \u001b[32m\"Ya1Xiu0sboidbfwwHKys\"\u001b[39m,\n",
       "      \u001b[32m\"9x5xzlpz6kDDNZ0GhSm1\"\u001b[39m, \u001b[32m\"Z3kStuxUlOTpNUKRMaIC\"\u001b[39m,\n",
       "      \u001b[32m\"WGELPUQ8jAPdPkwiIpPX\"\u001b[39m, \u001b[32m\"ZBaoNoHryuExUWExtCa8\"\u001b[39m,\n",
       "      \u001b[32m\"qBH49gh6GlaUM4SJJhgS\"\u001b[39m, \u001b[32m\"XpGeUOcj2j7u3CmnGgn1\"\u001b[39m,\n",
       "      \u001b[32m\"jtIUvuN1yUM4QEiYnY5P\"\u001b[39m, \u001b[32m\"1Peqibnoe45eoaeIqhWY\"\u001b[39m,\n",
       "      \u001b[32m\"YyDBoq38GJ2OvzJabBKX\"\u001b[39m, \u001b[32m\"nKPj2l5y1zFwKigc7Ajh\"\u001b[39m,\n",
       "      \u001b[32m\"BSlOISUsb351xizhb28w\"\u001b[39m, \u001b[32m\"td4XSCzKcTcDTvBeHML7\"\u001b[39m,\n",
       "      \u001b[32m\"eUay0D521MNY2IEEecl4\"\u001b[39m, \u001b[32m\"ktnOSFsfQPkWjLdUklmV\"\u001b[39m,\n",
       "      \u001b[32m\"TA8yAvtMEsga2tyvkcNg\"\u001b[39m, \u001b[32m\"erXRsEJI7M3YzI5OkTjq\"\u001b[39m,\n",
       "      \u001b[32m\"55jawyGVW1js6Neetz3F\"\u001b[39m, \u001b[32m\"Uh3YbF5KiffpeWMkBBze\"\u001b[39m,\n",
       "      \u001b[32m\"ISy3KkTutWNd3S9Ng2JC\"\u001b[39m, \u001b[32m\"xUhArfb04WkUN2Lqf415\"\u001b[39m,\n",
       "      \u001b[32m\"bkq87WDAhS4w9R8xFM0C\"\u001b[39m, \u001b[32m\"BKDsJmjka6w5Q6UYjq8Z\"\u001b[39m,\n",
       "      \u001b[32m\"HbHLIpX2lhEaZCBcSTHy\"\u001b[39m, \u001b[32m\"cKlzVZgS4jAmxYwp7yVY\"\u001b[39m,\n",
       "      \u001b[32m\"LH3gomcq0Wg15TcRPxM7\"\u001b[39m, \u001b[32m\"mzYibwFlvQFMGojloWXh\"\u001b[39m,\n",
       "      \u001b[32m\"yqO029PSPTFds5rdSdC5\"\u001b[39m, \u001b[32m\"jv0dozbps89KEiqPTFte\"\u001b[39m\n",
       "    ],\n",
       "    storeIds: [],\n",
       "    categoryIds: [],\n",
       "    filter: {},\n",
       "    sort: \u001b[32m\"dateCreated\"\u001b[39m,\n",
       "    showNewUntil: \u001b[32m\"2024-04-09T11:47:19.805Z\"\u001b[39m\n",
       "  },\n",
       "  slim: \u001b[1mnull\u001b[22m\n",
       "}"
      ]
     },
     "execution_count": 117,
     "metadata": {},
     "output_type": "execute_result"
    }
   ],
   "source": [
    "{\"limit\":4,\"params\":{\"type\":\"view_products\",\"isActive\":true,\"isApproved\":true,\"chainIds\":[\"CvKfTzV4TN5U8BTMF1Hl\",\"OiGzdqIuls86njWsPYmw\",\"V0H88rGsB6VLgF78J9od\",\"f5sdEyrvfddGmcFKT01v\",\"DgEa3bu5Yyk6NVj5XLAW\",\"EGhL2pJWdSnGxfZWx3NO\",\"ME8nJYnuUfBKGfSLAaG5\",\"CHkeQjQ8UKmO9MeORPe4\",\"YBTctNWk7hQsbYf2njlj\",\"O2LBdkXTNAE3v3Mkrkc6\",\"5JeoycvZoB0oU9Rx1CqS\",\"3cixqMb5xhJhYjIFED6x\",\"gMVefiUhDs7QIomr2xdT\",\"0vVwsUUqORLDU0PrZXRD\",\"PDhUb8kDcuALavgGKXX2\",\"bc3S3gEhDfi5Bz0IkC82\",\"I3aA4Purr0E8vecuPBDA\",\"kAokIGbkw2lqK63EJ9oT\",\"59ks1hjKn7BKohQl6VNa\",\"iDW7ky4wlWNFIj1u1csw\",\"GZixRM8cnWeoje1sL1Mx\",\"l5wpue0Ih6LIaG5xtRPR\",\"quN3J8pCMyt6s4ZEPRiU\",\"Ya1Xiu0sboidbfwwHKys\",\"9x5xzlpz6kDDNZ0GhSm1\",\"Z3kStuxUlOTpNUKRMaIC\",\"WGELPUQ8jAPdPkwiIpPX\",\"ZBaoNoHryuExUWExtCa8\",\"qBH49gh6GlaUM4SJJhgS\",\"XpGeUOcj2j7u3CmnGgn1\",\"jtIUvuN1yUM4QEiYnY5P\",\"1Peqibnoe45eoaeIqhWY\",\"YyDBoq38GJ2OvzJabBKX\",\"nKPj2l5y1zFwKigc7Ajh\",\"BSlOISUsb351xizhb28w\",\"td4XSCzKcTcDTvBeHML7\",\"eUay0D521MNY2IEEecl4\",\"ktnOSFsfQPkWjLdUklmV\",\"TA8yAvtMEsga2tyvkcNg\",\"erXRsEJI7M3YzI5OkTjq\",\"55jawyGVW1js6Neetz3F\",\"Uh3YbF5KiffpeWMkBBze\",\"ISy3KkTutWNd3S9Ng2JC\",\"xUhArfb04WkUN2Lqf415\",\"bkq87WDAhS4w9R8xFM0C\",\"BKDsJmjka6w5Q6UYjq8Z\",\"HbHLIpX2lhEaZCBcSTHy\",\"cKlzVZgS4jAmxYwp7yVY\",\"LH3gomcq0Wg15TcRPxM7\",\"mzYibwFlvQFMGojloWXh\",\"yqO029PSPTFds5rdSdC5\",\"jv0dozbps89KEiqPTFte\"],\"storeIds\":[],\"categoryIds\":[],\"filter\":{},\"sort\":\"dateCreated\",\"showNewUntil\":\"2024-04-09T11:47:19.805Z\"},\"slim\":null}"
   ]
  },
  {
   "cell_type": "markdown",
   "id": "b4f3a257-71fb-4da8-a87e-a5d5233b26b7",
   "metadata": {},
   "source": [
    "GET - gives max 2000 product as response\n",
    "POST - looks at the limit in payload"
   ]
  },
  {
   "cell_type": "markdown",
   "id": "41315084-622d-494b-bd29-63cc1669a99e",
   "metadata": {},
   "source": [
    "## Store page"
   ]
  },
  {
   "cell_type": "markdown",
   "id": "515d8bf1-8234-42b1-ad4c-f254032221c9",
   "metadata": {},
   "source": [
    "https://lastmile.lt/_next/data/zw0MqMxKRGQJqXmToYYJR/lt/chain/IKI.json?slug=chain&slug=IKI - IKI store data\n",
    "We can get categories from here\n",
    "\n",
    "Example of pages:\n",
    "- https://lastmile.lt/_next/data/zw0MqMxKRGQJqXmToYYJR/lt/chain/category/IKI/Akcijos.json?slug=chain&slug=category&slug=IKI&slug=Akcijos - \n",
    "- https://lastmile.lt/_next/data/zw0MqMxKRGQJqXmToYYJR/lt/chain/category/IKI/Specialus-pasiulymai.json?slug=chain&slug=category&slug=IKI&slug=Specialus-pasiulymai\n",
    "- https://lastmile.lt/_next/data/zw0MqMxKRGQJqXmToYYJR/lt/chain/category/IKI/Pienas.json?slug=chain&slug=category&slug=IKI&slug=Pienas\n",
    "  - exmaple of \"Pienas\" product request payload\n",
    "    ```\n",
    "    {\n",
    "\t\"limit\": 60,\n",
    "\t\"params\": {\n",
    "\t\t\"type\": \"view_products\",\n",
    "\t\t\"isActive\": true,\n",
    "\t\t\"isApproved\": true,\n",
    "\t\t\"filter\": {},\n",
    "\t\t\"chainIds\": [\n",
    "\t\t\t\"CvKfTzV4TN5U8BTMF1Hl\"\n",
    "\t\t],\n",
    "\t\t\"storeIds\": [],\n",
    "\t\t\"categoryIds\": [\n",
    "\t\t\t\"B7UTvIzcguAYSjSplM0z\",\n",
    "\t\t\t\"M9G1xLe4Y6CWYWnjrT2t\",\n",
    "\t\t\t\"BAUzlFdi73V44CgWeQ9T\",\n",
    "\t\t\t\"DFu7WwowDc7NeJNRIHmw\",\n",
    "\t\t\t\"zf0UdfDZI7oGlDmMoe0N\",\n",
    "\t\t\t\"nj0qcjYDdDDcecG2qcQ7\"\n",
    "\t\t],\n",
    "\t\t\"isUsingStock\": true\n",
    "\t},\n",
    "\t\"fromIndex\": 0,\n",
    "\t\"slim\": true\n",
    "    }\n",
    "    ```\n",
    "  - pienas be laktozes\n",
    "    ```\n",
    "    {\n",
    "\t\"limit\": 60,\n",
    "\t\"params\": {\n",
    "\t\t\"type\": \"view_products\",\n",
    "\t\t\"isActive\": true,\n",
    "\t\t\"isApproved\": true,\n",
    "\t\t\"filter\": {},\n",
    "\t\t\"chainIds\": [\n",
    "\t\t\t\"CvKfTzV4TN5U8BTMF1Hl\"\n",
    "\t\t],\n",
    "\t\t\"storeIds\": [],\n",
    "\t\t\"categoryIds\": [\n",
    "\t\t\t\"M9G1xLe4Y6CWYWnjrT2t\"\n",
    "\t\t],\n",
    "\t\t\"isUsingStock\": true\n",
    "\t},\n",
    "\t\"fromIndex\": 0,\n",
    "\t\"slim\": true\n",
    "    }\n",
    "    ```\n",
    "  - price\n",
    "    ```\n",
    "    \"prc\": {\n",
    "        \"p\": 2.99,\n",
    "        \"s\": null,\n",
    "        \"l\": null,\n",
    "        \"still\": null,\n",
    "        \"ltill\": null,\n",
    "        \"ap\": 2.99,\n",
    "        \"lap\": 2.99,\n",
    "        \"lstill\": null\n",
    "    },\n",
    "    ```\n",
    "chainIds - IKI?\n",
    "categoryIds - smalles category\n",
    "channel request look like from firestore\n",
    "\n",
    "__TODO__\n",
    "- test fromIndex, one by one category. - works, also have `count` as total amount\n",
    "- slim - false gives more info\n",
    "- "
   ]
  },
  {
   "cell_type": "markdown",
   "id": "fde841da-3a2f-44b9-97a2-a9c6502e1caa",
   "metadata": {},
   "source": [
    "## Product page\n",
    "maybe not necesery as I saw nutrition data in previous pages"
   ]
  },
  {
   "cell_type": "markdown",
   "id": "d54be58c-6899-4ee4-a534-2cbdfad94a26",
   "metadata": {},
   "source": [
    "# Scraping data\n",
    "__Plan of attack:__\n",
    "- Scrape just IKI\n",
    "- Get all categories and sub-categories\n",
    "- get all products\n",
    "- Play with transforming data\n",
    "- Try out playwright\n",
    "- Move to ObservableHQ"
   ]
  },
  {
   "cell_type": "code",
   "execution_count": 86,
   "id": "5647f569-e2f7-482a-b4b1-dc03e953c78b",
   "metadata": {},
   "outputs": [
    {
     "name": "stdout",
     "output_type": "stream",
     "text": [
      "<html><head></head><body><h2 class=\"title deno\">Hello Deno!</h2></body></html>\n"
     ]
    }
   ],
   "source": [
    "import cheerio from \"https://esm.sh/cheerio@1.0.0-rc.10\";"
   ]
  },
  {
   "cell_type": "markdown",
   "id": "76018b58-08c9-4124-a949-85ea9455d037",
   "metadata": {},
   "source": [
    "## Main page HTML"
   ]
  },
  {
   "cell_type": "code",
   "execution_count": 121,
   "id": "f440893e-2689-4d30-98a0-4cbc0b5a03c3",
   "metadata": {
    "editable": true,
    "slideshow": {
     "slide_type": ""
    },
    "tags": []
   },
   "outputs": [],
   "source": [
    "let url = \"https://lastmile.lt/\"\n",
    "let res = await fetch(url);\n",
    "let html = await res.text();"
   ]
  },
  {
   "cell_type": "code",
   "execution_count": 122,
   "id": "4065708c-f7d4-4908-a43b-b4d6e4515507",
   "metadata": {},
   "outputs": [],
   "source": [
    "const $ = cheerio.load(html);"
   ]
  },
  {
   "cell_type": "code",
   "execution_count": 123,
   "id": "04484f82-f5f0-49cd-9f4d-9303e33ac925",
   "metadata": {},
   "outputs": [],
   "source": [
    "let jsonObject = JSON.parse($(\"script#__NEXT_DATA__\").html());"
   ]
  },
  {
   "cell_type": "code",
   "execution_count": 132,
   "id": "1cd3355a-5484-481e-aa04-5431ea50b34c",
   "metadata": {},
   "outputs": [],
   "source": [
    "await Deno.writeTextFile(\"next_data.json\", JSON.stringify(jsonObject));"
   ]
  },
  {
   "cell_type": "code",
   "execution_count": 3,
   "id": "ef8af9e0-c319-45e7-9f6c-5f6189d5b1ce",
   "metadata": {},
   "outputs": [],
   "source": [
    "let jsonObject = JSON.parse(await Deno.readTextFile(\"next_data.json\"))"
   ]
  },
  {
   "cell_type": "markdown",
   "id": "326b3728-dfec-484a-9d5f-20f4a610f65d",
   "metadata": {},
   "source": [
    "Supported languages"
   ]
  },
  {
   "cell_type": "code",
   "execution_count": 4,
   "id": "fc0be829-6ab3-4a48-9d7d-048fe9936881",
   "metadata": {},
   "outputs": [
    {
     "data": {
      "text/plain": [
       "[ \u001b[32m\"lt\"\u001b[39m, \u001b[32m\"en\"\u001b[39m, \u001b[32m\"de\"\u001b[39m, \u001b[32m\"ru\"\u001b[39m ]"
      ]
     },
     "execution_count": 4,
     "metadata": {},
     "output_type": "execute_result"
    }
   ],
   "source": [
    "jsonObject.locales"
   ]
  },
  {
   "cell_type": "markdown",
   "id": "1ae60360-a8bd-4bf3-bd16-aa9245ef2783",
   "metadata": {},
   "source": [
    "Chains\\\n",
    "IKI - CvKfTzV4TN5U8BTMF1Hl"
   ]
  },
  {
   "cell_type": "code",
   "execution_count": 5,
   "id": "c99f8d09-916c-41c0-8fd6-111f0287556a",
   "metadata": {},
   "outputs": [
    {
     "name": "stdout",
     "output_type": "stream",
     "text": [
      "CvKfTzV4TN5U8BTMF1Hl IKI [ \u001b[32m\"groceries\"\u001b[39m, \u001b[32m\"drinks\"\u001b[39m, \u001b[32m\"pets\"\u001b[39m, \u001b[32m\"alcohol\"\u001b[39m, \u001b[32m\"organic\"\u001b[39m, \u001b[32m\"promotions\"\u001b[39m ] [ \u001b[32m\"IKI\"\u001b[39m ]\n",
      "OiGzdqIuls86njWsPYmw PROMO Cash&Carry [ \u001b[32m\"groceries\"\u001b[39m, \u001b[32m\"alcohol\"\u001b[39m ] [ \u001b[32m\"LastMile-MARKET\"\u001b[39m, \u001b[32m\"PROMO-CashandCarry\"\u001b[39m ]\n",
      "V0H88rGsB6VLgF78J9od OSSU [ \u001b[32m\"newShop\"\u001b[39m, \u001b[32m\"organic\"\u001b[39m ] [ \u001b[32m\"OSSU\"\u001b[39m ]\n",
      "f5sdEyrvfddGmcFKT01v EP Bar [ \u001b[32m\"newShop\"\u001b[39m, \u001b[32m\"organic\"\u001b[39m, \u001b[32m\"groceries\"\u001b[39m ] [ \u001b[32m\"EP-Bar\"\u001b[39m ]\n",
      "DgEa3bu5Yyk6NVj5XLAW Happy Nuts [ \u001b[32m\"newShop\"\u001b[39m, \u001b[32m\"gifts\"\u001b[39m, \u001b[32m\"organic\"\u001b[39m ] [ \u001b[32m\"Happy-nuts\"\u001b[39m, \u001b[32m\"Happy-Nuts\"\u001b[39m ]\n",
      "EGhL2pJWdSnGxfZWx3NO CHAZZ CHIPS [ \u001b[32m\"newShop\"\u001b[39m, \u001b[32m\"gourmet\"\u001b[39m, \u001b[32m\"groceries\"\u001b[39m, \u001b[32m\"gifts\"\u001b[39m ] [ \u001b[32m\"CHAZZ-CHIPS\"\u001b[39m ]\n",
      "ME8nJYnuUfBKGfSLAaG5 Mėsos broliai [ \u001b[32m\"newShop\"\u001b[39m, \u001b[32m\"organic\"\u001b[39m, \u001b[32m\"gourmet\"\u001b[39m ] [ \u001b[32m\"Mesos-broliai-MB\"\u001b[39m, \u001b[32m\"Mesos-broliai\"\u001b[39m ]\n",
      "CHkeQjQ8UKmO9MeORPe4 Deistra [ \u001b[32m\"newShop\"\u001b[39m, \u001b[32m\"gifts\"\u001b[39m ] [ \u001b[32m\"Deistra\"\u001b[39m ]\n",
      "YBTctNWk7hQsbYf2njlj Naturalia Ūkis [ \u001b[32m\"organic\"\u001b[39m, \u001b[32m\"groceries\"\u001b[39m, \u001b[32m\"gourmet\"\u001b[39m ] [ \u001b[32m\"Naturalia-ukis\"\u001b[39m ]\n",
      "O2LBdkXTNAE3v3Mkrkc6 ALUS GYVAS  Cin Cin  [ \u001b[32m\"newShop\"\u001b[39m, \u001b[32m\"alcohol\"\u001b[39m ] [ \u001b[32m\"ALUS-GYVAS-Cin-Cin\"\u001b[39m ]\n",
      "5JeoycvZoB0oU9Rx1CqS Rolando daržovės [ \u001b[32m\"newShop\"\u001b[39m, \u001b[32m\"groceries\"\u001b[39m ] [ \u001b[32m\"Rolando-darzoves-UAB\"\u001b[39m, \u001b[32m\"Rolando-darzoves\"\u001b[39m ]\n",
      "3cixqMb5xhJhYjIFED6x The Farm [ \u001b[32m\"gourmet\"\u001b[39m, \u001b[32m\"groceries\"\u001b[39m ] [ \u001b[32m\"The-Farm\"\u001b[39m ]\n",
      "gMVefiUhDs7QIomr2xdT Hdrop [ \u001b[32m\"newShop\"\u001b[39m, \u001b[32m\"organic\"\u001b[39m ] [ \u001b[32m\"Hdrop\"\u001b[39m ]\n",
      "0vVwsUUqORLDU0PrZXRD Livin [ \u001b[32m\"groceries\"\u001b[39m, \u001b[32m\"organic\"\u001b[39m, \u001b[32m\"gourmet\"\u001b[39m ] [ \u001b[32m\"Livin\"\u001b[39m ]\n",
      "PDhUb8kDcuALavgGKXX2 sargiai.lt [] [ \u001b[32m\"sargiailt\"\u001b[39m ]\n",
      "bc3S3gEhDfi5Bz0IkC82 GRILLMAN [ \u001b[32m\"newShop\"\u001b[39m ] [ \u001b[32m\"GRILLMAN\"\u001b[39m ]\n",
      "I3aA4Purr0E8vecuPBDA Gummzy [ \u001b[32m\"newShop\"\u001b[39m ] [ \u001b[32m\"Gummzy\"\u001b[39m ]\n",
      "kAokIGbkw2lqK63EJ9oT HIPSTERS  [ \u001b[32m\"alcohol\"\u001b[39m, \u001b[32m\"newShop\"\u001b[39m ] [ \u001b[32m\"HIPSTERS-Good-beer-and-more\"\u001b[39m, \u001b[32m\"HIPSTERS\"\u001b[39m ]\n",
      "59ks1hjKn7BKohQl6VNa VAGA [ \u001b[32m\"newShop\"\u001b[39m ] [ \u001b[32m\"VAGA\"\u001b[39m ]\n",
      "iDW7ky4wlWNFIj1u1csw Biocos [ \u001b[32m\"organic\"\u001b[39m, \u001b[32m\"cosmetics\"\u001b[39m, \u001b[32m\"bodycare\"\u001b[39m ] [ \u001b[32m\"Biocos\"\u001b[39m ]\n",
      "GZixRM8cnWeoje1sL1Mx Florisima [ \u001b[32m\"newShop\"\u001b[39m, \u001b[32m\"gifts\"\u001b[39m ] [ \u001b[32m\"Florisima\"\u001b[39m ]\n",
      "l5wpue0Ih6LIaG5xtRPR Bluefish [ \u001b[32m\"newShop\"\u001b[39m ] [ \u001b[32m\"Bluefish\"\u001b[39m ]\n",
      "quN3J8pCMyt6s4ZEPRiU Fantazijos.lt [ \u001b[32m\"newShop\"\u001b[39m, \u001b[32m\"gifts\"\u001b[39m, \u001b[32m\"promotions\"\u001b[39m ] [ \u001b[32m\"Fantazijoslt\"\u001b[39m ]\n",
      "Ya1Xiu0sboidbfwwHKys Amor de flores [ \u001b[32m\"newShop\"\u001b[39m, \u001b[32m\"gifts\"\u001b[39m ] [ \u001b[32m\"Amor-de-flores\"\u001b[39m ]\n",
      "9x5xzlpz6kDDNZ0GhSm1 KRISPO [ \u001b[32m\"newShop\"\u001b[39m ] [ \u001b[32m\"KRISPO\"\u001b[39m ]\n",
      "Z3kStuxUlOTpNUKRMaIC Skanios gėlės [ \u001b[32m\"gifts\"\u001b[39m, \u001b[32m\"newShop\"\u001b[39m ] [ \u001b[32m\"Skanios-geles\"\u001b[39m ]\n",
      "WGELPUQ8jAPdPkwiIpPX GOLDEN ROSE [ \u001b[32m\"newShop\"\u001b[39m, \u001b[32m\"gifts\"\u001b[39m ] [ \u001b[32m\"GOLDEN-ROSE\"\u001b[39m ]\n",
      "ZBaoNoHryuExUWExtCa8 AUKSO PIEVA [ \u001b[32m\"newShop\"\u001b[39m ] [ \u001b[32m\"AUKSO-PIEVA\"\u001b[39m ]\n",
      "qBH49gh6GlaUM4SJJhgS Cascada [ \u001b[32m\"newShop\"\u001b[39m, \u001b[32m\"gifts\"\u001b[39m ] [ \u001b[32m\"Cascada\"\u001b[39m ]\n",
      "XpGeUOcj2j7u3CmnGgn1 Officeday [ \u001b[32m\"office\"\u001b[39m ] [ \u001b[32m\"OfficeDay\"\u001b[39m, \u001b[32m\"Officeday\"\u001b[39m ]\n",
      "jtIUvuN1yUM4QEiYnY5P Mon Ami [ \u001b[32m\"bakery\"\u001b[39m, \u001b[32m\"confectionery\"\u001b[39m, \u001b[32m\"groceries\"\u001b[39m, \u001b[32m\"gourmet\"\u001b[39m, \u001b[32m\"gifts\"\u001b[39m ] [ \u001b[32m\"Mon-Ami\"\u001b[39m ]\n",
      "1Peqibnoe45eoaeIqhWY ARVI Kalakutai [ \u001b[32m\"newShop\"\u001b[39m, \u001b[32m\"groceries\"\u001b[39m, \u001b[32m\"office\"\u001b[39m ] [ \u001b[32m\"ARVI-Kalakutai\"\u001b[39m ]\n"
     ]
    },
    {
     "data": {
      "text/plain": [
       "\u001b[32m\"jv0dozbps89KEiqPTFte\"\u001b[39m"
      ]
     },
     "execution_count": 5,
     "metadata": {},
     "output_type": "execute_result"
    },
    {
     "name": "stdout",
     "output_type": "stream",
     "text": [
      "YyDBoq38GJ2OvzJabBKX EkoMarket [ \u001b[32m\"organic\"\u001b[39m, \u001b[32m\"groceries\"\u001b[39m, \u001b[32m\"confectionery\"\u001b[39m ] [ \u001b[32m\"EkoMarket\"\u001b[39m ]\n",
      "nKPj2l5y1zFwKigc7Ajh MustBee [ \u001b[32m\"newShop\"\u001b[39m ] [ \u001b[32m\"MustBee\"\u001b[39m ]\n",
      "BSlOISUsb351xizhb28w Tortai-pyragai [ \u001b[32m\"confectionery\"\u001b[39m, \u001b[32m\"gourmet\"\u001b[39m, \u001b[32m\"groceries\"\u001b[39m, \u001b[32m\"gifts\"\u001b[39m ] [ \u001b[32m\"Tortai-pyragai\"\u001b[39m ]\n",
      "td4XSCzKcTcDTvBeHML7 BALTICMALL [ \u001b[32m\"newShop\"\u001b[39m, \u001b[32m\"gifts\"\u001b[39m ] [ \u001b[32m\"BALTICMALL\"\u001b[39m ]\n",
      "eUay0D521MNY2IEEecl4 GERŲ MINČIŲ ŪKIS [ \u001b[32m\"newShop\"\u001b[39m ] [ \u001b[32m\"GERU-MINCIU-uKIS\"\u001b[39m ]\n",
      "ktnOSFsfQPkWjLdUklmV Rūta [ \u001b[32m\"sweets\"\u001b[39m, \u001b[32m\"confectionery\"\u001b[39m, \u001b[32m\"gourmet\"\u001b[39m, \u001b[32m\"gifts\"\u001b[39m ] [ \u001b[32m\"Ruta\"\u001b[39m ]\n",
      "TA8yAvtMEsga2tyvkcNg Grapperia [] [ \u001b[32m\"Grapperia\"\u001b[39m ]\n",
      "erXRsEJI7M3YzI5OkTjq GOURMET LIFE [ \u001b[32m\"newShop\"\u001b[39m, \u001b[32m\"gourmet\"\u001b[39m ] [ \u001b[32m\"GOURMET-LIFE\"\u001b[39m ]\n",
      "55jawyGVW1js6Neetz3F Piestro [ \u001b[32m\"groceries\"\u001b[39m, \u001b[32m\"bakery\"\u001b[39m ] [ \u001b[32m\"Piestro\"\u001b[39m ]\n",
      "Uh3YbF5KiffpeWMkBBze Guggie [ \u001b[32m\"newShop\"\u001b[39m ] [ \u001b[32m\"Guggie\"\u001b[39m ]\n",
      "ISy3KkTutWNd3S9Ng2JC MEDIKATUS [ \u001b[32m\"promotions\"\u001b[39m, \u001b[32m\"newShop\"\u001b[39m, \u001b[32m\"gifts\"\u001b[39m, \u001b[32m\"organic\"\u001b[39m ] [ \u001b[32m\"MEDIKATUS\"\u001b[39m ]\n",
      "xUhArfb04WkUN2Lqf415 OLIVER [ \u001b[32m\"newShop\"\u001b[39m, \u001b[32m\"office\"\u001b[39m ] [ \u001b[32m\"OLIVER\"\u001b[39m ]\n",
      "bkq87WDAhS4w9R8xFM0C PORTUGALIŠKO VYNO AMBASADA [ \u001b[32m\"newShop\"\u001b[39m, \u001b[32m\"alcohol\"\u001b[39m, \u001b[32m\"gifts\"\u001b[39m, \u001b[32m\"gourmet\"\u001b[39m ] [ \u001b[32m\"PORTUGALISKO-VYNO-AMBASADA\"\u001b[39m ]\n",
      "BKDsJmjka6w5Q6UYjq8Z FLERA [ \u001b[32m\"gifts\"\u001b[39m, \u001b[32m\"newShop\"\u001b[39m ] [ \u001b[32m\"FLERA\"\u001b[39m ]\n",
      "HbHLIpX2lhEaZCBcSTHy Pieno namai [ \u001b[32m\"groceries\"\u001b[39m ] [ \u001b[32m\"Pieno-namai\"\u001b[39m ]\n",
      "cKlzVZgS4jAmxYwp7yVY KETOFOOD [ \u001b[32m\"newShop\"\u001b[39m, \u001b[32m\"promotions\"\u001b[39m, \u001b[32m\"groceries\"\u001b[39m, \u001b[32m\"organic\"\u001b[39m ] [ \u001b[32m\"KETOFOOD\"\u001b[39m ]\n",
      "LH3gomcq0Wg15TcRPxM7 KAFF [ \u001b[32m\"gourmet\"\u001b[39m, \u001b[32m\"groceries\"\u001b[39m ] [ \u001b[32m\"KAFF\"\u001b[39m ]\n",
      "mzYibwFlvQFMGojloWXh BIOCOS Pet Care [ \u001b[32m\"pets\"\u001b[39m ] [ \u001b[32m\"BIOCOS-Pet-Care\"\u001b[39m ]\n",
      "yqO029PSPTFds5rdSdC5 Dovanų Dovana [ \u001b[32m\"newShop\"\u001b[39m ] [ \u001b[32m\"Dovanu-Dovana\"\u001b[39m ]\n",
      "jv0dozbps89KEiqPTFte AMBRETI [ \u001b[32m\"newShop\"\u001b[39m, \u001b[32m\"promotions\"\u001b[39m ] [ \u001b[32m\"AMBRETI\"\u001b[39m ]\n"
     ]
    }
   ],
   "source": [
    "let chains = {}\n",
    "for (const chain of jsonObject.props.pageProps.chainsOrChain){\n",
    "    console.log(chain.id, chain.name.en, chain.tags, chain.slugs)\n",
    "    chains[chain.name.en] = chain.id\n",
    "}"
   ]
  },
  {
   "cell_type": "markdown",
   "id": "d49ad885-70d8-4d84-a381-696302b409af",
   "metadata": {},
   "source": [
    "Categories"
   ]
  },
  {
   "cell_type": "code",
   "execution_count": 21,
   "id": "d27215f1-e345-4f6e-88fc-8410fba7d457",
   "metadata": {},
   "outputs": [
    {
     "name": "stdout",
     "output_type": "stream",
     "text": [
      "00sales Promotions\n",
      "00frequentlyboughtproducts Your Products\n",
      "Y5C805FzmW137oeYY1to 1+1 Offers\n",
      "\t fAh2docYiH9UX5MgmSE7 1+1\n",
      "X94ufuUOO5rjmHh8n3gH Special offers\n",
      "\t yAHwNJEppUmznAqK1WaG Special offers for home\n",
      "00latest New\n",
      "00favorites Favorites\n",
      "Fjr0PdY3SpHbc2GKm9Cd Fruits and vegetables\n",
      "\t iSYTdWjFGh5YWglqphtj Fruits\n",
      "\t R9SDZX71J0Qapuvm1Lgp Vegetables\n",
      "\t TyLpkJrj4VvzdZTgry59 Berries\n",
      "\t VX72LbxC8cV0A1Kh40k6 Mushrooms\n",
      "a9SEJfba4SNgSbGMycL5 Dairy products and eggs\n",
      "\t B7UTvIzcguAYSjSplM0z Milk\n",
      "\t lGecTHdAhyAnZCQCuwhh Butter, margarine and fats\n",
      "\t CdWuu4uUCdxn6AIe4gqc Cheese\n",
      "\t NQUhVepop3OtR9njG12K Sour cream\n",
      "\t TVQZUpgOyoRgF6QtXRHA Curd products\n",
      "\t HLIolFbqYNRWg80KJDQq Kefir, sour milk and buttermilk\n",
      "\t feVWq0PcvnwNwZnSBycA Yogurts\n",
      "\t JGMOQONuXr63w9SFUIWQ Eggs\n",
      "\t r7HtE8CjVMu3zGC8yqby Mayonnaise\n",
      "wIuggN5AnmDIBozs6eUA Bread products and confectionery\n",
      "\t DLoQF9DWugzS6QDi9Iqn Fresh baked bread products\n",
      "\t FtgjCgmmcpD8W7bFn94C Bread\n",
      "\t CXmRw5Eqxzb8RvbLiRZE Baton\n",
      "\t GzdonUwqd5iAXyISiSNu Bread substitutes\n",
      "\t ex8Rhx6CSf091zVMlfdB Bread cakes, muffins and cupcakes\n",
      "\t mHAVj1rAYbfzEpDMk4nI Crisps, gingerbread, pretzels and cereals\n",
      "\t guVfF3XHMnBGq0LyD2oA Muffins and donuts\n",
      "\t lyjTy293mSE1V6NPmWgs Confectionery\n"
     ]
    },
    {
     "data": {
      "text/plain": [
       "\u001b[32m\"TkYx4sQCCYDr4OuGmxjP\"\u001b[39m"
      ]
     },
     "execution_count": 21,
     "metadata": {},
     "output_type": "execute_result"
    },
    {
     "name": "stdout",
     "output_type": "stream",
     "text": [
      "20x4e1fnrrqnQB7AyeGr Meat, fish and cooking\n",
      "\t 1CKDIcxEpY7b2UHbAsaw Fresh meat\n",
      "\t V6LgkRAG0FtJxk92EedA Fresh poultry\n",
      "\t bwjLXqWL9aE79yQ8gXl9 Meat and poultry products\n",
      "\t YNBc38VZOEZvY2gMcZhr Marinated meat and poultry\n",
      "\t aAztRXgfDPJvZMHJ4N8m Fresh fish and seafood\n",
      "\t uxZ0bIW63yS6X9E2Wrwt Fish products\n",
      "\t z54qJvi1a0tFeOpMI4N1 Cooking\n",
      "PFRbPnT0oNK8QbQfqOLB Frozen food\n",
      "\t 4NPOaGBpSSAUVkFXItVn Frozen vegetables, berries, fruits and mushrooms\n",
      "\t IXYtNYcKM0Bnxn9C0fvs Ice cream\n",
      "\t nZUNr4dlYOBrpUtU4jfg Ice cubes\n",
      "\t Uo6g8HNxbkZoBccKfBsB Frozen culinary and confectionery products\n",
      "\t CprVsMkh7piddK3LzdMX Frozen fish and seafood\n",
      "\t 3a9o6BBfMqpO1eP2LRd3 Frozen meat\n",
      "4F8AnnblKenpWblCXMSJ Groceries\n",
      "\t alSGOxSJTCEUc4AYVimh Oil and vinegar\n",
      "\t DVlT42gJS3sevRSkHkWE Sugar, sweeteners, honey\n",
      "\t eFlHBDHmobDg7BPxTBYa Coffee, cocoa, coffee drinks\n",
      "\t fi49LFhlfK8LVZN73CBd Tea\n",
      "\t hww6HY7FA1of6l2tJSsO Pasta\n",
      "\t Qcr3pLFVc8H5Jznf4l1f Flour\n",
      "\t RkxJvEZNHwXHsT4H9U3O Groats\n",
      "\t wqH0UDucPSMqw11XaYe0 Rice\n",
      "\t ISAig48P42h8ZXDBaPeZ Legumes\n",
      "\t QAurOjd8UT5526MFHpIn Sauces and spreads\n",
      "\t fj9o35CmfqVMtXOIMlRV Pickled, canned food\n",
      "\t ugS5OMkfCm7fLWWe8j8U Dry breakfast cereals and cereal bars\n",
      "\t FKEA5rBnkQe9QXzOhUh4 Nuts, seeds, dried fruits, berries\n",
      "\t tzQHf1Pq60Y2m3V7dyCb Quick food\n",
      "\t XCmQGbiqAryyKyYKuPbr Special food\n",
      "\t KoJJP7J8EvEJpoNxv8qj Food preparation accessories\n",
      "\t Hd0GxIHLNoFnmPntrBR1 World cuisines\n",
      "\t xcDHOtxyRKocg4hsMzkf Spices\n",
      "POgJ49EX1XStpTHYRWe7 Drinks\n",
      "\t Y0sDkVxqbzxjNFkQf6at Water\n",
      "\t zmIxwXNYGCIq8mQgM2es Juices, nectars and juice drinks\n",
      "\t cKa7w3zTYPt5DyFvKykN Non-alcoholic beverages\n",
      "\t 7aGnT9tzMYRqBwdgmLXG Beverages\n",
      "\t AjKyXlSr5l0rWugRdHOk Energy drinks\n",
      "TkH3cKCbsa8A4lxedhCv Sweets and snacks\n",
      "\t rib9oETO0liJd5FbdgNs Sweets\n",
      "\t IIk8FPKSn5XiDIZnUtnB Sweets\n",
      "\t 8dtkfUj256Pbwh5EGKyd Gummys\n",
      "\t QqVct75UCrfTKdo93vQn Chocolate\n",
      "\t LWH0PkqIUc4XaibVwl33 Bars\n",
      "\t 4y3xrhP557EMbPLyI5k6 Lollipops\n",
      "\t eUT3NGBsmKe3x5gMNkmc Dragee, nuts\n",
      "\t mVjH3msZjoKN0p7Jzqlw Chewing gum\n",
      "\t BHEhwM0RLWlnFZMjBEtF Cookies\n",
      "\t Xp09Lc6JKjIVq2WaFZtp Waffles\n",
      "\t 73RvPfPPbUwsFdjg6a92 Marshmallows\n",
      "\t yL1Tacc76TSAfQd90r1v Creams\n",
      "\t sAJXURmLVrGswaaKV4QL Chips\n",
      "\t dOivnprbMzNnEMJD0hWO Snacks\n",
      "\t zRfwlHX9EQ2Sisx6Vi1V Crackers\n",
      "\t khKc3oxJ1uA5wDxHUwiY Popcorn\n",
      "\t a9GRuOEAuBNhuYt9ztkh Baked bread\n",
      "rkvST3V0Qa09HpjZr9RB Alcoholic beverages\n",
      "\t 0ANpirdIGoSM9c7giFz2 Drink Guide\n",
      "\t 9gSKSRNgd0pm96FfuOD0 Beer\n",
      "\t OTigcvdJxUkH5lZ9xbMr Alcoholic cocktails\n",
      "\t DOGRmmj56XBrCqeMF2bD Wine and champagne\n",
      "\t Zd0l99S8v3fqxw8MMi8i Cider\n",
      "\t BUpEiqZzGOWwFEr9sTdJ Strong alcoholic drinks\n",
      "\t E3eQaKkDx2RIRghuRUAj Other alcoholic beverages\n",
      "ou44IMKmyHGlpLOHME04 Cosmetics and hygiene\n",
      "\t V8SuqwaYtZx2ykMZLriC Oral hygiene products\n",
      "\t nFbfoiUGwDBNrKRVlXHi Facial care products\n",
      "\t qKulbFUDVJ4zIgsBLXWu Haircare products\n",
      "\t CdwJsxHsH0cZ9g0ntYoW Body care products\n",
      "\t dgncIxzPGoT0GaGcEUl8 Foot and nail care products\n",
      "\t ezkubRzE4jrR3YUfByyd Deodorants\n",
      "\t ge33jFzpybfmL0snBRW3 Shaving products\n",
      "\t gNJgGfzQd8shfxZLUXnD Decorative cosmetics\n",
      "\t eu2IWn7PP8nQuV95TlqD Sun cosmetics\n",
      "\t WxUTOb1b0m2WnNEX2i46 Cosmetics for men\n",
      "\t 2BoNC1MeLqq0gsTXxKI0 Perfume\n",
      "\t BcZWFpFRQVo6DudCvdmu Intimate Hygiene\n",
      "\t siD52yVZKr7xm6CWTsH4 Medical goods\n",
      "uAEw7X73oWIIQK9dLek2 Laisvalaikio ir turizmo prekės\n",
      "\t iHQScdP6Uu7EtHsg8tj4 Šašlykinės, griliai, kepsninės\n",
      "\t 80OxrwqeLmASWNtwfXLn Griliaus įrankiai ir indai\n",
      "\t dKeyPnlFUdsLfIFKsgZd Camping goods\n",
      "\t Sf35kRIlUdrYS0yxU5Xb Kuras ir rūkymas\n",
      "\t WRa5d40C3u4CnXdbbgLZ Sports goods\n",
      "\t Ax7F8cgVMBbJdIhHLqTS Apsauga nuo kenkėjų\n",
      "UM88UOYjTXTEdcxszKZ3 Baby and children's goods\n",
      "\t N397J3Zzgn5pbyGXACzn Baby food, food for children\n",
      "\t JG42bpoM8IycY4DszAbQ Diapers\n",
      "\t igYG43WGu2TxcrqXhzOh Napkins for children\n",
      "\t 9QoRHGMpObE9r9YHWWgJ Underpads\n",
      "\t LnjL1p1Nml6HZuvmAKtu Baby care products\n",
      "\t t06PvS8VAsuvA0NfirNo Socks for children\n",
      "\t zFsKWghpIiM9hlyVjDNy Toys\n",
      "Vi4viZ26iEei8kgKhKYu Books\n",
      "\t GoQe3gWonMzZaI3XDcdd Grožinė literatūra\n",
      "\t Z9F8pTvaVkACXHz7TyNb Negrožinė literatūra\n",
      "\t bq5TeOoqmvfCWVQiG6oK Laisvalaikio knygos\n",
      "\t WRQDAv6Wq0NOFwiWLdKY Magazines\n",
      "NyY46ZkM0VBgsJOESJ0p Household chemicals, cleaning products\n",
      "\t P2r0jlRak7v3suONvfJE Animal products\n",
      "\t RQQKEr9M3ZqMlHoK9bIS Paper products\n",
      "\t qgn2cxKCNh0MFXgnoq3f For washing dishes\n",
      "\t ufaohbxH1UJKfkekgbmm Washing tools\n",
      "\t DLd1d8PbOIF8UFS4c48J Household chemicals\n",
      "\t sAFA2bsv0BRZj8SE3Ivb Cleaning tools\n",
      "eLxayejtjn3K8bzAZCwH Home and household goods\n",
      "\t 2rRx7YMK9FgSrHVNJXyt Household appliances and electronics\n",
      "\t gTxEr95g87a4zG4TPELs Kitchen and tableware\n",
      "\t 3GM2jMLOpt6EnQAZ0ZV4 Household goods\n",
      "\t 9quDpanr4afNHceHh3cm Reading glasses\n",
      "\t izQtOGPxBn0yuiqXBmt9 Leisure products\n",
      "\t fjQl3HXRlRRLkOfppm9L Socks and underwear\n",
      "\t ZFYUMGFf4c5usIHbSS6d Car goods\n",
      "\t zjGMlTrHpwoCI1khaMYA Gardening products\n",
      "O8purZjexjA1caZ8WKoL Office, school supplies\n",
      "\t mBi4rKsnkSYFTBXwzFmN Literature\n",
      "\t GTXCbvO9oTMFtR2ntGz6 Office supplies\n",
      "\t CDjL1EyRXthOeSGzx5YN School supplies\n",
      "i5TgtZ6kpC3ouYedgdbd Flowers and gifts\n",
      "\t fzcaNtlnh5pwSROpbCht Flowers\n",
      "\t r6mhRf9wQKjV9mA7gxdS Gifts\n",
      "lvEehnisp35GH3PKofIW Erotic goods\n",
      "\t ILhzp3JoN9xtkWcYExRM Erotinės dovanos\n",
      "\t uSKpV4Qzycjf5u2N3afN Sex toys\n",
      "\t AsqEgmQJGeajS20Vfw23 Condoms\n",
      "\t PIpbdyITzFoUXpwRfiuO Lubricants\n",
      "\t wggTCNZnCSzaeiBdrN2V Sexy outfit\n",
      "\t EBOxhNyPi4x4fdLbDqex Cosmetics for adults\n",
      "\t WjHICy4y3bEMJCxEbns0 BDSM products\n",
      "m3y5VPeO0vEg8Rspvejo Computer technology, games, accessories\n",
      "\t zFNG0AaC0WfPsLPGk7jR Player gear\n",
      "\t qztwMHdpvKKcW84GvnJ5 Sony Playstation\n",
      "\t Sw3Jh4Qe7AaGZJ69zeo0 Player accessories\n",
      "531o1i5AUWe4X5mZqcb7 FOOD SUPPLEMENTS\n",
      "\t BTmfaORV1CCgd7iTalPR CBD products\n",
      "\t AejzgJt4Wa9C5crjDtPA Other supplements\n",
      "\t SQUOz20q7yvBd2ulYdZy Vitamins and minerals\n",
      "JJTfSWH3okm9sTSeXc8d Products for animals\n",
      "\t L52ZOdWjtP4HImC5t6os Toys for animals\n",
      "\t 11dTaQRnkqN6dwQWaSrj Other animals' goods\n",
      "\t 5MNLffg0OwNwd4uks2Uf Hygiene, care for animals\n",
      "\t UhVac6BwYPXJHSicFKT8 Home, travel gear for animals\n",
      "\t G2vGN0HkYz0EKAnGSACe Products for birds\n",
      "\t yKTh4YdGgj0KGGnlswRi Hygiene, grooming products for cats\n",
      "\t qmPGfYsCYMuh6y2O4lo2 Litter and litter boxes\n",
      "\t XhZd6iJIxMQWL5S488Fe Treats for animals\n",
      "\t V8vLubXsNWuIKelWDm3N Products for rodents\n",
      "\t q4LnXkWc1zGyMloCrB2A Bowls for animals\n",
      "\t JzFFv15ZZGZ3L0UhDQaD Collars, harnesses for animals\n",
      "\t TkYx4sQCCYDr4OuGmxjP Animal food\n"
     ]
    }
   ],
   "source": [
    "let categories = {}\n",
    "for (const category of jsonObject.props.pageProps.categories){\n",
    "    console.log(category.id, category.name.en)\n",
    "    categories[category.name.en] = category.id\n",
    "    for (const sub of category.subcategories){\n",
    "        console.log(\"\\t\",sub.id, sub.name.en)\n",
    "        categories[sub.name.en] = sub.id\n",
    "    }\n",
    "}"
   ]
  },
  {
   "cell_type": "markdown",
   "id": "a89a5e7e-9dbd-485b-84b1-44a98c151b98",
   "metadata": {},
   "source": [
    "## Get sub sub categories"
   ]
  },
  {
   "cell_type": "markdown",
   "id": "b71e581e-5459-4cbf-87b1-3f4f7160b05f",
   "metadata": {},
   "source": [
    "## IKI store api\n",
    "I don't know how to get https://search-dvbpbqktxq-lz.a.run.app/view_products without network tools, so it might change\n",
    "\n",
    "https://lastmile.lt/_next/data/zw0MqMxKRGQJqXmToYYJR/lt/chain/IKI.json?slug=chain&slug=IKI\n",
    "Deepest category link https://lastmile.lt/_next/data/zw0MqMxKRGQJqXmToYYJR/lt/chain/category/IKI/Pienas-be-laktozes.json?slug=chain&slug=category&slug=IKI&slug=Pienas-be-laktozes\n",
    "paprasta nuolaida\n",
    "```json\n",
    "\"prc\": {\n",
    "    \"p\": 2.65,\n",
    "    \"s\": 0.82,\n",
    "    \"l\": 0.82,\n",
    "    \"still\": \"2024-04-23T21:59:59.000Z\",\n",
    "    \"ltill\": \"2024-04-23T21:59:59.000Z\",\n",
    "    \"ap\": 0.82,\n",
    "    \"lap\": 0.82,\n",
    "    \"lstill\": \"2024-04-23T21:59:59.000Z\"\n",
    "},\n",
    "```\n",
    "\n",
    "nuolaida su iki kortele\n",
    "```json\n",
    "\"prc\": {\n",
    "    \"p\": 2.65,\n",
    "    \"s\": null,\n",
    "    \"l\": 1.99,\n",
    "    \"still\": null,\n",
    "    \"ltill\": \"2024-04-28T20:59:59.999Z\",\n",
    "    \"ap\": 2.65,\n",
    "    \"lap\": 1.99,\n",
    "    \"lstill\": \"2024-04-28T20:59:59.999Z\"\n",
    "},\n",
    "```\n",
    "\n",
    "__TODO__\n",
    "- sub sub categories e.g. M9G1xLe4Y6CWYWnjrT2t lactose free milk?\n",
    "- iteratoin loop\n",
    "- what is zw0MqMxKRGQJqXmToYYJR?"
   ]
  },
  {
   "cell_type": "code",
   "execution_count": null,
   "id": "87e1dcc9-e963-462d-bdc2-c4d061012ea3",
   "metadata": {},
   "outputs": [],
   "source": []
  },
  {
   "cell_type": "code",
   "execution_count": null,
   "id": "4f6baa42-8eea-4935-b256-6ef64fd91819",
   "metadata": {},
   "outputs": [],
   "source": []
  },
  {
   "cell_type": "code",
   "execution_count": 36,
   "id": "124d6b7b-a9ce-429c-b75c-4cccf722e7b4",
   "metadata": {},
   "outputs": [],
   "source": [
    "//TODO use slugs for names\n",
    "let data = await fetch(\"https://lastmile.lt/_next/data/zw0MqMxKRGQJqXmToYYJR/lt/chain/IKI.json\")\n",
    "let iki_json = await data.json()"
   ]
  },
  {
   "cell_type": "code",
   "execution_count": 38,
   "id": "e49f4a13-f13f-4bff-bcf0-7e5bcb6ea552",
   "metadata": {},
   "outputs": [],
   "source": [
    "await Deno.writeTextFile(\"iki_data.json\", JSON.stringify(iki_json));"
   ]
  },
  {
   "cell_type": "code",
   "execution_count": 43,
   "id": "c1a02353-67f2-49aa-847a-3158b24aa160",
   "metadata": {},
   "outputs": [],
   "source": [
    "let iki_json = JSON.parse(await Deno.readTextFile(\"iki_data.json\"))"
   ]
  },
  {
   "cell_type": "code",
   "execution_count": 50,
   "id": "daed3bc3-06d6-4b48-89cc-1ac65a649d8f",
   "metadata": {},
   "outputs": [
    {
     "name": "stdout",
     "output_type": "stream",
     "text": [
      "Promotions\n",
      "Your Products\n",
      "1+1 Offers\n",
      "\t 1+1\n",
      "Special offers\n",
      "\t Special offers for home\n",
      "New\n",
      "Favorites\n",
      "Fruits and vegetables\n",
      "\t Fruits\n",
      "\t\t Banana\n",
      "\t\t Avocados\n",
      "\t\t Citrus fruits\n",
      "\t\t Grapes\n",
      "\t\t Apples\n",
      "\t\t Pears\n",
      "\t\t Watermelons\n",
      "\t\t Melons\n",
      "\t\t Kiwi\n",
      "\t\t Stone fruits\n",
      "\t\t Grenades\n",
      "\t\t Passionflower\n",
      "\t\t Exotic fruits\n",
      "\t\t Smoothies\n",
      "\t\t Fresh juice\n",
      "\t Vegetables\n",
      "\t\t Cucumbers\n",
      "\t\t Tomatoes\n",
      "\t\t Potatoes\n",
      "\t\t Onions and leeks\n",
      "\t\t Garlic\n",
      "\t\t Carrots\n",
      "\t\t Beets\n",
      "\t\t Other root vegetables\n",
      "\t\t Radishes\n",
      "\t\t Cabbage\n",
      "\t\t Peppers\n",
      "\t\t Eggplants\n",
      "\t\t Smidra\n",
      "\t\t Corn\n",
      "\t\t Peas and beans\n",
      "\t\t Pumpkins and zucchini\n",
      "\t\t Salads and their mixtures\n",
      "\t\t Fermented and salted vegetables\n",
      "\t Berries\n",
      "\t\t Strawberries\n",
      "\t\t Raspberries\n",
      "\t\t Blackberries\n",
      "\t\t Plums\n",
      "\t\t Blackberries\n",
      "\t Mushrooms\n",
      "\t\t Meadow mushrooms\n",
      "\t\t Portobello mushrooms\n",
      "Dairy products and eggs\n",
      "\t Milk\n",
      "\t\t Lactose-free milk\n",
      "\t\t Vegetable milk\n",
      "\t\t Long shelf life milk\n",
      "\t\t Milk drinks\n",
      "\t\t Condensed milk\n",
      "\t Butter, margarine and fats\n",
      "\t\t Butter\n",
      "\t\t Margarine\n",
      "\t\t Lubricating fat mixtures\n",
      "\t Cheese\n",
      "\t\t Fermented cheeses\n",
      "\t\t Hard cheeses\n",
      "\t\t Mold cheeses\n",
      "\t\t Processed cheeses\n",
      "\t\t Curd cheeses\n",
      "\t\t Feta cheeses\n",
      "\t\t Goat milk cheeses\n",
      "\t\t Sheep's milk cheeses\n",
      "\t\t Mozzarella cheeses\n",
      "\t\t Mascarpone cheeses\n",
      "\t\t Spreadable cheeses\n",
      "\t\t Plant-based cheese substitutes\n",
      "\t\t Cheese snacks\n",
      "\t\t Cheese sticks\n",
      "\t\t Ricotta cheeses\n",
      "\t Sour cream\n",
      "\t\t Creamer for coffee\n",
      "\t\t Whipped cream\n",
      "\t Curd products\n",
      "\t\t Curd\n",
      "\t\t Cottage cheese\n",
      "\t\t Cottage cheese spreads\n",
      "\t\t Dessert cottage cheese\n",
      "\t\t Curd cheeses\n",
      "\t Kefir, sour milk and buttermilk\n",
      "\t\t Kefir\n",
      "\t\t Sour milk\n",
      "\t\t Buttermilk\n",
      "\t\t Kefir drinks\n",
      "\t Yogurts\n",
      "\t\t Greek yogurt\n",
      "\t\t Natural yogurt\n",
      "\t\t Drinking yogurt\n",
      "\t\t Yogurt desserts\n",
      "\t\t Dessert bars\n",
      "\t Eggs\n",
      "\t\t Chicken eggs\n",
      "\t Mayonnaise\n",
      "Bread products and confectionery\n",
      "\t Fresh baked bread products\n",
      "\t\t Freshly baked black bread\n",
      "\t\t Freshly baked light bread\n",
      "\t\t Freshly baked baguette\n",
      "\t\t Freshly baked sweet buns\n",
      "\t\t Ciabatta\n",
      "\t\t French bagguete\n",
      "\t Bread\n",
      "\t\t Black bread\n",
      "\t\t Light bread\n",
      "\t\t Sandwich bread\n",
      "\t\t Breads\n",
      "\t\t Rye bread\n",
      "\t\t Seed bread\n",
      "\t Baton\n",
      "\t Bread substitutes\n",
      "\t\t Buns\n",
      "\t\t Breadsticks\n",
      "\t\t Crumbs\n",
      "\t Bread cakes, muffins and cupcakes\n",
      "\t\t Cupcakes\n",
      "\t Crisps, gingerbread, pretzels and cereals\n",
      "\t\t Dried fruit\n",
      "\t\t Gingerbread men\n",
      "\t\t Javinuks\n",
      "\t Muffins and donuts\n",
      "\t\t Buns\n",
      "\t\t Croissants\n",
      "\t Confectionery\n",
      "\t\t Cakes\n",
      "\t\t Pies\n",
      "\t\t Cakes\n",
      "\t\t Forks\n",
      "\t\t Anthills\n",
      "\t\t Pastry desserts\n",
      "Meat, fish and cooking\n",
      "\t Fresh meat\n",
      "\t\t Pork\n",
      "\t\t Beef\n",
      "\t\t Rabbit meat\n",
      "\t\t Minced meat\n",
      "\t Fresh poultry\n",
      "\t\t Chicken\n",
      "\t\t Turkey\n",
      "\t\t Duck\n",
      "\t\t Minced poultry\n",
      "\t Meat and poultry products\n",
      "\t\t Cured sausages\n",
      "\t\t Cured meat products\n",
      "\t\t Hot smoked sausages\n",
      "\t\t Hot smoked products\n",
      "\t\t Cold smoked sausages\n",
      "\t\t Cold smoked products\n",
      "\t\t Smoked sausages and sausages\n",
      "\t\t Boiled sausages and sausages\n",
      "\t\t Boiled, fried and salted products\n",
      "\t\t Pates\n",
      "\t\t Canned meat and poultry\n",
      "\t\t Cooked products\n",
      "\t\t Baked products\n",
      "\t\t Salted products\n",
      "\t Marinated meat and poultry\n",
      "\t\t Shish kebabs\n",
      "\t\t Marinated meat\n",
      "\t\t Marinated poultry\n",
      "\t\t Fresh sausages\n",
      "\t Fresh fish and seafood\n",
      "\t\t Fish\n",
      "\t\t Herring\n",
      "\t\t Shrimp\n",
      "\t\t Squid\n",
      "\t Fish products\n",
      "\t\t Herrings and their products\n",
      "\t\t Salmon and their products\n",
      "\t\t Caviar\n",
      "\t\t Surimi products\n",
      "\t\t Sea cabbage\n",
      "\t\t Fish spreads and pâtés\n",
      "\t\t Smoked fish and seafood\n",
      "\t\t Cured fish and seafood\n",
      "\t\t Canned fish and seafood\n",
      "\t\t Processed seafood\n",
      "\t\t Crab sticks\n",
      "\t Cooking\n",
      "\t\t Crepes\n",
      "\t\t Salad\n",
      "\t\t Mixtures\n",
      "\t\t Flour dishes\n",
      "\t\t Meat dishes\n",
      "\t\t Culinary snacks\n",
      "\t\t Pasta, noodles, dough\n",
      "Frozen food\n",
      "\t Frozen vegetables, berries, fruits and mushrooms\n",
      "\t\t Frozen vegetables\n",
      "\t\t Frozen fruits\n",
      "\t\t Frozen mixed vegetables\n",
      "\t Ice cream\n",
      "\t\t Ice cream in portions\n",
      "\t\t Ice cream in boxes and jars\n",
      "\t Ice cubes\n",
      "\t Frozen culinary and confectionery products\n",
      "\t\t Frozen pizzas and snacks\n",
      "\t\t Frozen dumplings and noodles\n",
      "\t\t Frozen dough\n",
      "\t\t Frozen muffins and cakes\n",
      "\t\t Frozen meals\n",
      "\t\t Frozen ready-to-eat food\n",
      "\t Frozen fish and seafood\n",
      "\t\t Frozen fish\n",
      "\t\t Fish fingers\n",
      "\t\t Frozen shrimp\n",
      "\t\t Frozen seafood\n",
      "\t\t Frozen crab sticks\n",
      "\t Frozen meat\n",
      "Groceries\n",
      "\t Oil and vinegar\n",
      "\t\t Olive oil\n",
      "\t\t Sunflower oil\n",
      "\t\t Rapeseed oil\n",
      "\t\t Linseed oil\n",
      "\t\t Coconut oil\n",
      "\t\t Sesame oil\n",
      "\t\t Another oil\n",
      "\t\t Vinegar\n",
      "\t\t Balsamic vinegar\n",
      "\t\t Apple vinegar\n",
      "\t\t Concentrated lemon juice\n",
      "\t Sugar, sweeteners, honey\n",
      "\t\t Sugar\n",
      "\t\t Sweeteners\n",
      "\t\t Honey\n",
      "\t Coffee, cocoa, coffee drinks\n",
      "\t\t Ground coffee\n",
      "\t\t Coffee beans\n",
      "\t\t Coffee capsules\n",
      "\t\t Instant coffee\n",
      "\t\t Cocoa\n",
      "\t Tea\n",
      "\t\t Green tea\n",
      "\t\t Black tea\n",
      "\t\t Herb tea\n",
      "\t\t Fruit tea\n",
      "\t\t Another tea\n",
      "\t Pasta\n",
      "\t\t Spaghetti\n",
      "\t\t Long and flat noodles\n",
      "\t\t Small pasta\n",
      "\t\t Whole grain pasta\n",
      "\t\t Pasta tubes\n",
      "\t\t Gluten-free pasta\n",
      "\t\t Corn pasta\n",
      "\t\t Lasagna sheets\n",
      "\t Flour\n",
      "\t\t wheat flour\n",
      "\t\t Rye flour\n",
      "\t\t Buckwheat flour\n",
      "\t\t Chickpea flour\n",
      "\t\t Rice flour\n",
      "\t\t Whole grain flour\n",
      "\t\t Almond flour\n",
      "\t\t Corn flour\n",
      "\t\t Flour mixtures\n",
      "\t\t Other flours\n",
      "\t Groats\n",
      "\t\t Buckwheat\n",
      "\t\t Oat meal\n",
      "\t\t Semolina\n",
      "\t\t Barley grains\n",
      "\t\t Pearl barley\n",
      "\t\t Corn grains\n",
      "\t\t Couscous\n",
      "\t\t Linseed\n",
      "\t\t Other cereals\n",
      "\t Rice\n",
      "\t\t Long grain rice\n",
      "\t\t Short-grain and round-grain rice\n",
      "\t\t Parboiled rice\n",
      "\t\t Basmati rice\n",
      "\t\t Brown rice\n",
      "\t\t Black rice\n",
      "\t\t Wild rice\n",
      "\t Legumes\n",
      "\t\t Peas\n",
      "\t\t Lenses\n",
      "\t\t Beans\n",
      "\t\t Chickpeas\n",
      "\t Sauces and spreads\n",
      "\t\t Ketchup\n",
      "\t\t Tomato sauce\n",
      "\t\t Mayonnaise sauce\n",
      "\t\t Hot sauce\n",
      "\t\t Salad dressings\n",
      "\t\t Pasta sauces\n",
      "\t\t Barbecue sauce\n",
      "\t\t Soy sauce\n",
      "\t\t Horseradish\n",
      "\t\t Mustard\n",
      "\t\t Sweet-sour sauce\n",
      "\t\t Garlic sauce\n",
      "\t\t Worcestershire sauce\n",
      "\t\t Spreads\n",
      "\t\t Other sauces\n",
      "\t Pickled, canned food\n",
      "\t\t Canned cucumbers\n",
      "\t\t Canned tomatoes\n",
      "\t\t Canned peppers\n",
      "\t\t Canned peas\n",
      "\t\t Canned corn\n",
      "\t\t Canned beets\n",
      "\t\t Olives\n",
      "\t\t Jams and jams\n",
      "\t\t Canned fruits and berries\n",
      "\t\t Fruit and berry purees\n",
      "\t\t Canned mushrooms\n",
      "\t\t Canned soups\n",
      "\t\t Other pickled, preserved products\n",
      "\t Dry breakfast cereals and cereal bars\n",
      "\t\t Flakes\n",
      "\t\t Flakes for porridge\n",
      "\t\t Corn Flakes\n",
      "\t\t Cereal bars\n",
      "\t\t Cereals\n",
      "\t\t Granola\n",
      "\t Nuts, seeds, dried fruits, berries\n",
      "\t\t Nuts\n",
      "\t\t Seeds\n",
      "\t\t Dried plums\n",
      "\t\t Dried berries\n",
      "\t\t Dried cranberries\n",
      "\t\t Dried fruits\n",
      "\t\t Dried apricots\n",
      "\t\t Freeze-dried berries\n",
      "\t\t Freeze-dried fruits\n",
      "\t\t Mixtures of fruits, berries, nuts\n",
      "\t Quick food\n",
      "\t\t Pasta is prepared quickly\n",
      "\t\t Quick soups\n",
      "\t\t Mashed potatoes are prepared quickly\n",
      "\t\t Broths\n",
      "\t\t  Other food\n",
      "\t Special food\n",
      "\t Food preparation accessories\n",
      "\t\t Jelly\n",
      "\t\t Kissel\n",
      "\t\t Syrups\n",
      "\t\t Baking decorations\n",
      "\t\t Baking accessories\n",
      "\t World cuisines\n",
      "\t\t Mexican cuisine\n",
      "\t\t Japanese cuisine\n",
      "\t\t Chinese cuisine\n",
      "\t Spices\n",
      "\t\t Pepper\n",
      "\t\t Salt\n",
      "\t\t Cinnamon\n",
      "\t\t Cloves\n",
      "\t\t Herbs of Provence\n",
      "\t\t Curry spices\n",
      "\t\t Cumin\n",
      "\t\t Italian spices\n",
      "\t\t Spicy herbs\n",
      "\t\t Meat spices\n",
      "\t\t Fish spices\n",
      "\t\t Chicken spices\n",
      "\t\t BBQ spices\n",
      "\t\t Marinades\n",
      "\t\t Preparations of spices for dishes\n",
      "Drinks\n",
      "\t Water\n",
      "\t\t Still water\n",
      "\t\t Sparkling water\n",
      "\t Juices, nectars and juice drinks\n",
      "\t\t Orange juice\n",
      "\t\t Multivitamin juice\n",
      "\t\t Apple juice\n",
      "\t\t Carrot juice\n",
      "\t\t Tomato juice\n",
      "\t\t Grape juice\n",
      "\t\t Pineapple juice\n",
      "\t\t Cherry juice\n",
      "\t\t Nectars\n",
      "\t\t Juice drinks\n",
      "\t\t Juice\n",
      "\t\t Cube\n",
      "\t Non-alcoholic beverages\n",
      "\t\t Non-alcoholic beer\n",
      "\t\t Non-alcoholic wine\n",
      "\t\t Non-alcoholic cider\n",
      "\t\t Non-alcoholic sparkling wine\n",
      "\t Beverages\n",
      "\t\t Coca Cola\n",
      "\t\t Pepsi\n",
      "\t\t Fanta\n",
      "\t\t Sprite\n",
      "\t\t Scweppes\n",
      "\t\t Lemonades\n",
      "\t\t Gira\n",
      "\t\t Ice tea\n",
      "\t Energy drinks\n",
      "Sweets and snacks\n",
      "\t Sweets\n",
      "\t\t Sweets are weighed\n",
      "\t\t Chewy candies\n",
      "\t Sweets\n",
      "\t Gummys\n",
      "\t Chocolate\n",
      "\t Bars\n",
      "\t Lollipops\n",
      "\t Dragee, nuts\n",
      "\t Chewing gum\n",
      "\t Cookies\n",
      "\t Waffles\n",
      "\t Marshmallows\n",
      "\t Creams\n",
      "\t Chips\n",
      "\t\t Corn chips\n",
      "\t Snacks\n",
      "\t Crackers\n",
      "\t Baked bread\n",
      "Alcoholic beverages\n",
      "\t Drink Guide\n",
      "\t Beer\n",
      "\t\t Light beer\n",
      "\t\t Dark beer\n",
      "\t\t Wheat beer\n",
      "\t Alcoholic cocktails\n",
      "\t\t Beer cocktails\n",
      "\t Wine and champagne\n",
      "\t\t White wine\n",
      "\t\t Red wine\n",
      "\t\t Rose wine\n",
      "\t\t Sparkling wine\n",
      "\t\t Champagne\n",
      "\t\t Vermouth\n",
      "\t Cider\n",
      "\t Strong alcoholic drinks\n",
      "\t\t Vodka\n",
      "\t\t Whiskey\n",
      "\t\t Rome\n",
      "\t\t Gin\n",
      "\t\t Brandy\n",
      "\t\t Cognac\n",
      "\t\t Tequila\n",
      "\t\t Train\n",
      "\t\t Liqueur\n",
      "\t\t Armagnac\n",
      "Cosmetics and hygiene\n",
      "\t Oral hygiene products\n",
      "\t\t Toothpastes\n",
      "\t\t Toothbrushes\n",
      "\t\t Mouthwashes\n",
      "\t\t Dental floss\n",
      "\t\t Maintenance of dental prostheses\n",
      "\t\t Toothpicks\n",
      "\t Facial care products\n",
      "\t\t Facial tonics\n",
      "\t\t Face creams\n",
      "\t\t Lip care products\n",
      "\t\t Cotton pads\n",
      "\t\t Ear buds\n",
      "\t Haircare products\n",
      "\t\t Hair shampoos\n",
      "\t\t Dry shampoo\n",
      "\t\t Hair conditioners\n",
      "\t\t Hair balms\n",
      "\t\t Hair masks\n",
      "\t\t Hair serums\n",
      "\t\t Hair oil\n",
      "\t\t Hair styling products\n",
      "\t\t Hair spray\n",
      "\t\t Hair-dye\n",
      "\t\t Hair brushes and combs\n",
      "\t Body care products\n",
      "\t\t Shower gel\n",
      "\t\t Soap\n",
      "\t\t bath bubbles\n",
      "\t\t Bath salt\n",
      "\t\t Body lotions, creams, milks\n",
      "\t\t Ethereal oils\n",
      "\t\t Hand creams\n",
      "\t\t Depilatory creams\n",
      "\t Foot and nail care products\n",
      "\t\t Nail polish removers\n",
      "\t\t Foot care products\n",
      "\t Deodorants\n",
      "\t\t Ball deodorants\n",
      "\t\t Pencil deodorants\n",
      "\t\t Spray deodorants\n",
      "\t Shaving products\n",
      "\t\t Shaving foam\n",
      "\t\t Shaving gel and jelly\n",
      "\t\t Lotions and creams\n",
      "\t\t Razors\n",
      "\t\t Razor blades\n",
      "\t Decorative cosmetics\n",
      "\t\t Makeup basics, powders, concealers\n",
      "\t\t Makeup brushes, sponges, tools\n",
      "\t Sun cosmetics\n",
      "\t\t Sun creams\n",
      "\t Perfume\n",
      "\t\t Perfume for women\n",
      "\t\t Perfume for men\n",
      "\t Intimate Hygiene\n",
      "\t\t Pads\n",
      "\t\t Hygienic packages\n",
      "\t\t Tampons\n",
      "\t\t Intimate sanitary napkins\n",
      "\t\t Intimate hygiene washes\n",
      "\t Medical goods\n",
      "\t\t Food supplements\n",
      "\t\t Wet wipes\n",
      "\t\t Patches\n",
      "\t\t Protective face masks\n",
      "\t\t Other medical goods\n",
      "Laisvalaikio ir turizmo prekės\n",
      "\t Camping goods\n",
      "\t\t Vienkartiniai indai\n",
      "\t\t Thermoses\n",
      "Baby and children's goods\n",
      "\t Baby food, food for children\n",
      "\t\t Milk mixes\n",
      "\t\t Porridge for babies\n",
      "\t\t Pureles for babies\n",
      "\t\t Baby drinks and snacks\n",
      "\t Diapers\n",
      "\t\t Diapers, size 0-2\n",
      "\t\t Diapers, size 3-5\n",
      "\t\t Diapers, size 6+\n",
      "\t Napkins for children\n",
      "\t Underpads\n",
      "\t Baby care products\n",
      "\t Socks for children\n",
      "\t Toys\n",
      "Books\n",
      "\t Grožinė literatūra\n",
      "\t\t Meilės romanai\n",
      "\t Laisvalaikio knygos\n",
      "\t\t Knygos apie sodą\n",
      "\t Magazines\n",
      "\t\t Laikraščiai\n",
      "Household chemicals, cleaning products\n",
      "\t Paper products\n",
      "\t\t Toilet paper\n",
      "\t\t Paper towels\n",
      "\t\t Paper handkerchiefs\n",
      "\t\t Wet wipes for cleaning\n",
      "\t For washing dishes\n",
      "\t\t Dishwashing detergents\n",
      "\t\t Dishwasher tablets\n",
      "\t\t Dishwasher salt\n",
      "\t\t Dishwasher care products\n",
      "\t\t Means for washing dishes\n",
      "\t Washing tools\n",
      "\t\t Washing capsules\n",
      "\t\t Washing liquid\n",
      "\t\t Washing Powder\n",
      "\t\t Fabric softeners\n",
      "\t\t Washing sheets\n",
      "\t\t Stain removers and bleaches\n",
      "\t\t Fabric stands, antistatic\n",
      "\t\t Farm soap\n",
      "\t Household chemicals\n",
      "\t\t Window cleaners\n",
      "\t\t Kitchen and bathroom cleaners\n",
      "\t\t Boiling and sediment cleaners\n",
      "\t\t Special purpose cleaners\n",
      "\t\t Scrubbers\n",
      "\t\t Universal cleaners\n",
      "\t\t Floor and carpet cleaners\n",
      "\t\t Maintenance of washing machines\n",
      "\t\t Pipe cleaners\n",
      "\t\t WC cleaners\n",
      "\t\t Air fresheners\n",
      "\t\t Home smells\n",
      "\t Cleaning tools\n",
      "\t\t Sponges\n",
      "\t\t Towels\n",
      "\t\t Brooms\n",
      "\t\t Brushes\n",
      "\t\t Window and floor cleaning supplies\n",
      "\t\t Household and work gloves\n",
      "Home and household goods\n",
      "\t Household appliances and electronics\n",
      "\t\t Kitchen appliances\n",
      "\t\t LED lamps\n",
      "\t\t Extenders, extenders, hubs\n",
      "\t\t Phone accessories\n",
      "\t\t Headphones\n",
      "\t\t Batteries and cells\n",
      "\t Kitchen and tableware\n",
      "\t\t Dishes\n",
      "\t\t Plates\n",
      "\t\t Cups\n",
      "\t\t Knives\n",
      "\t\t Pots\n",
      "\t\t Frying pans\n",
      "\t\t Baking shapes\n",
      "\t\t Containers for food\n",
      "\t\t Drinks\n",
      "\t\t Other goods for the kitchen\n",
      "\t Household goods\n",
      "\t\t Candles\n",
      "\t\t Towels\n",
      "\t\t Bathroom accessories\n",
      "\t\t Shoe care products\n",
      "\t\t Glue\n",
      "\t\t Work tools\n",
      "\t Reading glasses\n",
      "\t Socks and underwear\n",
      "\t\t Socks\n",
      "\t\t Tights\n",
      "\t Car goods\n",
      "\t\t Window fluid\n",
      "\t\t Coolant\n",
      "\t\t Car air fresheners\n",
      "\t\t Car lights\n",
      "\t Gardening products\n",
      "\t\t Vegetable seeds\n",
      "\t\t Flower seeds\n",
      "\t\t Soils and substrates\n",
      "Office, school supplies\n",
      "\t Literature\n",
      "\t Office supplies\n",
      "\t\t Sticky leaves, paper\n",
      "\t School supplies\n",
      "Flowers and gifts\n",
      "\t Flowers\n",
      "\t\t Cut flowers\n",
      "\t\t Flowerpots\n",
      "\t Gifts\n",
      "Erotic goods\n",
      "\t Condoms\n",
      "\t Lubricants\n",
      "FOOD SUPPLEMENTS\n",
      "\t Vitamins and minerals\n",
      "\t\t Vitamins\n",
      "Products for animals\n",
      "\t Toys for animals\n",
      "\t\t Plush toys for dogs\n",
      "\t\t Perch toys for cats\n",
      "\t\t Catnip toys for cats\n",
      "\t\t Balls, frisbees for dogs\n",
      "\t\t Chewing, fetching for dogs\n",
      "\t\t Balls for cats\n",
      "\t Other animals' goods\n",
      "\t\t Food for fish\n",
      "\t Hygiene, care for animals\n",
      "\t\t Skin and coat care for cats\n",
      "\t\t Parasite control products for cats\n",
      "\t\t Skin and coat care for dogs\n",
      "\t\t Ear, eye, dental, paw care for dogs\n",
      "\t\t Ear, eye, dental, paw care for cats\n",
      "\t Products for birds\n",
      "\t\t Feed, treats\n",
      "\t Litter and litter boxes\n",
      "\t\t Litter\n",
      "\t Treats for animals\n",
      "\t\t Chewing, gnawing for dogs\n",
      "\t\t Biscuits, cookies for dogs\n",
      "\t\t Soft treats for cats\n",
      "\t Products for rodents\n",
      "\t\t Food and treats\n",
      "\t\t Litter, hay\n",
      "\t Collars, harnesses for animals\n",
      "\t\t Leashes for dogs\n",
      "\t Animal food\n",
      "\t\t Dry food for dogs\n",
      "\t\t Canned food and stews for cats\n",
      "\t\t Vitamins, supplements for dogs\n",
      "\t\t Dry food for cats\n",
      "\t\t Canned food for dogs\n"
     ]
    }
   ],
   "source": [
    "iki_json.pageProps.categories[7].subcategories[0].subcategories[0].name.en\n",
    "for (const category of iki_json.pageProps.categories) {\n",
    "    console.log(category.name.en)\n",
    "    for (const sub of category.subcategories) {\n",
    "        console.log(\"\\t\",sub.name.en)\n",
    "        for (const subsub of sub.subcategories){\n",
    "            console.log(\"\\t\\t\",subsub.name.en)\n",
    "\n",
    "        }\n",
    "    }\n",
    "}"
   ]
  },
  {
   "cell_type": "code",
   "execution_count": 41,
   "id": "303c7e1d-9f62-4da5-8603-497aa1c4b995",
   "metadata": {},
   "outputs": [
    {
     "data": {
      "application/json": {
       "buildId": "zw0MqMxKRGQJqXmToYYJR",
       "defaultLocale": "lt",
       "gssp": true,
       "isExperimentalCompile": false,
       "isFallback": false,
       "locale": "lt",
       "locales": [
        "lt",
        "en",
        "de",
        "ru"
       ],
       "page": "/[[...slug]]",
       "props": {
        "__N_SSP": true,
        "pageProps": {
         "__lang": "lt",
         "__namespaces": {
          "common": {
           "ASAP": "Kuo greičiau",
           "KG": "kg",
           "L": "l",
           "LastMile": "Kurjeris",
           "M": "m",
           "PAK": "pak",
           "VNT": "vnt",
           "View": "Peržiūrėti dovanas",
           "accept": "Priimti",
           "acceptDirectMarketing": "Ar tikrai norite sutikti su tiesiogine rinkodara?",
           "acceptTask": "Priimti užduotį",
           "accepted": "Užsakymas priimtas surinkimui.",
           "accounting_details": "Buhalterinės informacijos detalės",
           "accounting_invoices": "Buhalterinės informacijos sąskaitos",
           "actual": "Realus",
           "actualEnd": "Tikra pabaiga",
           "actualStart": "Tikra pradžia",
           "add": "Pridėti",
           "addAddress": "Pridėti adresą",
           "addCard": "Pridėti kortelę",
           "addComment": "Pridėti komentarą",
           "addCompany": "Pridėti įmonę",
           "addLoyaltyCard": "Pridėti lojalumo kortelę",
           "addNewAddress": "Pridėti naują adresą",
           "addNewPaymentMethod": "Pridėkite naują mokėjimo kortelę",
           "addProducts": "Pridėti prekių",
           "addProductsToOrder": "Pridėti papildomų produktų",
           "addSortingCategory": "Pridėti rūšiavimo kategoriją",
           "addTask": "Pridėti užduotį",
           "addToCart": "Įdėti į krepšelį",
           "addedProducts": "Pridėti produktai",
           "addedToCart": "Produktai sėkmingai pridėti į krepšelį",
           "addedToCartFromDifferent": "Atkreipkite dėmesį - Jūsų pasirinktos prekės yra iš skirtingų parduotuvių.",
           "addingCard": "Tikrinami kortelės duomenys. Gali atsidaryti papildomi (iššokantys) ekrano langai. Įsitikinkite, kad iššokantys langai yra leidžiami.",
           "addingComment": "Pridėdamas komentaras",
           "addingLoyaltyCard": "Pridedama lojalumo kortelė",
           "additionOrderAmount": "Papildomo užsakymo suma",
           "additionalProducts": "Papildomos prekės",
           "address": "Adresas",
           "addressDescription": "Adreso aprašymas",
           "addressExists": "Toks adresas jau yra",
           "addressLabel": "Adreso etiketė",
           "addressLow": "adresą",
           "addressSelection": "Adreso pasirinkimas",
           "addresses": "Adresai",
           "ageConstraint": "Amžiaus apribojimas",
           "ageRestrictionNoSelected": "Prašome uždaryti tinklapį.",
           "ageRestrictionSubtitle": "Parduotuvės turinys skirtas tik asmenims, sulaukusiems __age__ metų.",
           "ageRestrictionTitle": "Ar Jums jau yra __age__ metų?",
           "ageValidation": "Amžiaus patvirtinimas",
           "alcohol": "Alkoholis",
           "alcoholFree": "Be alkoholio",
           "alcoholicBeverages": "Alkoholiniai gėrimai",
           "algorithmType": "Algoritmo tipas",
           "all": "Visi",
           "allDeliveryTypes": "Visi pristatymo būdai",
           "allOrders": "Visi užsakymai",
           "allProducts": "Visi produktai",
           "allShopsNearby": "Visos parduotuvės netoliese",
           "allergens": "Alergenai",
           "alreadyHaveAccount": "Jau turite paskyrą?",
           "alternativesOfferedByUs": "Mūsų siūlomos alternatyvos",
           "amountLeftUntilFreeCartNearLeft": "Liko tik",
           "amountLeftUntilFreeCartNearRight": "iki minimalaus krepšelio!",
           "amountLeftUntilFreeCartStartLeft": "",
           "amountLeftUntilFreeCartStartRight": "iki minimalaus krepšelio!",
           "amountLeftUntilFreeDeliveryNearLeft": "Iki nemokamo pristatymo liko tik",
           "amountLeftUntilFreeDeliveryNearRight": "!",
           "amountLeftUntilFreeDeliveryStartLeft": "Pridėkite prekių už",
           "amountLeftUntilFreeDeliveryStartRight": "ir gaukite nemokamą pristatymą!",
           "apartmentNumberOrName": "Buto numeris arba pavadinimas",
           "appTransparancyText": "Mums rūpi jūsų privatumas ir duomenų saugumas. Ar galime ir toliau naudoti jūsų duomenis, kad pritaikytume jums skelbimus?\nGalite bet kada pakeisti savo pasirinkimą programos nustatymuose.",
           "appVersion": "Programėlės versija",
           "application": "Paraiška",
           "applicationApproved": "Jūsų paraiška patvirtinta, sveikiname.",
           "applicationDeclined": "Atsiprašome, bet jūsų paraiška buvo atmesta, linkime sėkmės ateityje.",
           "applicationInProgress": "Jūsų paraiška išsiųsta ir netrukus bus peržiūrėta.",
           "applicationPageTitle": "Užpildykite žemiau esančius laukus",
           "apply": "Pritaikyti",
           "applyFilter": "Filtruoti",
           "applyNow": "Pateikti paraišką",
           "applyToAllPromo": "Ar norite taikyti nuolaidą visiems užsakymams?",
           "applyingGiftCard": "Pridedama dovanų kortelė",
           "applyingPromo": "Pritaikoma nuolaida",
           "applyingReferral": "Pritaikoma rekomendacija",
           "approved": "Patvirtinta",
           "areYouSureYouWantToDeleteThisSelection": "Ar tikrai norite ištrinti šį pasirinkimą?",
           "asACourier": "Kaip kurjeris",
           "asAPartner": "Kaip verslo partneris",
           "attention": "Dėmesio",
           "autonomous_vehicle_tasks": "Autonominių transporto priemonių užduotys",
           "available": "Prieinama",
           "averageRating": "Vidutinis vertinimas",
           "back": "Grįžti",
           "badBarcode": "Brūkšniniai kodai nesutampa",
           "bad_input_data": "Įvesti duomenys yra neteisingi",
           "bakery": "Kepykla",
           "bankAccountNumber": "Banko sąskaita",
           "bannableSession": "Jūs būsite apriboti nustatytam laikotarpiui nutraukę šią sesiją.",
           "banner": "Reklamjuostė",
           "banners": "Reklamjuostės",
           "barcodeScanner": "Brūkšninių kodų skaitytuvas",
           "barcodes": "Barkodai",
           "beginShopping": "Pradėkite pirkimą",
           "billableEarnings": "Apmokestinamos pajamos",
           "birthdate": "Gimimo data",
           "blacklist_api_tokens": "Api žetonų sąrašas",
           "bodycare": "Kūno priežiūra",
           "bonus": "Priedas",
           "brand": "Prekės ženklas",
           "building": "Namas",
           "buildingNumberMissing": "Pastato numeris yra privalomas.",
           "businessCertificate": "Individualios veiklos pažymejimas",
           "buy": "Pirkti",
           "buyCheaper": "Pirk pigiau",
           "buyWithoutRegistration": "Pirkti be registracijos",
           "buyerDetails": "Pirkėjo duomenys",
           "bytes": "Baitai",
           "camera": "Fotoaparatas",
           "canBeCombinedWith": "Galima derinti su",
           "cancel": "Atšaukti",
           "cancelOrder": "Atšaukti užsakymą",
           "cancelOrderDescription": "Ar tikrai norite atšaukti šį užsakymą?",
           "cancelOrderInTask": "Atšaukti užduoties užsakymą",
           "cancelSession": "Atšaukti sesiją",
           "cancelSessionDescription": "Ar tikrai norite atšaukti sesiją?",
           "cancelTask": "Atšaukti užduotį",
           "cancelTaskDescription": "Ar tikrai norite atšaukti užduotį?",
           "canceledOrder": "Atšauktas užsakymas",
           "cancelled": "Atšauktas",
           "cancellingPromo": "Atšaukiama nuolaida",
           "cannotFindAddress": "Nepavyko rasti adreso",
           "cant_deliver": "Nepristatyti",
           "car": "Automobilis",
           "carNumber": "Automobilio valstybinis numeris",
           "carNumberExample": "ABC123",
           "carbs": "Angliavandeniai",
           "cardFound": "Kortelė rasta!",
           "cardHolder": "Kortelės sąvininkas",
           "cardInformation": "Kortelės informacija",
           "cardNumber": "Kortelės numeris",
           "cardProvider": "Kortelės tiekėjas",
           "cardSelected": "Mokėjimo būdas pasirinktas",
           "card_error_canceled": "Mokėjimas buvo atšauktas",
           "card_error_card_velocity_exceeded": "Įvyko klaida. Bandykite vėliau.",
           "card_error_expired_card": "Mokėjimo kortelės galiojimo laikas yra pasibaigęs. ",
           "card_error_failed": "Negalime patvirtinti jūsų mokėjimo metodo. Pasirinkite kitą mokėjimo metodą ir bandykite dar kartą.",
           "card_error_generic_decline": "​​Kortelė buvo atmesta dėl nežinomos priežasties.",
           "card_error_incorrect_cvc": "Neteisingas kortelės CVC numeris.",
           "card_error_incorrect_number": "Neteisingas kortelės numeris.",
           "card_error_insufficient_funds": "Pasirinktoje kortelėje neužtenka lėšų atlikti mokėjimo.",
           "card_error_lost_card": "Mokėjimas buvo atšauktas, nes kortelė buvo registruota kaip pamesta.",
           "card_error_processing_error": "Apdorojant kortelę įvyko klaida.",
           "card_error_stolen_card": "Mokėjimas buvo atšauktas, nes kortelė buvo registruota kaip pavogta.",
           "card_travel": "Kelionių kortelės",
           "cart": "Krepšelis",
           "cartKen": "Robotas",
           "cartNotAvailable": "Ši parduotuvė negalima Jūsų pasirinktoje lokacijoje.",
           "cart_headers": "Krepšelio antraštės",
           "carts": "Krepšeliai",
           "categories": "Kategorijos",
           "category": "Kategorija",
           "chain": "Tinklas",
           "chainId": "Tinklo Id",
           "chain_orders_queue": "Grandininių užsakymų eilė",
           "chain_pricing": "Tinklo kainos",
           "chain_products": "Grandininiai produktai",
           "chains": "Tinklai",
           "change": "Keisti",
           "changeAddress": "Pakeisti adresą",
           "changeCarNumber": "Pakeisti automobilio valstybinį numerį",
           "changeDeliveryTime": "Keisti pristatymo laiką",
           "changeEmail": "Pakeisti el.paštą",
           "changeName": "Pakeisti vardą",
           "changePhoneNumber": "Pakeisti telefono numerį",
           "changeStore": "Keisti parduotuvę",
           "chat": "Klientų aptarnavimo \"chat\"",
           "check": "Tikrinti",
           "checkout": "Pirkti",
           "chooseAlternative": "Pasirinkite alternatyvą",
           "chooseLanguage": "Pasirinkite kalbą:",
           "chooseOneType": "Pasirinkite vieną tipą",
           "chooseOption": "Pasirinkite vieną",
           "choosePickupStore": "Pasirinkite atsiėmimo vietą",
           "choosePromo": "Pasirinkite nuolaidą",
           "chooseStore": "Rinktis parduotuvę",
           "cities": "Miestai",
           "city": "Miestas",
           "cityDivider": "Miestas kur norėčiau dirbti",
           "cityId": "Miesto Id",
           "citySelectionTitle": "Title",
           "clear": "Išvalyti",
           "clevon": "Autonominis automobilis",
           "clickOnEmailExplanation": "Paspauskite gautame laiške esančią nuorodą, kad patvirtintumėte savo el. pašto adresą.",
           "clientCardId": "Kliento kortelės Id",
           "clientIsHere": "Klientas jau vietoje",
           "clientSupport": "Klientų aptarnavimas",
           "client_cards": "klientų kortelės",
           "client_order_headers": "Klientų užsakymų antraštės",
           "client_orderlines": "Klientų užsakymų eilutės",
           "client_orders": "Klientų užsakymai",
           "client_paymentlines": "Klientų mokėjimų eilutės",
           "client_suborders": " Klientų subužsakymai",
           "close": "Uždaryti",
           "cms": "CMS",
           "codeAccepted": "Kodas priimtas",
           "codeCopied": "Kodas nukopijuotas",
           "colorValues": "Spalvų gama",
           "comment": "Komentaras",
           "commentAdded": "Komentaras pridėtas",
           "companies": "Įmonės",
           "company": "Įmonė",
           "companyAddress": "Įmonės adresas",
           "companyCode": "Įmonės kodas",
           "companyName": "Įmonės pavadinimas",
           "companySelected": "Įmonė pasirinkta",
           "completeIntroductionContent": "Peržiūrėkite mūsų internetinį seminarą, apie darbą LastMile.",
           "completeOrderDescription": "Ar tikrai norite užbaigti šį užsakymą?",
           "completePickupOrder": "Užbaigti atsiėmimo užsakymą",
           "completeSession": "Užbaigti sesiją",
           "completeSessionDescription": "Ar tikrai norite užbaigti sesiją?",
           "completeTaskStep": "Pabaigti užduoties etapą",
           "completeTraining": "Užbaigti apmokymus",
           "completed": "Įvykdytas",
           "completedMissions": "Įvykdytos misijos",
           "completedOrder": "Įvykdytas užsakymas",
           "completedOrders": "Užbaigti užsakymai",
           "confectionery": "Konditerija",
           "confirm": "Patvirtinti",
           "confirmAccountDeletion": "Ar tikrai norite ištrinti vartotoją?",
           "confirmAddressRemoval": "Pašalinti adresą",
           "confirmAllCartsRemoval": "Pašalinti visus krepšelius",
           "confirmCartRemoval": "Pašalinti krepšelį",
           "confirmCodeSend": "Patvirtinimo kodas buvo išsiųstas numeriui",
           "confirmNotSelectedAlternative": "Patvirtinkite, kad nepasirenkate alternatyvos",
           "confirmPhoneNumber": "Patvirtinkite savo tel. numerį",
           "confirmRemoveCompany": "Patvirtinkite įmonės pašalinimą",
           "confirmRemoveLoyaltyCard": "Patvirtinkite lojalumo kortelės panaikinimą",
           "confirmRemovePaymentMethod": "Patvirtinkite mokėjimo kortelės panaikinimą",
           "confirmYourEmail": "Patvirtinkite savo el. paštą",
           "confirmationEmailHasBeenSent": "Jūsų el. pašto adresu išsiųstas patvirtinimo pranešimas.",
           "connection": "Prisijungimas",
           "constraint": "Apribojimas",
           "constraints": "Apribojimai",
           "contactless": "Bekontaktis",
           "contacts": "Kontaktai",
           "continue": "Tęsti",
           "continueAsGuest": "Tęsti neprisijungus",
           "continueShopping": "Tęsti apsipirkimą",
           "continueWithEmailLink": "Tęsti su el. pašto nuoroda",
           "continueWithPassword": "Tęsti su slaptažodžiu",
           "contract": "Sutartis",
           "contractHasBeenSentForSigning": "Darbo sutartis buvo išsiūsta į Jūsų elektroninį paštą pasirašymui.",
           "contractInformationHasBeenSent": "Jūsų paraiška yra sėkmingai užpildyta ir bus peržiūrėta artimiausiu metu.",
           "cookiesInfo": "Šioje svetainėje naudojami slapukai siekiant suasmeninti turinį ir reklamą, teikti socialinės žiniasklaidos funkcijas ir analizuoti naudojimosi mūsų svetaine ypatumus. Informaciją apie tai, kaip naudojatės mūsų svetaine, perduodame ir savo socialinės žiniasklaidos, reklamos ir analizės partneriams pagal privatumo politikos ir slapukų politikos nuostatas.",
           "cookiesSettings": "Slapukų nustatymai",
           "cookies_marketing": "Rinkodaros slapukai",
           "cookies_required": "Būtini slapukai",
           "cookies_statistics": "Statistiniai slapukai",
           "copyLink": "Kopijuoti nuorodą",
           "correct": "Teisingai!",
           "cosmetics": "Kosmetika",
           "countries": "Šalys",
           "country": "Šalis",
           "countryOfOrigin": "Kilmės šalis",
           "countrySelectTitle": "Pasirinkite šalies kodą",
           "courierService": "Kurjerių aptarnavimas",
           "create": "Sukurti",
           "createEmployee": "Sukurti darbuotoją",
           "createPartner": "Sukurti partnerį",
           "created": "Sukūrimo data",
           "currentLocation": "Dabartinė lokacija",
           "currentMissions": "Vykdomos misijos",
           "currentStep": "Dabartinis veiksmas yra __step__",
           "customerPayment": "Kliento apmokėjimo data",
           "darkColorMode": "Tamsi spalvų gama",
           "dashboardSearchPlaceholder": "Įveskite užklausą bet kokiam sistemos duomenų objektui. Užklausos ilgis turi būti bent trijų simbolių.",
           "date": "Data",
           "dateCreated": "Sukūrimo data",
           "day1": "Pirmadienis",
           "day2": "Antradienis",
           "day3": "Trečiadienis",
           "day4": "Ketvirtadienis",
           "day5": "Penktadienis",
           "day6": "Šeštadienis",
           "day7": "Sekmadienis",
           "de": "Deutsch",
           "dearUser": "Gerbiamas vartotojau",
           "debt": "Skola",
           "decline": "Atmesti",
           "declineAlternative": "Atsisakyti alternatyvos",
           "declineCookies": "Atsisakyti slapukų",
           "declineDirectMarketing": "Ar tikrai norite atsisakyti tiesioginės rinkodaros?",
           "declined": "Atmesta",
           "default": "Numatytasis",
           "delete": "Ištrinti",
           "deleteAccount": "Ištrinti vartotoją",
           "deleteAddress": "Ištrinti adresą",
           "deleteSelection": "Ištrinti pasirinkimą",
           "deleteUser": "Paskyros panaikinimas",
           "deleteUserWarning": "Jūsų paskyra bus pašalinta. Turite būti tikri dėl šio veiksmo, kadangi duomenys bus ištrinti visam laikui ir jų nebus galima atkurti. Paskyrą bus galima ištrinti tik atlikus visus mokėjimus.",
           "deliverFrom": "Pristatyti nuo",
           "deliverTo": "Pristatyti iki",
           "deliveredQuantity": "Pristatytas kiekis",
           "delivering": "Pristatoma",
           "delivery": "Pristatymas",
           "deliveryAddress": "Pristatymo adresas",
           "deliveryCapacity": "Pristatymo pajėgumas",
           "deliveryComment": "Pristatymo komentaras",
           "deliveryInstructions": "Pristatymo pastabos",
           "deliveryIntervals": "Pristatymo intervalai",
           "deliveryIsNearby": "Jūsų pristatymas netoliese ir bus netrukus...",
           "deliveryLocation": "Pristatymo vieta",
           "deliveryMethodAndTime": "Pristatymo būdas ir laikas",
           "deliveryNotAvailable": "Negalimas pristatymas ir atsiėmimas pasirinktoje lokacijoje",
           "deliveryOptions": "Prekių atidavimo būdai",
           "deliveryPrice": "Pristatymo kaina",
           "deliveryProvider": "Pristatymo paslaugos teikėjas",
           "deliveryRate": "Prastatymų norma",
           "deliverySpeedOrTime": "Pristatymo laikas/greitis",
           "deliveryTask": "Pristatymo užduotis",
           "deliveryTime": "Pristatymo laikas",
           "deliveryType": "Pristatymo būdas",
           "delivery_estimate": "Planuojama pristatyti",
           "delivery_estimates": "Užsakymų pristatymo laikai",
           "delivery_from": "Pristatymas nuo",
           "delivery_prices": "Užsakymų pristatymo kainos",
           "delivery_providers": "Užsakymų pristatymo tiekėjai",
           "delivery_to": "Pristatymas iki",
           "deposit": "Depozitas",
           "depositPrice": "Depozitas",
           "describeProductIssue": "Apibūdinkite iškilusią problemą:",
           "description": "Aprašymas",
           "detailedInfo": "Detali informacija",
           "didntReceiveCode": "Negavoto kodo?",
           "directMarketing": "Tiesioginė rinkodara",
           "directMarketingBodyText": "Ar sutinkate gauti tiesioginės rinkodaros pranešimus?",
           "discountPriceAndDeliveryTimeChanged": "Jūsų prekių pristatymas numatytas sekančiai dienai, o prekių su nuolaida kaina perskaičiuota dėl pasibaigusio akcijų galiojimo termino.",
           "discountPriceApplied": "Prekių su nuolaida kaina perskaičiuota pritaikius šiuo metu galiojančias akcijas.",
           "discountPriceChanged": "Pasirinkus šią pristatymo dieną, prekių su nuolaida kaina buvo automatiškai perskaičiuota dėl pasibaigusio akcijų galiojimo termino.",
           "displayName": "Vardas",
           "distance": "Atstumas",
           "document": "Dokumentas",
           "documentCopies": "Dokumentų kopijos",
           "dontHaveAccount": "Dar neturite paskyros?",
           "doorNumber": "Durų numeris",
           "downloadOurApp": "Atsisiųskite mūsų programą",
           "dragFilesHere": "Nutempkite failus arba paspauskite čia kad importuoti",
           "drinks": "Gėrimai",
           "driver": "Kurjeris",
           "drivingToClient": "Važiuoti pas klientą",
           "drivingToStore": "Važiuoti į parduotuvę",
           "dropOff": "Atiduoti prekes",
           "dropOffCode": "Užsakymo kodas",
           "dropOffConfirmationText": "Ar užsakymas buvo pristatytas klientui?",
           "earnings": "Uždarbis",
           "ecologic": "",
           "edit": "Redaguoti",
           "editAddress": "Redaguoti adresą",
           "editSession": "Redaguoti sesiją",
           "editTask": "Redaguoti užduotį",
           "efficiencyCoeficient": "Naudingumo koeficientas",
           "eko": "Ekologiška",
           "electronicBanking": "Elektroninė bankininkystė",
           "email": "El. paštas",
           "emailSendTo": "El. pašto patvirtinimo laiškas buvo išsiųstas į",
           "emailSentSuccesfuly": "El. laiškas išsiųstas!",
           "employee": "Darbuotojas",
           "employeeClothesSizeSelectionDescryption": "Dydis bus naudojamas drabužiams, kuriuos jums atsiųs LastMile.",
           "employeeClothesSizeSelectionText": "Pageidaujamas drabužių dydis.",
           "employeeId": "Darbuotojo Id",
           "employeeManagement": "Darbuotojų valdymas",
           "employeeSupport": "Pagalba darbuotojams",
           "employeeType": "Darbuotojo tipas",
           "employeeTypeDivider": "Norėčiau dirbti kaip",
           "employee_created": "Darbuotojas sukurtas",
           "employee_demands": "Darbuotojų poreikiai",
           "employee_prices": "Darbuotojų kainos",
           "employee_session": "Darbuotojų sesijos",
           "employee_session_travel": "Darbuotojų kelionės",
           "employee_task_steps": "Darbuotojų užduočių žingsniai",
           "employee_tasks": "Darbuotojų užduotys",
           "employees": "Darbuotojai",
           "emptyCart": "Jūsų krepšelis yra tuščias",
           "emptyCompany": "Nėra įmonės",
           "empty_field_error": "Laukas negali būti tuščias",
           "en": "English",
           "energy": "Energinė vertė",
           "enjoyServiceHere": "Mėgaukitės {{brand}} paslaugomis čia!",
           "enter3lastDigits": "Dokumento serijos numeris",
           "enterAdditionalInformation": "Įveskite papildomą informaciją",
           "enterAddress": "Įveskite adresą",
           "enterBarcode": "Įveskite brūkšninį kodą",
           "enterCode": "Įveskite kodą",
           "enterComment": "Įrašyti komentarą",
           "enterCompany": "Pridėti įmonę",
           "enterCompanyName": "Įveskite įmonės pavadinimą",
           "enterConfirmCode": "Suveskite gautą kodą žemiau:",
           "enterConfirmCode1": "Prašome įvesti patvirtinimo kodą, kurį mes išsiuntėme į ",
           "enterConfirmCode2": ", kad galėtume tęsti",
           "enterDocumentDigitsShort": "3 paskutiniai skaičiai",
           "enterInformation": "Įveskite informaciją",
           "enterLabelName": "Įveskite etiketės pavadinimą",
           "enterLocation": "Įveskite savo vietą",
           "enterName": "Įveskite vardą",
           "enterNumber": "Įvesti skaičių",
           "enterNumberOfBags": "Įveskite užsakymo maišelių skaičių",
           "enterPhoneNumber": "Įveskite telefono numerį",
           "enterPromoCode": "Suveskite nuolaidos kodą",
           "enterReferral": "Pridėti rekomendaciją",
           "enterVerificationCode": "Įveskite patvirtinimo kodą",
           "equipment": "Įranga",
           "equipmentConfirmationText": "Jei gavote įrangą, patvirtinkite paspausdami patvirtinimo mygtuką.",
           "equipmentHasBeenSent": "Įranga jums išsiųsta.",
           "equipmentWillBeSent": "Jums atsiųsime įranga kai administratorius patvirtins Jūsų prašymą.",
           "error": "Klaida",
           "errorNoTravelSpeedModifiers": "Nėra kelionės greičio modifikatorių.",
           "errorRecieveCode": "Atsiėmimo kodas neteisingas",
           "error_accept_task": "Nepavyko priimti užduoties",
           "error_active_session_required": "Reikalinga aktyvi sesija",
           "error_add_drop_off_photo": "Pridėkite prekių perdavimo vietos fotografiją",
           "error_adding_alternative": "Papildomi produktai negalėjo būti pridėti.",
           "error_additional_payments": "Šiame užsakymo išpildymo etape papildomos rezervacijos negali būti atliktos",
           "error_age_not_valid": "Klientas neatitinka amžiaus reikalavimų.",
           "error_already_in_session": "Pabaigite dabar vykstančią sesiją ir tuomet galėsite pradėti naują.",
           "error_already_referred": "Šiam vartotojui rekomendacija jau pritaikyta",
           "error_already_working_on_it": "Ramiai, užtenka paspausti vieną kartą :D",
           "error_anonymous_user_checkout": "Jūs esate anoniminis vartotojas",
           "error_anonymous_user_checkout_details": "Norėdami tęsti apsipirkimo procesą turite prisiregistruoti.",
           "error_another_promos_applied": "Kiti nuolaidos kodai jau pritaikyti",
           "error_apple_login_not_supported_yet": "Atsiprašome, tačiau prisijungimas su Apple šiuo metu interneto puslapyje nėra galimas. Naudokitės programėle arba prisijunkite su kitu profiliu.",
           "error_barcode_length": "Šis brūkšninis kodas yra netinkamo ilgio",
           "error_cancel_task_forbidden": "Užduotis atšaukta arba užbaigta, atšaukimas draudžiamas.",
           "error_cancel_task_order": "Nepavyko atšaukti užsakymo užduočių",
           "error_cannot_be_referred": "Pridėti rekomendacijos nepavyko, nes vartotojas neatitinka sąlygu",
           "error_cannot_get_token": "Promo autorizacija nepavyko, nes negautas token",
           "error_checkout_address_cannot_be_serviced": "Užsakymas nėra galimas į šį adresą",
           "error_checkout_no_address_selected": "Pridėkite pristatymo adresą.",
           "error_checkout_no_delivery_interval": "Pasirinkite pristatymo laiką.",
           "error_checkout_no_payment_method": "Pasirinkite mokėjimo kortelę.",
           "error_checkout_no_phone_number": "Pridėkite telefono numerį.",
           "error_checkout_no_pickup_interval": "Pasirinkite prekių atsiėmimo laiką",
           "error_client_not_here": "Klientas nepažymėjo, kad atvyko.",
           "error_complete_task": "Nepavyko užbaigti užduoties",
           "error_contact_support": "Prašome susisiekti su LastMile darbuotojų pagalba",
           "error_could_not_add_promotion_to_order": "Nuolaidos kodas negali būti pritaikytas, neatitinka užsakymo sąlygų.",
           "error_could_not_remove_promotion_from_order": "Nuolaidos kodo atšaukti nepavyko.",
           "error_could_not_use_user_promotions": "",
           "error_date_of_birth": "Įveskite teisingą gimimo datą",
           "error_different_password": "Skiriasi įvestas slaptažodis",
           "error_doc_num": "Įveskite paskutinius 3 tapatybės dokumento numerio skaičius",
           "error_document_not_valid": "Dokumento numeris neatitinka reikalavimų.",
           "error_email_sign_in": "Prisijungimo nuoroda neteisinga arba negalioja.",
           "error_employee_already_exists": "Darbuotojas jau įvestas sistemoje",
           "error_employee_to_create": "Nepavyko sukurti darbuotojo",
           "error_end_before_start": "Pabaiga negali būti prieš pradžią",
           "error_enter_receipt_id": "Įveskite teisingą čekio numerį",
           "error_enter_valid_address": "Suveskite tinkamą adresą",
           "error_enter_valid_date": "Įveskite tinkamą datą: yyyy-mm-dd",
           "error_enter_valid_document_number": "Dokumento numberis turi būti bent 3 simbolių.",
           "error_enter_valid_email": "Suveskite tinkamą el. pašto adresą",
           "error_enter_valid_loyalty_card_id": "Įveskite tinkamą lojalumo kortelės ID",
           "error_enter_valid_password": "Slaptažodis turi būti bent 6 simbolių",
           "error_enter_valid_phone_number": "Suveskite tinkamą telefono numerį",
           "error_enter_valid_receive_code": "Prekių atsiėmimo kodas neteisingas",
           "error_failed_to_accept": "Nepavyko priimti užduoties. Greičiausiai nespėjote ir ji yra perplanuojama.",
           "error_failed_to_add_card": "Mes negalėjome pridėti Jūsų kortelės",
           "error_failed_to_complete_order_payment": "Jūsų mokėjimas buvo atmestas. Bandykite dar kartą arba susisiekite su klientų aptarnavimu.",
           "error_false_condition": "Užsakymas neatitinka nuolaidos aprašytų salygų (todėl netaikomas)",
           "error_gps_disabled": "Įsijunkite lokacijos servisą.",
           "error_gps_permission": "Mūsų programa renka vietos duomenis, kad būtų galima sekti pristatymo būseną ir apskaičiuoti optimalų pristatymo maršrutą fone. Įgalinkite vietos leidimus „Leisti visą laiką“.",
           "error_inappropriate_status": "Užsakymo statusui neleidžia pritaikyti promo",
           "error_internal": "Vidinė klaida",
           "error_internal_code": "Vidinio kodo laukas turi būti unikalus.",
           "error_invalid_card_number": "Netinkamas kortelės numeris",
           "error_invalid_cvv": "Netinkamas CVV",
           "error_invalid_email": "Neteisingai suvestas el. paštas",
           "error_invalid_expiration_date": "Netinkama galiojimo data",
           "error_invalid_name": "Neteisingai suvestas vardas",
           "error_invalid_parameters": "Neteisingi parametrai",
           "error_invalid_password": "Įvestas slaptažodis neteisingas",
           "error_invalid_phone_number": "Neteisingai suvestas telefono numeris",
           "error_invalid_token": "Šis nuolaidos kodas negali būti pritaikytas.",
           "error_invalid_zone_name": "Įveskite tinkamą zonos pavadinimą",
           "error_login_cancelled": "Prisijungimas atšauktas.",
           "error_login_connection_failed": "Nepavyko prisijungti.",
           "error_missing_fields": "Prašome užpildyti trūkstamus laukus",
           "error_missing_header_or_order_id": "Nuolaidos kodo nepavyko priskirti, užsakymas nerastas.",
           "error_name_is_required": "Vardas privalomas",
           "error_no_address_could_be_found": "Jūsų suvestas adresas nebuvo surastas",
           "error_no_car_number": "Pridėkite automobilio valstybinį numerį.",
           "error_no_category": "Susisiekite su kurjerių aptarnavimo darbuotojais, produktas neturi kategorijos. Id: __productId__",
           "error_no_dedicated_user": "Nuolaidos kodas negali būti pridėtas, prisijunkite arba atlikite naujo vartotojo registraciją.",
           "error_no_orderid": "Šis nuolaidos kodas negali būti pritaikytas.",
           "error_no_paymentCard": "Jūs neturite pasirinkę mokėjimo kortelės.",
           "error_no_payment_card": "Kortelė su tokiais domenimis neegzistuoja.",
           "error_no_promo": "Įvestas nuolaidos kodas yra neteisingas.",
           "error_no_user_promo": "Vartotojas neturi nurodyto nuolaidos kupono",
           "error_not_a_partner": "Jūs nesate registruotas partneris. Jei norite juo tapti - susisiekite!",
           "error_not_a_shopper": "Jūs nesate registruotas darbuotojas. Jei norite juo tapti - susisiekite!",
           "error_not_allowed": "Promo autorizacija nepavyko - neleistina",
           "error_not_enough_points": "Nepakankamai taškų jūsų sąskaitoje",
           "error_not_valid_loyalty_card": "Jūsų lojalumo kortelė yra negaliojanti",
           "error_not_valid_number": "Neteisingas skaičius",
           "error_number_is_to_large": "Skaičius per didelis",
           "error_number_is_to_small": "Skaičius per mažas",
           "error_order_exceeds_max_weight_for_cityzone": "Jūsų užsakymas viršija maksimalų svorį. Pašalinkite keletą produktų iš krepšelio.",
           "error_order_not_found": "Pasirinktame mieste suvestas nuolaidos kodas negalioja.",
           "error_payment_date_too_old": "Mokėjimas atliktas per seniai, kad perkelti pristatymo laiką.",
           "error_payment_error": "Jūsų mokėjimas buvo atmestas, bandykite dar kartą.",
           "error_payment_expired": "Jūsų mokėjimo sesija baigėsi. Pabandykite mokėti iš naujo.",
           "error_phone_number_already_exists": "Telefono numeris jau yra pririštas prie kitos paskyros",
           "error_picker_must_complete_their_step_first": "Surinkėjas turi užbaigti savo 'Sandėliuoti prekes' žingsnį pirma",
           "error_promo_already_applied": "Nurodytas nuolaidos kodas jau pritaikytas",
           "error_promo_already_taken": "Nuolaidos kodas jau buvo panaudotas",
           "error_promo_cant_be_applied": "Nuolaida negali būti pritaikytaa nes tokios nėra arba ji negalioja",
           "error_promo_cant_be_applied_for_current_city": "Šis nuolaidos kodas negali būti pritaikytas šiam miestui.",
           "error_promo_cant_be_applied_for_current_store": "Šis nuolaidos kodas negali būti pritaikytas šiai parduotuvei.",
           "error_promo_cant_be_applied_for_current_zone": "Šis nuolaidos kodas negali būti pritaikytas šiam regionui.",
           "error_promo_expired": "Nuolaidos kodas baigė galioti",
           "error_promo_not_found": "Nuolaidos kodas nerastas pagal pateiktą kodą",
           "error_promo_out_of_stock": "Nuolaidos kodas buvo išparduotas",
           "error_promotion_could_not_be_created": "Nuolaidos kodas nerastas, patikrinkite ar teisingai suvedėte nuolaidos kodą.",
           "error_promotion_is_invalid": "Nuolaidos kodas nerastas, patikrinkite ar teisingai suvedėte nuolaidos kodą.",
           "error_promotion_is_out_of_stock": "Išnaudotas maksimalus nuolaidos kodų kiekis.",
           "error_promotion_not_found": "Nuolaidos kodas nerastas, patikrinkite ar teisingai suvedėte nuolaidos kodą.",
           "error_reservation_taken": "OOPS, kažkas kitas buvo greitesnis ir užėmė bent vieną jūsų pasirinktą intervalą.",
           "error_session_end_before_now": "Sesija negali baigtis ankščiau nei dabar.",
           "error_similar_promo_already_applied": "Panašus nuolaidos kodas jau pritaikytas",
           "error_store_not_available": "Šiuo metu pasirinkta parduotuvė nėra prieinama!",
           "error_surname_is_required": "Pavardė privaloma",
           "error_task_step_not_open": "Šis užduoties etapas negali būti keičiamas.",
           "error_task_step_still_has_tasks": "Šis užduoties etapas vis dar turi užduočių.",
           "error_terms_or_privacy_policy": "Privalote pažymėti, kad perskaitėte ir sutinkate su LastMile taisyklėmis ir privatumo politika",
           "error_too_early": "Jūs pradedate sesiją per anksti. Prašome palaukti arba pradėkite neplanuotą sesiją.",
           "error_too_early_to_deliver": "Per anksti pristatyti. Prašome palaukti. Užsakyme yra produktų kurių negalime pristatyti šiuo metu.",
           "error_too_late_to_deliver": "Per vėlu pristatyti. Prašome palaukti. Užsakyme yra produktų kurių negalime pristatyti šiuo metu.",
           "error_too_much_picked_weight": "Produkto svoris yra per didelis",
           "error_unexpected": "Įvyko nenumatyta klaida. Bandykite dar kartą.",
           "error_unknown": "Nenumatyta klaida, bandykite dar kartą.",
           "error_unresolvable_condition": "Klaida neteisingai aprašyta promo sąlyga",
           "error_user_email_exists": "Vartotojas su tokiu el. paštu jau egzistuoja",
           "error_user_not_found": "Vartotojas nebuvo rastas sistemoje",
           "error_user_promotion_assignment_failed": "Nepavyko pridėti nuolaidos kodo. ",
           "error_user_promotion_is_redeemed": "Nuolaidos kodas jau buvo panaudotas, daugiau panaudoti galimybės nėra.",
           "error_user_promotion_is_still_unused": "Nuolaidos kodo ieškokite nuolaidos kodai skiltyje. ",
           "error_user_used_all_promotions": "Nuolaidos kodas jau buvo panaudotas.",
           "error_version": "Apgailestaujame, tačiau programėlės versija yra antaujinta ir senos versijos nėra palaikomos. Prašome atsinaujinti programėlę.",
           "error_wrong_verify_code": "Neteisingas patvirtinimo kodas",
           "estimateLimit": "Preliminaraus laiko limitas",
           "estimatedPickerTaskEnd": "Numatoma surinkėjo užduoties pabaiga",
           "estimates": "Įvertinimai",
           "excludeInFilterDriver": "Neįtraukti vairuotojų",
           "excludeInFilterPicker": "Neįtraukti surinkėjų",
           "excludeInFilterShopper": "Neįtraukti vairuotojų-surinkėjų",
           "existingUser": "Esamas vartotojas",
           "existingUserSubtitle": "Pasirinkite prisijungimo būdą.",
           "existingUserTitle": "Sveikas sugrįžęs!",
           "expiryDate": "Kortelės galiojimo data (mm/yy)",
           "exports": "Eksportas",
           "failedToAddComment": "Nepaėjo pridėti komentaro",
           "failedToAddCompany": "Įmonės pridėti nepavyko",
           "failedToAddPromo": "Nuolaidos kodo pridėti nepavyko",
           "failedToApplyReferral": "Nepavyko pritaikyti rekomendacijos",
           "failedToRefreshOrder": "Nepavyko atnaujinti užsakymo informacijos.",
           "failedToRemoveComment": "Nepavyko ištrinti komentaro",
           "failedToSelect": "Nepavyko pasirinkti kortelės",
           "failedToSelectCompany": "Nepavyko pasirinkti įmonės",
           "faq": "DUK",
           "fastest": "Greičiausias",
           "fat": "Riebalai",
           "favoriteDescription": "Šiame puslapyje rasite visas prekes, kurias anksčiau pamėgote.",
           "favoriteEmpty": "Jūs neturite pamėgtų produktų",
           "favorites": "Mėgstamiausi",
           "feedback": "Atsiliepimai",
           "feedbackRatingContent1": "Kaip vertinate užsakymo įvykdymą? Jūsų nuomonė mums padeda tobulinti teikiamas paslaugas.",
           "feedbackRatingContent2": "Kas nulėmė Jūsų apsisprendimą? Kviečiame Jus palikti atsiliepimą ir taip prisidėti prie paslaugų gerinimo.",
           "feedbackRatingContent3": "Palikti arbatpinigiai bus padalinti tiesiogiai prie Jūsų užsakymo prisidėjusiam aptarnaujančiam parduotuvės ir Lastmile personalui.",
           "feedbackRatingContent4": "Lauksime sugrįžtant į Lastmile elektroninę parduotuvę.",
           "feedbackRatingTitle1": "Dėkojame, kad esate su mumis!",
           "feedbackRatingTitle2": "Ačiū, kad padedate mums tobulėti!",
           "feedbackRatingTitle3": "Arbatpinigiai surinkėjui ir kurjeriui",
           "feedbackRatingTitle4": "Esame dėkingi už Jūsų laiką ir nuomonę!",
           "feedback_is_sent": "",
           "fieldRequired": "Privaloma",
           "fifteenMinutes": "Penkiolika minučių",
           "fileExplorer": "Failų naršyklė",
           "files": "Failai",
           "filesUploaded": "Failai įkelti",
           "fillContractInformation": "Prašome užpildyti informaciją, reikalingą norint sudaryti sutartį su LastMile.",
           "fillInAllFieldsToSubmit": "Norėdami tęsti, turite užpildyti visus laukus.",
           "fillInformation": "Užpildykite informaciją",
           "fillRate": "Fill rate",
           "filter": "Filtras",
           "filterActive": "Aktyvūs",
           "filterActiveOrders": "Aktyvūs užsakymai",
           "filterApproved": "Patvirtinti",
           "filterCompletedOrders": "Įvykdyti užsakymai",
           "filterDeliveryAndPickupOrders": "Atsiėmimo ir pristatymo užsakymai",
           "filterInactive": "Ne aktyvūs",
           "filterOnlyPromotions": "Tik akcijos",
           "filterPriceTo": "Kaina iki",
           "filterUnapproved": "Ne patvirtinti",
           "findCity": "Ieškoti miesto",
           "findStore": "Ieškoti parduotuvės",
           "findyourlocation": "Rasti savo vietą",
           "finish": "Baigti",
           "first": "Pirmas",
           "flatDoorNumber": "Buto numeris",
           "flatNumber": "Butas",
           "floorNumber": "Aukšto numeris",
           "followUs": "Sekite mus",
           "fourHours": "Per keturias valandas",
           "fourtyfiveMinutes": "Keturiasdešimt penkios minutės",
           "free": "Nemokamai",
           "freeCartReached": "Minimalaus krepšelio mokestis panaikintas!",
           "freeDelivery": "Prekes pristatysime NEMOKAMAI.",
           "freeDeliveryReached": "Sveikiname! Prekes pristatysime nemokamai!",
           "free_upper": "LAISVAS",
           "freshBagLocation": "Šaldytuvas (+4°C)",
           "friend": "Draugas",
           "from": "Nuo",
           "frozenBagLocation": "Šaldytuvas (-18°C)",
           "frozenProducts": "Šaldyti produktai",
           "fullProductInfo": "Pilna prekės informacija",
           "gallery": "Galerija",
           "general": "Pagrindinis",
           "getGiftCard": "Pirkti dovanų kortelę",
           "getLoyaltyPoints": "Lojalumo taškų",
           "getStarted": "Pradėti",
           "gift": "Dovana",
           "giftCard": "Dovanų kortelė",
           "giftCardPurchaseSuccessful": "Sėkmingai įsigijote dovanų kortelę",
           "giftCards": "Dovanų kortelės",
           "gifts": "Dovanos",
           "giftsView": "Peržiūrėti dovanas",
           "giveOrder": "Atiduoti užsakymą",
           "giveOrderConfirmation": "Patvirtinkite, kad klientas gavo užsakymą",
           "globalSearch": "Globali paieška",
           "glutenFree": "Be glitimo",
           "goBackHome": "Grįžti į pradinį puslapį",
           "goShopping": "Apsipirkti",
           "gourmet": "Gurmanams",
           "groceries": "Maisto prekės",
           "guarantee": "Garantija",
           "guaranteedEarnings": "Garantuotas uždarbis",
           "guaranteedSession": "Garantuota sesija",
           "guaranteedSessionEarningIntervals": "Garantuotos sesijos uždarbio intervalai",
           "handOff": "Sandėliuoti prekes",
           "headerId": "Antraštės Id",
           "height": "Aukštis",
           "help": "Pagalba",
           "here": "Čia",
           "high": "Aukštas",
           "home": "Pagrindinis",
           "hours": "Valandos",
           "house": "Namas",
           "howOldIsTheCustomer": "Kiek metų yra prekes atsiimančiam asmeniui?",
           "hygieneCourses": "Higienos įgūdžių pažymejimas",
           "iAmHere": "Atvykau",
           "iAmHereFirst": "Prašome patvirtinti, jog atvykote.",
           "iAmHereSecond": "Šis pasirinkimas negali būti atstatytas atgal.",
           "iAmHereWarning": "Norint atsiimti prekes prašome pateikti užsakymo numerį aptarnaujančiam personalui parduotuvėje.",
           "icons": "Ikonos",
           "ikiLoyaltyCardInfo": "IKI lojalumo kortelės taisykles ir sąlygas rasite",
           "import": "Importas",
           "import_mappings": "Importuoti susiejimus",
           "imports": "Importas",
           "inProgress": "Vykdomas",
           "inYourAreaSoon": "Netrukus būsime jūsų vietovėje!",
           "incorrectTryAgain": "Atsakymas neteisingas. Bandykite dar kartą.",
           "individualActivityNumber": "Individialios veiklos pažymos numeris",
           "information": "Informacija",
           "ingredients": "Sudedamosios dalys",
           "initial": "Pradinis",
           "instantService": "Skubaus pristatymo valdymas",
           "internalCode": "Vidinis kodas",
           "interval": "Intervalas",
           "invalidConfirmationCode": "Neteisingas patvirtinimo kodas.",
           "invitation_to_sign_cooperation_contract": "",
           "invoice": "Sąskaita",
           "invoiceRequired": "Reikalinga sąskaita faktūra",
           "invoiceSent": "Sąskaita išsiųsta",
           "invoice_counter": "Sąskaita faktūra, ",
           "isActive": "Ar aktyvus",
           "isAlcoholic": "Turi alkoholinių gėrimų",
           "isAlternative": "Alternatyva",
           "isApproved": "Ar patvirtintas",
           "isFrozen": "Turi šaldytų produktų",
           "isGuaranteed": "Garantinė sesija",
           "isWorking": "Ar dirba",
           "issueTypeExplanation": "Pasirinkite vieną, kuris geriausiai apibūdina problemą:",
           "joinUs": "Prisijunkite prie mūsų",
           "karma": "Populiariausi",
           "karmaShop": "Populiariausios",
           "ketogenic": "Ketogeninis",
           "labelName": "Etiketės pavadinimas",
           "lactoseFree": "Be laktozės",
           "landingSubtitle": "Didesnis nei 28 000 prekių asortimentas",
           "landingTitle": "Gauk prekes per valandą",
           "language": "Kalba",
           "languageSelection": "Kalbų pasirinktis",
           "last": "Paskutinis",
           "leaveAddressComment": "Palikite adreso komentarą",
           "leaveAtTheDoor": "Palikti užsakymą prie durų",
           "leaveComment": "Palikti komentarą",
           "leaveCommentForCourier": "Palikite komentarą kurjeriui",
           "leavePickupStoreUnchanged": "Ar Jūs tikrai nenorite pakeisti prekių atsiėmimo parduotuvės?",
           "length": "Ilgis",
           "lesson": "Pamoka",
           "letsWorkTogether": "Bendradarbiaukime",
           "lightColorMode": "Šviesi spalvų gama",
           "liked": "Pamėgti",
           "link": "Nuoroda",
           "linkCopied": "Nuoroda nukopijuota",
           "linkEmail": "Įveskite el. pašto adresą, su kuriuo norite susieti savo paskyrą.",
           "linkToApple": "Susieti su Apple",
           "linkToFacebook": "Susieti su Facebook",
           "linkToGoogle": "Susieti su Google",
           "listOfProducts": "Prekių sąrašas",
           "liveOrders": "Gyvi užsakymai",
           "loadingArea": "Pakrovimo vieta",
           "locationPrompt": "Leisti LastMile matyti mano lokaciją",
           "locationTooFarSubtitle": "Jūsų pasirinkta lokacija yra per toli nuo Jūsų adreso.",
           "locationTooFarTitle": "Jūsų lokacija per toli.",
           "locationType": "Vietos tipas",
           "lockNumber": "Laiptinės durų kodas",
           "login": "Prisijunkite",
           "loginApple": "Tęsti su Apple",
           "loginEmail": "Tęsti su el.paštu",
           "loginFacebook": "Tęsti su Facebook",
           "loginFailed": "Nepavyko prisijungti. Bandykite dar kartą.",
           "loginGoogle": "Tęsti su Google",
           "loginWithEmail": "Prisijungimas el. paštu",
           "loginWithPhoneNumber": "Prisijungimas mob. telefonu",
           "low": "Žemas",
           "lowestPriceIn30Days": "Mažiausia kaina per 30 dienų",
           "loyaltyCard": "Lojalumo kortelė",
           "loyaltyCardAddSuccessful": "Lojalumo kortelė pridėta sėkmingai",
           "loyaltyCardAdditionFailed": "Nepavyko pridėti lojalumo kortelės",
           "loyaltyCardNumber": "Lojalumo kortelės numeris",
           "loyaltyCardRemovalFailed": "Nepavyko ištrinti lojalumo kortelės",
           "loyaltyCardRemoveSuccessful": "Lojalumo kortelė ištrinta sėkmingai",
           "loyaltyCards": "Lojalumo kortelės",
           "loyaltyPoints": "Lojalumo taškai",
           "loyalty_cards": "Lojalumo kortelės",
           "lt": "Lietuvių",
           "makeReturn": "Grąžinti",
           "marketingCost": "Marketingo kaštai",
           "marking": "Žymėjimas",
           "masterData": "Duomenų valdymas",
           "maximumOrderQuantity": "Pasirinkote maksimalų šios prekės kiekį. Dėl didesnio kiekio įmonėms kreiptis",
           "maximumQuantityContactUs": "Norintiems užsakyti didmenos sąlygomis, kreiptis:",
           "medium": "Vidutinis",
           "min": "min",
           "minimalOrderedValueInfo": "Minimali užsakymo vertė yra __minPrice__. Jei neviršysite šios užsakymo sumos, Jūsų užsakymui bus pridėtas minimalaus užsakymo mokestis __surcharge__.",
           "minimalSurcharge": "Minimalaus užsakymo mokestis",
           "minutes": "Minutės",
           "missedTasks": "Praleistos užduotys",
           "missing": "Trūkumai",
           "missionAccomplished": "Misija įvykdyta",
           "missionProgress": "Įvykdytų misijų",
           "missions": "Misijos",
           "mobile": "Mobilus",
           "mobileAppConvenience": "Mobiliosios programėlės patogumas",
           "money": "Pinigai",
           "month1": "Sausis",
           "month10": "Spalis",
           "month11": "Lapkritis",
           "month12": "Gruodis",
           "month2": "Vasaris",
           "month3": "Kovas",
           "month4": "Balandis",
           "month5": "Gegužė",
           "month6": "Birželis",
           "month7": "Liepa",
           "month8": "Rugpjūtis",
           "month9": "Rugsėjis",
           "more": "Daugiau",
           "multipleChainsWarning": "Ar tikrai norite formuoti užsakymą su daugiau nei viena parduotuve?",
           "multiplier": "Dauginamasis",
           "myExactLocation": "Mano dabartinė vieta",
           "name": "Vardas",
           "nameOfAddressToStored": "Išsaugojamo adreso pavadinimas",
           "new": "Naujiena",
           "newActionWillBeAvailableIn": "Naujas veiksmas bus galimas po",
           "newAdress": "Naujas adresas",
           "newCards": "Įsigyti",
           "newEmail": "Naujas el.paštas",
           "newName": "Naujas vardas",
           "newOrderTotal": "Papildyto užsakymo suma",
           "newShop": "Nauja parduotuvė",
           "newUser": "Naujas vartotojas",
           "newUserSubtitle": "Norėdami pateikti savo paraišką, turite sukurti naują paskyrą.",
           "newUserTitle": "Pasirinkite vieną iš prisijungimo būdų.",
           "next": "Tęsti",
           "nextProduct": "Kitas produktas",
           "nextStep": "Pereiti prie kito žingsnio",
           "no": "Ne",
           "noAddedSugar": "Be pridėtinio cukraus",
           "noAddresses": "Jūs neturite suvestų adresų savo sąraše. Pridėkite naują adresą.",
           "noBanner": "Reklamjuostė nerasta",
           "noCards": "Jūs neturite pridėtų kortelių.",
           "noCategories": "Be kategorijos",
           "noCategory": "Kategorija nerasta",
           "noCompanies": "Nėra pridėtų įmonių.",
           "noCountrySearchResultsSubtitle": "Jūsų paieška „{{searchQuery}}“ neatitiko jokios šalies. Bandykite dar kartą.",
           "noCountrySearchResultsTitle": "Nieko nerasta",
           "noDeliveryIntervals": "Šiuo metu nėra galimų pristatymo laikų.",
           "noInternet": "Nutrūko Jūsų interneto ryšys.",
           "noJobVacancies": "Deja, šiuo metu laisvų darbo vietų neturime. Bandykite dar kartą vėliau.",
           "noOrders": "Jūs dar nebuvote atlikę užsakymų.",
           "noPickupIntervals": "Šiuo metu nėra galimų prekių atsiėmimo laikų.",
           "noProductInStore": "Šiuo metu šios prekės nėra parduotuvėje.",
           "noPromos": "Nėra pridėtų nuolaidos kodų.",
           "noProviders": "Atsiprašome, parduotuvė neturi galimų pristatymo laikų.",
           "noResultsForSearchQuery": "Nepavyko rasti duomenų pagal pateiktą užklausą.",
           "noSearchResults": "Paieškos rezultatų nerasta",
           "noSessions": "Šiuo metu nėra sesijų.",
           "noStore": "Atsiprašome, tačiau ši parduotuvė negalima Jūsų adresui ...",
           "noStoreForDeliveryType": "Atsiprašome, ši parduotuvė nepasiekiama jūsų pasirinktam pristatymo tipui ...",
           "noTasks": "Šiuo metu nėra laukiančių užduočių.",
           "noUser": "Prašome prisijungti!",
           "notAvailable": "Nėra galimas",
           "notFound": "Nerasta",
           "notFoundProduct": "Nerastas produktas",
           "notGuaranteedPayment": "Jūs neturite jokių garantijų už šią sesiją.",
           "notPaidOrderLine": "Šis produktas vis dar neturi mokėjimo rezervacijos patvirtinimo.",
           "notPicked": "Nesurinkta",
           "notWantAlternative": "Nenoriu alternatyvos",
           "note": "Pastaba",
           "notification_AUTONOMOUS_VEHICLE_ARRIVED_description": "Užsakymo PIN – #. Autonominis automobilis lauks 10min. Užsakius alkoholinių/energinių gėrimų, paruoškite amžių patvirtinantį dokumentą.",
           "notification_AUTONOMOUS_VEHICLE_ARRIVED_title": "Užsakymas atvyko!",
           "notification_CANCELLED_ORDER_description": "Dėl detalesnės informacijos kreipkitės į klientų aptarnavimo skyrių. Atsiprašome 🥺",
           "notification_CANCELLED_ORDER_title": "Užsakymas atšauktas ⛔",
           "notification_CLIENT_ARRIVED_TO_PARKING_LOT_description": "Klientas atvyko atsiimti užsakymo <#> Parkinge, nr. #.",
           "notification_CLIENT_ARRIVED_TO_PARKING_LOT_title": "Klientas Atvyko!",
           "notification_CLIENT_ARRIVED_description": "Klientas atvyko atsiimti užsakymo <#> į Atsiėmimo vietą.",
           "notification_CLIENT_ARRIVED_title": "Klientas Atvyko!",
           "notification_DELIVERY_WILL_BE_LATE_description": "Galimas pristatymo vėlavimas dėl didelio užsakymų skaičiaus 😕🙏🏼",
           "notification_DELIVERY_WILL_BE_LATE_title": "Atsiprašome 🥺",
           "notification_GOT_TIPS_description": "Gavote #€ arbatpinigių",
           "notification_GOT_TIPS_title": "Arbatpinigiai",
           "notification_LONG_DELIVERY_description": "Prekes pristatėme nemokamai",
           "notification_LONG_DELIVERY_title": "Atsiprašome, pavėlavome ...",
           "notification_NEW_TASK_description": "Yra nauja užduotis!",
           "notification_NEW_TASK_title": "Nauja užduotis",
           "notification_ONBOARDING_UNLOCKED_description": "Įsidarbinimo žingsnis ir duomeys yra patvirtinti, prašome pratęsti registraciją",
           "notification_ONBOARDING_UNLOCKED_title": "Įsidarbinimo žingsnis patvirtintas!",
           "notification_ORDER_ACCEPTED_description": "Jūsų užsakymas pradėtas vykdyti",
           "notification_ORDER_ACCEPTED_title": "Užsakymas priimtas",
           "notification_ORDER_COMPLETED_description": "Mums rūpi Jūsų nuomonė. Palikite atsiliepimą. Būsime dėkingi! 🙏",
           "notification_ORDER_COMPLETED_title": "Užsakymas įvykdytas 🛍",
           "notification_ORDER_DELIVERING_description": "Jūsų užsakymas jau pakeliui! Kurjerio kelionę galite stebėti programėlėje 📲",
           "notification_ORDER_DELIVERING_title": "Užsakymas pristatomas 🚙",
           "notification_ORDER_START_PICKING_description": "Prekių surinkimo statusą galite sekti LastMile programėlėje 🍉",
           "notification_ORDER_START_PICKING_title": "Prekių surinkimas pradėtas 🛒",
           "notification_PRODUCT_NOT_FOUND_description": "Prašome pasirinkti nerastai prekei alternatyvą 🥑",
           "notification_PRODUCT_NOT_FOUND_title": "Prekė nerasta ❌",
           "notification_TO_BE_DELIVERED_SOON_description": "Užsakymas pakeliui link Jūsų durų!",
           "notification_TO_BE_DELIVERED_SOON_title": "Kurjeris atvyko! 🤩",
           "notification_UPDATED_TASK_description": "Papildyta užduotis užsakymu, +#€ uždarbio",
           "notification_UPDATED_TASK_title": "Papildyta užduotis",
           "notification_WAITING_PICKUP_description": "Jūsų užsakymas surinktas ir paruoštas atsiėmimui 🍊",
           "notification_WAITING_PICKUP_title": "Užsakymas paruoštas atsiėmimui ⭐️",
           "numberOfBags": "Preliminarus maišelių skaičius:",
           "numberOfBagsInfo": "Maišelių skaičius",
           "nutrition": "Maistinė vertė",
           "of": "iš",
           "office": "Ofisas",
           "ok": "Gerai",
           "olderThen25": "Vyresnis nei 25",
           "onboardEmployee": "Darbuotojo sukūrimas",
           "onboardNewEmployee": "Naujo darbuotojo sukūrimas",
           "onboardingApplicationStep": "Aplikavimo žingnis",
           "onboardingContractStep": "Sutarties žingnis",
           "onboardingEquipmentStep": "Įrangos žingsnis",
           "onboardingSteps": "Įsidarbinimo žingsniai",
           "onboardingTrainingStep": "Mokymų žingsnis",
           "onboarding_contract": "",
           "oneHour": "Per valandą",
           "oneHourShort": "Per 1 h",
           "ongoingOrder": "Vykdomas užsakymas",
           "onlyDelivery": "Tik pristatymas",
           "onlyPickup": "Tik atsiėmimas",
           "onlyPickupChains": "Tik atsiėmimo tinklai",
           "openSettings": "Atidaryti nustatymus",
           "operationalData": "Operatyviniai duomenys",
           "or": "ARBA",
           "order": "Užsakymas",
           "orderAddition": "Užsakymo papildymas",
           "orderCode": "Atsiėmimo kodas",
           "orderColorValues": "Užsakymų spalvų gama",
           "orderComment": "Užsakymo komentaras",
           "orderCompletionOnHold": "Užsakymui liko puse planuoto laiko įvykdyti",
           "orderCompletionOnTime": "Užsakymui liko daug laiko įvykdyti",
           "orderCompletionPending": "Užsakymui liko mažai laiko įvykdyti",
           "orderCount": "Užsakymų skaičius",
           "orderDetails": "Užsakymo informacija",
           "orderFulfilment": "Užsakymo išpildymas",
           "orderHasBeenEvaluated": "Užsakymas buvo įvertintas",
           "orderId": "Užsakymo Id",
           "orderLines": "Užsakymo eilutės",
           "orderNotYetCollected": "Užsakymas dar nebaigtas rinkti, prašome palaukti.",
           "orderNumber": "Užsakymo numeris",
           "orderPriceChanged": "Pasikeitė užsakytų produktų kainos",
           "orderSearch": "Užsakymo paieška",
           "orderStatus": "Užsakymo būsena",
           "orderTotal": "Užsakymo suma",
           "order_queue": "Užsakymų eilė",
           "ordered": "Užsakytas",
           "orderedQuantity": "Užsakytas kiekis",
           "orderlines": "užsakymo eilutės",
           "orders": "Užsakymai",
           "organic": "Ekologiška",
           "originalText": "Originalus tekstas",
           "other": "Kita",
           "otherCities": "Kiti miestai",
           "overEstimate": "Pridėtinė preliminaraus laiko vertė",
           "override": "Perrašyti",
           "ownedCards": "Turimos",
           "packaging": "Pakuotė",
           "packagingOfGoods": "Prekių pakavimas",
           "packagingValue": "Pakuotė",
           "paid": "Sumokėta",
           "paidValue": "Sumokėta suma",
           "paleo": "Paleo",
           "parkingLot": "Automobilių stovėjimo aikštelė",
           "partnerManagement": "Partnerių valdymas",
           "partner_permissions": "Partnerių teisės",
           "partner_receipts": "Partnerių sąskaitos",
           "partner_service_invoice_line_name": "Pervežimo paslaugos pagal ataskaitą",
           "partners": "Partneriai",
           "password": "Slaptažodis",
           "password_too_short": "Slaptažodis per trumpas",
           "pay": "Mokėti",
           "payAttention": "Atkreipkite dėmesį!",
           "payment": "Susimokėti",
           "paymentMethod": "Atsiskaitymo būdas",
           "paymentMethods": "Atsiskaitymo būdai",
           "paymentProcessed": "Rezervacija pavyko",
           "payment_cards": "Mokėjimo kortelės",
           "payment_country": "Apmokėjimo šalis",
           "payment_date": "Apmokėjimo data",
           "payment_transactions": "Mokėjimai",
           "payments": "Mokėjimai",
           "pendingPayment": "Laukiama apmokėjimo patvirtinimo.",
           "pendingTask": "Laukianti užduotis",
           "people": "žmonės",
           "peopleReferred": "Rekomenduoti žmonės",
           "per100": "100 g/ml",
           "personalDocument": "Asmens dokumentas",
           "personalDocumentExpiryDate": "Asmens dokumento galiojimo data",
           "personalIdentificationNumber": "Asmens kodas",
           "personalInformation": "Asmeninė informacija",
           "pets": "Augintiniams",
           "phoneAdded": "Telefonas pridėtas!",
           "phoneAdditionFailed": "Nepavyko pridėti telefono.",
           "phoneNumber": "Telefono numeris",
           "phoneNumberSuggestion": "Įveskite savo telefono numerį.",
           "photo": "Nuotrauka",
           "photo_imports": "Nuotraukų importas",
           "pick": "Surinkti",
           "pickEnd": "Surinkta",
           "pickStart": "Renkama",
           "pickUpFromParking": "Atsiimti prekes automobilių aikštelėje",
           "pickUpFromParkingSubtitle": "Pasirinkus prekių atsiėmimą automobilių aikštelėje Jums nereikės eitį į parduotuvę.",
           "pickedProducts": "Surinkti produktai",
           "picker": "Surinkėjas",
           "pickerComment": "Surinkėjo komentaras",
           "pickerTask": "Rinkiklio užduotis",
           "pickers": "Rinkėjai",
           "picking": "Surinkti prekes",
           "pickingIsNearlyCompleted": "Prekių surinkimas beveik baigtas...",
           "pickingProvider": "Surinkimo paslaugos teikėjas",
           "pickup": "Atsiėmimas",
           "pickupAddress": "Atsiėmimo adresas",
           "pickupInParking": "Atsiimti automobilių aikštelėje",
           "pickupLocation": "Atsiėmimo vieta",
           "pickupPrice": "Prekių atsiėmimo kaina",
           "pickupTime": "Prekių atsiėmimo laikas",
           "pickupWarning": "Atkreipkite dėmesį - Jūs pasirinkote atsiėmimą parduotuvėje.",
           "pinCode": "Pin kodas",
           "planEnd": "Plano pabaiga",
           "planStart": "Plano pradžia",
           "planTimeForward": "Planuojamas laikas į priekį",
           "plannableOrders": "Planuojamų užsakymų skaičius",
           "plannedEnd": "Suplanuota pabaiga",
           "plannedStart": "Suplanuota pradžia",
           "plannerTimer": "Planuotojo laikmatis",
           "points": "Taškai",
           "poweredBy": "Veža",
           "preciseAddress": "Gal norėtumėte pridėti tikslesnį adresą?",
           "preciseAddressText": "Jūsų prisidėtas artimiausias adresas neatitinka jūsų lokacijos, todėl rodomas prekių asortimentas gali neatitikti siūlomo jūsų vietovėje.",
           "premium": "Aukštesnysis",
           "previousReservation": "Prieš tai rezervuota suma",
           "price": "Kaina",
           "priceAsc": "Kaina: nuo žemiausios",
           "priceDesc": "Kaina: nuo aukščiausios",
           "pricingType": "Kainodaros tipas",
           "privacyConfirmationText": "Aš susipažinau su ",
           "privacyPolicy": "Privatumo Politika",
           "privacyPolicyLink": "LastMile privatumo politika",
           "processingPayment": "Atliekama rezervacija",
           "product": "Prekė",
           "productAppearanceSlightly": "Realios prekės išvaizda gali šiek tiek skirtis nuo esančios nuotraukoje.",
           "productInfo": "Prekės informacija",
           "productIssueBarcode": "Neteisingas produkto barkodas",
           "productIssueImage": "Produkto nuotrauka nesutampa su tikru produktu",
           "productIssueName": "Neteisingas produkto pavadinimas",
           "productIssueOther": "Kita",
           "productIssuePrice": "Produkto kaina nesutampa su tikru produktu",
           "productIssues": "Produktų problemos",
           "productPrice": "Produktų kaina",
           "productQuality": "Produktų kokybė",
           "productRange": "Asortimentas",
           "product_changes": "Produktų pakeitimai",
           "product_issues": "Produktų problemos",
           "product_promo_definitions": "Produktų nuolaidų apibrėžimai",
           "products": "Produktai",
           "productsQuality": "Produktų kokybė",
           "profile": "Profilis",
           "profileSettings": "Profilio nustatymai",
           "promoApplied": "Nuolaida pritaikyta",
           "promoCancelled": "Nuolaida atšaukta",
           "promoCode": "Nuolaidos kodas",
           "promos": "Nuolaidos kodai",
           "promotion": "Akcija",
           "promotionAdded": "Nuolaidos kodas pridėtas",
           "promotionValue": "Nuolaidos",
           "promotionalOffers": "Akcijiniai pasiūlymai",
           "promotions": "Akcijos",
           "promotionsTitle": "Akcijos",
           "propertyType": "Pastato tipas",
           "protein": "Baltymai",
           "provider": "Teikėjas",
           "purchase": "Pirkimas",
           "purchases": "Įsigijimai",
           "quantity": "Kiekis",
           "question_comments": "Ar turite papildomų komentarų?",
           "question_feedback_tags": "Kas nulėmė Jūsų apsisprendimą?",
           "question_tip": "Ar norite palikti arbatpinigių kurjeriui?",
           "question_tip_picker": "Ar norite palikti arbatpinigių surinkėjui?",
           "rate": "Įvertinti",
           "rating": "Įvertinimas",
           "reallyWantDeleteCart": "Ar tikrai norite ištrinti krepšelį?",
           "reallyWantDeleteComment": "Tikrai norite ištrinti komentarą",
           "receiptId": "Čekio NR.",
           "receiptScanner": "Čekio NR. skaitytuvas",
           "receiver": "Gavėjas",
           "recentlyViewedItems": "Neseniai žiūrėtos prekės",
           "recieveCode": "Atsiėmimo kodas",
           "recipes": "Receptai",
           "recommended": "Rekomenduojamos",
           "record": "Įrašyti",
           "referralApplied": "Rekomendacija pritaikyta",
           "referralCode": "Rekomendacijos kodas",
           "referralPageSubtitle": "Tiesiog pakvieskit draugus",
           "referralPageTitle": "Gaukite kuponus",
           "referralSuccessful": "Rekomendacija sėkminga",
           "referrals": "Referrals",
           "refreshedOrder": "Užsakymo informacija atnaujinta.",
           "refreshingOrder": "Atnaujinama užsakymo informacija ...",
           "refundValue": "Grąžinama vertė",
           "register": "Registruotis",
           "registerWithEmail": "Registracija el. paštu",
           "registerWithPhoneNumber": "Registracija mob. telefonu",
           "regularBagLocation": "Sandėliavimo lentyna",
           "rememberMe": "Išsaugoti reikšmę",
           "remove": "Pašalinti",
           "removedComment": "Komentaras ištrintas",
           "removingComment": "Komentaras ištrinamas",
           "removingLoyaltyCard": "Ištrinama lojalumo kortelė",
           "renew": "Atnaujinti",
           "repeatOrder": "Pakartoti užsakymą",
           "repeatPassword": "Pakartoti slaptažodį",
           "reportProductIssue": "Pranešti apie produkto problemą",
           "resendCode": "Persiųsti dar kartą",
           "resendCodeIn": "Pakartotinai siųsti kodą už {{seconds}} s",
           "resendPhoneConfirmationCodeSheet": {
            "button1": "Siųsti dar kartą",
            "button2": "Neteisingas telefono numeris",
            "subtitle": "Mes išsiųsime kodą į {{phoneNumber}}. Jei negausite kodo, patikrinkite, ar teisingai įvestas telefono numeris.",
            "title": "Išsiųsti kodą dar kartą"
           },
           "reservation": "Rezervacija",
           "reservationRequired": "Reikalinga rezervacija",
           "reservationRequiredFirst": "Jūsų papildyto užsakymo suma yra didesnė nei prieš tai rezervuota suma:",
           "reservationRequiredSecond": "Reikalinga papildoma rezervacija (nepanaudotas skirtumas bus grąžintas):",
           "reservations": "Rezervacijos",
           "reserveDelivery": "Rezervuoti pristatymą",
           "reservePickup": "Rezervuoti atsiėmimą",
           "reservedAmountIsHigherThanOrderAmount": "Rezervuojama pinigų suma yra didesnė nei papildyto užsakymo suma dėl galimos paklaidos. Perskaičiavus užsakymo sumą, pinigų skirtumas bus grąžintas į Jūsų banko sąskaitą.",
           "reservedDeliveryTime": "Rezervuotas pristatymo laikas",
           "reservedPickupTime": "Rezervuotas atsiėmimo laikas",
           "reservedTokens": "Rezervuoti taškai",
           "reset": "Atstatyti",
           "resetLocation": "Sugrįžti į pradinę lokaciją",
           "returnProducts": "Grąžinti produktus",
           "returned": "Gražinta",
           "revolutCardInfo": "Revolut kortelės informacija",
           "risk": "Rizika",
           "routeBuilder": "Maršrutų planavimas",
           "ru": "Русский",
           "rulesAndPrivacyPolicy": "Taisyklės ir privatumo politika",
           "salesValidTill": "Akcija galioja, jei pristatymo laikas pasirinktas iki",
           "salt": "Druska",
           "satFat": "iš kurių sočiųjų riebalų rūgščių",
           "save": "Išsaugoti",
           "saveAddress": "Išsaugoti adresą",
           "schedules": "Tvarkaraščiai",
           "search": "Ieškoti",
           "searchAddress": "Ieškokite adreso",
           "searchAlternative": "Ieškokite alternatyvų",
           "searchCountryPlaceholder": "Ieškoti pagal šalį",
           "searchForProductsByName": "Ieškokite prekių pagal prekės pavadinimą",
           "searchMarket": "Ieškoti prekių, parduotuvių, puslapių",
           "searchProducts": "Ieškoti prekių",
           "searchScore": "Paieška",
           "searchingFor": "Ieškoma:",
           "searchingForCard": "Ieškoma kortelės ...",
           "secrets": "Paslaptys",
           "seeAll": "Žiūrėti visas",
           "seeMore": "Daugiau",
           "select": "Pasirinkti",
           "selectAddress": "Pasirinkti adresą",
           "selectCameraResolution": "Pasirinkite kameros kokybę",
           "selectCategories": "Pasirinkite kategorijas",
           "selectCity": "Arba pasirinkite savo miestą",
           "selectExactLocation": "Norint prekių pristatymo, pasirinkite konkretų adresą tikslesniam parduotuvių asortimentui Jūsų vietovėje:",
           "selectLocationType": "Pasirinkite vietos tipą",
           "selectPaymentMethod": "Pasirinkite atsiskaitymo būdą",
           "selectPaymentType": "Pasirinkite mokėjimo metodą",
           "selectSize": "Rinktis dydį",
           "selectStore": "Pasirinkite parduotuvę",
           "selectedOrder": "Pasirinktas užsakymas",
           "selectedPickupWarning": "Jūs pasirinkote prekių atsiėmimą. Ar norite tęsti?",
           "selectingCard": "Pasirenkamas mokėjimo būdas",
           "selectingCompany": "Pasirenkama įmonė",
           "selfie": "Asmenukė",
           "sendEmailLink": "Siųsti pašto nuorodą",
           "sendInvoice": "Išsiųsti sąskaitą",
           "sendVerificationCode": "Išiųsti patvirtinimo kodą",
           "sender": "Siuntėjas",
           "seo_description": "Greitas ir patogus prekių pristatymas iš parduotuvių į namus.",
           "service": "Paslauga",
           "session": "Sesija",
           "sessionColorValues": "Sesijų spalvų gama",
           "sessionId": "Sesijos Id",
           "sessionInformation": "Sesijos informacija",
           "sessionSelectionTitle": "Pasirinkite sesijos pabaigos laiką",
           "sessionTime": "Sesijos laikas",
           "sessionWillCloseAfterTask": "Sesija bus uždaryta po paskutinės atliktos užduoties.",
           "session_reports": "Sesijų ataskaitos",
           "session_tips": "Sesijų patarimai",
           "sessions": "Sesijos",
           "settings": "Nustatymai",
           "share": "Dalintis",
           "shareCode": "Dalintis kodu",
           "shopCount": "Parduotuvių",
           "shopper": "Kurjeris-surinkėjas",
           "shopperSupport": "Kurjerių aptarnavimas",
           "shopsNearby": "Parduotuvės netoliese",
           "showMore": "Rodyti daugiau",
           "showOnlyFreeEmployees": "Rodyti tik laisvus darbuotojus",
           "showing": "Rodoma",
           "signInButton": "Prisijungti",
           "signInOrApply": "Prisijunkite arba užsiregistruokite.",
           "signInSheetSubtitle": "Pasirinkite būdą, kuriuo norėtumėte prisijungti arba susikurkite naują paskyrą",
           "signInSheetTitle": "Susikurkite paskyrą arba prisijunkite",
           "signOut": "Atsijungti",
           "signUp": "Registruokitės",
           "signUpButton": "Užsiregistruoti",
           "signed": "Pasirašyta",
           "signedInWithOtherProvider": "Jūsų profilis sukurtas kitu prisijungimo metodu.",
           "signedInWithOtherProviderButton": "Prisijungti kitu būdu",
           "signedInWithOtherProviderDescription": "Savo profilį LastMile platformoje esate užregistravęs (-usi) kitu būdu.",
           "signedInWithOtherProviderTitle": "Pabandykite prisijungti kitu būdu ",
           "similarProducts": "Panašūs produktai",
           "singInOrRegister": "Prisijunkite arba susikurkite profilį",
           "size": "Dydis",
           "sizeGuide": "Dydžių gidas",
           "skip": "Praleisti",
           "sms_autonomous_vehicle_arrived": "Sveiki, autonominis automobilis atvyko. Užsakius alkoholinių/energinių gėrimų, paruoškite amžių patvirtinantį dokumentą. Jūsų užsakymo PIN - {{pinCode}}",
           "sms_order_notify_to_store": "{{statusLabel}} Užsakymo numeris: {{orderNumber}} Kodas: {{orderCode}} Pristatymas: {{from}} - {{to}}",
           "sms_product_not_found": "PREKĖ NERASTA❗️ Prašome pasirinkti produkto alternatyvą 🥑 {{shortLink}}",
           "somethingWentWrong": "Atsiprašome, kažkas nutiko, pabandykite atnaujinti puslapį",
           "sort": "Rūšiuoti",
           "sortDateCreated": "Rūšiuoti pagal sukūrimo datą",
           "sortKarmaDesc": "Populiariausi",
           "sortPriceAsc": "Kaina: nuo žemiausios",
           "sortPriceDesc": "Kaina: nuo aukščiausios",
           "sortSearchScore": "Paieškos tikslumas",
           "sorting": "Rūšiavimas",
           "speed": "Greitis",
           "splitView": "Padalintas vaizdas",
           "standard": "Standartinis",
           "startSession": "Pradėti sesiją",
           "start_locations": "Pradinės vietos",
           "static_data": "Stainiai duomenys",
           "statistics": "Statistika",
           "status": "Būsena",
           "statusCode": "Būsena",
           "statusPageSubtitle": "Norėdami tapti nauju LastMile darbuotoju, atlikite toliau nurodytus veiksmus.",
           "statusPageTitle": "Dar keli žingsniai",
           "step": "Žingsnis",
           "stepName": "Žingsnio pavadinimas",
           "stock": "Likutis",
           "stop": "Stabdyti",
           "stopSession": "Sustabdyti sesiją",
           "stopSessionAfterTask": "Sustabdyti sesiją po užduoties",
           "store": "Parduotuvė",
           "storeCategories": "Parduotuvių kategorijos",
           "storeId": "Parduotuvės Id",
           "storeName": "Parduotuvės pavadinimas",
           "storeType": "Namai",
           "store_info": "Parduotuvės informacija",
           "stores": "Parduotuvės",
           "storingConditions": "Laikymo sąlygos",
           "streamData": "Srautiniai duomenys",
           "street": "Gatvė",
           "streetAndBuilding": "Gatvė, namo numeris",
           "stripeId": "Stripe ID",
           "subcategories": "Pakategorės",
           "submit": "Patvirtinti",
           "success": "Sėkmingai įvykdyta",
           "sugar": "   iš kurių cukrų",
           "suggestions": "Pasiūlymai",
           "suitableForVegetarians": "Tinka vegetarams",
           "sum": "Suma",
           "supplier": "Tiekėjas",
           "supportEmail": "Klientų aptarnavimo el. paštas",
           "supportPhoneNumber": "Klientų aptarnavimo tel. nr.",
           "sureWantDeleteAddress": "Ar tikrai norite ištrinti {{address}} iš išsaugotų adresų?",
           "surname": "Pavardė",
           "sweets": "Saldumynai",
           "tablet": "Planšetinis kompiuteris",
           "tapIcon": "Spauskite __var__ ikoną",
           "task": "Užduotis",
           "taskCount": "Užduočių kiekis",
           "taskEarnings": "Atliktų užduočių uždarbis",
           "taskGeneration": "Užduočių generavimas",
           "taskId": "Užduoties Id",
           "taskSteps": "Užduoties žingsniai",
           "tasks": "Užduotys",
           "tax": "Mokesčiai",
           "taxes": "Mokesčiai",
           "termsAgreeWithPrivacyAlert": "Privalote pažymėti, kad perskaitėte ir sutinkate su LastMile taisyklėmis ir privatumo politika",
           "termsAgreementText1": "Prieš pradedant naudoti LastMile paslaugomis būtina perskaityti ir sutikti su taisyklėmis ir privatumo politika.",
           "termsAndConditions": "Taisyklės ir sąlygos",
           "termsAndConditionsLink": "LastMile taisyklėmis",
           "termsConfirmationText": "Aš perskaičiau ir sutinku su ",
           "test": "Testas",
           "testingKey": "",
           "thirdPartyInfo": "Jums sutikus ir paspaudus „Leisti slapukus“, naudojame trečiųjų šalių slapukus apsilankymo svetainėje ir naudojimosi ja duomenims rinkti. Tokiu būdu duomenys gali būti perduodami į ne ES šalį (kartais į JAV). Europos Teisingumo Teismas nusprendė, kad JAV nėra užtikrinta tinkamo lygio duomenų apsauga. Visų pirma kyla pavojus, kad JAV valdžios institucijos galės susipažinti su jūsų duomenimis kontrolės ir stebėjimo tikslais ir kad nebus įmanoma pasinaudoti veiksmingomis teisinėmis priemonėmis norint nuo to apsisaugoti. Davę sutikimą, galite jį bet kada atšaukti ir jis nebegalios nuo atšaukimo momento.",
           "thirtyMinutes": "Trisdešimt minučių",
           "threeHours": "Per tris valandas",
           "time": "Laikas",
           "tip_thank_you": "Jūsų kurjeris dėkoja už paliktus arbatpinigius!",
           "tips": "Arbatpinigiai",
           "to": "Iki",
           "toContinueAddAddress": "Norėdami tęsti naršymą papildykite profilį pridėdami savo adresą",
           "today": "Šiandien",
           "toggleIsWorking": "Dirba/nedirba",
           "tomorrow": "Rytoj",
           "tooMuch": "Too much",
           "tooMuchSubtitle": "It seems that we cannot deliver so much in one go. Please reduce your cart size. Thank you!",
           "tooMuchTitle": "Oops ...",
           "total": "Viso",
           "totalActual": "Faktinė suma",
           "totalEarnings": "Bendras uždarbis",
           "totalLifetimeEarnings": "Bendras visų laikų uždarbis",
           "totalMissedTasks": "Praleistų užduočių skaičius",
           "totalOrderedValue": "Visa užsakymo suma",
           "totalOverchargeValue": "Svorio paklaidos rezervacija",
           "totalPackagingValue": "Pakavimo mokestis",
           "totalPrice": "Iš viso:",
           "totalReceipt": "Visa čekio suma",
           "totalSaved": "Jūs sutaupėte",
           "totalServiceFeeValue": "Paslaugos mokestis",
           "totalSurchargeValue": "Minimalaus užsakymo mokestis",
           "totalTaxValue": "Taros užstatas",
           "totalVatValue": "Mokesčiai",
           "training": "Apmokymai",
           "trainingCompleted": "Apmokymai baigti",
           "trainingCompletedText": "Sveikiname! Mokymo etapas baigtas. Palaukite, kol paruošime jus kitam žingsniui.",
           "trainingProgress": "Apmokymų progresas",
           "traningFailed": "Neišlaikytas",
           "translatedText": "Išverstas tekstas",
           "turnOnLocationSettingsApp": "Įjunkite vietos nustatymus {{brand}}",
           "turnOnLocationSettingsWeb": "Naršyklėje įjunkite vietos nustatymus",
           "twoHours": "Per dvi valandas",
           "twoHoursShort": "Per 2 h",
           "typeHere": "Įveskite čia",
           "typeOfAddressToStore": "Išsaugojamo adreso tipas",
           "unitOfMeasure": "Matavimo vienetas",
           "unlink": "Atjungti",
           "unloadingArea": "Iškrovimo vieta",
           "unpaid_orderlines": "Neapmokėti užsakymai",
           "updateInformation": "Atnaujinti informaciją",
           "updateNow": "Atnaujinti dabar",
           "updateNowDetailed": "Išleista nauja programėlės versija, ar norite ją atnaujinti?",
           "updateNowTitle": "Nauja programėlės versija",
           "upload": "Įkelti",
           "uploadPhoto": "Įkelkite nuotrauką",
           "usedTokens": "Panaudoti žetonai",
           "usefulInformation": "Naudinga informacija",
           "usefulLinks": "Naudingos nuorodos",
           "user": "Vartotojas",
           "userDeleteRestorationMessage": "Vartotoją atkurti galėsite __days__ dienų nuo anketos ištrynimo.",
           "userDetails": "Vartotojo informacija",
           "userId": "Vartotojo Id",
           "userIds": "Vartotojo ID",
           "user_promotions": "Vartotojo akcijos",
           "username": "Vartotojo vardas",
           "users": "Vartotojai",
           "validTill": "Galioja iki",
           "validUntil": "Galioja iki",
           "validated": "Patvirtinta",
           "vatCode": "PVM kodas",
           "vegan": "Tinka veganams",
           "vegetarian": "Tinka vegetarams",
           "vehicleType": "Transporto priemonė",
           "vehicleTypeDivider": "Transporto priemonė, kurią naudosiu",
           "version": "Versija",
           "veryHigh": "Labai aukštas",
           "view": "Peržiūrėti",
           "viewProducts": "Peržiūrėti produktus",
           "view_products": "Produktai",
           "voucherAdditionSuccessful": "Sėkmingai prisidėjote kuponą",
           "w_customer_demands": "Klientų poreikiai",
           "w_setup_intents": "Sąrankos ketinimai",
           "waitingClientConfirmation": "Laukiama kliento patvirtinimo",
           "waitingConfirmation": "Užsakymas renkamas.",
           "waitingPickup": "Užsakymas surinktas.",
           "wantRemoveLoyaltyCard": "Ar tikrai norite ištrinti lojalumo kortelę?",
           "webConvenience": "El. parduotuvės patogumas",
           "week": "Savaitė",
           "wholeGrain": "Pilno grūdo",
           "width": "Plotis",
           "wingcopter": "Dronas",
           "withEmail": "El. paštu",
           "withPhoneNumber": "Mob. telefonu",
           "withoutRegistrationText": "Turėsite galimybę susikurti paskyrą ir sekti užsakymą, kai pabaigsite pirkimą",
           "withtax": "su PVM",
           "work": "Darbas",
           "wrongCode": "Neteisingas kodas",
           "wrongCompanyCode": "Įmonės kodas neteisingas",
           "wrongPhoneNumber": "Neteisingas tel. numeris",
           "year": "Metai",
           "years": "metų",
           "yes": "Taip",
           "youHaveAGift": "Jums priklauso dovana",
           "youWillFindUsIn": "Mes pristatome šiuose miestuose",
           "youngerThen25": "Jaunesnis nei 25",
           "yourInformation": "Jūsų informacija",
           "yourOrder": "Jūsų užsakymas",
           "zoneName": "Zonos pavadinimas",
           "zones": "Zonos"
          }
         },
         "banner": null,
         "banners": [
          {
           "bannerIds": [],
           "categoryIds": [
            "00sales"
           ],
           "chainIds": [
            "OiGzdqIuls86njWsPYmw"
           ],
           "cityIds": [
            "JOS2PezGRKgYa4QlqIEU",
            "ToaewVbOunrF5zJlzaud",
            "h1dqAwwzlMLrSrgjcS1S",
            "nDJFEmEMsGgM7nQcgEMN",
            "prqsdr2BADGPZfszFnnB",
            "zzLithuaniaPanevezys",
            "zzxLithuaniaKlaipeda",
            "zzxLithuaniaSiauliai",
            "zzzzLithuaniaPalanga",
            "zzzzzLithuaniaKaunas",
            "zzzzzLithuaniaTrakai"
           ],
           "countryIds": [
            "gCHYvyhpNcKZgcPiDwRV"
           ],
           "dateFrom": "2024-04-18T07:08:00.000Z",
           "dateLastRefresh": "2024-04-19T15:27:03.901Z",
           "dateTo": "2024-04-30T23:00:00.000Z",
           "id": "6INXMgMUygeslC8Ee48U",
           "isActive": true,
           "isOver": false,
           "link": "https://lastmile.lt/information/velniskas-greitis",
           "name": {
            "de": "Pirmam apsipirkimui -40%",
            "en": "Pirmam apsipirkimui -40%",
            "lt": "Pirmam apsipirkimui -40%",
            "ru": "Pirmam apsipirkimui -40%"
           },
           "photoUrl": {
            "de": "https://firebasestorage.googleapis.com/v0/b/lastmile-ui/o/import%2Fphotos%2Fconverted%2Fbanner%2FphotoUrl%2FOiGzdqIuls86njWsPYmw_6INXMgMUygeslC8Ee48U_UkcA7LGXIGVM1Lhmr8bPFarPtjs2_5xNnBpAtHpwqJbfhOAGt_lt.webp?alt=media&token=d6d3b232-b86b-45c2-a148-5f9ead4566b0",
            "en": "https://firebasestorage.googleapis.com/v0/b/lastmile-ui/o/import%2Fphotos%2Fconverted%2Fbanner%2FphotoUrl%2FOiGzdqIuls86njWsPYmw_6INXMgMUygeslC8Ee48U_UkcA7LGXIGVM1Lhmr8bPFarPtjs2_mT2avlyCkKgNOSnQcP7B_en.webp?alt=media&token=45f20f41-c9c7-4d04-9169-61b05103a7a5",
            "lt": "https://firebasestorage.googleapis.com/v0/b/lastmile-ui/o/import%2Fphotos%2Fconverted%2Fbanner%2FphotoUrl%2FOiGzdqIuls86njWsPYmw_6INXMgMUygeslC8Ee48U_UkcA7LGXIGVM1Lhmr8bPFarPtjs2_Cds8jIihxFzbDgNaaiUK_lt.webp?alt=media&token=27f8f52a-e935-4d02-b033-264a906b507f",
            "ru": "https://firebasestorage.googleapis.com/v0/b/lastmile-ui/o/import%2Fphotos%2Fconverted%2Fbanner%2FphotoUrl%2FOiGzdqIuls86njWsPYmw_6INXMgMUygeslC8Ee48U_UkcA7LGXIGVM1Lhmr8bPFarPtjs2_5xNnBpAtHpwqJbfhOAGt_lt.webp?alt=media&token=d6d3b232-b86b-45c2-a148-5f9ead4566b0"
           },
           "photoUrlDesktop": {
            "de": "https://firebasestorage.googleapis.com/v0/b/lastmile-ui/o/import%2Fphotos%2Fconverted%2Fbanner%2FphotoUrlDesktop%2FOiGzdqIuls86njWsPYmw_6INXMgMUygeslC8Ee48U_UkcA7LGXIGVM1Lhmr8bPFarPtjs2_EzOOnrlLoPz3w34gqL1s_lt.webp?alt=media&token=a1ab30af-08a6-405b-9e6f-5f50b60f9aed",
            "en": "https://firebasestorage.googleapis.com/v0/b/lastmile-ui/o/import%2Fphotos%2Fconverted%2Fbanner%2FphotoUrlDesktop%2FOiGzdqIuls86njWsPYmw_6INXMgMUygeslC8Ee48U_UkcA7LGXIGVM1Lhmr8bPFarPtjs2_ZLtL2xBcgiv1A5B8SOAO_en.webp?alt=media&token=f27638da-012b-485c-ade1-3969a1d9cbb1",
            "lt": "https://firebasestorage.googleapis.com/v0/b/lastmile-ui/o/import%2Fphotos%2Fconverted%2Fbanner%2FphotoUrlDesktop%2FOiGzdqIuls86njWsPYmw_6INXMgMUygeslC8Ee48U_UkcA7LGXIGVM1Lhmr8bPFarPtjs2_mwevRoyau7BXtB4KueXW_lt.webp?alt=media&token=b1a38487-989e-43cc-bf3b-367626cc9875",
            "ru": "https://firebasestorage.googleapis.com/v0/b/lastmile-ui/o/import%2Fphotos%2Fconverted%2Fbanner%2FphotoUrlDesktop%2FOiGzdqIuls86njWsPYmw_6INXMgMUygeslC8Ee48U_UkcA7LGXIGVM1Lhmr8bPFarPtjs2_EzOOnrlLoPz3w34gqL1s_lt.webp?alt=media&token=a1ab30af-08a6-405b-9e6f-5f50b60f9aed"
           },
           "productIds": [],
           "rank": 1,
           "showHome": true,
           "showMain": true,
           "slugs": [
            "Pirmam-apsipirkimui-40percent"
           ]
          },
          {
           "bannerIds": [],
           "categoryIds": [],
           "chainIds": [
            "CvKfTzV4TN5U8BTMF1Hl"
           ],
           "cityIds": [
            "JOS2PezGRKgYa4QlqIEU",
            "ToaewVbOunrF5zJlzaud",
            "h1dqAwwzlMLrSrgjcS1S",
            "nDJFEmEMsGgM7nQcgEMN",
            "prqsdr2BADGPZfszFnnB",
            "zzLithuaniaPanevezys",
            "zzxLithuaniaKlaipeda",
            "zzxLithuaniaSiauliai",
            "zzzzLithuaniaPalanga",
            "zzzzzLithuaniaKaunas",
            "zzzzzLithuaniaTrakai"
           ],
           "countryIds": [
            "gCHYvyhpNcKZgcPiDwRV"
           ],
           "dateFrom": "2024-04-22T00:08:00.000Z",
           "dateLastRefresh": "2024-04-22T00:30:03.746Z",
           "dateTo": "2024-04-25T23:00:00.000Z",
           "id": "DDmjatSg6g0WxVCsDrEa",
           "isActive": true,
           "isOver": false,
           "link": "/product/IKI/Sviezia-visciuku-broileriu-file-IKI-MESA-500-g",
           "name": {
            "de": "IKI. Vištiena -69%",
            "en": "IKI. Vištiena -69%",
            "lt": "IKI. Vištiena -69%",
            "ru": "IKI. Vištiena -69%"
           },
           "photoUrl": {
            "en": "https://firebasestorage.googleapis.com/v0/b/lastmile-ui/o/import%2Fphotos%2Fconverted%2Fbanner%2FphotoUrl%2FCvKfTzV4TN5U8BTMF1Hl_DDmjatSg6g0WxVCsDrEa_UkcA7LGXIGVM1Lhmr8bPFarPtjs2_jCCz0RvM5PPQMV0m5tyh_en.webp?alt=media&token=adce1618-b48d-4783-a566-9e06180cb158",
            "lt": "https://firebasestorage.googleapis.com/v0/b/lastmile-ui/o/import%2Fphotos%2Fconverted%2Fbanner%2FphotoUrl%2FCvKfTzV4TN5U8BTMF1Hl_DDmjatSg6g0WxVCsDrEa_UkcA7LGXIGVM1Lhmr8bPFarPtjs2_lvioDn4W4TczGUeoqIDf_lt.webp?alt=media&token=ef2b7431-f25a-44f5-aa85-9b1a3e5e5f19"
           },
           "photoUrlDesktop": {
            "en": "https://firebasestorage.googleapis.com/v0/b/lastmile-ui/o/import%2Fphotos%2Fconverted%2Fbanner%2FphotoUrlDesktop%2FCvKfTzV4TN5U8BTMF1Hl_DDmjatSg6g0WxVCsDrEa_UkcA7LGXIGVM1Lhmr8bPFarPtjs2_jEvgzD12MoJlaq2skKK7_en.webp?alt=media&token=9cf39536-9c7a-4955-a8ef-fdeaef8d31bc",
            "lt": "https://firebasestorage.googleapis.com/v0/b/lastmile-ui/o/import%2Fphotos%2Fconverted%2Fbanner%2FphotoUrlDesktop%2FCvKfTzV4TN5U8BTMF1Hl_DDmjatSg6g0WxVCsDrEa_UkcA7LGXIGVM1Lhmr8bPFarPtjs2_RTXpESc6wHqR1GksiwiU_lt.webp?alt=media&token=f8647b20-1662-49bd-871d-e654adfb82b4"
           },
           "productIds": [],
           "rank": 1,
           "showHome": false,
           "showMain": true,
           "slugs": [
            "IKI-Vistiena-69percent"
           ]
          },
          {
           "bannerIds": [],
           "categoryIds": [
            "00sales",
            "aAztRXgfDPJvZMHJ4N8m",
            "H3RV0iArgKveqJsFbnSq"
           ],
           "chainIds": [
            "OiGzdqIuls86njWsPYmw"
           ],
           "cityIds": [
            "JOS2PezGRKgYa4QlqIEU",
            "ToaewVbOunrF5zJlzaud",
            "h1dqAwwzlMLrSrgjcS1S",
            "nDJFEmEMsGgM7nQcgEMN",
            "prqsdr2BADGPZfszFnnB",
            "zzLithuaniaPanevezys",
            "zzxLithuaniaKlaipeda",
            "zzxLithuaniaSiauliai",
            "zzzzLithuaniaPalanga",
            "zzzzzLithuaniaKaunas",
            "zzzzzLithuaniaTrakai"
           ],
           "countryIds": [
            "gCHYvyhpNcKZgcPiDwRV"
           ],
           "dateFrom": "2024-04-22T12:00:00.000Z",
           "dateLastRefresh": "2024-04-22T10:48:25.518Z",
           "dateTo": "2024-04-28T23:00:00.000Z",
           "id": "sNBCvXTJFd0sS6Vf3HwT",
           "isActive": true,
           "isOver": false,
           "link": "/product/PROMO-CashandCarry/Atvesinta-atl-lasisu-file-nevak-su-oda-kg-14",
           "name": {
            "de": "Lašiša -69%",
            "en": "Lašiša -69%",
            "lt": "Lašiša -69%",
            "ru": "Lašiša -69%"
           },
           "photoUrl": {
            "en": "https://firebasestorage.googleapis.com/v0/b/lastmile-ui/o/import%2Fphotos%2Fconverted%2Fbanner%2FphotoUrl%2FOiGzdqIuls86njWsPYmw_sNBCvXTJFd0sS6Vf3HwT_UkcA7LGXIGVM1Lhmr8bPFarPtjs2_lTSYcTispLoH4jxxzoCb_en.webp?alt=media&token=8d5770b9-e770-4282-833b-bd6792277c9d",
            "lt": "https://firebasestorage.googleapis.com/v0/b/lastmile-ui/o/import%2Fphotos%2Fconverted%2Fbanner%2FphotoUrl%2FOiGzdqIuls86njWsPYmw_sNBCvXTJFd0sS6Vf3HwT_UkcA7LGXIGVM1Lhmr8bPFarPtjs2_lodnOMyn2Rq7hMyJz2kO_lt.webp?alt=media&token=ad7d6118-4d6f-4b2b-94c6-9e09164982c2"
           },
           "photoUrlDesktop": {
            "en": "https://firebasestorage.googleapis.com/v0/b/lastmile-ui/o/import%2Fphotos%2Fconverted%2Fbanner%2FphotoUrlDesktop%2FOiGzdqIuls86njWsPYmw_sNBCvXTJFd0sS6Vf3HwT_UkcA7LGXIGVM1Lhmr8bPFarPtjs2_CCu6O8uJHxyNBykpJ5oY_en.webp?alt=media&token=25d94a63-3fad-41dc-b285-468ec685e96f",
            "lt": "https://firebasestorage.googleapis.com/v0/b/lastmile-ui/o/import%2Fphotos%2Fconverted%2Fbanner%2FphotoUrlDesktop%2FOiGzdqIuls86njWsPYmw_sNBCvXTJFd0sS6Vf3HwT_UkcA7LGXIGVM1Lhmr8bPFarPtjs2_M3GGoN4MSBCQ7JPPUIii_lt.webp?alt=media&token=6d31ecaf-f2c8-48d3-a4f5-e682700be69b"
           },
           "productIds": [],
           "rank": 1,
           "showHome": true,
           "showMain": true,
           "slugs": [
            "Lasisa-69percent"
           ]
          },
          {
           "bannerIds": [],
           "categoryIds": [
            "00sales",
            "7aGnT9tzMYRqBwdgmLXG",
            "ICh90VGdN2OuYmgmrsj8"
           ],
           "chainIds": [
            "CvKfTzV4TN5U8BTMF1Hl"
           ],
           "cityIds": [
            "JOS2PezGRKgYa4QlqIEU",
            "ToaewVbOunrF5zJlzaud",
            "h1dqAwwzlMLrSrgjcS1S",
            "nDJFEmEMsGgM7nQcgEMN",
            "prqsdr2BADGPZfszFnnB",
            "zzLithuaniaPanevezys",
            "zzxLithuaniaKlaipeda",
            "zzxLithuaniaSiauliai",
            "zzzzLithuaniaPalanga",
            "zzzzzLithuaniaKaunas",
            "zzzzzLithuaniaTrakai"
           ],
           "countryIds": [
            "gCHYvyhpNcKZgcPiDwRV"
           ],
           "dateFrom": "2024-04-23T00:08:00.000Z",
           "dateLastRefresh": "2024-04-23T00:30:04.493Z",
           "dateTo": "2024-04-23T23:00:00.000Z",
           "id": "nqkWpHuodI0ZyOf1litB",
           "isActive": true,
           "isOver": false,
           "link": "/product/IKI/Gazuotas-gerimas-COCA-COLA-2-l",
           "name": {
            "de": "IKI. Coca cola -69%",
            "en": "IKI. Coca cola -69%",
            "lt": "IKI. Coca cola -69%",
            "ru": "IKI. Coca cola -69%"
           },
           "photoUrl": {
            "en": "https://firebasestorage.googleapis.com/v0/b/lastmile-ui/o/import%2Fphotos%2Fconverted%2Fbanner%2FphotoUrl%2FCvKfTzV4TN5U8BTMF1Hl_nqkWpHuodI0ZyOf1litB_UkcA7LGXIGVM1Lhmr8bPFarPtjs2_lR7Rsu5LmNYKrpjZuqYt_en.webp?alt=media&token=cf6f6543-3ec3-4838-b14f-e5a69fc6cb7c",
            "lt": "https://firebasestorage.googleapis.com/v0/b/lastmile-ui/o/import%2Fphotos%2Fconverted%2Fbanner%2FphotoUrl%2FCvKfTzV4TN5U8BTMF1Hl_nqkWpHuodI0ZyOf1litB_UkcA7LGXIGVM1Lhmr8bPFarPtjs2_tzkYVXygp3u42qe88YLJ_lt.webp?alt=media&token=d464c588-af76-46d2-95af-cfffb5921475"
           },
           "photoUrlDesktop": {
            "en": "https://firebasestorage.googleapis.com/v0/b/lastmile-ui/o/import%2Fphotos%2Fconverted%2Fbanner%2FphotoUrlDesktop%2FCvKfTzV4TN5U8BTMF1Hl_nqkWpHuodI0ZyOf1litB_UkcA7LGXIGVM1Lhmr8bPFarPtjs2_yPYrHY2ap5QNCusJp44G_en.webp?alt=media&token=7be1f94f-ee43-403b-8302-b525cf8ecd40",
            "lt": "https://firebasestorage.googleapis.com/v0/b/lastmile-ui/o/import%2Fphotos%2Fconverted%2Fbanner%2FphotoUrlDesktop%2FCvKfTzV4TN5U8BTMF1Hl_nqkWpHuodI0ZyOf1litB_UkcA7LGXIGVM1Lhmr8bPFarPtjs2_QPqiCBYZb8nR8Rm7pAeU_lt.webp?alt=media&token=3a42e084-b96d-4067-a792-902613db9cfb"
           },
           "productIds": [],
           "rank": 1,
           "showHome": true,
           "showMain": true,
           "slugs": [
            "IKI-Coca-cola-69percent"
           ]
          },
          {
           "bannerIds": [],
           "categoryIds": [
            "00sales",
            "Fjr0PdY3SpHbc2GKm9Cd",
            "iSYTdWjFGh5YWglqphtj",
            "dXm2I2xsSMKPb34maRSX"
           ],
           "chainIds": [
            "OiGzdqIuls86njWsPYmw"
           ],
           "cityIds": [
            "JOS2PezGRKgYa4QlqIEU",
            "ToaewVbOunrF5zJlzaud",
            "h1dqAwwzlMLrSrgjcS1S",
            "nDJFEmEMsGgM7nQcgEMN",
            "prqsdr2BADGPZfszFnnB",
            "zzLithuaniaPanevezys",
            "zzxLithuaniaKlaipeda",
            "zzxLithuaniaSiauliai",
            "zzzzLithuaniaPalanga",
            "zzzzzLithuaniaKaunas",
            "zzzzzLithuaniaTrakai"
           ],
           "countryIds": [
            "gCHYvyhpNcKZgcPiDwRV"
           ],
           "dateFrom": "2024-04-23T00:08:00.000Z",
           "dateLastRefresh": "2024-04-23T00:30:04.495Z",
           "dateTo": "2024-04-23T23:00:00.000Z",
           "id": "sRJqyBV7W1mAVag2CQPE",
           "isActive": true,
           "isOver": false,
           "link": "/product/PROMO-CashandCarry/Bananai-I-klase-kg",
           "name": {
            "de": "Bananai -69%",
            "en": "Bananai -69%",
            "lt": "Bananai -69%",
            "ru": "Bananai -69%"
           },
           "photoUrl": {
            "en": "https://firebasestorage.googleapis.com/v0/b/lastmile-ui/o/import%2Fphotos%2Fconverted%2Fbanner%2FphotoUrl%2FOiGzdqIuls86njWsPYmw_sRJqyBV7W1mAVag2CQPE_UkcA7LGXIGVM1Lhmr8bPFarPtjs2_zYybLl8VUl1fTXILRC0d_en.webp?alt=media&token=fad26aed-d76f-44f8-b2d9-f4ba779dc248",
            "lt": "https://firebasestorage.googleapis.com/v0/b/lastmile-ui/o/import%2Fphotos%2Fconverted%2Fbanner%2FphotoUrl%2FOiGzdqIuls86njWsPYmw_sRJqyBV7W1mAVag2CQPE_UkcA7LGXIGVM1Lhmr8bPFarPtjs2_pvt3WVqhhXyrfwI0NTuB_lt.webp?alt=media&token=e8ace74d-e58b-4757-b686-a3b73e478b99"
           },
           "photoUrlDesktop": {
            "en": "https://firebasestorage.googleapis.com/v0/b/lastmile-ui/o/import%2Fphotos%2Fconverted%2Fbanner%2FphotoUrlDesktop%2FOiGzdqIuls86njWsPYmw_sRJqyBV7W1mAVag2CQPE_UkcA7LGXIGVM1Lhmr8bPFarPtjs2_D5ftZ6N3L9iCfaYSey2M_en.webp?alt=media&token=996f1330-b3b5-48d4-8327-cea18e4b4bf1",
            "lt": "https://firebasestorage.googleapis.com/v0/b/lastmile-ui/o/import%2Fphotos%2Fconverted%2Fbanner%2FphotoUrlDesktop%2FOiGzdqIuls86njWsPYmw_sRJqyBV7W1mAVag2CQPE_UkcA7LGXIGVM1Lhmr8bPFarPtjs2_jFkkha9EFdrHye1YsAez_lt.webp?alt=media&token=d664713b-7789-4249-b6c2-6fd0ebe49642"
           },
           "productIds": [],
           "rank": 1,
           "showHome": true,
           "showMain": true,
           "slugs": [
            "Bananai-69percent"
           ]
          },
          {
           "bannerIds": [],
           "categoryIds": [],
           "chainIds": [
            "CvKfTzV4TN5U8BTMF1Hl"
           ],
           "cityIds": [
            "JOS2PezGRKgYa4QlqIEU",
            "ToaewVbOunrF5zJlzaud",
            "h1dqAwwzlMLrSrgjcS1S",
            "nDJFEmEMsGgM7nQcgEMN",
            "prqsdr2BADGPZfszFnnB",
            "zzLithuaniaPanevezys",
            "zzxLithuaniaKlaipeda",
            "zzxLithuaniaSiauliai",
            "zzzzLithuaniaPalanga",
            "zzzzzLithuaniaKaunas",
            "zzzzzLithuaniaTrakai"
           ],
           "countryIds": [
            "gCHYvyhpNcKZgcPiDwRV"
           ],
           "dateFrom": "2024-04-22T00:08:00.000Z",
           "dateLastRefresh": "2024-04-22T00:30:03.753Z",
           "dateTo": "2024-04-28T23:00:00.000Z",
           "id": "jnkeTtJH8lQmyklPPdPP",
           "isActive": true,
           "isOver": false,
           "link": "/chain/category/IKI/fAh2docYiH9UX5MgmSE7/CvKfTzV4TN5U8BTMF1Hl",
           "name": {
            "de": "IKI. Dvigubai daugiau",
            "en": "IKI. Dvigubai daugiau",
            "lt": "IKI. Dvigubai daugiau",
            "ru": "IKI. Dvigubai daugiau"
           },
           "photoUrl": {
            "en": "https://firebasestorage.googleapis.com/v0/b/lastmile-ui/o/import%2Fphotos%2Fconverted%2Fbanner%2FphotoUrl%2FCvKfTzV4TN5U8BTMF1Hl_jnkeTtJH8lQmyklPPdPP_UkcA7LGXIGVM1Lhmr8bPFarPtjs2_6LQuNHEvvGRsa8lWIfvR_en.webp?alt=media&token=78b1f0dc-22c1-4070-8f9c-377fe4a9a525",
            "lt": "https://firebasestorage.googleapis.com/v0/b/lastmile-ui/o/import%2Fphotos%2Fconverted%2Fbanner%2FphotoUrl%2FCvKfTzV4TN5U8BTMF1Hl_jnkeTtJH8lQmyklPPdPP_UkcA7LGXIGVM1Lhmr8bPFarPtjs2_jgUcOVUGBd7sN3wAtWkD_lt.webp?alt=media&token=d748a7cc-5e83-4bb5-859f-ba8792f09875"
           },
           "photoUrlDesktop": {
            "en": "https://firebasestorage.googleapis.com/v0/b/lastmile-ui/o/import%2Fphotos%2Fconverted%2Fbanner%2FphotoUrlDesktop%2FCvKfTzV4TN5U8BTMF1Hl_jnkeTtJH8lQmyklPPdPP_UkcA7LGXIGVM1Lhmr8bPFarPtjs2_sbjIy0Ejq7GjluDOqIX5_en.webp?alt=media&token=e47bb2c6-b31b-4ef7-a68b-d406bddea64c",
            "lt": "https://firebasestorage.googleapis.com/v0/b/lastmile-ui/o/import%2Fphotos%2Fconverted%2Fbanner%2FphotoUrlDesktop%2FCvKfTzV4TN5U8BTMF1Hl_jnkeTtJH8lQmyklPPdPP_UkcA7LGXIGVM1Lhmr8bPFarPtjs2_zW1x5SZ0DfCsWSQZzrq4_lt.webp?alt=media&token=99e3563e-2246-4945-9f9d-552154884306"
           },
           "productIds": [],
           "rank": 2,
           "showHome": false,
           "showMain": true,
           "slugs": [
            "IKI-Dvigubai-daugiau"
           ]
          },
          {
           "bannerIds": [],
           "categoryIds": [],
           "chainIds": [
            "OiGzdqIuls86njWsPYmw"
           ],
           "cityIds": [
            "JOS2PezGRKgYa4QlqIEU",
            "ToaewVbOunrF5zJlzaud",
            "h1dqAwwzlMLrSrgjcS1S",
            "nDJFEmEMsGgM7nQcgEMN",
            "prqsdr2BADGPZfszFnnB",
            "zzLithuaniaPanevezys",
            "zzxLithuaniaKlaipeda",
            "zzxLithuaniaSiauliai",
            "zzzzLithuaniaPalanga",
            "zzzzzLithuaniaKaunas",
            "zzzzzLithuaniaTrakai"
           ],
           "countryIds": [
            "gCHYvyhpNcKZgcPiDwRV"
           ],
           "dateFrom": "2024-04-22T00:08:00.000Z",
           "dateLastRefresh": "2024-04-22T00:30:03.748Z",
           "dateTo": "2024-04-28T23:00:00.000Z",
           "id": "Lxzk6kBIlrmAufmcFJ1m",
           "isActive": true,
           "isOver": false,
           "link": "/chain/banner/1+1/Y0UTpLffft3meyDZdshS/OiGzdqIuls86njWsPYmw",
           "name": {
            "de": "Promo Dvigubai daugiau",
            "en": "Promo Dvigubai daugiau",
            "lt": "Promo Dvigubai daugiau",
            "ru": "Promo Dvigubai daugiau"
           },
           "photoUrl": {
            "en": "https://firebasestorage.googleapis.com/v0/b/lastmile-ui/o/import%2Fphotos%2Fconverted%2Fbanner%2FphotoUrl%2FOiGzdqIuls86njWsPYmw_Lxzk6kBIlrmAufmcFJ1m_UkcA7LGXIGVM1Lhmr8bPFarPtjs2_SLYsqzVaiA6pCuAMpTNK_en.webp?alt=media&token=0d46ea33-64a8-4f06-9e37-3fb63a13f72b",
            "lt": "https://firebasestorage.googleapis.com/v0/b/lastmile-ui/o/import%2Fphotos%2Fconverted%2Fbanner%2FphotoUrl%2FOiGzdqIuls86njWsPYmw_Lxzk6kBIlrmAufmcFJ1m_UkcA7LGXIGVM1Lhmr8bPFarPtjs2_Q2GGp1qJu0qzjLVJXKCb_lt.webp?alt=media&token=f32ac490-7e3d-4c44-8a32-bcbb85e9ade4"
           },
           "photoUrlDesktop": {
            "en": "https://firebasestorage.googleapis.com/v0/b/lastmile-ui/o/import%2Fphotos%2Fconverted%2Fbanner%2FphotoUrlDesktop%2FOiGzdqIuls86njWsPYmw_Lxzk6kBIlrmAufmcFJ1m_UkcA7LGXIGVM1Lhmr8bPFarPtjs2_L0C62N5yQoqkhf8djanB_en.webp?alt=media&token=c4112215-67ae-4719-b534-550b358b5102",
            "lt": "https://firebasestorage.googleapis.com/v0/b/lastmile-ui/o/import%2Fphotos%2Fconverted%2Fbanner%2FphotoUrlDesktop%2FOiGzdqIuls86njWsPYmw_Lxzk6kBIlrmAufmcFJ1m_UkcA7LGXIGVM1Lhmr8bPFarPtjs2_0XnptOU044ZqKJ5xSOL8_lt.webp?alt=media&token=26d6137d-7e68-4f90-86e8-87aeda610669"
           },
           "productIds": [],
           "rank": 3,
           "showHome": false,
           "showMain": true,
           "slugs": [
            "Promo-Dvigubai-daugiau"
           ]
          },
          {
           "bannerIds": [],
           "categoryIds": [],
           "chainIds": [
            "CvKfTzV4TN5U8BTMF1Hl"
           ],
           "cityIds": [
            "JOS2PezGRKgYa4QlqIEU",
            "ToaewVbOunrF5zJlzaud",
            "h1dqAwwzlMLrSrgjcS1S",
            "nDJFEmEMsGgM7nQcgEMN",
            "prqsdr2BADGPZfszFnnB",
            "zzLithuaniaPanevezys",
            "zzxLithuaniaKlaipeda",
            "zzxLithuaniaSiauliai",
            "zzzzLithuaniaPalanga",
            "zzzzzLithuaniaKaunas",
            "zzzzzLithuaniaTrakai"
           ],
           "countryIds": [
            "gCHYvyhpNcKZgcPiDwRV"
           ],
           "dateFrom": "2024-04-22T00:08:00.000Z",
           "dateLastRefresh": "2024-04-22T00:30:03.752Z",
           "dateTo": "2024-04-28T23:00:00.000Z",
           "id": "Xz0kZyOiQCNggqVh8KT9",
           "isActive": true,
           "isOver": false,
           "link": "/chain/banner/vXMrDcH45OFZYR6xy7gK/vXMrDcH45OFZYR6xy7gK/CvKfTzV4TN5U8BTMF1Hl",
           "name": {
            "de": "IKI. Savaitės TOP",
            "en": "IKI. Savaitės TOP",
            "lt": "IKI. Savaitės TOP",
            "ru": "IKI. Savaitės TOP"
           },
           "photoUrl": {
            "en": "https://firebasestorage.googleapis.com/v0/b/lastmile-ui/o/import%2Fphotos%2Fconverted%2Fbanner%2FphotoUrl%2FCvKfTzV4TN5U8BTMF1Hl_Xz0kZyOiQCNggqVh8KT9_UkcA7LGXIGVM1Lhmr8bPFarPtjs2_2n20G8dKvdmErEQHx5Bj_en.webp?alt=media&token=04fd7488-1290-401c-905e-a7a972eb7353",
            "lt": "https://firebasestorage.googleapis.com/v0/b/lastmile-ui/o/import%2Fphotos%2Fconverted%2Fbanner%2FphotoUrl%2FCvKfTzV4TN5U8BTMF1Hl_Xz0kZyOiQCNggqVh8KT9_UkcA7LGXIGVM1Lhmr8bPFarPtjs2_kykbzJawsM48SoJv7hNa_lt.webp?alt=media&token=cab95fa9-9688-4de9-b0d9-6fa003c1b24e"
           },
           "photoUrlDesktop": {
            "en": "https://firebasestorage.googleapis.com/v0/b/lastmile-ui/o/import%2Fphotos%2Fconverted%2Fbanner%2FphotoUrlDesktop%2FCvKfTzV4TN5U8BTMF1Hl_Xz0kZyOiQCNggqVh8KT9_UkcA7LGXIGVM1Lhmr8bPFarPtjs2_1wk8XjSiBJdYagF1vVWs_en.webp?alt=media&token=f4f1f3f1-dae6-4a54-ac26-9c6cf08d6c3d",
            "lt": "https://firebasestorage.googleapis.com/v0/b/lastmile-ui/o/import%2Fphotos%2Fconverted%2Fbanner%2FphotoUrlDesktop%2FCvKfTzV4TN5U8BTMF1Hl_Xz0kZyOiQCNggqVh8KT9_UkcA7LGXIGVM1Lhmr8bPFarPtjs2_ha3xm1BC7Q6sCJoeEUL8_lt.webp?alt=media&token=78c8cc0c-e61b-42f0-bc08-a0f739a06c8d"
           },
           "productIds": [],
           "rank": 4,
           "showHome": false,
           "showMain": true,
           "slugs": [
            "IKI-Savaites-TOP"
           ]
          },
          {
           "bannerIds": [],
           "categoryIds": [],
           "chainIds": [
            "OiGzdqIuls86njWsPYmw"
           ],
           "cityIds": [
            "JOS2PezGRKgYa4QlqIEU",
            "ToaewVbOunrF5zJlzaud",
            "h1dqAwwzlMLrSrgjcS1S",
            "nDJFEmEMsGgM7nQcgEMN",
            "prqsdr2BADGPZfszFnnB",
            "zzLithuaniaPanevezys",
            "zzxLithuaniaKlaipeda",
            "zzxLithuaniaSiauliai",
            "zzzzLithuaniaPalanga",
            "zzzzzLithuaniaKaunas",
            "zzzzzLithuaniaTrakai"
           ],
           "countryIds": [
            "gCHYvyhpNcKZgcPiDwRV"
           ],
           "dateFrom": "2024-04-22T00:08:00.000Z",
           "dateLastRefresh": "2024-04-22T00:30:03.750Z",
           "dateTo": "2024-04-28T23:00:00.000Z",
           "id": "SdQhmtrH5jmkcQ17yag2",
           "isActive": true,
           "isOver": false,
           "link": "/chain/banner/Savaite/orbTOXTr2gSNbQxEj3Ni/OiGzdqIuls86njWsPYmw",
           "name": {
            "de": "Promo Savaitės Top",
            "en": "Promo Savaitės Top",
            "lt": "Promo Savaitės Top",
            "ru": "Promo Savaitės Top"
           },
           "photoUrl": {
            "en": "https://firebasestorage.googleapis.com/v0/b/lastmile-ui/o/import%2Fphotos%2Fconverted%2Fbanner%2FphotoUrl%2FOiGzdqIuls86njWsPYmw_SdQhmtrH5jmkcQ17yag2_UkcA7LGXIGVM1Lhmr8bPFarPtjs2_MQAZTB2fYcQf0O7Dkyt3_en.webp?alt=media&token=5ef10140-f99e-4233-b20b-449de6d50835",
            "lt": "https://firebasestorage.googleapis.com/v0/b/lastmile-ui/o/import%2Fphotos%2Fconverted%2Fbanner%2FphotoUrl%2FOiGzdqIuls86njWsPYmw_SdQhmtrH5jmkcQ17yag2_UkcA7LGXIGVM1Lhmr8bPFarPtjs2_HI5iq2RzEoVihE5Y0t9X_lt.webp?alt=media&token=dd22d4e0-4a83-417a-97a2-3bc11044476e"
           },
           "photoUrlDesktop": {
            "en": "https://firebasestorage.googleapis.com/v0/b/lastmile-ui/o/import%2Fphotos%2Fconverted%2Fbanner%2FphotoUrlDesktop%2FOiGzdqIuls86njWsPYmw_SdQhmtrH5jmkcQ17yag2_UkcA7LGXIGVM1Lhmr8bPFarPtjs2_vFrAsIhO784bffM7Uj8C_en.webp?alt=media&token=4ddc599f-89a6-48e3-bfee-1bbe183d244d",
            "lt": "https://firebasestorage.googleapis.com/v0/b/lastmile-ui/o/import%2Fphotos%2Fconverted%2Fbanner%2FphotoUrlDesktop%2FOiGzdqIuls86njWsPYmw_SdQhmtrH5jmkcQ17yag2_UkcA7LGXIGVM1Lhmr8bPFarPtjs2_UIarvfBa0K3JXXxYnop8_lt.webp?alt=media&token=543bdc88-c1f4-4cb1-82eb-1b58080f8783"
           },
           "productIds": [],
           "rank": 5,
           "showHome": false,
           "showMain": true,
           "slugs": [
            "Promo-Savaites-Top"
           ]
          },
          {
           "bannerIds": [],
           "categoryIds": [],
           "chainIds": [
            "CvKfTzV4TN5U8BTMF1Hl"
           ],
           "cityIds": [
            "JOS2PezGRKgYa4QlqIEU",
            "ToaewVbOunrF5zJlzaud",
            "h1dqAwwzlMLrSrgjcS1S",
            "nDJFEmEMsGgM7nQcgEMN",
            "prqsdr2BADGPZfszFnnB",
            "zzLithuaniaPanevezys",
            "zzxLithuaniaKlaipeda",
            "zzxLithuaniaSiauliai",
            "zzzzLithuaniaPalanga",
            "zzzzzLithuaniaKaunas",
            "zzzzzLithuaniaTrakai"
           ],
           "countryIds": [
            "gCHYvyhpNcKZgcPiDwRV"
           ],
           "dateFrom": "2024-04-22T00:08:00.000Z",
           "dateLastRefresh": "2024-04-22T00:30:03.752Z",
           "dateTo": "2024-04-28T23:00:00.000Z",
           "id": "iIOPpkbLMkHTIIWkM66t",
           "isActive": true,
           "isOver": false,
           "link": "/chain/banner/BcxFgFduiuETVx9GTtsw/BcxFgFduiuETVx9GTtsw/CvKfTzV4TN5U8BTMF1Hl",
           "name": {
            "de": "IKI. Super kaina",
            "en": "IKI. Super kaina",
            "lt": "IKI. Super kaina",
            "ru": "IKI. Super kaina"
           },
           "photoUrl": {
            "en": "https://firebasestorage.googleapis.com/v0/b/lastmile-ui/o/import%2Fphotos%2Fconverted%2Fbanner%2FphotoUrl%2FCvKfTzV4TN5U8BTMF1Hl_iIOPpkbLMkHTIIWkM66t_UkcA7LGXIGVM1Lhmr8bPFarPtjs2_GgXKbR38LwaCRyqXhuTw_en.webp?alt=media&token=99e26ad0-d24a-4af1-b7f3-cd440b8c3a88",
            "lt": "https://firebasestorage.googleapis.com/v0/b/lastmile-ui/o/import%2Fphotos%2Fconverted%2Fbanner%2FphotoUrl%2FCvKfTzV4TN5U8BTMF1Hl_iIOPpkbLMkHTIIWkM66t_UkcA7LGXIGVM1Lhmr8bPFarPtjs2_KZbY2GGjdn3HdEFAJLo2_lt.webp?alt=media&token=694d6c43-5765-4a30-991f-69b3e5ef5703"
           },
           "photoUrlDesktop": {
            "en": "https://firebasestorage.googleapis.com/v0/b/lastmile-ui/o/import%2Fphotos%2Fconverted%2Fbanner%2FphotoUrlDesktop%2FCvKfTzV4TN5U8BTMF1Hl_iIOPpkbLMkHTIIWkM66t_UkcA7LGXIGVM1Lhmr8bPFarPtjs2_GSBOch3eXGDTjh9FChXc_en.webp?alt=media&token=ab57c8f9-1168-4429-8bb4-edcaa43aa532",
            "lt": "https://firebasestorage.googleapis.com/v0/b/lastmile-ui/o/import%2Fphotos%2Fconverted%2Fbanner%2FphotoUrlDesktop%2FCvKfTzV4TN5U8BTMF1Hl_iIOPpkbLMkHTIIWkM66t_UkcA7LGXIGVM1Lhmr8bPFarPtjs2_THrU4noA3kMrmB56N7bN_lt.webp?alt=media&token=0173b850-d92d-414b-bf70-c00f003419eb"
           },
           "productIds": [],
           "rank": 6,
           "showHome": false,
           "showMain": true,
           "slugs": [
            "IKI-Super-kaina"
           ]
          },
          {
           "bannerIds": [],
           "categoryIds": [],
           "chainIds": [
            "CvKfTzV4TN5U8BTMF1Hl"
           ],
           "cityIds": [
            "JOS2PezGRKgYa4QlqIEU",
            "ToaewVbOunrF5zJlzaud",
            "h1dqAwwzlMLrSrgjcS1S",
            "nDJFEmEMsGgM7nQcgEMN",
            "prqsdr2BADGPZfszFnnB",
            "zzLithuaniaPanevezys",
            "zzxLithuaniaKlaipeda",
            "zzxLithuaniaSiauliai",
            "zzzzLithuaniaPalanga",
            "zzzzzLithuaniaKaunas",
            "zzzzzLithuaniaTrakai"
           ],
           "countryIds": [
            "gCHYvyhpNcKZgcPiDwRV"
           ],
           "dateFrom": "2024-04-22T00:08:00.000Z",
           "dateLastRefresh": "2024-04-22T00:30:03.745Z",
           "dateTo": "2024-04-28T23:00:00.000Z",
           "id": "BeEN0TPLPP8KldGvnGss",
           "isActive": true,
           "isOver": false,
           "link": "/chain/banner/ckytvOxXug7iONIcv41L/ckytvOxXug7iONIcv41L/CvKfTzV4TN5U8BTMF1Hl",
           "name": {
            "de": "IKI. Grill Vištiena ar kiauliena",
            "en": "IKI. Vištiena ar kiauliena",
            "lt": "IKI. Grill Vištiena ar kiauliena",
            "ru": "IKI. Grill Vištiena ar kiauliena"
           },
           "photoUrl": {
            "en": "https://firebasestorage.googleapis.com/v0/b/lastmile-ui/o/import%2Fphotos%2Fconverted%2Fbanner%2FphotoUrl%2FCvKfTzV4TN5U8BTMF1Hl_BeEN0TPLPP8KldGvnGss_UkcA7LGXIGVM1Lhmr8bPFarPtjs2_rEG5dAXRaDapC145czLq_en.webp?alt=media&token=be019eaf-374d-4dd3-b8fb-2751f27887b4",
            "lt": "https://firebasestorage.googleapis.com/v0/b/lastmile-ui/o/import%2Fphotos%2Fconverted%2Fbanner%2FphotoUrl%2FCvKfTzV4TN5U8BTMF1Hl_BeEN0TPLPP8KldGvnGss_UkcA7LGXIGVM1Lhmr8bPFarPtjs2_hxrPoQ6b7PVga3wm3sHU_lt.webp?alt=media&token=61ffa16c-8ef4-436d-ba6c-ed493dcd4a69"
           },
           "photoUrlDesktop": {
            "en": "https://firebasestorage.googleapis.com/v0/b/lastmile-ui/o/import%2Fphotos%2Fconverted%2Fbanner%2FphotoUrlDesktop%2FCvKfTzV4TN5U8BTMF1Hl_BeEN0TPLPP8KldGvnGss_UkcA7LGXIGVM1Lhmr8bPFarPtjs2_rAMpgdUCeyMLBKnDSO67_en.webp?alt=media&token=073ddf44-8b6d-4807-b50e-e2737f4db7c3",
            "lt": "https://firebasestorage.googleapis.com/v0/b/lastmile-ui/o/import%2Fphotos%2Fconverted%2Fbanner%2FphotoUrlDesktop%2FCvKfTzV4TN5U8BTMF1Hl_BeEN0TPLPP8KldGvnGss_UkcA7LGXIGVM1Lhmr8bPFarPtjs2_9QH6LpCkPOIZhArTfAnv_lt.webp?alt=media&token=fb998264-4126-4933-9216-27dc8d20c6a2"
           },
           "productIds": [],
           "rank": 10,
           "showHome": false,
           "showMain": true,
           "slugs": [
            "IKI-Grill-Vistiena-ar-kiauliena",
            "IKI-Vistiena-ar-kiauliena"
           ]
          },
          {
           "bannerIds": [],
           "categoryIds": [],
           "chainIds": [
            "OiGzdqIuls86njWsPYmw"
           ],
           "cityIds": [
            "JOS2PezGRKgYa4QlqIEU",
            "ToaewVbOunrF5zJlzaud",
            "h1dqAwwzlMLrSrgjcS1S",
            "nDJFEmEMsGgM7nQcgEMN",
            "prqsdr2BADGPZfszFnnB",
            "zzLithuaniaPanevezys",
            "zzxLithuaniaKlaipeda",
            "zzxLithuaniaSiauliai",
            "zzzzLithuaniaPalanga",
            "zzzzzLithuaniaKaunas",
            "zzzzzLithuaniaTrakai"
           ],
           "countryIds": [
            "gCHYvyhpNcKZgcPiDwRV"
           ],
           "dateFrom": "2024-04-22T00:08:00.000Z",
           "dateLastRefresh": "2024-04-22T00:30:03.747Z",
           "dateTo": "2024-04-28T23:00:00.000Z",
           "id": "GslJ2FrggyeT5E6k3ZNR",
           "isActive": true,
           "isOver": false,
           "link": "/chain/banner/Milka/v5cW1JKKEyhvVb06Svw1/OiGzdqIuls86njWsPYmw",
           "name": {
            "de": "Šokoladams Milka",
            "en": "Šokoladams Milka",
            "lt": "Šokoladams Milka",
            "ru": "Šokoladams Milka"
           },
           "photoUrl": {
            "en": "https://firebasestorage.googleapis.com/v0/b/lastmile-ui/o/import%2Fphotos%2Fconverted%2Fbanner%2FphotoUrl%2FOiGzdqIuls86njWsPYmw_GslJ2FrggyeT5E6k3ZNR_UkcA7LGXIGVM1Lhmr8bPFarPtjs2_KRZY0yWe5hbB9G9bnmIX_en.webp?alt=media&token=0a4fd768-3026-40d8-8947-40d4f4c5e61c",
            "lt": "https://firebasestorage.googleapis.com/v0/b/lastmile-ui/o/import%2Fphotos%2Fconverted%2Fbanner%2FphotoUrl%2FOiGzdqIuls86njWsPYmw_GslJ2FrggyeT5E6k3ZNR_UkcA7LGXIGVM1Lhmr8bPFarPtjs2_nMJZ34OcjYkbJPLbSuBA_lt.webp?alt=media&token=9c525fde-4ca4-46d4-9588-c5b30f301603"
           },
           "photoUrlDesktop": {
            "en": "https://firebasestorage.googleapis.com/v0/b/lastmile-ui/o/import%2Fphotos%2Fconverted%2Fbanner%2FphotoUrlDesktop%2FOiGzdqIuls86njWsPYmw_GslJ2FrggyeT5E6k3ZNR_UkcA7LGXIGVM1Lhmr8bPFarPtjs2_LLIRQcPDUzfFx8wWLrMI_en.webp?alt=media&token=5db09f37-4532-48b2-bf1f-6c8e70359b0a",
            "lt": "https://firebasestorage.googleapis.com/v0/b/lastmile-ui/o/import%2Fphotos%2Fconverted%2Fbanner%2FphotoUrlDesktop%2FOiGzdqIuls86njWsPYmw_GslJ2FrggyeT5E6k3ZNR_UkcA7LGXIGVM1Lhmr8bPFarPtjs2_kgs65FQrPb0fJ1rjsxER_lt.webp?alt=media&token=b41b9a5d-762c-40f0-a5e3-dc8fd39f5f09"
           },
           "productIds": [],
           "rank": 11,
           "showHome": false,
           "showMain": true,
           "slugs": [
            "Sokoladams-Milka"
           ]
          },
          {
           "bannerIds": [],
           "categoryIds": [],
           "chainIds": [
            "CvKfTzV4TN5U8BTMF1Hl"
           ],
           "cityIds": [
            "JOS2PezGRKgYa4QlqIEU",
            "ToaewVbOunrF5zJlzaud",
            "h1dqAwwzlMLrSrgjcS1S",
            "nDJFEmEMsGgM7nQcgEMN",
            "prqsdr2BADGPZfszFnnB",
            "zzLithuaniaPanevezys",
            "zzxLithuaniaKlaipeda",
            "zzxLithuaniaSiauliai",
            "zzzzLithuaniaPalanga",
            "zzzzzLithuaniaKaunas",
            "zzzzzLithuaniaTrakai"
           ],
           "countryIds": [
            "gCHYvyhpNcKZgcPiDwRV"
           ],
           "dateFrom": "2024-04-22T00:08:00.000Z",
           "dateLastRefresh": "2024-04-22T00:30:03.757Z",
           "dateTo": "2024-04-28T23:00:00.000Z",
           "id": "zv1LXDSkgfa9pblaF5x9",
           "isActive": true,
           "isOver": false,
           "link": "/chain/banner/flu41ohsvKwcBufNdyDh/flu41ohsvKwcBufNdyDh/CvKfTzV4TN5U8BTMF1Hl",
           "name": {
            "de": "IKI. Švaros fiesta",
            "en": "IKI. Švaros fiesta",
            "lt": "IKI. Švaros fiesta",
            "ru": "IKI. Švaros fiesta"
           },
           "photoUrl": {
            "en": "https://firebasestorage.googleapis.com/v0/b/lastmile-ui/o/import%2Fphotos%2Fconverted%2Fbanner%2FphotoUrl%2FCvKfTzV4TN5U8BTMF1Hl_zv1LXDSkgfa9pblaF5x9_UkcA7LGXIGVM1Lhmr8bPFarPtjs2_3wuGQkGCFy1kXsmPlfb5_en.webp?alt=media&token=a94b5c62-4849-4725-9d2d-0d71335ffe7c",
            "lt": "https://firebasestorage.googleapis.com/v0/b/lastmile-ui/o/import%2Fphotos%2Fconverted%2Fbanner%2FphotoUrl%2FCvKfTzV4TN5U8BTMF1Hl_zv1LXDSkgfa9pblaF5x9_UkcA7LGXIGVM1Lhmr8bPFarPtjs2_CJtZIUPD8s82MEtSGakX_lt.webp?alt=media&token=3a28cddb-28a3-4ea0-9e32-18fd2836a8c7"
           },
           "photoUrlDesktop": {
            "en": "https://firebasestorage.googleapis.com/v0/b/lastmile-ui/o/import%2Fphotos%2Fconverted%2Fbanner%2FphotoUrlDesktop%2FCvKfTzV4TN5U8BTMF1Hl_zv1LXDSkgfa9pblaF5x9_UkcA7LGXIGVM1Lhmr8bPFarPtjs2_FpfKz6SPYJfGfdANIol4_en.webp?alt=media&token=05acbfe7-50ec-4fd5-be53-fe2b5683ef0a",
            "lt": "https://firebasestorage.googleapis.com/v0/b/lastmile-ui/o/import%2Fphotos%2Fconverted%2Fbanner%2FphotoUrlDesktop%2FCvKfTzV4TN5U8BTMF1Hl_zv1LXDSkgfa9pblaF5x9_UkcA7LGXIGVM1Lhmr8bPFarPtjs2_Vf6z5FDf5VjQfs606plk_lt.webp?alt=media&token=4629eeae-e83e-4e0d-a51b-9260edace336"
           },
           "productIds": [],
           "rank": 12,
           "showHome": false,
           "showMain": true,
           "slugs": [
            "IKI-Svaros-fiesta"
           ]
          },
          {
           "bannerIds": [],
           "categoryIds": [],
           "chainIds": [
            "CvKfTzV4TN5U8BTMF1Hl"
           ],
           "cityIds": [
            "JOS2PezGRKgYa4QlqIEU",
            "ToaewVbOunrF5zJlzaud",
            "h1dqAwwzlMLrSrgjcS1S",
            "nDJFEmEMsGgM7nQcgEMN",
            "prqsdr2BADGPZfszFnnB",
            "zzLithuaniaPanevezys",
            "zzxLithuaniaKlaipeda",
            "zzxLithuaniaSiauliai",
            "zzzzLithuaniaPalanga",
            "zzzzzLithuaniaKaunas",
            "zzzzzLithuaniaTrakai"
           ],
           "countryIds": [
            "gCHYvyhpNcKZgcPiDwRV"
           ],
           "dateFrom": "2024-04-23T09:08:00.000Z",
           "dateLastRefresh": "2024-04-23T06:56:27.319Z",
           "dateTo": "2024-04-28T23:00:00.000Z",
           "id": "3qoOo5Z1u04JkEfIBcKn",
           "isActive": true,
           "isOver": false,
           "link": "/chain/banner/MxKesr5bkGGSCfbUzDJm/MxKesr5bkGGSCfbUzDJm/CvKfTzV4TN5U8BTMF1Hl",
           "name": {
            "de": "IKI. Užkandis \"Takis\"",
            "en": "IKI. Užkandis \"Takis\"",
            "lt": "IKI. Užkandis \"Takis\"",
            "ru": "IKI. Užkandis \"Takis\""
           },
           "photoUrl": {
            "en": "https://firebasestorage.googleapis.com/v0/b/lastmile-ui/o/import%2Fphotos%2Fconverted%2Fbanner%2FphotoUrl%2FCvKfTzV4TN5U8BTMF1Hl_3qoOo5Z1u04JkEfIBcKn_UkcA7LGXIGVM1Lhmr8bPFarPtjs2_xcyaGYqXbPHFcvLutTsw_en.webp?alt=media&token=0982601f-6ac2-427e-adfb-2efcc2e71efc"
           },
           "photoUrlDesktop": {
            "en": "https://firebasestorage.googleapis.com/v0/b/lastmile-ui/o/import%2Fphotos%2Fconverted%2Fbanner%2FphotoUrlDesktop%2FCvKfTzV4TN5U8BTMF1Hl_3qoOo5Z1u04JkEfIBcKn_UkcA7LGXIGVM1Lhmr8bPFarPtjs2_JLMekL0xDbsyP5Fj81S0_en.webp?alt=media&token=f7f08df2-a6f9-4742-a32d-e556b6f6c0c9",
            "lt": "https://firebasestorage.googleapis.com/v0/b/lastmile-ui/o/import%2Fphotos%2Fconverted%2Fbanner%2FphotoUrlDesktop%2FCvKfTzV4TN5U8BTMF1Hl_3qoOo5Z1u04JkEfIBcKn_UkcA7LGXIGVM1Lhmr8bPFarPtjs2_KGHlozHtEuHkIs1tBLQr_lt.webp?alt=media&token=4564e800-1316-478a-beac-5fa6e7cc3033"
           },
           "productIds": [],
           "rank": 13,
           "showHome": false,
           "showMain": true,
           "slugs": [
            "IKI-Uzkandis-Takis"
           ]
          },
          {
           "bannerIds": [],
           "categoryIds": [],
           "chainIds": [
            "OiGzdqIuls86njWsPYmw"
           ],
           "cityIds": [
            "JOS2PezGRKgYa4QlqIEU",
            "ToaewVbOunrF5zJlzaud",
            "h1dqAwwzlMLrSrgjcS1S",
            "nDJFEmEMsGgM7nQcgEMN",
            "prqsdr2BADGPZfszFnnB",
            "zzLithuaniaPanevezys",
            "zzxLithuaniaKlaipeda",
            "zzxLithuaniaSiauliai",
            "zzzzLithuaniaPalanga",
            "zzzzzLithuaniaKaunas",
            "zzzzzLithuaniaTrakai"
           ],
           "countryIds": [
            "gCHYvyhpNcKZgcPiDwRV"
           ],
           "dateFrom": "2024-04-22T00:08:00.000Z",
           "dateLastRefresh": "2024-04-22T06:35:35.905Z",
           "dateTo": "2024-04-28T23:00:00.000Z",
           "id": "tMjCmyfWNPPQrNrei5VZ",
           "isActive": true,
           "isOver": false,
           "link": "/chain/banner/Suriai/LY7tFxAEkroc3nqgBMwr/OiGzdqIuls86njWsPYmw",
           "name": {
            "de": "Sūrio gurmanams -30%",
            "en": "Sūrio gurmanams -30%",
            "lt": "Sūrio gurmanams -30%",
            "ru": "Sūrio gurmanams -30%"
           },
           "photoUrl": {
            "de": "https://firebasestorage.googleapis.com/v0/b/lastmile-ui/o/import%2Fphotos%2Fconverted%2Fbanner%2FphotoUrl%2FOiGzdqIuls86njWsPYmw_tMjCmyfWNPPQrNrei5VZ_UkcA7LGXIGVM1Lhmr8bPFarPtjs2_rWYBpVgHfW5YFCEG9cwX_lt.webp?alt=media&token=ab62f911-f966-41de-8bc6-a578a8f60f4f",
            "en": "https://firebasestorage.googleapis.com/v0/b/lastmile-ui/o/import%2Fphotos%2Fconverted%2Fbanner%2FphotoUrl%2FOiGzdqIuls86njWsPYmw_tMjCmyfWNPPQrNrei5VZ_UkcA7LGXIGVM1Lhmr8bPFarPtjs2_wYAClRODkYuEk5joIAlC_en.webp?alt=media&token=da4c3dff-fe38-45e8-a5d2-0791c45ea7e3",
            "lt": "https://firebasestorage.googleapis.com/v0/b/lastmile-ui/o/import%2Fphotos%2Fconverted%2Fbanner%2FphotoUrl%2FOiGzdqIuls86njWsPYmw_tMjCmyfWNPPQrNrei5VZ_UkcA7LGXIGVM1Lhmr8bPFarPtjs2_x2OZ0dxd95p1tbsvjdDB_lt.webp?alt=media&token=30fe367d-e9d0-46e3-92f0-4a34970f358e",
            "ru": "https://firebasestorage.googleapis.com/v0/b/lastmile-ui/o/import%2Fphotos%2Fconverted%2Fbanner%2FphotoUrl%2FOiGzdqIuls86njWsPYmw_tMjCmyfWNPPQrNrei5VZ_UkcA7LGXIGVM1Lhmr8bPFarPtjs2_rWYBpVgHfW5YFCEG9cwX_lt.webp?alt=media&token=ab62f911-f966-41de-8bc6-a578a8f60f4f"
           },
           "photoUrlDesktop": {
            "de": "https://firebasestorage.googleapis.com/v0/b/lastmile-ui/o/import%2Fphotos%2Fconverted%2Fbanner%2FphotoUrlDesktop%2FOiGzdqIuls86njWsPYmw_tMjCmyfWNPPQrNrei5VZ_UkcA7LGXIGVM1Lhmr8bPFarPtjs2_wN41UhX2ljRWGnNv5cNA_lt.webp?alt=media&token=ce89d85d-1214-43c2-bb2a-67cb2ee4303d",
            "en": "https://firebasestorage.googleapis.com/v0/b/lastmile-ui/o/import%2Fphotos%2Fconverted%2Fbanner%2FphotoUrlDesktop%2FOiGzdqIuls86njWsPYmw_tMjCmyfWNPPQrNrei5VZ_UkcA7LGXIGVM1Lhmr8bPFarPtjs2_kDn0OsG6ixlmCsdaQxxB_en.webp?alt=media&token=bff1de0f-d9df-42d4-998f-df7c01d0f29f",
            "lt": "https://firebasestorage.googleapis.com/v0/b/lastmile-ui/o/import%2Fphotos%2Fconverted%2Fbanner%2FphotoUrlDesktop%2FOiGzdqIuls86njWsPYmw_tMjCmyfWNPPQrNrei5VZ_UkcA7LGXIGVM1Lhmr8bPFarPtjs2_CR1iacBlPM8t41W9Q4Un_lt.webp?alt=media&token=8e815f9a-4fb1-4380-8204-e77386684b8a",
            "ru": "https://firebasestorage.googleapis.com/v0/b/lastmile-ui/o/import%2Fphotos%2Fconverted%2Fbanner%2FphotoUrlDesktop%2FOiGzdqIuls86njWsPYmw_tMjCmyfWNPPQrNrei5VZ_UkcA7LGXIGVM1Lhmr8bPFarPtjs2_wN41UhX2ljRWGnNv5cNA_lt.webp?alt=media&token=ce89d85d-1214-43c2-bb2a-67cb2ee4303d"
           },
           "productIds": [],
           "rank": 14,
           "showHome": false,
           "showMain": true,
           "slugs": [
            "Surio-gurmanams-30percent"
           ]
          },
          {
           "bannerIds": [],
           "categoryIds": [],
           "chainIds": [
            "CvKfTzV4TN5U8BTMF1Hl"
           ],
           "cityIds": [
            "JOS2PezGRKgYa4QlqIEU",
            "ToaewVbOunrF5zJlzaud",
            "h1dqAwwzlMLrSrgjcS1S",
            "nDJFEmEMsGgM7nQcgEMN",
            "prqsdr2BADGPZfszFnnB",
            "zzLithuaniaPanevezys",
            "zzxLithuaniaKlaipeda",
            "zzxLithuaniaSiauliai",
            "zzzzLithuaniaPalanga",
            "zzzzzLithuaniaKaunas",
            "zzzzzLithuaniaTrakai"
           ],
           "countryIds": [
            "gCHYvyhpNcKZgcPiDwRV"
           ],
           "dateFrom": "2024-04-22T00:08:00.000Z",
           "dateLastRefresh": "2024-04-22T00:30:03.739Z",
           "dateTo": "2024-04-28T23:00:00.000Z",
           "id": "1r5z4qQE6jDpxKXTyezv",
           "isActive": true,
           "isOver": false,
           "link": "/chain/banner/XW11mDe7WfdlWi4kWj9X/XW11mDe7WfdlWi4kWj9X/CvKfTzV4TN5U8BTMF1Hl",
           "name": {
            "de": "IKI. Red Bull iki 05.05",
            "en": "IKI. Red Bull  iki 05.05",
            "lt": "IKI. Red Bull iki 05.05",
            "ru": "IKI. Red Bull iki 05.05"
           },
           "photoUrl": {
            "en": "https://firebasestorage.googleapis.com/v0/b/lastmile-ui/o/import%2Fphotos%2Fconverted%2Fbanner%2FphotoUrl%2FCvKfTzV4TN5U8BTMF1Hl_1r5z4qQE6jDpxKXTyezv_UkcA7LGXIGVM1Lhmr8bPFarPtjs2_Dq8bTZKwodxbUplsGkFi_en.webp?alt=media&token=146c5a61-c8a7-4be9-b688-c172e40465ba",
            "lt": "https://firebasestorage.googleapis.com/v0/b/lastmile-ui/o/import%2Fphotos%2Fconverted%2Fbanner%2FphotoUrl%2FCvKfTzV4TN5U8BTMF1Hl_1r5z4qQE6jDpxKXTyezv_UkcA7LGXIGVM1Lhmr8bPFarPtjs2_bcrmfmPJ7qQvClJgGUVO_lt.webp?alt=media&token=41cffb07-3946-4ba3-8a98-ce0ba2a227b1"
           },
           "photoUrlDesktop": {
            "en": "https://firebasestorage.googleapis.com/v0/b/lastmile-ui/o/import%2Fphotos%2Fconverted%2Fbanner%2FphotoUrlDesktop%2FCvKfTzV4TN5U8BTMF1Hl_1r5z4qQE6jDpxKXTyezv_UkcA7LGXIGVM1Lhmr8bPFarPtjs2_F0pqCetq5qnt1uq6bmIb_en.webp?alt=media&token=5f02054a-212a-45f3-82d8-090a3271afc6",
            "lt": "https://firebasestorage.googleapis.com/v0/b/lastmile-ui/o/import%2Fphotos%2Fconverted%2Fbanner%2FphotoUrlDesktop%2FCvKfTzV4TN5U8BTMF1Hl_1r5z4qQE6jDpxKXTyezv_UkcA7LGXIGVM1Lhmr8bPFarPtjs2_XmADE3RCWwPQpBs1vsuS_lt.webp?alt=media&token=4ce0d212-ae98-465a-855b-a2431813fe16"
           },
           "productIds": [],
           "rank": 15,
           "showHome": false,
           "showMain": true,
           "slugs": [
            "IKI-Red-Bull-iki-0505"
           ]
          },
          {
           "bannerIds": [],
           "categoryIds": [],
           "chainIds": [
            "OiGzdqIuls86njWsPYmw"
           ],
           "cityIds": [
            "JOS2PezGRKgYa4QlqIEU",
            "ToaewVbOunrF5zJlzaud",
            "h1dqAwwzlMLrSrgjcS1S",
            "nDJFEmEMsGgM7nQcgEMN",
            "prqsdr2BADGPZfszFnnB",
            "zzLithuaniaPanevezys",
            "zzxLithuaniaKlaipeda",
            "zzxLithuaniaSiauliai",
            "zzzzLithuaniaPalanga",
            "zzzzzLithuaniaKaunas",
            "zzzzzLithuaniaTrakai"
           ],
           "countryIds": [
            "gCHYvyhpNcKZgcPiDwRV"
           ],
           "dateFrom": "2024-04-22T00:08:00.000Z",
           "dateLastRefresh": "2024-04-22T00:30:03.752Z",
           "dateTo": "2024-05-01T23:00:00.000Z",
           "id": "awiI1O3XkUuIhBY2pRtd",
           "isActive": true,
           "isOver": false,
           "link": "/chain/category/VAGA/Akcijos",
           "name": {
            "de": "Vaga. Knygos nuo 1 eur iki 05.01",
            "en": "Vaga. Knygos nuo 1 eur iki 05.01",
            "lt": "Vaga. Knygos nuo 1 eur iki 05.01",
            "ru": "Vaga. Knygos nuo 1 eur iki 05.01"
           },
           "photoUrl": {
            "en": "https://firebasestorage.googleapis.com/v0/b/lastmile-ui/o/import%2Fphotos%2Fconverted%2Fbanner%2FphotoUrl%2FOiGzdqIuls86njWsPYmw_awiI1O3XkUuIhBY2pRtd_UkcA7LGXIGVM1Lhmr8bPFarPtjs2_vJeaCPQllOsALJcfAmuI_en.webp?alt=media&token=6e1d8678-b20c-4ff0-80eb-009685e0cf22",
            "lt": "https://firebasestorage.googleapis.com/v0/b/lastmile-ui/o/import%2Fphotos%2Fconverted%2Fbanner%2FphotoUrl%2FOiGzdqIuls86njWsPYmw_awiI1O3XkUuIhBY2pRtd_UkcA7LGXIGVM1Lhmr8bPFarPtjs2_3XTdWghMEyCNeYjzLFo8_lt.webp?alt=media&token=89efb637-f631-4ac2-b230-029a192c04f1"
           },
           "photoUrlDesktop": {
            "en": "https://firebasestorage.googleapis.com/v0/b/lastmile-ui/o/import%2Fphotos%2Fconverted%2Fbanner%2FphotoUrlDesktop%2FOiGzdqIuls86njWsPYmw_awiI1O3XkUuIhBY2pRtd_UkcA7LGXIGVM1Lhmr8bPFarPtjs2_KENWPPaokIw6Nn6PBQhj_en.webp?alt=media&token=571e8d8e-a6fe-41ab-9520-ff3159808630",
            "lt": "https://firebasestorage.googleapis.com/v0/b/lastmile-ui/o/import%2Fphotos%2Fconverted%2Fbanner%2FphotoUrlDesktop%2FOiGzdqIuls86njWsPYmw_awiI1O3XkUuIhBY2pRtd_UkcA7LGXIGVM1Lhmr8bPFarPtjs2_I6erQoqWv3rLD9ZR82tV_lt.webp?alt=media&token=d8f63dc2-52ff-4192-9db7-551cbfd9a8cc"
           },
           "productIds": [],
           "rank": 16,
           "showHome": false,
           "showMain": true,
           "slugs": [
            "Vaga-Knygos-nuo-1-eur-iki-0501"
           ]
          },
          {
           "bannerIds": [],
           "categoryIds": [],
           "chainIds": [
            "CvKfTzV4TN5U8BTMF1Hl"
           ],
           "cityIds": [
            "JOS2PezGRKgYa4QlqIEU",
            "ToaewVbOunrF5zJlzaud",
            "h1dqAwwzlMLrSrgjcS1S",
            "nDJFEmEMsGgM7nQcgEMN",
            "prqsdr2BADGPZfszFnnB",
            "zzLithuaniaPanevezys",
            "zzxLithuaniaKlaipeda",
            "zzxLithuaniaSiauliai",
            "zzzzLithuaniaPalanga",
            "zzzzzLithuaniaKaunas",
            "zzzzzLithuaniaTrakai"
           ],
           "countryIds": [
            "gCHYvyhpNcKZgcPiDwRV"
           ],
           "dateFrom": "2024-04-22T00:08:00.000Z",
           "dateLastRefresh": "2024-04-22T00:30:03.754Z",
           "dateTo": "2024-05-30T23:00:00.000Z",
           "id": "pAkYLSZnBvGLKgQfO5Vv",
           "isActive": true,
           "isOver": false,
           "link": "https://lastmile.lt/information/atsiemimas-parduotuveje-nuolaida",
           "name": {
            "de": "IKI. Click and collect iki 05.30",
            "en": "IKI. Click and collect iki 05.30",
            "lt": "IKI. Click and collect iki 05.30",
            "ru": "IKI. Click and collect iki 05.30"
           },
           "photoUrl": {
            "en": "https://firebasestorage.googleapis.com/v0/b/lastmile-ui/o/import%2Fphotos%2Fconverted%2Fbanner%2FphotoUrl%2FCvKfTzV4TN5U8BTMF1Hl_pAkYLSZnBvGLKgQfO5Vv_UkcA7LGXIGVM1Lhmr8bPFarPtjs2_7valUjzjF1hMsblUb77Y_en.webp?alt=media&token=412e278d-5c1b-4a32-a523-7ee16e4a072f",
            "lt": "https://firebasestorage.googleapis.com/v0/b/lastmile-ui/o/import%2Fphotos%2Fconverted%2Fbanner%2FphotoUrl%2FCvKfTzV4TN5U8BTMF1Hl_pAkYLSZnBvGLKgQfO5Vv_UkcA7LGXIGVM1Lhmr8bPFarPtjs2_jB4Hx4vZWsOTXpNgFG4s_lt.webp?alt=media&token=481f89bd-68dc-4f04-939a-456cfb575998"
           },
           "photoUrlDesktop": {
            "en": "https://firebasestorage.googleapis.com/v0/b/lastmile-ui/o/import%2Fphotos%2Fconverted%2Fbanner%2FphotoUrlDesktop%2FCvKfTzV4TN5U8BTMF1Hl_pAkYLSZnBvGLKgQfO5Vv_UkcA7LGXIGVM1Lhmr8bPFarPtjs2_nDL8peKTonvHza74uVkl_en.webp?alt=media&token=db95e9f1-30af-40f6-a745-53a1fdd09d96",
            "lt": "https://firebasestorage.googleapis.com/v0/b/lastmile-ui/o/import%2Fphotos%2Fconverted%2Fbanner%2FphotoUrlDesktop%2FCvKfTzV4TN5U8BTMF1Hl_pAkYLSZnBvGLKgQfO5Vv_UkcA7LGXIGVM1Lhmr8bPFarPtjs2_ILBGAtA5FRzqIkEQxGRU_lt.webp?alt=media&token=455acdaa-c106-46cf-8b05-5e88eef3c80f"
           },
           "productIds": [],
           "rank": 16,
           "showHome": false,
           "showMain": true,
           "slugs": [
            "IKI-Click-and-collect-iki-0530"
           ]
          },
          {
           "bannerIds": [],
           "categoryIds": [],
           "chainIds": [
            "OiGzdqIuls86njWsPYmw"
           ],
           "cityIds": [
            "JOS2PezGRKgYa4QlqIEU",
            "ToaewVbOunrF5zJlzaud",
            "h1dqAwwzlMLrSrgjcS1S",
            "nDJFEmEMsGgM7nQcgEMN",
            "prqsdr2BADGPZfszFnnB",
            "zzLithuaniaPanevezys",
            "zzxLithuaniaKlaipeda",
            "zzxLithuaniaSiauliai",
            "zzzzLithuaniaPalanga",
            "zzzzzLithuaniaKaunas",
            "zzzzzLithuaniaTrakai"
           ],
           "countryIds": [
            "gCHYvyhpNcKZgcPiDwRV"
           ],
           "dateFrom": "2024-04-22T00:08:00.000Z",
           "dateLastRefresh": "2024-04-22T00:30:03.742Z",
           "dateTo": "2024-05-31T23:00:00.000Z",
           "id": "5hzW5QMsSXTXTPJMl6yK",
           "isActive": true,
           "isOver": false,
           "link": "/chain/banner/OD6dpkTCImHznXSiRdNh/OD6dpkTCImHznXSiRdNh/qBH49gh6GlaUM4SJJhgS",
           "name": {
            "de": "Osom",
            "en": "Osom",
            "lt": "Osom",
            "ru": "Osom"
           },
           "photoUrl": {
            "en": "https://firebasestorage.googleapis.com/v0/b/lastmile-ui/o/import%2Fphotos%2Fconverted%2Fbanner%2FphotoUrl%2FOiGzdqIuls86njWsPYmw_5hzW5QMsSXTXTPJMl6yK_UkcA7LGXIGVM1Lhmr8bPFarPtjs2_bEsA6jhlGGwqbT9MavEF_en.webp?alt=media&token=c98d4ae9-5942-4810-9b22-da1da9332143",
            "lt": "https://firebasestorage.googleapis.com/v0/b/lastmile-ui/o/import%2Fphotos%2Fconverted%2Fbanner%2FphotoUrl%2FOiGzdqIuls86njWsPYmw_5hzW5QMsSXTXTPJMl6yK_UkcA7LGXIGVM1Lhmr8bPFarPtjs2_gjEcqz8QcxJBoK4IMJxb_lt.webp?alt=media&token=47f644e0-0838-4ff6-954c-31f3b198657c"
           },
           "photoUrlDesktop": {
            "en": "https://firebasestorage.googleapis.com/v0/b/lastmile-ui/o/import%2Fphotos%2Fconverted%2Fbanner%2FphotoUrlDesktop%2FOiGzdqIuls86njWsPYmw_5hzW5QMsSXTXTPJMl6yK_UkcA7LGXIGVM1Lhmr8bPFarPtjs2_2e3JwzaiAOsnVCThi90w_en.webp?alt=media&token=ecc4303d-c85a-486b-b2c0-41332d0b11da",
            "lt": "https://firebasestorage.googleapis.com/v0/b/lastmile-ui/o/import%2Fphotos%2Fconverted%2Fbanner%2FphotoUrlDesktop%2FOiGzdqIuls86njWsPYmw_5hzW5QMsSXTXTPJMl6yK_UkcA7LGXIGVM1Lhmr8bPFarPtjs2_bH3p7YGwoXamE1r42BMJ_lt.webp?alt=media&token=1ecf8f96-7d8b-49a4-9a4d-680413524bf3"
           },
           "productIds": [],
           "rank": 17,
           "showHome": false,
           "showMain": true,
           "slugs": [
            "Osom"
           ]
          }
         ],
         "categories": [
          {
           "icon": "https://storage.googleapis.com/lastmile-ui/images/icons/NEW%20category%20tree%20icons/Akcijos.svg",
           "id": "00sales",
           "name": {
            "de": "Sonderangebote",
            "en": "Promotions",
            "lt": "Akcijos",
            "ru": "Акции"
           },
           "parentId": "00home",
           "rank": 0,
           "subcategories": []
          },
          {
           "icon": "https://storage.googleapis.com/lastmile-ui/images/icons/NEW%20category%20tree%20icons/Tavo%20produktai.svg",
           "id": "00frequentlyboughtproducts",
           "name": {
            "de": "Deine Produkte",
            "en": "Your Products",
            "lt": "Tavo produktai",
            "ru": "Твои продукты"
           },
           "parentId": "00home",
           "rank": 1,
           "subcategories": []
          },
          {
           "icon": "https://storage.googleapis.com/lastmile-ui/images/icons/NEW%20category%20tree%20icons/1%2B1.svg",
           "id": "Y5C805FzmW137oeYY1to",
           "name": {
            "de": "1+1 Pasiūlymai",
            "en": "1+1 Offers",
            "lt": "1+1 Pasiūlymai",
            "ru": "1+1 Pasiūlymai"
           },
           "parentId": "0",
           "rank": 2,
           "subcategories": [
            {
             "icon": "",
             "id": "fAh2docYiH9UX5MgmSE7",
             "name": {
              "de": "1+1",
              "en": "1+1",
              "lt": "1+1",
              "ru": "1+1"
             },
             "parentId": "Y5C805FzmW137oeYY1to",
             "rank": 11,
             "subcategories": []
            }
           ]
          },
          {
           "icon": "https://storage.googleapis.com/lastmile-ui/images/icons/NEW%20category%20tree%20icons/Specialu%CC%84s%20pasiu%CC%84lymai.svg",
           "id": "X94ufuUOO5rjmHh8n3gH",
           "name": {
            "de": "Special offers",
            "en": "Special offers",
            "lt": "Specialūs pasiūlymai",
            "ru": "Special offers"
           },
           "parentId": "0",
           "rank": 3,
           "subcategories": [
            {
             "icon": "",
             "id": "yAHwNJEppUmznAqK1WaG",
             "name": {
              "de": "Special offers for home",
              "en": "Special offers for home",
              "lt": "Pasiūlymai namams",
              "ru": "Special offers for home"
             },
             "parentId": "X94ufuUOO5rjmHh8n3gH",
             "rank": 11,
             "subcategories": []
            }
           ]
          },
          {
           "icon": "https://storage.googleapis.com/lastmile-ui/images/icons/Naujiena%20(2).svg",
           "id": "00latest",
           "name": {
            "de": "Neuheiten",
            "en": "New",
            "lt": "Naujienos",
            "ru": "Последний"
           },
           "parentId": "00home",
           "rank": 5,
           "subcategories": []
          },
          {
           "icon": "https://storage.googleapis.com/lastmile-ui/images/icons/NEW%20category%20tree%20icons/Me%CC%87gstamiausi.svg",
           "id": "00favorites",
           "name": {
            "de": "Favoriten",
            "en": "Favorites",
            "lt": "Mėgstamiausi",
            "ru": "Избранное"
           },
           "parentId": "00home",
           "rank": 6,
           "subcategories": []
          },
          {
           "icon": "https://storage.googleapis.com/lastmile-ui/images/icons/NEW%20category%20tree%20icons/Vaisiai%20ir%20darz%CC%8Cove%CC%87s.svg",
           "id": "Fjr0PdY3SpHbc2GKm9Cd",
           "name": {
            "de": "Obst und Gemüse",
            "en": "Fruits and vegetables",
            "lt": "Vaisiai ir daržovės",
            "ru": "Фрукты и овощи"
           },
           "parentId": "0",
           "rank": 12,
           "subcategories": [
            {
             "icon": "",
             "id": "iSYTdWjFGh5YWglqphtj",
             "name": {
              "de": "Obst",
              "en": "Fruits",
              "lt": "Vaisiai",
              "ru": "Фрукты"
             },
             "parentId": "Fjr0PdY3SpHbc2GKm9Cd",
             "rank": 12,
             "subcategories": []
            },
            {
             "icon": "",
             "id": "R9SDZX71J0Qapuvm1Lgp",
             "name": {
              "de": "Gemüse",
              "en": "Vegetables",
              "lt": "Daržovės",
              "ru": "Овощи"
             },
             "parentId": "Fjr0PdY3SpHbc2GKm9Cd",
             "rank": 13,
             "subcategories": []
            },
            {
             "icon": "",
             "id": "TyLpkJrj4VvzdZTgry59",
             "name": {
              "de": "Beeren",
              "en": "Berries",
              "lt": "Uogos",
              "ru": "Ягоды"
             },
             "parentId": "Fjr0PdY3SpHbc2GKm9Cd",
             "rank": 14,
             "subcategories": []
            },
            {
             "icon": "",
             "id": "VX72LbxC8cV0A1Kh40k6",
             "name": {
              "de": "Pilze",
              "en": "Mushrooms",
              "lt": "Grybai",
              "ru": "Грибы"
             },
             "parentId": "Fjr0PdY3SpHbc2GKm9Cd",
             "rank": 15,
             "subcategories": []
            }
           ]
          },
          {
           "icon": "https://storage.googleapis.com/lastmile-ui/images/icons/NEW%20category%20tree%20icons/Pieno%20produktai.svg",
           "id": "a9SEJfba4SNgSbGMycL5",
           "name": {
            "de": "Milchprodukte und Eier",
            "en": "Dairy products and eggs",
            "lt": "Pieno produktai ir kiaušiniai",
            "ru": "Молочные продукты и яйца"
           },
           "parentId": "0",
           "rank": 13,
           "subcategories": [
            {
             "icon": "",
             "id": "B7UTvIzcguAYSjSplM0z",
             "name": {
              "de": "Milch",
              "en": "Milk",
              "lt": "Pienas",
              "ru": "Молоко"
             },
             "parentId": "a9SEJfba4SNgSbGMycL5",
             "rank": 12,
             "subcategories": []
            },
            {
             "icon": "",
             "id": "lGecTHdAhyAnZCQCuwhh",
             "name": {
              "de": "Butter, Margarine und Fette",
              "en": "Butter, margarine and fats",
              "lt": "Sviestas, margarinas ir riebalai",
              "ru": "Сливочное масло, маргарин и жиры"
             },
             "parentId": "a9SEJfba4SNgSbGMycL5",
             "rank": 13,
             "subcategories": []
            },
            {
             "icon": "",
             "id": "CdWuu4uUCdxn6AIe4gqc",
             "name": {
              "de": "Käse",
              "en": "Cheese",
              "lt": "Sūris",
              "ru": "Сыр"
             },
             "parentId": "a9SEJfba4SNgSbGMycL5",
             "rank": 14,
             "subcategories": []
            },
            {
             "icon": "",
             "id": "NQUhVepop3OtR9njG12K",
             "name": {
              "de": "Saure Sahne",
              "en": "Sour cream",
              "lt": "Grietinė",
              "ru": "Сметана"
             },
             "parentId": "a9SEJfba4SNgSbGMycL5",
             "rank": 15,
             "subcategories": []
            },
            {
             "icon": "",
             "id": "TVQZUpgOyoRgF6QtXRHA",
             "name": {
              "de": "Quarkprodukte",
              "en": "Curd products",
              "lt": "Varškės produktai",
              "ru": "Творожные продукты"
             },
             "parentId": "a9SEJfba4SNgSbGMycL5",
             "rank": 17,
             "subcategories": []
            },
            {
             "icon": "",
             "id": "HLIolFbqYNRWg80KJDQq",
             "name": {
              "de": "Kefir, Sauermilch und Buttermilch",
              "en": "Kefir, sour milk and buttermilk",
              "lt": "Kefyras, rūgpienis ir pasukos",
              "ru": "Кефир, простокваша и пахта"
             },
             "parentId": "a9SEJfba4SNgSbGMycL5",
             "rank": 18,
             "subcategories": []
            },
            {
             "icon": "",
             "id": "feVWq0PcvnwNwZnSBycA",
             "name": {
              "de": "Joghurts",
              "en": "Yogurts",
              "lt": "Jogurtai",
              "ru": "Йогурты"
             },
             "parentId": "a9SEJfba4SNgSbGMycL5",
             "rank": 19,
             "subcategories": []
            },
            {
             "icon": "",
             "id": "JGMOQONuXr63w9SFUIWQ",
             "name": {
              "de": "Eier",
              "en": "Eggs",
              "lt": "Kiaušiniai",
              "ru": "Яйца"
             },
             "parentId": "a9SEJfba4SNgSbGMycL5",
             "rank": 20,
             "subcategories": []
            },
            {
             "icon": "",
             "id": "r7HtE8CjVMu3zGC8yqby",
             "name": {
              "de": "Mayonnaise",
              "en": "Mayonnaise",
              "lt": "Majonezas",
              "ru": "Майонез"
             },
             "parentId": "a9SEJfba4SNgSbGMycL5",
             "rank": 21,
             "subcategories": []
            }
           ]
          },
          {
           "icon": "https://storage.googleapis.com/lastmile-ui/images/icons/NEW%20category%20tree%20icons/Duonos%20gaminiai%20ir%20konditerija.svg",
           "id": "wIuggN5AnmDIBozs6eUA",
           "name": {
            "de": "Brot- und Konditoreiwaren",
            "en": "Bread products and confectionery",
            "lt": "Duonos gaminiai ir konditerija",
            "ru": "Хлебобулочные и кондитерские изделия"
           },
           "parentId": "0",
           "rank": 14,
           "subcategories": [
            {
             "icon": "",
             "id": "DLoQF9DWugzS6QDi9Iqn",
             "name": {
              "de": "Frisch gebackene Broterzeugnisse",
              "en": "Fresh baked bread products",
              "lt": "Šviežiai kepti duonos gaminiai",
              "ru": "Свежевыпеченные хлебобулочные изделия"
             },
             "parentId": "wIuggN5AnmDIBozs6eUA",
             "rank": 12,
             "subcategories": []
            },
            {
             "icon": "",
             "id": "FtgjCgmmcpD8W7bFn94C",
             "name": {
              "de": "Brot",
              "en": "Bread",
              "lt": "Duona",
              "ru": "Хлеб"
             },
             "parentId": "wIuggN5AnmDIBozs6eUA",
             "rank": 13,
             "subcategories": []
            },
            {
             "icon": "",
             "id": "CXmRw5Eqxzb8RvbLiRZE",
             "name": {
              "de": "Stangenbrot",
              "en": "Baton",
              "lt": "Batonas",
              "ru": "Батон"
             },
             "parentId": "wIuggN5AnmDIBozs6eUA",
             "rank": 14,
             "subcategories": []
            },
            {
             "icon": "",
             "id": "GzdonUwqd5iAXyISiSNu",
             "name": {
              "de": "Brotersatzprodukte",
              "en": "Bread substitutes",
              "lt": "Duonos pakaitalai",
              "ru": "Заменители хлеба"
             },
             "parentId": "wIuggN5AnmDIBozs6eUA",
             "rank": 15,
             "subcategories": []
            },
            {
             "icon": "",
             "id": "ex8Rhx6CSf091zVMlfdB",
             "name": {
              "de": "Brotkuchen, Kekse, Muffins",
              "en": "Bread cakes, muffins and cupcakes",
              "lt": "Duonos pyragai, keksai ir keksiukai",
              "ru": "Хлебные пироги, кексы и капкейки"
             },
             "parentId": "wIuggN5AnmDIBozs6eUA",
             "rank": 16,
             "subcategories": []
            },
            {
             "icon": "",
             "id": "mHAVj1rAYbfzEpDMk4nI",
             "name": {
              "de": "Zwieback, Lebkuchen, Bagel und Getreidesnacks",
              "en": "Crisps, gingerbread, pretzels and cereals",
              "lt": "Džiūvėsiai, meduoliai, riestainiai ir javinukai",
              "ru": "Сухарики, пряники, крендельки и хлопья"
             },
             "parentId": "wIuggN5AnmDIBozs6eUA",
             "rank": 17,
             "subcategories": []
            },
            {
             "icon": "",
             "id": "guVfF3XHMnBGq0LyD2oA",
             "name": {
              "de": "Brötchen und Krapfen",
              "en": "Muffins and donuts",
              "lt": "Bandelės ir spurgos",
              "ru": "Булочки и пончики"
             },
             "parentId": "wIuggN5AnmDIBozs6eUA",
             "rank": 19,
             "subcategories": []
            },
            {
             "icon": "",
             "id": "lyjTy293mSE1V6NPmWgs",
             "name": {
              "de": "Konditoreiwaren",
              "en": "Confectionery",
              "lt": "Konditerija",
              "ru": "Кондитерия"
             },
             "parentId": "wIuggN5AnmDIBozs6eUA",
             "rank": 20,
             "subcategories": []
            }
           ]
          },
          {
           "icon": "https://storage.googleapis.com/lastmile-ui/images/icons/NEW%20category%20tree%20icons/Me%CC%87sa%2C%20z%CC%8Cuvis%20ir%20kulinarija.svg",
           "id": "20x4e1fnrrqnQB7AyeGr",
           "name": {
            "de": "Fleisch, Fisch und Kulinarik",
            "en": "Meat, fish and cooking",
            "lt": "Mėsa, žuvis ir kulinarija",
            "ru": "Мясо, рыба и кулинария"
           },
           "parentId": "0",
           "rank": 15,
           "subcategories": [
            {
             "icon": "",
             "id": "1CKDIcxEpY7b2UHbAsaw",
             "name": {
              "de": "Frischfleisch",
              "en": "Fresh meat",
              "lt": "Šviežia mėsa",
              "ru": "Свежее мясо"
             },
             "parentId": "20x4e1fnrrqnQB7AyeGr",
             "rank": 12,
             "subcategories": []
            },
            {
             "icon": "",
             "id": "V6LgkRAG0FtJxk92EedA",
             "name": {
              "de": "Frisches Geflügelfleisch",
              "en": "Fresh poultry",
              "lt": "Šviežia paukštiena",
              "ru": "Свежее мясо птицы"
             },
             "parentId": "20x4e1fnrrqnQB7AyeGr",
             "rank": 13,
             "subcategories": []
            },
            {
             "icon": "",
             "id": "bwjLXqWL9aE79yQ8gXl9",
             "name": {
              "de": "Fleisch- und Geflügelfleischerzeugnisse",
              "en": "Meat and poultry products",
              "lt": "Mėsos ir paukštienos gaminiai",
              "ru": "Мясная и птицеводческая продукция"
             },
             "parentId": "20x4e1fnrrqnQB7AyeGr",
             "rank": 14,
             "subcategories": []
            },
            {
             "icon": "",
             "id": "YNBc38VZOEZvY2gMcZhr",
             "name": {
              "de": "Mariniertes Fleisch und Geflügel",
              "en": "Marinated meat and poultry",
              "lt": "Marinuota mėsa ir paukštiena",
              "ru": "Маринованное мясо и маринованное мясо птицы"
             },
             "parentId": "20x4e1fnrrqnQB7AyeGr",
             "rank": 15,
             "subcategories": []
            },
            {
             "icon": "",
             "id": "aAztRXgfDPJvZMHJ4N8m",
             "name": {
              "de": "Frischer Fisch und Meeresfrüchte",
              "en": "Fresh fish and seafood",
              "lt": "Šviežia žuvis ir jūrų gėrybės",
              "ru": "Свежая рыба и морепродукты"
             },
             "parentId": "20x4e1fnrrqnQB7AyeGr",
             "rank": 16,
             "subcategories": []
            },
            {
             "icon": "",
             "id": "uxZ0bIW63yS6X9E2Wrwt",
             "name": {
              "de": "Fischprodukte",
              "en": "Fish products",
              "lt": "Žuvies gaminiai",
              "ru": "Рыбная продукция"
             },
             "parentId": "20x4e1fnrrqnQB7AyeGr",
             "rank": 17,
             "subcategories": []
            },
            {
             "icon": "",
             "id": "z54qJvi1a0tFeOpMI4N1",
             "name": {
              "de": "Kulinarik",
              "en": "Cooking",
              "lt": "Kulinarija",
              "ru": "Кулинария"
             },
             "parentId": "20x4e1fnrrqnQB7AyeGr",
             "rank": 18,
             "subcategories": []
            }
           ]
          },
          {
           "icon": "https://storage.googleapis.com/lastmile-ui/images/icons/NEW%20category%20tree%20icons/S%CC%8Caldytas%20maistas.svg",
           "id": "PFRbPnT0oNK8QbQfqOLB",
           "name": {
            "de": "Tiefkühlkost",
            "en": "Frozen food",
            "lt": "Šaldytas maistas",
            "ru": "Замороженные продукты"
           },
           "parentId": "0",
           "rank": 16,
           "subcategories": [
            {
             "icon": "",
             "id": "4NPOaGBpSSAUVkFXItVn",
             "name": {
              "de": "Tiefgekühltes Gemüse, Beeren, Obst und Pilze",
              "en": "Frozen vegetables, berries, fruits and mushrooms",
              "lt": "Šaldytos daržovės, uogos, vaisiai ir grybai",
              "ru": "Замороженные овощи, ягоды, фрукты и грибы"
             },
             "parentId": "PFRbPnT0oNK8QbQfqOLB",
             "rank": 12,
             "subcategories": []
            },
            {
             "icon": "",
             "id": "IXYtNYcKM0Bnxn9C0fvs",
             "name": {
              "de": "Speiseeis",
              "en": "Ice cream",
              "lt": "Ledai",
              "ru": "Мороженное"
             },
             "parentId": "PFRbPnT0oNK8QbQfqOLB",
             "rank": 13,
             "subcategories": []
            },
            {
             "icon": "",
             "id": "nZUNr4dlYOBrpUtU4jfg",
             "name": {
              "de": "Eiswürfel",
              "en": "Ice cubes",
              "lt": "Ledo kubeliai",
              "ru": "Кубики льда"
             },
             "parentId": "PFRbPnT0oNK8QbQfqOLB",
             "rank": 14,
             "subcategories": []
            },
            {
             "icon": "",
             "id": "Uo6g8HNxbkZoBccKfBsB",
             "name": {
              "de": "Tiefgekühlte kulinarische Produkte und Süßwaren",
              "en": "Frozen culinary and confectionery products",
              "lt": "Šaldyti kulinarijos ir konditerijos gaminiai",
              "ru": "Замороженная кулинарная и кондитерская продукция"
             },
             "parentId": "PFRbPnT0oNK8QbQfqOLB",
             "rank": 15,
             "subcategories": []
            },
            {
             "icon": "",
             "id": "CprVsMkh7piddK3LzdMX",
             "name": {
              "de": "Gefrorener Fisch und Meeresfrüchte",
              "en": "Frozen fish and seafood",
              "lt": "Šaldyta žuvis ir jūrų gėrybės",
              "ru": "Замороженная рыба и морепродукты"
             },
             "parentId": "PFRbPnT0oNK8QbQfqOLB",
             "rank": 16,
             "subcategories": []
            },
            {
             "icon": "",
             "id": "3a9o6BBfMqpO1eP2LRd3",
             "name": {
              "de": "Gefrorenes Fleisch",
              "en": "Frozen meat",
              "lt": "Šaldyta mėsa",
              "ru": "Замороженное мясо"
             },
             "parentId": "PFRbPnT0oNK8QbQfqOLB",
             "rank": 17,
             "subcategories": []
            }
           ]
          },
          {
           "icon": "https://storage.googleapis.com/lastmile-ui/images/icons/NEW%20category%20tree%20icons/Bakale%CC%87ja.svg",
           "id": "4F8AnnblKenpWblCXMSJ",
           "name": {
            "de": "Lebensmittel",
            "en": "Groceries",
            "lt": "Bakalėja",
            "ru": "Бакалея"
           },
           "parentId": "0",
           "rank": 17,
           "subcategories": [
            {
             "icon": "",
             "id": "alSGOxSJTCEUc4AYVimh",
             "name": {
              "de": "Öl und Essig",
              "en": "Oil and vinegar",
              "lt": "Aliejus ir actas",
              "ru": "Масло и уксус"
             },
             "parentId": "4F8AnnblKenpWblCXMSJ",
             "rank": 12,
             "subcategories": []
            },
            {
             "icon": "",
             "id": "DVlT42gJS3sevRSkHkWE",
             "name": {
              "de": "Zucker, Süßungsmittel, Honig",
              "en": "Sugar, sweeteners, honey",
              "lt": "Cukrus, saldikliai, medus",
              "ru": "Сахар, подсластители, мед"
             },
             "parentId": "4F8AnnblKenpWblCXMSJ",
             "rank": 13,
             "subcategories": []
            },
            {
             "icon": "",
             "id": "eFlHBDHmobDg7BPxTBYa",
             "name": {
              "de": "Kaffee, Kakao, Kaffeegetränke",
              "en": "Coffee, cocoa, coffee drinks",
              "lt": "Kava, kakava, kavos gėrimai",
              "ru": "Кофе, какао, кофейные напитки"
             },
             "parentId": "4F8AnnblKenpWblCXMSJ",
             "rank": 14,
             "subcategories": []
            },
            {
             "icon": "",
             "id": "fi49LFhlfK8LVZN73CBd",
             "name": {
              "de": "Tee",
              "en": "Tea",
              "lt": "Arbata",
              "ru": "Чай"
             },
             "parentId": "4F8AnnblKenpWblCXMSJ",
             "rank": 15,
             "subcategories": []
            },
            {
             "icon": "",
             "id": "hww6HY7FA1of6l2tJSsO",
             "name": {
              "de": "Nudeln",
              "en": "Pasta",
              "lt": "Makaronai",
              "ru": "Макаронные изделия"
             },
             "parentId": "4F8AnnblKenpWblCXMSJ",
             "rank": 16,
             "subcategories": []
            },
            {
             "icon": "",
             "id": "Qcr3pLFVc8H5Jznf4l1f",
             "name": {
              "de": "Mehl",
              "en": "Flour",
              "lt": "Miltai",
              "ru": "Мука"
             },
             "parentId": "4F8AnnblKenpWblCXMSJ",
             "rank": 17,
             "subcategories": []
            },
            {
             "icon": "",
             "id": "RkxJvEZNHwXHsT4H9U3O",
             "name": {
              "de": "Grütze",
              "en": "Groats",
              "lt": "Kruopos",
              "ru": "Крупа"
             },
             "parentId": "4F8AnnblKenpWblCXMSJ",
             "rank": 18,
             "subcategories": []
            },
            {
             "icon": "",
             "id": "wqH0UDucPSMqw11XaYe0",
             "name": {
              "de": "Reis",
              "en": "Rice",
              "lt": "Ryžiai",
              "ru": "Рис"
             },
             "parentId": "4F8AnnblKenpWblCXMSJ",
             "rank": 19,
             "subcategories": []
            },
            {
             "icon": "",
             "id": "ISAig48P42h8ZXDBaPeZ",
             "name": {
              "de": "Hülsenfrüchte",
              "en": "Legumes",
              "lt": "Ankštinės daržovės",
              "ru": "Бобовые овощи"
             },
             "parentId": "4F8AnnblKenpWblCXMSJ",
             "rank": 20,
             "subcategories": []
            },
            {
             "icon": "",
             "id": "QAurOjd8UT5526MFHpIn",
             "name": {
              "de": "Saucen und Aufstriche",
              "en": "Sauces and spreads",
              "lt": "Padažai ir užtepėlės",
              "ru": "Соусы и спреды"
             },
             "parentId": "4F8AnnblKenpWblCXMSJ",
             "rank": 21,
             "subcategories": []
            },
            {
             "icon": "",
             "id": "fj9o35CmfqVMtXOIMlRV",
             "name": {
              "de": "Eingelegte, konservierte Lebensmittel",
              "en": "Pickled, canned food",
              "lt": "Marinuotas, konservuotas maistas",
              "ru": "Маринованные, консервированные продукты"
             },
             "parentId": "4F8AnnblKenpWblCXMSJ",
             "rank": 22,
             "subcategories": []
            },
            {
             "icon": "",
             "id": "ugS5OMkfCm7fLWWe8j8U",
             "name": {
              "de": "Trockenes Frühstück, Flocken und Getreideriegel",
              "en": "Dry breakfast cereals and cereal bars",
              "lt": "Sausi pusryčiai, dribsniai ir javainių batonėliai",
              "ru": "Сухой завтрак, хлопья и зерновые батончики"
             },
             "parentId": "4F8AnnblKenpWblCXMSJ",
             "rank": 23,
             "subcategories": []
            },
            {
             "icon": "",
             "id": "FKEA5rBnkQe9QXzOhUh4",
             "name": {
              "de": "Nüsse, Samen, Trockenfrüchte, Beeren",
              "en": "Nuts, seeds, dried fruits, berries",
              "lt": "Riešutai, sėklos, džiovinti vaisiai, uogos",
              "ru": "Орехи, семена, сухофрукты, ягоды"
             },
             "parentId": "4F8AnnblKenpWblCXMSJ",
             "rank": 24,
             "subcategories": []
            },
            {
             "icon": "",
             "id": "tzQHf1Pq60Y2m3V7dyCb",
             "name": {
              "de": "Instantgerichte",
              "en": "Quick food",
              "lt": "Greitai paruošiamas maistas",
              "ru": "Подготовка продуктов быстрого приготовления"
             },
             "parentId": "4F8AnnblKenpWblCXMSJ",
             "rank": 25,
             "subcategories": []
            },
            {
             "icon": "",
             "id": "XCmQGbiqAryyKyYKuPbr",
             "name": {
              "de": "Besondere Lebensmittel",
              "en": "Special food",
              "lt": "Specialus maistas",
              "ru": "Специальные пищевые продукты"
             },
             "parentId": "4F8AnnblKenpWblCXMSJ",
             "rank": 26,
             "subcategories": []
            },
            {
             "icon": "",
             "id": "KoJJP7J8EvEJpoNxv8qj",
             "name": {
              "de": "Kochhilfsmittel",
              "en": "Food preparation accessories",
              "lt": "Maisto ruošimo priedai",
              "ru": "Добавки для приготовления пищи"
             },
             "parentId": "4F8AnnblKenpWblCXMSJ",
             "rank": 27,
             "subcategories": []
            },
            {
             "icon": "",
             "id": "Hd0GxIHLNoFnmPntrBR1",
             "name": {
              "de": "Weltküchen",
              "en": "World cuisines",
              "lt": "Pasaulio virtuvės",
              "ru": "Кухни мира"
             },
             "parentId": "4F8AnnblKenpWblCXMSJ",
             "rank": 28,
             "subcategories": []
            },
            {
             "icon": "",
             "id": "xcDHOtxyRKocg4hsMzkf",
             "name": {
              "de": "Gewürze",
              "en": "Spices",
              "lt": "Prieskoniai",
              "ru": "Специи"
             },
             "parentId": "4F8AnnblKenpWblCXMSJ",
             "rank": 29,
             "subcategories": []
            }
           ]
          },
          {
           "icon": "https://storage.googleapis.com/lastmile-ui/images/icons/NEW%20category%20tree%20icons/Ge%CC%87rimai.svg",
           "id": "POgJ49EX1XStpTHYRWe7",
           "name": {
            "de": "Getränke",
            "en": "Drinks",
            "lt": "Gėrimai",
            "ru": "Напитки"
           },
           "parentId": "0",
           "rank": 18,
           "subcategories": [
            {
             "icon": "",
             "id": "Y0sDkVxqbzxjNFkQf6at",
             "name": {
              "de": "Wasser",
              "en": "Water",
              "lt": "Vanduo",
              "ru": "Вода"
             },
             "parentId": "POgJ49EX1XStpTHYRWe7",
             "rank": 12,
             "subcategories": []
            },
            {
             "icon": "",
             "id": "zmIxwXNYGCIq8mQgM2es",
             "name": {
              "de": "Säfte, Nektare und Saftgetränke",
              "en": "Juices, nectars and juice drinks",
              "lt": "Sultys, nektarai ir sulčių gėrimai",
              "ru": "Сок, нектар и сокосодержащие напитки"
             },
             "parentId": "POgJ49EX1XStpTHYRWe7",
             "rank": 13,
             "subcategories": []
            },
            {
             "icon": "",
             "id": "cKa7w3zTYPt5DyFvKykN",
             "name": {
              "de": "Alkoholfreie Getränke",
              "en": "Non-alcoholic beverages",
              "lt": "Nealkoholiniai gėrimai",
              "ru": "Безалкогольные напитки"
             },
             "parentId": "POgJ49EX1XStpTHYRWe7",
             "rank": 14,
             "subcategories": []
            },
            {
             "icon": "",
             "id": "7aGnT9tzMYRqBwdgmLXG",
             "name": {
              "de": "Erfrischungsgetränke",
              "en": "Beverages",
              "lt": "Gaivieji gėrimai",
              "ru": "Прохладительные напитки"
             },
             "parentId": "POgJ49EX1XStpTHYRWe7",
             "rank": 15,
             "subcategories": []
            },
            {
             "icon": "",
             "id": "AjKyXlSr5l0rWugRdHOk",
             "name": {
              "de": "Energiegetränke",
              "en": "Energy drinks",
              "lt": "Energiniai gėrimai",
              "ru": "Энергетические напитки"
             },
             "parentId": "POgJ49EX1XStpTHYRWe7",
             "rank": 16,
             "subcategories": []
            }
           ]
          },
          {
           "icon": "https://storage.googleapis.com/lastmile-ui/images/icons/NEW%20category%20tree%20icons/Saldumynai%20ir%20uz%CC%8Ckandz%CC%8Ciai.svg",
           "id": "TkH3cKCbsa8A4lxedhCv",
           "name": {
            "de": "Süßigkeiten und Snacks",
            "en": "Sweets and snacks",
            "lt": "Saldumynai ir užkandžiai",
            "ru": "Сладости и закуски"
           },
           "parentId": "0",
           "rank": 19,
           "subcategories": [
            {
             "icon": "",
             "id": "rib9oETO0liJd5FbdgNs",
             "name": {
              "de": "Süßigkeiten",
              "en": "Sweets",
              "lt": "Saldumynai",
              "ru": "Сладости"
             },
             "parentId": "TkH3cKCbsa8A4lxedhCv",
             "rank": 12,
             "subcategories": []
            },
            {
             "icon": "",
             "id": "IIk8FPKSn5XiDIZnUtnB",
             "name": {
              "de": "Bonbons",
              "en": "Sweets",
              "lt": "Saldainiai",
              "ru": "Конфеты"
             },
             "parentId": "TkH3cKCbsa8A4lxedhCv",
             "rank": 13,
             "subcategories": []
            },
            {
             "icon": "",
             "id": "8dtkfUj256Pbwh5EGKyd",
             "name": {
              "de": "Gummibonbons",
              "en": "Gummys",
              "lt": "Guminukai",
              "ru": "Мармеладки"
             },
             "parentId": "TkH3cKCbsa8A4lxedhCv",
             "rank": 14,
             "subcategories": []
            },
            {
             "icon": "",
             "id": "QqVct75UCrfTKdo93vQn",
             "name": {
              "de": "Schokolade",
              "en": "Chocolate",
              "lt": "Šokoladas",
              "ru": "Шоколад"
             },
             "parentId": "TkH3cKCbsa8A4lxedhCv",
             "rank": 15,
             "subcategories": []
            },
            {
             "icon": "",
             "id": "LWH0PkqIUc4XaibVwl33",
             "name": {
              "de": "Riegel",
              "en": "Bars",
              "lt": "Batonėliai",
              "ru": "Батончики"
             },
             "parentId": "TkH3cKCbsa8A4lxedhCv",
             "rank": 16,
             "subcategories": []
            },
            {
             "icon": "",
             "id": "4y3xrhP557EMbPLyI5k6",
             "name": {
              "de": "Lutscher",
              "en": "Lollipops",
              "lt": "Ledinukai",
              "ru": "Леденцы"
             },
             "parentId": "TkH3cKCbsa8A4lxedhCv",
             "rank": 17,
             "subcategories": []
            },
            {
             "icon": "",
             "id": "eUT3NGBsmKe3x5gMNkmc",
             "name": {
              "de": "Dragees, Nüsse",
              "en": "Dragee, nuts",
              "lt": "Dražė, riešutai",
              "ru": "Драже, орехи"
             },
             "parentId": "TkH3cKCbsa8A4lxedhCv",
             "rank": 18,
             "subcategories": []
            },
            {
             "icon": "",
             "id": "mVjH3msZjoKN0p7Jzqlw",
             "name": {
              "de": "Kaugummi",
              "en": "Chewing gum",
              "lt": "Kramtoma guma",
              "ru": "Жевательная резинка"
             },
             "parentId": "TkH3cKCbsa8A4lxedhCv",
             "rank": 19,
             "subcategories": []
            },
            {
             "icon": "",
             "id": "BHEhwM0RLWlnFZMjBEtF",
             "name": {
              "de": "Kekse",
              "en": "Cookies",
              "lt": "Sausainiai",
              "ru": "Печенье"
             },
             "parentId": "TkH3cKCbsa8A4lxedhCv",
             "rank": 20,
             "subcategories": []
            },
            {
             "icon": "",
             "id": "Xp09Lc6JKjIVq2WaFZtp",
             "name": {
              "de": "Waffeln",
              "en": "Waffles",
              "lt": "Vafliai",
              "ru": "Вафли"
             },
             "parentId": "TkH3cKCbsa8A4lxedhCv",
             "rank": 21,
             "subcategories": []
            },
            {
             "icon": "",
             "id": "73RvPfPPbUwsFdjg6a92",
             "name": {
              "de": "Marshmallows",
              "en": "Marshmallows",
              "lt": "Zefyrai",
              "ru": "Зефиры"
             },
             "parentId": "TkH3cKCbsa8A4lxedhCv",
             "rank": 22,
             "subcategories": []
            },
            {
             "icon": "",
             "id": "yL1Tacc76TSAfQd90r1v",
             "name": {
              "de": "Cremes",
              "en": "Creams",
              "lt": "Kremai",
              "ru": "Кремы"
             },
             "parentId": "TkH3cKCbsa8A4lxedhCv",
             "rank": 23,
             "subcategories": []
            },
            {
             "icon": "",
             "id": "sAJXURmLVrGswaaKV4QL",
             "name": {
              "de": "Chips",
              "en": "Chips",
              "lt": "Traškučiai",
              "ru": "Чипсы"
             },
             "parentId": "TkH3cKCbsa8A4lxedhCv",
             "rank": 24,
             "subcategories": []
            },
            {
             "icon": "",
             "id": "dOivnprbMzNnEMJD0hWO",
             "name": {
              "de": "Knabbereien",
              "en": "Snacks",
              "lt": "Užkandžiai",
              "ru": "Закуски"
             },
             "parentId": "TkH3cKCbsa8A4lxedhCv",
             "rank": 25,
             "subcategories": []
            },
            {
             "icon": "",
             "id": "zRfwlHX9EQ2Sisx6Vi1V",
             "name": {
              "de": "Cracker",
              "en": "Crackers",
              "lt": "Krekeriai",
              "ru": "Крекеры"
             },
             "parentId": "TkH3cKCbsa8A4lxedhCv",
             "rank": 26,
             "subcategories": []
            },
            {
             "icon": "",
             "id": "khKc3oxJ1uA5wDxHUwiY",
             "name": {
              "de": "Popcorn",
              "en": "Popcorn",
              "lt": "Popkornai",
              "ru": "Попкорн"
             },
             "parentId": "TkH3cKCbsa8A4lxedhCv",
             "rank": 27,
             "subcategories": []
            },
            {
             "icon": "",
             "id": "a9GRuOEAuBNhuYt9ztkh",
             "name": {
              "de": "Gebackenes Brot",
              "en": "Baked bread",
              "lt": "Kepta duona",
              "ru": "Печёный хлеб"
             },
             "parentId": "TkH3cKCbsa8A4lxedhCv",
             "rank": 28,
             "subcategories": []
            }
           ]
          },
          {
           "icon": "https://storage.googleapis.com/lastmile-ui/images/icons/NEW%20category%20tree%20icons/Alkoholiniai%20ge%CC%87rimai.svg",
           "id": "rkvST3V0Qa09HpjZr9RB",
           "name": {
            "de": "Alkoholische Getränke",
            "en": "Alcoholic beverages",
            "lt": "Alkoholiniai gėrimai",
            "ru": "Алкогольные напитки"
           },
           "parentId": "0",
           "rank": 20,
           "subcategories": [
            {
             "icon": "",
             "id": "0ANpirdIGoSM9c7giFz2",
             "name": {
              "de": "Getränkeführer",
              "en": "Drink Guide",
              "lt": "Gėrimų gidas",
              "ru": "Меню напитков"
             },
             "parentId": "rkvST3V0Qa09HpjZr9RB",
             "rank": 11,
             "subcategories": []
            },
            {
             "icon": "",
             "id": "9gSKSRNgd0pm96FfuOD0",
             "name": {
              "de": "Bier",
              "en": "Beer",
              "lt": "Alus",
              "ru": "Пиво"
             },
             "parentId": "rkvST3V0Qa09HpjZr9RB",
             "rank": 12,
             "subcategories": []
            },
            {
             "icon": "",
             "id": "OTigcvdJxUkH5lZ9xbMr",
             "name": {
              "de": "Alkoholische Cocktails",
              "en": "Alcoholic cocktails",
              "lt": "Alkoholiniai kokteiliai",
              "ru": "Алкогольные коктейли"
             },
             "parentId": "rkvST3V0Qa09HpjZr9RB",
             "rank": 13,
             "subcategories": []
            },
            {
             "icon": "",
             "id": "DOGRmmj56XBrCqeMF2bD",
             "name": {
              "de": "Wein und Champagner",
              "en": "Wine and champagne",
              "lt": "Vynas ir šampanas",
              "ru": "Вино и шампанское"
             },
             "parentId": "rkvST3V0Qa09HpjZr9RB",
             "rank": 14,
             "subcategories": []
            },
            {
             "icon": "",
             "id": "Zd0l99S8v3fqxw8MMi8i",
             "name": {
              "de": "Apfelwein",
              "en": "Cider",
              "lt": "Sidras",
              "ru": "Сидр"
             },
             "parentId": "rkvST3V0Qa09HpjZr9RB",
             "rank": 15,
             "subcategories": []
            },
            {
             "icon": "",
             "id": "BUpEiqZzGOWwFEr9sTdJ",
             "name": {
              "de": "Starke alkoholische Getränke",
              "en": "Strong alcoholic drinks",
              "lt": "Stiprūs alkoholiniai gėrimai",
              "ru": "Крепкие алкогольные напитки"
             },
             "parentId": "rkvST3V0Qa09HpjZr9RB",
             "rank": 16,
             "subcategories": []
            },
            {
             "icon": "",
             "id": "E3eQaKkDx2RIRghuRUAj",
             "name": {
              "de": "Andere alkoholische Getränke",
              "en": "Other alcoholic beverages",
              "lt": "Kiti alkoholiniai gėrimai",
              "ru": "Другие алкогольные напитки"
             },
             "parentId": "rkvST3V0Qa09HpjZr9RB",
             "rank": 17,
             "subcategories": []
            }
           ]
          },
          {
           "icon": "https://storage.googleapis.com/lastmile-ui/images/icons/NEW%20category%20tree%20icons/Kosmetika%20ir%20higiena.svg",
           "id": "ou44IMKmyHGlpLOHME04",
           "name": {
            "de": "Kosmetik und Hygiene",
            "en": "Cosmetics and hygiene",
            "lt": "Kosmetika ir higiena",
            "ru": "Косметические средства и гигиена"
           },
           "parentId": "0",
           "rank": 21,
           "subcategories": [
            {
             "icon": "",
             "id": "V8SuqwaYtZx2ykMZLriC",
             "name": {
              "de": "Produkte für die Mundhygiene",
              "en": "Oral hygiene products",
              "lt": "Burnos higienos priemonės",
              "ru": "Средства гигиены полости рта"
             },
             "parentId": "ou44IMKmyHGlpLOHME04",
             "rank": 12,
             "subcategories": []
            },
            {
             "icon": "",
             "id": "nFbfoiUGwDBNrKRVlXHi",
             "name": {
              "de": "Gesichtspflegeprodukte",
              "en": "Facial care products",
              "lt": "Veido priežiūros priemonės",
              "ru": "Средства по уходу за кожей лица"
             },
             "parentId": "ou44IMKmyHGlpLOHME04",
             "rank": 13,
             "subcategories": []
            },
            {
             "icon": "",
             "id": "qKulbFUDVJ4zIgsBLXWu",
             "name": {
              "de": "Haarpflegeprodukte",
              "en": "Haircare products",
              "lt": "Plaukų priežiūros priemonės",
              "ru": "Средства по уходу за волосами"
             },
             "parentId": "ou44IMKmyHGlpLOHME04",
             "rank": 14,
             "subcategories": []
            },
            {
             "icon": "",
             "id": "CdwJsxHsH0cZ9g0ntYoW",
             "name": {
              "de": "Körperpflegeprodukte",
              "en": "Body care products",
              "lt": "Kūno priežiūros priemonės",
              "ru": "Средства по уходу за телом"
             },
             "parentId": "ou44IMKmyHGlpLOHME04",
             "rank": 15,
             "subcategories": []
            },
            {
             "icon": "",
             "id": "dgncIxzPGoT0GaGcEUl8",
             "name": {
              "de": "Fuß- und Nagelpflegeprodukte",
              "en": "Foot and nail care products",
              "lt": "Kojų ir nagų priežiūros priemonės",
              "ru": "Средства по уходу за ногами и ногтями"
             },
             "parentId": "ou44IMKmyHGlpLOHME04",
             "rank": 16,
             "subcategories": []
            },
            {
             "icon": "",
             "id": "ezkubRzE4jrR3YUfByyd",
             "name": {
              "de": "Deodorantien",
              "en": "Deodorants",
              "lt": "Dezodorantai",
              "ru": "Дезодоранты"
             },
             "parentId": "ou44IMKmyHGlpLOHME04",
             "rank": 17,
             "subcategories": []
            },
            {
             "icon": "",
             "id": "ge33jFzpybfmL0snBRW3",
             "name": {
              "de": "Rasierprodukte",
              "en": "Shaving products",
              "lt": "Skutimosi prekės",
              "ru": "Средства для бритья"
             },
             "parentId": "ou44IMKmyHGlpLOHME04",
             "rank": 18,
             "subcategories": []
            },
            {
             "icon": "",
             "id": "gNJgGfzQd8shfxZLUXnD",
             "name": {
              "de": "Dekorative Kosmetik",
              "en": "Decorative cosmetics",
              "lt": "Dekoratyvinė kosmetika",
              "ru": "Декоративная косметика"
             },
             "parentId": "ou44IMKmyHGlpLOHME04",
             "rank": 19,
             "subcategories": []
            },
            {
             "icon": "",
             "id": "eu2IWn7PP8nQuV95TlqD",
             "name": {
              "de": "Sonnenkosmetik",
              "en": "Sun cosmetics",
              "lt": "Saulės kosmetika",
              "ru": "Солнечная косметика"
             },
             "parentId": "ou44IMKmyHGlpLOHME04",
             "rank": 20,
             "subcategories": []
            },
            {
             "icon": "",
             "id": "WxUTOb1b0m2WnNEX2i46",
             "name": {
              "de": "Kosmetik für Männer",
              "en": "Cosmetics for men",
              "lt": "Kosmetika vyrams",
              "ru": "Косметика для мужчин"
             },
             "parentId": "ou44IMKmyHGlpLOHME04",
             "rank": 21,
             "subcategories": []
            },
            {
             "icon": "",
             "id": "2BoNC1MeLqq0gsTXxKI0",
             "name": {
              "de": "Parfüm",
              "en": "Perfume",
              "lt": "Kvepalai",
              "ru": "Духи"
             },
             "parentId": "ou44IMKmyHGlpLOHME04",
             "rank": 22,
             "subcategories": []
            },
            {
             "icon": "",
             "id": "BcZWFpFRQVo6DudCvdmu",
             "name": {
              "de": "Intimpflege",
              "en": "Intimate Hygiene",
              "lt": "Intymi higiena",
              "ru": "Интимная гигиена"
             },
             "parentId": "ou44IMKmyHGlpLOHME04",
             "rank": 23,
             "subcategories": []
            },
            {
             "icon": "",
             "id": "siD52yVZKr7xm6CWTsH4",
             "name": {
              "de": "Medizinischer Bedarf",
              "en": "Medical goods",
              "lt": "Medicinos prekės",
              "ru": "Медицинские товары"
             },
             "parentId": "ou44IMKmyHGlpLOHME04",
             "rank": 24,
             "subcategories": []
            }
           ]
          },
          {
           "icon": "https://storage.googleapis.com/lastmile-ui/images/category_icons/new2/laisvalaikio%2C%20turizmo.svg",
           "id": "uAEw7X73oWIIQK9dLek2",
           "name": {
            "de": "Laisvalaikio ir turizmo prekės",
            "en": "Laisvalaikio ir turizmo prekės",
            "lt": "Laisvalaikio ir turizmo prekės",
            "ru": "Laisvalaikio ir turizmo prekės"
           },
           "parentId": "0",
           "rank": 22,
           "subcategories": [
            {
             "icon": "",
             "id": "iHQScdP6Uu7EtHsg8tj4",
             "name": {
              "de": "Šašlykinės, griliai, kepsninės",
              "en": "Šašlykinės, griliai, kepsninės",
              "lt": "Šašlykinės, griliai, kepsninės",
              "ru": "Šašlykinės, griliai, kepsninės"
             },
             "parentId": "uAEw7X73oWIIQK9dLek2",
             "rank": 1,
             "subcategories": []
            },
            {
             "icon": "",
             "id": "80OxrwqeLmASWNtwfXLn",
             "name": {
              "de": "Griliaus įrankiai ir indai",
              "en": "Griliaus įrankiai ir indai",
              "lt": "Griliaus įrankiai ir indai",
              "ru": "Griliaus įrankiai ir indai"
             },
             "parentId": "uAEw7X73oWIIQK9dLek2",
             "rank": 2,
             "subcategories": []
            },
            {
             "icon": "",
             "id": "dKeyPnlFUdsLfIFKsgZd",
             "name": {
              "de": "Campingartikel",
              "en": "Camping goods",
              "lt": "Stovyklavimo prekės",
              "ru": "Кемпинговые товары"
             },
             "parentId": "uAEw7X73oWIIQK9dLek2",
             "rank": 3,
             "subcategories": []
            },
            {
             "icon": "",
             "id": "Sf35kRIlUdrYS0yxU5Xb",
             "name": {
              "de": "Kuras ir rūkymas",
              "en": "Kuras ir rūkymas",
              "lt": "Kuras ir rūkymas",
              "ru": "Kuras ir rūkymas"
             },
             "parentId": "uAEw7X73oWIIQK9dLek2",
             "rank": 4,
             "subcategories": []
            },
            {
             "icon": "",
             "id": "WRa5d40C3u4CnXdbbgLZ",
             "name": {
              "de": "Sportartikel",
              "en": "Sports goods",
              "lt": "Sporto prekės",
              "ru": "Спортивные товары"
             },
             "parentId": "uAEw7X73oWIIQK9dLek2",
             "rank": 5,
             "subcategories": []
            },
            {
             "icon": "",
             "id": "Ax7F8cgVMBbJdIhHLqTS",
             "name": {
              "de": "Apsauga nuo kenkėjų",
              "en": "Apsauga nuo kenkėjų",
              "lt": "Apsauga nuo kenkėjų",
              "ru": "Apsauga nuo kenkėjų"
             },
             "parentId": "uAEw7X73oWIIQK9dLek2",
             "rank": 6,
             "subcategories": []
            }
           ]
          },
          {
           "icon": "https://storage.googleapis.com/lastmile-ui/images/icons/NEW%20category%20tree%20icons/Ku%CC%84dikiu%CC%A8%20ir%20vaiku%CC%A8%20preke%CC%87s.svg",
           "id": "UM88UOYjTXTEdcxszKZ3",
           "name": {
            "de": "Baby- und Kinderartikel",
            "en": "Baby and children's goods",
            "lt": "Kūdikių ir vaikų prekės",
            "ru": "Товары для малышей и детей"
           },
           "parentId": "0",
           "rank": 22,
           "subcategories": [
            {
             "icon": "",
             "id": "N397J3Zzgn5pbyGXACzn",
             "name": {
              "de": "Babynahrung, Kindernahrung",
              "en": "Baby food, food for children",
              "lt": "Kūdikių maistas, maistas vaikams",
              "ru": "Питание для малышей, питание для детей"
             },
             "parentId": "UM88UOYjTXTEdcxszKZ3",
             "rank": 12,
             "subcategories": []
            },
            {
             "icon": "",
             "id": "JG42bpoM8IycY4DszAbQ",
             "name": {
              "de": "Windeln",
              "en": "Diapers",
              "lt": "Sauskelnės",
              "ru": "Подгузники"
             },
             "parentId": "UM88UOYjTXTEdcxszKZ3",
             "rank": 13,
             "subcategories": []
            },
            {
             "icon": "",
             "id": "igYG43WGu2TxcrqXhzOh",
             "name": {
              "de": "Kinderservietten",
              "en": "Napkins for children",
              "lt": "Servetėlės vaikams",
              "ru": "Салфетки детские"
             },
             "parentId": "UM88UOYjTXTEdcxszKZ3",
             "rank": 14,
             "subcategories": []
            },
            {
             "icon": "",
             "id": "9QoRHGMpObE9r9YHWWgJ",
             "name": {
              "de": "Decken",
              "en": "Underpads",
              "lt": "Paklotai",
              "ru": "Настилы"
             },
             "parentId": "UM88UOYjTXTEdcxszKZ3",
             "rank": 15,
             "subcategories": []
            },
            {
             "icon": "",
             "id": "LnjL1p1Nml6HZuvmAKtu",
             "name": {
              "de": "Artikel für die Kinderbetreuung",
              "en": "Baby care products",
              "lt": "Vaikų priežiūros prekės",
              "ru": "Товары для ухода за детьми"
             },
             "parentId": "UM88UOYjTXTEdcxszKZ3",
             "rank": 16,
             "subcategories": []
            },
            {
             "icon": "",
             "id": "t06PvS8VAsuvA0NfirNo",
             "name": {
              "de": "Socken für Kinder",
              "en": "Socks for children",
              "lt": "Kojinės vaikams",
              "ru": "Носки детские"
             },
             "parentId": "UM88UOYjTXTEdcxszKZ3",
             "rank": 17,
             "subcategories": []
            },
            {
             "icon": "",
             "id": "zFsKWghpIiM9hlyVjDNy",
             "name": {
              "de": "Spielzeuge",
              "en": "Toys",
              "lt": "Žaislai",
              "ru": "Игрушки"
             },
             "parentId": "UM88UOYjTXTEdcxszKZ3",
             "rank": 18,
             "subcategories": []
            }
           ]
          },
          {
           "icon": "https://storage.googleapis.com/lastmile-ui/images/category_icons/new2/knygos.svg",
           "id": "Vi4viZ26iEei8kgKhKYu",
           "name": {
            "de": "Bücher ",
            "en": "Books",
            "lt": "Knygos",
            "ru": "Книги"
           },
           "parentId": "0",
           "rank": 23,
           "subcategories": [
            {
             "icon": "",
             "id": "GoQe3gWonMzZaI3XDcdd",
             "name": {
              "de": "Grožinė literatūra",
              "en": "Grožinė literatūra",
              "lt": "Grožinė literatūra",
              "ru": "Grožinė literatūra"
             },
             "parentId": "Vi4viZ26iEei8kgKhKYu",
             "rank": 1,
             "subcategories": []
            },
            {
             "icon": "",
             "id": "Z9F8pTvaVkACXHz7TyNb",
             "name": {
              "de": "Negrožinė literatūra",
              "en": "Negrožinė literatūra",
              "lt": "Negrožinė literatūra",
              "ru": "Negrožinė literatūra"
             },
             "parentId": "Vi4viZ26iEei8kgKhKYu",
             "rank": 2,
             "subcategories": []
            },
            {
             "icon": "",
             "id": "bq5TeOoqmvfCWVQiG6oK",
             "name": {
              "de": "Laisvalaikio knygos",
              "en": "Laisvalaikio knygos",
              "lt": "Laisvalaikio knygos",
              "ru": "Laisvalaikio knygos"
             },
             "parentId": "Vi4viZ26iEei8kgKhKYu",
             "rank": 3,
             "subcategories": []
            },
            {
             "icon": "",
             "id": "WRQDAv6Wq0NOFwiWLdKY",
             "name": {
              "de": "Zeitschriften",
              "en": "Magazines",
              "lt": "Žurnalai ir Laikraščiai",
              "ru": "Журналы"
             },
             "parentId": "Vi4viZ26iEei8kgKhKYu",
             "rank": 6,
             "subcategories": []
            }
           ]
          },
          {
           "icon": "https://storage.googleapis.com/lastmile-ui/images/icons/NEW%20category%20tree%20icons/Buitine%CC%87%20chemija%2C%20valymo%20preke%CC%87s2.svg",
           "id": "NyY46ZkM0VBgsJOESJ0p",
           "name": {
            "de": "Haushaltschemikalien, Reinigungsprodukte",
            "en": "Household chemicals, cleaning products",
            "lt": "Buitinė chemija, valymo prekės ",
            "ru": "Бытовая химия, чистящие средства"
           },
           "parentId": "0",
           "rank": 23,
           "subcategories": [
            {
             "icon": "",
             "id": "P2r0jlRak7v3suONvfJE",
             "name": {
              "de": "Produkte für Tiere",
              "en": "Animal products",
              "lt": "Gyvūnų prekės I",
              "ru": "Товары для животных"
             },
             "parentId": "NyY46ZkM0VBgsJOESJ0p",
             "rank": 12,
             "subcategories": []
            },
            {
             "icon": "",
             "id": "RQQKEr9M3ZqMlHoK9bIS",
             "name": {
              "de": "Papierprodukte",
              "en": "Paper products",
              "lt": "Popieriniai gaminiai",
              "ru": "Бумажная продукция"
             },
             "parentId": "NyY46ZkM0VBgsJOESJ0p",
             "rank": 13,
             "subcategories": []
            },
            {
             "icon": "",
             "id": "qgn2cxKCNh0MFXgnoq3f",
             "name": {
              "de": "Geschirrspülmittel",
              "en": "For washing dishes",
              "lt": "Indų plovimui",
              "ru": "Для мытья посуды"
             },
             "parentId": "NyY46ZkM0VBgsJOESJ0p",
             "rank": 14,
             "subcategories": []
            },
            {
             "icon": "",
             "id": "ufaohbxH1UJKfkekgbmm",
             "name": {
              "de": "Waschmittel",
              "en": "Washing tools",
              "lt": "Skalbimo priemonės",
              "ru": "Средства для стирки"
             },
             "parentId": "NyY46ZkM0VBgsJOESJ0p",
             "rank": 15,
             "subcategories": []
            },
            {
             "icon": "",
             "id": "DLd1d8PbOIF8UFS4c48J",
             "name": {
              "de": "Haushaltschemikalien",
              "en": "Household chemicals",
              "lt": "Buitinė chemija",
              "ru": "Бытовая химия"
             },
             "parentId": "NyY46ZkM0VBgsJOESJ0p",
             "rank": 16,
             "subcategories": []
            },
            {
             "icon": "",
             "id": "sAFA2bsv0BRZj8SE3Ivb",
             "name": {
              "de": "Reinigungsmittel",
              "en": "Cleaning tools",
              "lt": "Valymo priemonės",
              "ru": "Чистящие средства"
             },
             "parentId": "NyY46ZkM0VBgsJOESJ0p",
             "rank": 17,
             "subcategories": []
            }
           ]
          },
          {
           "icon": "https://storage.googleapis.com/lastmile-ui/images/category_icons/new2/namu%2C%20buities.svg",
           "id": "eLxayejtjn3K8bzAZCwH",
           "name": {
            "de": "Haus - und Haushaltswaren",
            "en": "Home and household goods",
            "lt": "Namų ir buities prekės",
            "ru": "Товары для дома и хозяйственные товары"
           },
           "parentId": "0",
           "rank": 24,
           "subcategories": [
            {
             "icon": "",
             "id": "2rRx7YMK9FgSrHVNJXyt",
             "name": {
              "de": "Haushaltsgeräte und Elektronik",
              "en": "Household appliances and electronics",
              "lt": "Buitinė technika ir elektronika",
              "ru": "Бытовая техника и электроника"
             },
             "parentId": "eLxayejtjn3K8bzAZCwH",
             "rank": 12,
             "subcategories": []
            },
            {
             "icon": "",
             "id": "gTxEr95g87a4zG4TPELs",
             "name": {
              "de": "Servierzubehör für Küche und Tisch",
              "en": "Kitchen and tableware",
              "lt": "Virtuvės ir stalo serviravimo reikmenys",
              "ru": "Кухонные и столовые принадлежности"
             },
             "parentId": "eLxayejtjn3K8bzAZCwH",
             "rank": 13,
             "subcategories": []
            },
            {
             "icon": "",
             "id": "3GM2jMLOpt6EnQAZ0ZV4",
             "name": {
              "de": "Haushaltsartikel",
              "en": "Household goods",
              "lt": "Namų apyvokos reikmenys",
              "ru": "Принадлежности домашнего обихода"
             },
             "parentId": "eLxayejtjn3K8bzAZCwH",
             "rank": 14,
             "subcategories": []
            },
            {
             "icon": "",
             "id": "9quDpanr4afNHceHh3cm",
             "name": {
              "de": "Lesebrillen",
              "en": "Reading glasses",
              "lt": "Skaitymo akiniai",
              "ru": "Очки для чтения"
             },
             "parentId": "eLxayejtjn3K8bzAZCwH",
             "rank": 15,
             "subcategories": []
            },
            {
             "icon": "",
             "id": "izQtOGPxBn0yuiqXBmt9",
             "name": {
              "de": "Freizeitgüter",
              "en": "Leisure products",
              "lt": "Laisvalaikio prekės",
              "ru": "Товары для отдыха"
             },
             "parentId": "eLxayejtjn3K8bzAZCwH",
             "rank": 16,
             "subcategories": []
            },
            {
             "icon": "",
             "id": "fjQl3HXRlRRLkOfppm9L",
             "name": {
              "de": "Socken und Unterwäsche",
              "en": "Socks and underwear",
              "lt": "Kojinės ir apatinis trikotažas",
              "ru": "Носки и нижнее белье"
             },
             "parentId": "eLxayejtjn3K8bzAZCwH",
             "rank": 17,
             "subcategories": []
            },
            {
             "icon": "",
             "id": "ZFYUMGFf4c5usIHbSS6d",
             "name": {
              "de": "Kfz-Güter",
              "en": "Car goods",
              "lt": "Automobilių prekės",
              "ru": "Автомобильные товары"
             },
             "parentId": "eLxayejtjn3K8bzAZCwH",
             "rank": 18,
             "subcategories": []
            },
            {
             "icon": "",
             "id": "zjGMlTrHpwoCI1khaMYA",
             "name": {
              "de": "Gartenprodukte",
              "en": "Gardening products",
              "lt": "Sodo prekės",
              "ru": "Садовые товары"
             },
             "parentId": "eLxayejtjn3K8bzAZCwH",
             "rank": 18,
             "subcategories": []
            }
           ]
          },
          {
           "icon": "https://storage.googleapis.com/lastmile-ui/images/category_icons/new2/ofisoirmokyklospreke%CC%87s.svg",
           "id": "O8purZjexjA1caZ8WKoL",
           "name": {
            "de": "Büro- und Schulbedarf",
            "en": "Office, school supplies",
            "lt": "Biuro, mokyklinės prekės",
            "ru": "канцелярские и школьные принадлежности"
           },
           "parentId": "0",
           "rank": 25,
           "subcategories": [
            {
             "icon": "",
             "id": "mBi4rKsnkSYFTBXwzFmN",
             "name": {
              "de": "Literatur",
              "en": "Literature",
              "lt": "Literatūra",
              "ru": "Литература"
             },
             "parentId": "O8purZjexjA1caZ8WKoL",
             "rank": 12,
             "subcategories": []
            },
            {
             "icon": "",
             "id": "GTXCbvO9oTMFtR2ntGz6",
             "name": {
              "de": "Büroartikel",
              "en": "Office supplies",
              "lt": "Biuro prekės",
              "ru": "Канцелярские принадлежности"
             },
             "parentId": "O8purZjexjA1caZ8WKoL",
             "rank": 13,
             "subcategories": []
            },
            {
             "icon": "",
             "id": "CDjL1EyRXthOeSGzx5YN",
             "name": {
              "de": "Schulbedarf",
              "en": "School supplies",
              "lt": "Mokyklinės prekės",
              "ru": "Школьные принадлежности"
             },
             "parentId": "O8purZjexjA1caZ8WKoL",
             "rank": 14,
             "subcategories": []
            }
           ]
          },
          {
           "icon": "https://storage.googleapis.com/lastmile-ui/images/icons/NEW%20category%20tree%20icons/Ge%CC%87le%CC%87s%20ir%20dovanos.svg",
           "id": "i5TgtZ6kpC3ouYedgdbd",
           "name": {
            "de": "Blumen und Geschenke",
            "en": "Flowers and gifts",
            "lt": "Gėlės ir dovanos",
            "ru": "Цветы и подарки"
           },
           "parentId": "0",
           "rank": 26,
           "subcategories": [
            {
             "icon": "",
             "id": "fzcaNtlnh5pwSROpbCht",
             "name": {
              "de": "Blumen",
              "en": "Flowers",
              "lt": "Gėlės",
              "ru": "Цветы"
             },
             "parentId": "i5TgtZ6kpC3ouYedgdbd",
             "rank": 12,
             "subcategories": []
            },
            {
             "icon": "",
             "id": "r6mhRf9wQKjV9mA7gxdS",
             "name": {
              "de": "Geschenke",
              "en": "Gifts",
              "lt": "Dovanos",
              "ru": "Подарки"
             },
             "parentId": "i5TgtZ6kpC3ouYedgdbd",
             "rank": 13,
             "subcategories": []
            }
           ]
          },
          {
           "icon": "https://storage.googleapis.com/lastmile-ui/images/icons/NEW%20category%20tree%20icons/Erotine%CC%87s%20preke%CC%87s.svg",
           "id": "lvEehnisp35GH3PKofIW",
           "name": {
            "de": "Erotische Waren",
            "en": "Erotic goods",
            "lt": "Erotinės prekės",
            "ru": "Эротические товары"
           },
           "parentId": "0",
           "rank": 27,
           "subcategories": [
            {
             "icon": "",
             "id": "ILhzp3JoN9xtkWcYExRM",
             "name": {
              "de": "Erotinės dovanos",
              "en": "Erotinės dovanos",
              "lt": "Erotinės dovanos",
              "ru": "Erotinės dovanos"
             },
             "parentId": "lvEehnisp35GH3PKofIW",
             "rank": 7,
             "subcategories": []
            },
            {
             "icon": "",
             "id": "uSKpV4Qzycjf5u2N3afN",
             "name": {
              "de": "Sexspielzeug",
              "en": "Sex toys",
              "lt": "Sekso žaislai",
              "ru": "Секс-игрушки"
             },
             "parentId": "lvEehnisp35GH3PKofIW",
             "rank": 12,
             "subcategories": []
            },
            {
             "icon": "",
             "id": "AsqEgmQJGeajS20Vfw23",
             "name": {
              "de": "Kondome",
              "en": "Condoms",
              "lt": "Prezervatyvai",
              "ru": "Презервативы"
             },
             "parentId": "lvEehnisp35GH3PKofIW",
             "rank": 13,
             "subcategories": []
            },
            {
             "icon": "",
             "id": "PIpbdyITzFoUXpwRfiuO",
             "name": {
              "de": "Gleitmittel",
              "en": "Lubricants",
              "lt": "Lubrikantai",
              "ru": "Лубриканты"
             },
             "parentId": "lvEehnisp35GH3PKofIW",
             "rank": 14,
             "subcategories": []
            },
            {
             "icon": "",
             "id": "wggTCNZnCSzaeiBdrN2V",
             "name": {
              "de": "Sexy Kleidung",
              "en": "Sexy outfit",
              "lt": "Seksuali apranga",
              "ru": "Сексуальная одежда"
             },
             "parentId": "lvEehnisp35GH3PKofIW",
             "rank": 15,
             "subcategories": []
            },
            {
             "icon": "",
             "id": "EBOxhNyPi4x4fdLbDqex",
             "name": {
              "de": "Kosmetik für Erwachsene",
              "en": "Cosmetics for adults",
              "lt": "Kosmetika suaugusiems",
              "ru": "Косметика для взрослых"
             },
             "parentId": "lvEehnisp35GH3PKofIW",
             "rank": 16,
             "subcategories": []
            },
            {
             "icon": "",
             "id": "WjHICy4y3bEMJCxEbns0",
             "name": {
              "de": "BDSM-Produkte",
              "en": "BDSM products",
              "lt": "BDSM prekės",
              "ru": "Товары БДСМ"
             },
             "parentId": "lvEehnisp35GH3PKofIW",
             "rank": 17,
             "subcategories": []
            }
           ]
          },
          {
           "icon": "https://storage.googleapis.com/lastmile-ui/images/category_icons/new2/Kompiuterine%CC%87%20technika%2C%20z%CC%8Caidimai%2C%20priedai.svg",
           "id": "m3y5VPeO0vEg8Rspvejo",
           "name": {
            "de": "Computertechnik, Spiele, Zubehör.",
            "en": "Computer technology, games, accessories",
            "lt": "Kompiuterinė technika,žaidimai, priedai",
            "ru": "Компьютерная техника, игры, аксессуары."
           },
           "parentId": "0",
           "rank": 28,
           "subcategories": [
            {
             "icon": "",
             "id": "zFNG0AaC0WfPsLPGk7jR",
             "name": {
              "de": "Spielerausrüstung",
              "en": "Player gear",
              "lt": "Žaidėjų atributika",
              "ru": "Игровое снаряжение"
             },
             "parentId": "m3y5VPeO0vEg8Rspvejo",
             "rank": 0,
             "subcategories": []
            },
            {
             "icon": "",
             "id": "qztwMHdpvKKcW84GvnJ5",
             "name": {
              "de": "Sony Playstation",
              "en": "Sony Playstation",
              "lt": "Sony Playstation",
              "ru": "Sony Playstation"
             },
             "parentId": "m3y5VPeO0vEg8Rspvejo",
             "rank": 0,
             "subcategories": []
            },
            {
             "icon": "",
             "id": "Sw3Jh4Qe7AaGZJ69zeo0",
             "name": {
              "de": "Spielerzubehör",
              "en": "Player accessories",
              "lt": "Žaidėjo priedai",
              "ru": "Аксессуары игрока"
             },
             "parentId": "m3y5VPeO0vEg8Rspvejo",
             "rank": 0,
             "subcategories": []
            }
           ]
          },
          {
           "icon": "https://storage.googleapis.com/lastmile-ui/images/category_icons/new2/Maisto%20papildai.svg",
           "id": "531o1i5AUWe4X5mZqcb7",
           "name": {
            "de": "FUTTERERGÄNZUNGSMITTEL",
            "en": "FOOD SUPPLEMENTS",
            "lt": "Maisto papildai",
            "ru": "ПИЩЕВЫЕ ДОБАВКИ"
           },
           "parentId": "0",
           "rank": 45,
           "subcategories": [
            {
             "icon": "",
             "id": "BTmfaORV1CCgd7iTalPR",
             "name": {
              "de": "CBD-Produkte",
              "en": "CBD products",
              "lt": "CBD Produktai",
              "ru": "Продукты с CBD"
             },
             "parentId": "531o1i5AUWe4X5mZqcb7",
             "rank": 0,
             "subcategories": []
            },
            {
             "icon": "",
             "id": "AejzgJt4Wa9C5crjDtPA",
             "name": {
              "de": "ANDERE ERGÄNZUNGSMITTEL",
              "en": "Other supplements",
              "lt": "Kiti papildai",
              "ru": "ДРУГИЕ ДОБАВКИ"
             },
             "parentId": "531o1i5AUWe4X5mZqcb7",
             "rank": 0,
             "subcategories": []
            },
            {
             "icon": "",
             "id": "SQUOz20q7yvBd2ulYdZy",
             "name": {
              "de": "Vitamine und mineralien",
              "en": "Vitamins and minerals",
              "lt": "Vitaminai ir mineralai",
              "ru": "ВИТАМИНЫ И МИНЕРАЛЫ"
             },
             "parentId": "531o1i5AUWe4X5mZqcb7",
             "rank": 10,
             "subcategories": []
            }
           ]
          },
          {
           "icon": "https://storage.googleapis.com/lastmile-ui/images/icons/NEW%20category%20tree%20icons/Gyvu%CC%84nu%CC%A8%20preke%CC%87s2.svg",
           "id": "JJTfSWH3okm9sTSeXc8d",
           "name": {
            "de": "Tierwaren",
            "en": "Products for animals",
            "lt": "Gyvūnų prekės",
            "ru": "Товары для животных"
           },
           "parentId": "0",
           "rank": 50,
           "subcategories": [
            {
             "icon": "",
             "id": "L52ZOdWjtP4HImC5t6os",
             "name": {
              "de": "Spielzeug für Tiere",
              "en": "Toys for animals",
              "lt": "Žaislai gyvūnams",
              "ru": "Игрушки для животных"
             },
             "parentId": "JJTfSWH3okm9sTSeXc8d",
             "rank": 0,
             "subcategories": []
            },
            {
             "icon": "",
             "id": "11dTaQRnkqN6dwQWaSrj",
             "name": {
              "de": "Waren für andere Tiere",
              "en": "Other animals' goods",
              "lt": "Kitų gyvūnų prekės",
              "ru": "Товары для других животных"
             },
             "parentId": "JJTfSWH3okm9sTSeXc8d",
             "rank": 0,
             "subcategories": []
            },
            {
             "icon": "",
             "id": "5MNLffg0OwNwd4uks2Uf",
             "name": {
              "de": "Hygiene, Pflege für Tiere",
              "en": "Hygiene, care for animals",
              "lt": "Higiena,priežiūra gyvūnams",
              "ru": "Гигиена и уход за животными"
             },
             "parentId": "JJTfSWH3okm9sTSeXc8d",
             "rank": 0,
             "subcategories": []
            },
            {
             "icon": "",
             "id": "UhVac6BwYPXJHSicFKT8",
             "name": {
              "de": "Heim-, Reiseausrüstung für Tiere",
              "en": "Home, travel gear for animals",
              "lt": "Namų, kelionių įranga gyvūnams",
              "ru": "Оборудование для дома и путешествий для животных"
             },
             "parentId": "JJTfSWH3okm9sTSeXc8d",
             "rank": 0,
             "subcategories": []
            },
            {
             "icon": "",
             "id": "G2vGN0HkYz0EKAnGSACe",
             "name": {
              "de": "Produkte für Vögel",
              "en": "Products for birds",
              "lt": "Prekės paukščiams",
              "ru": "Товары для птиц"
             },
             "parentId": "JJTfSWH3okm9sTSeXc8d",
             "rank": 0,
             "subcategories": []
            },
            {
             "icon": "",
             "id": "yKTh4YdGgj0KGGnlswRi",
             "name": {
              "de": "Hygiene, Pflege für Katzen",
              "en": "Hygiene, grooming products for cats",
              "lt": "Higiena,priežiūra katėms",
              "ru": "Гигиена, уход за кошками"
             },
             "parentId": "JJTfSWH3okm9sTSeXc8d",
             "rank": 0,
             "subcategories": []
            },
            {
             "icon": "",
             "id": "qmPGfYsCYMuh6y2O4lo2",
             "name": {
              "de": "Einstreu und Toiletten",
              "en": "Litter and litter boxes",
              "lt": "Kraikas ir tualetai",
              "ru": "Наполнители и туалеты"
             },
             "parentId": "JJTfSWH3okm9sTSeXc8d",
             "rank": 0,
             "subcategories": []
            },
            {
             "icon": "",
             "id": "XhZd6iJIxMQWL5S488Fe",
             "name": {
              "de": "Leckereien für Tiere",
              "en": "Treats for animals",
              "lt": "Skanėstai gyvūnams",
              "ru": "Лакомства для животных"
             },
             "parentId": "JJTfSWH3okm9sTSeXc8d",
             "rank": 0,
             "subcategories": []
            },
            {
             "icon": "",
             "id": "V8vLubXsNWuIKelWDm3N",
             "name": {
              "de": "Produkte für Nagetiere",
              "en": "Products for rodents",
              "lt": "Prekės graužikams",
              "ru": "Товары для грызунов"
             },
             "parentId": "JJTfSWH3okm9sTSeXc8d",
             "rank": 0,
             "subcategories": []
            },
            {
             "icon": "",
             "id": "q4LnXkWc1zGyMloCrB2A",
             "name": {
              "de": "Schalen für Tiere",
              "en": "Bowls for animals",
              "lt": "Dubenėliai gyvūnams",
              "ru": "Миски для животных"
             },
             "parentId": "JJTfSWH3okm9sTSeXc8d",
             "rank": 0,
             "subcategories": []
            },
            {
             "icon": "",
             "id": "JzFFv15ZZGZ3L0UhDQaD",
             "name": {
              "de": "Halsbänder, Geschirre für Tiere",
              "en": "Collars, harnesses for animals",
              "lt": "Pavadėliai, antkakliai gyvūnams",
              "ru": "Ошейники, поводки для животных"
             },
             "parentId": "JJTfSWH3okm9sTSeXc8d",
             "rank": 0,
             "subcategories": []
            },
            {
             "icon": "",
             "id": "TkYx4sQCCYDr4OuGmxjP",
             "name": {
              "de": "Tierfutter",
              "en": "Animal food",
              "lt": "Gyvūnų maistas",
              "ru": "Корм для животных"
             },
             "parentId": "JJTfSWH3okm9sTSeXc8d",
             "rank": 10,
             "subcategories": []
            }
           ]
          }
         ],
         "category": null,
         "chainsOrChain": [
          {
           "backgroundThumbUrl": "https://storage.googleapis.com/download/storage/v1/b/lastmile-ui/o/import%2Fphotos%2Fconverted%2Fchain%2Fglobal_CvKfTzV4TN5U8BTMF1Hl_tkoQLL8xhuM8bg7QndYinWCDCU73_fDQWvmettNXXNpSvLq5T_big.jpg?generation=1696279395396754&alt=media",
           "hasLoyaltyProgram": true,
           "id": "CvKfTzV4TN5U8BTMF1Hl",
           "isUsingStock": true,
           "loyaltyCardImage": {
            "de": "https://firebasestorage.googleapis.com/v0/b/lastmile-ui/o/images%2Fassets_v2%2Floyalty_CvKfTzV4TN5U8BTMF1Hl_lt.png?alt=media&token=28540a8e-8b56-44b7-9e6a-c894b8349932",
            "en": "https://firebasestorage.googleapis.com/v0/b/lastmile-ui/o/images%2Fassets_v2%2Floyalty_CvKfTzV4TN5U8BTMF1Hl_lt.png?alt=media&token=28540a8e-8b56-44b7-9e6a-c894b8349932",
            "lt": "https://firebasestorage.googleapis.com/v0/b/lastmile-ui/o/images%2Fassets_v2%2Floyalty_CvKfTzV4TN5U8BTMF1Hl_lt.png?alt=media&token=28540a8e-8b56-44b7-9e6a-c894b8349932",
            "ru": "https://firebasestorage.googleapis.com/v0/b/lastmile-ui/o/images%2Fassets_v2%2Floyalty_CvKfTzV4TN5U8BTMF1Hl_lt.png?alt=media&token=28540a8e-8b56-44b7-9e6a-c894b8349932"
           },
           "name": {
            "en": "IKI",
            "lt": "IKI"
           },
           "slugs": [
            "IKI"
           ],
           "tags": [
            "groceries",
            "drinks",
            "pets",
            "alcohol",
            "organic",
            "promotions"
           ],
           "thumbUrl": "https://storage.googleapis.com/download/storage/v1/b/lastmile-ui/o/import%2Fphotos%2Fconverted%2Fchain%2Fglobal_CvKfTzV4TN5U8BTMF1Hl_tkoQLL8xhuM8bg7QndYinWCDCU73_d21X4GYBytMv2Q1sutzT_thumb.webp?generation=1704191895496781&alt=media"
          },
          {
           "backgroundThumbUrl": "https://storage.googleapis.com/download/storage/v1/b/lastmile-ui/o/import%2Fphotos%2Fconverted%2Fchain%2Fglobal_OiGzdqIuls86njWsPYmw_tkoQLL8xhuM8bg7QndYinWCDCU73_pjzFeAl2Qgg5O6SjFgKg_big.jpg?generation=1696279404267016&alt=media",
           "hasLoyaltyProgram": false,
           "id": "OiGzdqIuls86njWsPYmw",
           "isUsingStock": true,
           "loyaltyCardImage": null,
           "name": {
            "en": "PROMO Cash&Carry",
            "lt": "PROMO Cash&Carry"
           },
           "slugs": [
            "LastMile-MARKET",
            "PROMO-CashandCarry"
           ],
           "tags": [
            "groceries",
            "alcohol"
           ],
           "thumbUrl": "https://storage.googleapis.com/download/storage/v1/b/lastmile-ui/o/import%2Fphotos%2Fconverted%2Fchain%2Fglobal_OiGzdqIuls86njWsPYmw_tkoQLL8xhuM8bg7QndYinWCDCU73_dT1muhNXcd76338R0ymt_thumb.webp?generation=1698216054875329&alt=media"
          },
          {
           "backgroundThumbUrl": "https://firebasestorage.googleapis.com/v0/b/lastmile-ui/o/import%2Fphotos%2Fconverted%2Fchain%2FbackgroundThumbUrl%2Fglobal_V0H88rGsB6VLgF78J9od_tkoQLL8xhuM8bg7QndYinWCDCU73_GnMUmkVt2AZv2GfOooHX.webp?alt=media&token=4fe89beb-4e2e-486e-8153-9a30d7afb39a",
           "hasLoyaltyProgram": false,
           "id": "V0H88rGsB6VLgF78J9od",
           "isUsingStock": false,
           "loyaltyCardImage": null,
           "name": {
            "en": "OSSU",
            "lt": "OSSU"
           },
           "slugs": [
            "OSSU"
           ],
           "tags": [
            "newShop",
            "organic"
           ],
           "thumbUrl": "https://firebasestorage.googleapis.com/v0/b/lastmile-ui/o/import%2Fphotos%2Fconverted%2Fchain%2FthumbUrl%2FV0H88rGsB6VLgF78J9od_V0H88rGsB6VLgF78J9od_O5C3irHVPCa8xS5DeZgApO5UvCC2_lZjfwaaCdMn8o0M0nCgc.webp?alt=media&token=ddd4c094-b24e-4e55-8764-4ea9aedab816"
          },
          {
           "backgroundThumbUrl": "https://firebasestorage.googleapis.com/v0/b/lastmile-ui/o/import%2Fphotos%2Fconverted%2Fchain%2FbackgroundThumbUrl%2Fglobal_f5sdEyrvfddGmcFKT01v_tkoQLL8xhuM8bg7QndYinWCDCU73_bNBJxZuOMj66ia22ep6O.webp?alt=media&token=f7ba79eb-97a8-4058-b5f9-564bf46daa42",
           "hasLoyaltyProgram": false,
           "id": "f5sdEyrvfddGmcFKT01v",
           "isUsingStock": false,
           "loyaltyCardImage": null,
           "name": {
            "de": "EP Bar",
            "en": "EP Bar",
            "lt": "EP Bar",
            "ru": "EP Bar"
           },
           "slugs": [
            "EP-Bar"
           ],
           "tags": [
            "newShop",
            "organic",
            "groceries"
           ],
           "thumbUrl": "https://storage.googleapis.com/download/storage/v1/b/lastmile-ui/o/images%2Fchains%2Fconverted%2Fthumb_f5sdEyrvfddGmcFKT01v.jpg?generation=1623842155943090&alt=media"
          },
          {
           "backgroundThumbUrl": "https://firebasestorage.googleapis.com/v0/b/lastmile-ui/o/import%2Fphotos%2Fconverted%2Fchain%2FbackgroundThumbUrl%2Fglobal_DgEa3bu5Yyk6NVj5XLAW_tkoQLL8xhuM8bg7QndYinWCDCU73_iedeZEfAog29fmsLPKaR.webp?alt=media&token=8ddd4e26-7f1c-4dab-801e-c7fd4c6358ff",
           "hasLoyaltyProgram": false,
           "id": "DgEa3bu5Yyk6NVj5XLAW",
           "isUsingStock": false,
           "loyaltyCardImage": null,
           "name": {
            "en": "Happy Nuts",
            "lt": "Happy Nuts"
           },
           "slugs": [
            "Happy-nuts",
            "Happy-Nuts"
           ],
           "tags": [
            "newShop",
            "gifts",
            "organic"
           ],
           "thumbUrl": "https://firebasestorage.googleapis.com/v0/b/lastmile-ui/o/import%2Fphotos%2Fconverted%2Fchain%2FthumbUrl%2FDgEa3bu5Yyk6NVj5XLAW_DgEa3bu5Yyk6NVj5XLAW_O5C3irHVPCa8xS5DeZgApO5UvCC2_eWy3dI90mRQ12HS0LJiD.webp?alt=media&token=2f974edd-1fe9-4fef-8eb0-7f7e38b17ccb"
          },
          {
           "backgroundThumbUrl": "https://firebasestorage.googleapis.com/v0/b/lastmile-ui/o/import%2Fphotos%2Fconverted%2Fchain%2FbackgroundThumbUrl%2Fglobal_EGhL2pJWdSnGxfZWx3NO_tkoQLL8xhuM8bg7QndYinWCDCU73_aeuotO1KucoHvsmTB245.webp?alt=media&token=f7e61656-8ea7-4e8e-bc3e-dab363d8014c",
           "hasLoyaltyProgram": false,
           "id": "EGhL2pJWdSnGxfZWx3NO",
           "isUsingStock": false,
           "loyaltyCardImage": null,
           "name": {
            "de": "CHAZZ CHIPS",
            "en": "CHAZZ CHIPS",
            "lt": "CHAZZ CHIPS",
            "ru": "CHAZZ CHIPS"
           },
           "slugs": [
            "CHAZZ-CHIPS"
           ],
           "tags": [
            "newShop",
            "gourmet",
            "groceries",
            "gifts"
           ],
           "thumbUrl": "https://firebasestorage.googleapis.com/v0/b/lastmile-ui/o/import%2Fphotos%2Fconverted%2Fchain%2FthumbUrl%2FEGhL2pJWdSnGxfZWx3NO_EGhL2pJWdSnGxfZWx3NO_O5C3irHVPCa8xS5DeZgApO5UvCC2_IrI6Fflg6ViOijDqg7L5.webp?alt=media&token=7e17efe8-c665-4ceb-ae6a-8b32e1a76133"
          },
          {
           "backgroundThumbUrl": "https://firebasestorage.googleapis.com/v0/b/lastmile-ui/o/import%2Fphotos%2Fconverted%2Fchain%2FbackgroundThumbUrl%2Fglobal_ME8nJYnuUfBKGfSLAaG5_tkoQLL8xhuM8bg7QndYinWCDCU73_NGrEeigtolaQMuq7jIbu.webp?alt=media&token=6bfc5ea3-0c03-49d2-ad82-a1313df1dbd9",
           "hasLoyaltyProgram": false,
           "id": "ME8nJYnuUfBKGfSLAaG5",
           "isUsingStock": false,
           "loyaltyCardImage": null,
           "name": {
            "en": "Mėsos broliai",
            "lt": "Mėsos broliai"
           },
           "slugs": [
            "Mesos-broliai-MB",
            "Mesos-broliai"
           ],
           "tags": [
            "newShop",
            "organic",
            "gourmet"
           ],
           "thumbUrl": "https://storage.googleapis.com/download/storage/v1/b/lastmile-ui/o/import%2Fphotos%2Fconverted%2Fchain%2Fglobal_ME8nJYnuUfBKGfSLAaG5_O5C3irHVPCa8xS5DeZgApO5UvCC2_Sj2VckWp56lr8QxJZbBN_thumb.webp?generation=1707313939366827&alt=media"
          },
          {
           "backgroundThumbUrl": "https://firebasestorage.googleapis.com/v0/b/lastmile-ui/o/import%2Fphotos%2Fconverted%2Fchain%2FbackgroundThumbUrl%2Fglobal_CHkeQjQ8UKmO9MeORPe4_tkoQLL8xhuM8bg7QndYinWCDCU73_WEQHRgS5Mc0mt2MvkwZv.webp?alt=media&token=c2906dd8-7094-44e4-91ac-9ff9314ea7c7",
           "hasLoyaltyProgram": false,
           "id": "CHkeQjQ8UKmO9MeORPe4",
           "isUsingStock": false,
           "loyaltyCardImage": null,
           "name": {
            "en": "Deistra",
            "lt": "Deistra"
           },
           "slugs": [
            "Deistra"
           ],
           "tags": [
            "newShop",
            "gifts"
           ],
           "thumbUrl": "https://firebasestorage.googleapis.com/v0/b/lastmile-ui/o/import%2Fphotos%2Fconverted%2Fchain%2FthumbUrl%2FCHkeQjQ8UKmO9MeORPe4_CHkeQjQ8UKmO9MeORPe4_O5C3irHVPCa8xS5DeZgApO5UvCC2_SWtVLT2YYE0Tv3w2jP6A.webp?alt=media&token=97dc1745-0eac-48ca-8b6f-74cdfb97a652"
          },
          {
           "backgroundThumbUrl": "https://storage.googleapis.com/download/storage/v1/b/lastmile-ui/o/import%2Fphotos%2Fconverted%2Fchain%2Fglobal_YBTctNWk7hQsbYf2njlj_tkoQLL8xhuM8bg7QndYinWCDCU73_tV4spWUWmbpQSz6eAryL_big.jpg?generation=1696279406977682&alt=media",
           "hasLoyaltyProgram": false,
           "id": "YBTctNWk7hQsbYf2njlj",
           "isUsingStock": false,
           "loyaltyCardImage": null,
           "name": {
            "de": "Naturalia Ūkis",
            "en": "Naturalia Ūkis",
            "lt": "Naturalia Ūkis",
            "ru": "Naturalia Ūkis"
           },
           "slugs": [
            "Naturalia-ukis"
           ],
           "tags": [
            "organic",
            "groceries",
            "gourmet"
           ],
           "thumbUrl": "https://storage.googleapis.com/download/storage/v1/b/lastmile-ui/o/import%2Fphotos%2Fconverted%2Fchain%2Fglobal_YBTctNWk7hQsbYf2njlj_tkoQLL8xhuM8bg7QndYinWCDCU73_gUKmmUR0GffwbQ7Yjdsf_thumb.webp?generation=1698216054403351&alt=media"
          },
          {
           "backgroundThumbUrl": "https://firebasestorage.googleapis.com/v0/b/lastmile-ui/o/import%2Fphotos%2Fconverted%2Fchain%2FbackgroundThumbUrl%2Fglobal_O2LBdkXTNAE3v3Mkrkc6_tkoQLL8xhuM8bg7QndYinWCDCU73_h103ZrMHtwslDG2cwMcR.webp?alt=media&token=dc8b9509-33e7-4934-8a9e-9ec8c364c2ae",
           "hasLoyaltyProgram": false,
           "id": "O2LBdkXTNAE3v3Mkrkc6",
           "isUsingStock": false,
           "loyaltyCardImage": null,
           "name": {
            "en": "ALUS GYVAS  Cin Cin ",
            "lt": "ALUS GYVAS Cin Cin "
           },
           "slugs": [
            "ALUS-GYVAS-Cin-Cin"
           ],
           "tags": [
            "newShop",
            "alcohol"
           ],
           "thumbUrl": "https://firebasestorage.googleapis.com/v0/b/lastmile-ui/o/import%2Fphotos%2Fconverted%2Fchain%2FthumbUrl%2FO2LBdkXTNAE3v3Mkrkc6_O2LBdkXTNAE3v3Mkrkc6_O5C3irHVPCa8xS5DeZgApO5UvCC2_WBvTWTc9HjHHMqMbCGpM.webp?alt=media&token=e83966fa-9184-4cca-856c-9323f7e9d695"
          },
          {
           "backgroundThumbUrl": "https://firebasestorage.googleapis.com/v0/b/lastmile-ui/o/import%2Fphotos%2Fconverted%2Fchain%2FbackgroundThumbUrl%2Fglobal_5JeoycvZoB0oU9Rx1CqS_tkoQLL8xhuM8bg7QndYinWCDCU73_G432nD3Mw7Zl0XY8a9BT.webp?alt=media&token=8f1c04f0-0b80-49db-b733-9258e7ca722b",
           "hasLoyaltyProgram": false,
           "id": "5JeoycvZoB0oU9Rx1CqS",
           "isUsingStock": false,
           "loyaltyCardImage": null,
           "name": {
            "en": "Rolando daržovės",
            "lt": "Rolando daržovės"
           },
           "slugs": [
            "Rolando-darzoves-UAB",
            "Rolando-darzoves"
           ],
           "tags": [
            "newShop",
            "groceries"
           ],
           "thumbUrl": "https://firebasestorage.googleapis.com/v0/b/lastmile-ui/o/import%2Fphotos%2Fconverted%2Fchain%2FthumbUrl%2F5JeoycvZoB0oU9Rx1CqS_5JeoycvZoB0oU9Rx1CqS_O5C3irHVPCa8xS5DeZgApO5UvCC2_N7Way6GW4uGqOO1AswQY.webp?alt=media&token=720f716c-f613-4699-ab04-9cc108ddfc6c"
          },
          {
           "backgroundThumbUrl": "https://storage.googleapis.com/download/storage/v1/b/lastmile-ui/o/import%2Fphotos%2Fconverted%2Fchain%2Fglobal_3cixqMb5xhJhYjIFED6x_tkoQLL8xhuM8bg7QndYinWCDCU73_TgYXeJMi8NRnqUGd1hFa_big.jpg?generation=1696279399925348&alt=media",
           "hasLoyaltyProgram": false,
           "id": "3cixqMb5xhJhYjIFED6x",
           "isUsingStock": false,
           "loyaltyCardImage": null,
           "name": {
            "de": "The Farm",
            "en": "The Farm",
            "lt": "The Farm",
            "ru": "The Farm"
           },
           "slugs": [
            "The-Farm"
           ],
           "tags": [
            "gourmet",
            "groceries"
           ],
           "thumbUrl": "https://storage.googleapis.com/download/storage/v1/b/lastmile-ui/o/import%2Fphotos%2Fconverted%2Fchain%2Fglobal_3cixqMb5xhJhYjIFED6x_tkoQLL8xhuM8bg7QndYinWCDCU73_HchtzzYTHdTVC8raqnLS_thumb.webp?generation=1698216049297531&alt=media"
          },
          {
           "backgroundThumbUrl": "https://firebasestorage.googleapis.com/v0/b/lastmile-ui/o/import%2Fphotos%2Fconverted%2Fchain%2FbackgroundThumbUrl%2Fglobal_gMVefiUhDs7QIomr2xdT_tkoQLL8xhuM8bg7QndYinWCDCU73_Wn5MgVF0y89xDFR8wKJe.webp?alt=media&token=3f087f48-eab0-4b01-a39d-cbe8b0ed4b6b",
           "hasLoyaltyProgram": false,
           "id": "gMVefiUhDs7QIomr2xdT",
           "isUsingStock": false,
           "loyaltyCardImage": null,
           "name": {
            "en": "Hdrop",
            "lt": "Hdrop"
           },
           "slugs": [
            "Hdrop"
           ],
           "tags": [
            "newShop",
            "organic"
           ],
           "thumbUrl": "https://firebasestorage.googleapis.com/v0/b/lastmile-ui/o/import%2Fphotos%2Fconverted%2Fchain%2FthumbUrl%2FgMVefiUhDs7QIomr2xdT_gMVefiUhDs7QIomr2xdT_O5C3irHVPCa8xS5DeZgApO5UvCC2_4FNoaDa8XqTpJWQoKRda.webp?alt=media&token=5287954c-3f9f-4739-84f9-d1c9b194457a"
          },
          {
           "backgroundThumbUrl": "https://storage.googleapis.com/download/storage/v1/b/lastmile-ui/o/import%2Fphotos%2Fconverted%2Fchain%2Fglobal_0vVwsUUqORLDU0PrZXRD_tkoQLL8xhuM8bg7QndYinWCDCU73_DDV7x5uoIMhwUfnodixi_big.jpg?generation=1696279408233637&alt=media",
           "hasLoyaltyProgram": false,
           "id": "0vVwsUUqORLDU0PrZXRD",
           "isUsingStock": true,
           "loyaltyCardImage": null,
           "name": {
            "de": "Livin",
            "en": "Livin",
            "lt": "Livin",
            "ru": "Livin"
           },
           "slugs": [
            "Livin"
           ],
           "tags": [
            "groceries",
            "organic",
            "gourmet"
           ],
           "thumbUrl": "https://storage.googleapis.com/download/storage/v1/b/lastmile-ui/o/import%2Fphotos%2Fconverted%2Fchain%2Fglobal_0vVwsUUqORLDU0PrZXRD_tkoQLL8xhuM8bg7QndYinWCDCU73_r642wXN88oYeyOmTYKc3_thumb.webp?generation=1698216048621240&alt=media"
          },
          {
           "backgroundThumbUrl": "https://storage.googleapis.com/download/storage/v1/b/lastmile-ui/o/import%2Fphotos%2Fconverted%2Fchain%2Fglobal_PDhUb8kDcuALavgGKXX2_tkoQLL8xhuM8bg7QndYinWCDCU73_Zrt6r0dFo3GoorZhWesE_big.jpg?generation=1696280908002214&alt=media",
           "hasLoyaltyProgram": false,
           "id": "PDhUb8kDcuALavgGKXX2",
           "isUsingStock": false,
           "loyaltyCardImage": null,
           "name": {
            "de": "sargiai.lt",
            "en": "sargiai.lt",
            "lt": "sargiai.lt",
            "ru": "sargiai.lt"
           },
           "slugs": [
            "sargiailt"
           ],
           "tags": [],
           "thumbUrl": "https://storage.googleapis.com/download/storage/v1/b/lastmile-ui/o/import%2Fphotos%2Fconverted%2Fchain%2Fglobal_PDhUb8kDcuALavgGKXX2_tkoQLL8xhuM8bg7QndYinWCDCU73_hV19G6ztUPWfDfWkSg3s_thumb.webp?generation=1698216056462149&alt=media"
          },
          {
           "backgroundThumbUrl": "https://storage.googleapis.com/download/storage/v1/b/lastmile-ui/o/import%2Fphotos%2Fconverted%2Fchain%2Fglobal_bc3S3gEhDfi5Bz0IkC82_tkoQLL8xhuM8bg7QndYinWCDCU73_pgQT2MEtKBWfencNWvUA_big.webp?generation=1704192469435263&alt=media",
           "hasLoyaltyProgram": false,
           "id": "bc3S3gEhDfi5Bz0IkC82",
           "isUsingStock": true,
           "loyaltyCardImage": null,
           "name": {
            "de": "GRILLMAN",
            "en": "GRILLMAN",
            "lt": "GRILLMAN",
            "ru": "GRILLMAN"
           },
           "slugs": [
            "GRILLMAN"
           ],
           "tags": [
            "newShop"
           ],
           "thumbUrl": "https://storage.googleapis.com/download/storage/v1/b/lastmile-ui/o/import%2Fphotos%2Fconverted%2Fchain%2Fglobal_bc3S3gEhDfi5Bz0IkC82_tkoQLL8xhuM8bg7QndYinWCDCU73_Vb5V5ewNglanlWGfil4u_thumb.webp?generation=1698216053738912&alt=media"
          },
          {
           "backgroundThumbUrl": "https://firebasestorage.googleapis.com/v0/b/lastmile-ui/o/import%2Fphotos%2Fconverted%2Fchain%2FbackgroundThumbUrl%2Fglobal_I3aA4Purr0E8vecuPBDA_tkoQLL8xhuM8bg7QndYinWCDCU73_8GlZm7XcZYEjNQ6XeuB8.webp?alt=media&token=1f509580-ce85-4752-b309-83ce9fa0e316",
           "hasLoyaltyProgram": false,
           "id": "I3aA4Purr0E8vecuPBDA",
           "isUsingStock": false,
           "loyaltyCardImage": null,
           "name": {
            "en": "Gummzy",
            "lt": "Gummzy"
           },
           "slugs": [
            "Gummzy"
           ],
           "tags": [
            "newShop"
           ],
           "thumbUrl": "https://firebasestorage.googleapis.com/v0/b/lastmile-ui/o/import%2Fphotos%2Fconverted%2Fchain%2FthumbUrl%2FI3aA4Purr0E8vecuPBDA_I3aA4Purr0E8vecuPBDA_O5C3irHVPCa8xS5DeZgApO5UvCC2_lSaZZCgb3GJd1rUBXmuT.webp?alt=media&token=80649896-fbc9-4d61-af73-ab4e848fcdaf"
          },
          {
           "backgroundThumbUrl": "https://firebasestorage.googleapis.com/v0/b/lastmile-ui/o/import%2Fphotos%2Fconverted%2Fchain%2FbackgroundThumbUrl%2Fglobal_kAokIGbkw2lqK63EJ9oT_tkoQLL8xhuM8bg7QndYinWCDCU73_qiFQjci9AvzvysaIEU6X.webp?alt=media&token=6e7be171-9f14-4ba7-8667-a0f96a73c79d",
           "hasLoyaltyProgram": false,
           "id": "kAokIGbkw2lqK63EJ9oT",
           "isUsingStock": false,
           "loyaltyCardImage": null,
           "name": {
            "en": "HIPSTERS ",
            "lt": "HIPSTERS "
           },
           "slugs": [
            "HIPSTERS-Good-beer-and-more",
            "HIPSTERS"
           ],
           "tags": [
            "alcohol",
            "newShop"
           ],
           "thumbUrl": "https://firebasestorage.googleapis.com/v0/b/lastmile-ui/o/import%2Fphotos%2Fconverted%2Fchain%2FthumbUrl%2FkAokIGbkw2lqK63EJ9oT_kAokIGbkw2lqK63EJ9oT_O5C3irHVPCa8xS5DeZgApO5UvCC2_nMB0smcPNTjajI787map.webp?alt=media&token=7df78543-82c6-495d-8ec3-cf6f6ec82723"
          },
          {
           "backgroundThumbUrl": "https://storage.googleapis.com/download/storage/v1/b/lastmile-ui/o/import%2Fphotos%2Fconverted%2Fchain%2Fglobal_59ks1hjKn7BKohQl6VNa_tkoQLL8xhuM8bg7QndYinWCDCU73_XIWSaZSXDNiKsmTkCu1Z_big.webp?generation=1701071247863322&alt=media",
           "hasLoyaltyProgram": false,
           "id": "59ks1hjKn7BKohQl6VNa",
           "isUsingStock": true,
           "loyaltyCardImage": {
            "de": "-",
            "en": "-",
            "lt": "-",
            "ru": "-"
           },
           "name": {
            "de": "VAGA",
            "en": "VAGA",
            "lt": "VAGA",
            "ru": "VAGA"
           },
           "slugs": [
            "VAGA"
           ],
           "tags": [
            "newShop"
           ],
           "thumbUrl": "https://storage.googleapis.com/download/storage/v1/b/lastmile-ui/o/import%2Fphotos%2Fconverted%2Fchain%2Fglobal_59ks1hjKn7BKohQl6VNa_tkoQLL8xhuM8bg7QndYinWCDCU73_AR9Q1VEJy6qQDg19Z5ab_thumb.webp?generation=1698216049716207&alt=media"
          },
          {
           "backgroundThumbUrl": "https://storage.googleapis.com/download/storage/v1/b/lastmile-ui/o/import%2Fphotos%2Fconverted%2Fchain%2Fglobal_iDW7ky4wlWNFIj1u1csw_tkoQLL8xhuM8bg7QndYinWCDCU73_4nE4GISY5xbIN51nIj6s_big.jpg?generation=1696279397070690&alt=media",
           "hasLoyaltyProgram": false,
           "id": "iDW7ky4wlWNFIj1u1csw",
           "isUsingStock": false,
           "loyaltyCardImage": null,
           "name": {
            "de": "Biocos",
            "en": "Biocos",
            "lt": "Biocos",
            "ru": "Biocos"
           },
           "slugs": [
            "Biocos"
           ],
           "tags": [
            "organic",
            "cosmetics",
            "bodycare"
           ],
           "thumbUrl": "https://storage.googleapis.com/download/storage/v1/b/lastmile-ui/o/import%2Fphotos%2Fconverted%2Fchain%2Fglobal_iDW7ky4wlWNFIj1u1csw_tkoQLL8xhuM8bg7QndYinWCDCU73_rHB8GvNdhE1uwp6xjF7I_thumb.jpg?generation=1696279397710224&alt=media"
          },
          {
           "backgroundThumbUrl": "https://storage.googleapis.com/download/storage/v1/b/lastmile-ui/o/import%2Fphotos%2Fconverted%2Fchain%2Fglobal_GZixRM8cnWeoje1sL1Mx_tkoQLL8xhuM8bg7QndYinWCDCU73_NkNDW8Kj4EcWpgcwuim0_big.webp?generation=1707145495512799&alt=media",
           "hasLoyaltyProgram": false,
           "id": "GZixRM8cnWeoje1sL1Mx",
           "isUsingStock": false,
           "loyaltyCardImage": null,
           "name": {
            "en": "Florisima",
            "lt": "Florisima"
           },
           "slugs": [
            "Florisima"
           ],
           "tags": [
            "newShop",
            "gifts"
           ],
           "thumbUrl": "https://storage.googleapis.com/download/storage/v1/b/lastmile-ui/o/import%2Fphotos%2Fconverted%2Fchain%2Fglobal_GZixRM8cnWeoje1sL1Mx_O5C3irHVPCa8xS5DeZgApO5UvCC2_p8ihbblrkatgnuBBFp8y_thumb.webp?generation=1706685594907585&alt=media"
          },
          {
           "backgroundThumbUrl": "https://storage.googleapis.com/download/storage/v1/b/lastmile-ui/o/import%2Fphotos%2Fconverted%2Fchain%2Fglobal_l5wpue0Ih6LIaG5xtRPR_tkoQLL8xhuM8bg7QndYinWCDCU73_2ggZefiGynzACYBtUp4C_big.jpg?generation=1696279400148447&alt=media",
           "hasLoyaltyProgram": false,
           "id": "l5wpue0Ih6LIaG5xtRPR",
           "isUsingStock": false,
           "loyaltyCardImage": null,
           "name": {
            "de": "Bluefish",
            "en": "Bluefish",
            "lt": "Bluefish",
            "ru": "Bluefish"
           },
           "slugs": [
            "Bluefish"
           ],
           "tags": [
            "newShop"
           ],
           "thumbUrl": "https://storage.googleapis.com/download/storage/v1/b/lastmile-ui/o/import%2Fphotos%2Fconverted%2Fchain%2Fglobal_l5wpue0Ih6LIaG5xtRPR_tkoQLL8xhuM8bg7QndYinWCDCU73_gyHWYH9UqFAbwSR0S4SR_thumb.webp?generation=1698216054698653&alt=media"
          },
          {
           "backgroundThumbUrl": "https://firebasestorage.googleapis.com/v0/b/lastmile-ui/o/import%2Fphotos%2Fconverted%2Fchain%2FbackgroundThumbUrl%2Fglobal_quN3J8pCMyt6s4ZEPRiU_tkoQLL8xhuM8bg7QndYinWCDCU73_qsBVd3FlirjJwrXbreiA.webp?alt=media&token=90dc8fca-d87d-4ca3-865f-3535a8de6d16",
           "hasLoyaltyProgram": false,
           "id": "quN3J8pCMyt6s4ZEPRiU",
           "isUsingStock": true,
           "loyaltyCardImage": null,
           "name": {
            "de": "Fantazijos.lt",
            "en": "Fantazijos.lt",
            "lt": "Fantazijos.lt",
            "ru": "Fantazijos.lt"
           },
           "slugs": [
            "Fantazijoslt"
           ],
           "tags": [
            "newShop",
            "gifts",
            "promotions"
           ],
           "thumbUrl": "https://storage.googleapis.com/download/storage/v1/b/lastmile-ui/o/import%2Fphotos%2Fconverted%2Fchain%2Fglobal_quN3J8pCMyt6s4ZEPRiU_tkoQLL8xhuM8bg7QndYinWCDCU73_S3tDW1aFh8YBmEOiX8lR_thumb.webp?generation=1698216054736949&alt=media"
          },
          {
           "backgroundThumbUrl": "https://storage.googleapis.com/download/storage/v1/b/lastmile-ui/o/import%2Fphotos%2Fconverted%2Fchain%2Fglobal_Ya1Xiu0sboidbfwwHKys_tkoQLL8xhuM8bg7QndYinWCDCU73_x2a6yRAuPJJWt0BckIGy_big.jpg?generation=1696279406228416&alt=media",
           "hasLoyaltyProgram": false,
           "id": "Ya1Xiu0sboidbfwwHKys",
           "isUsingStock": false,
           "loyaltyCardImage": null,
           "name": {
            "de": "Amor de flores",
            "en": "Amor de flores",
            "lt": "Amor de flores",
            "ru": "Amor de flores"
           },
           "slugs": [
            "Amor-de-flores"
           ],
           "tags": [
            "newShop",
            "gifts"
           ],
           "thumbUrl": "https://storage.googleapis.com/download/storage/v1/b/lastmile-ui/o/import%2Fphotos%2Fconverted%2Fchain%2Fglobal_Ya1Xiu0sboidbfwwHKys_tkoQLL8xhuM8bg7QndYinWCDCU73_FxEcFTBiw2Le4RHLWsVd_thumb.webp?generation=1698216055903857&alt=media"
          },
          {
           "backgroundThumbUrl": "https://storage.googleapis.com/download/storage/v1/b/lastmile-ui/o/import%2Fphotos%2Fconverted%2Fchain%2Fglobal_9x5xzlpz6kDDNZ0GhSm1_tkoQLL8xhuM8bg7QndYinWCDCU73_gEjWhryNDVAoJVDD4pqT_big.jpg?generation=1696279393614998&alt=media",
           "hasLoyaltyProgram": false,
           "id": "9x5xzlpz6kDDNZ0GhSm1",
           "isUsingStock": false,
           "loyaltyCardImage": null,
           "name": {
            "de": "KRISPO",
            "en": "KRISPO",
            "lt": "KRISPO",
            "ru": "KRISPO"
           },
           "slugs": [
            "KRISPO"
           ],
           "tags": [
            "newShop"
           ],
           "thumbUrl": "https://storage.googleapis.com/download/storage/v1/b/lastmile-ui/o/import%2Fphotos%2Fconverted%2Fchain%2Fglobal_9x5xzlpz6kDDNZ0GhSm1_tkoQLL8xhuM8bg7QndYinWCDCU73_wPNLQEvDywav4Ws4zlG1_thumb.webp?generation=1706780249475905&alt=media"
          },
          {
           "backgroundThumbUrl": "https://storage.googleapis.com/download/storage/v1/b/lastmile-ui/o/import%2Fphotos%2Fconverted%2Fchain%2Fglobal_Z3kStuxUlOTpNUKRMaIC_tkoQLL8xhuM8bg7QndYinWCDCU73_Ai4cfuogVKYcDrjGY104_big.webp?generation=1707805009811288&alt=media",
           "hasLoyaltyProgram": false,
           "id": "Z3kStuxUlOTpNUKRMaIC",
           "isUsingStock": false,
           "loyaltyCardImage": null,
           "name": {
            "en": "Skanios gėlės",
            "lt": "Skanios gėlės"
           },
           "slugs": [
            "Skanios-geles"
           ],
           "tags": [
            "gifts",
            "newShop"
           ],
           "thumbUrl": "https://storage.googleapis.com/download/storage/v1/b/lastmile-ui/o/import%2Fphotos%2Fconverted%2Fchain%2Fglobal_Z3kStuxUlOTpNUKRMaIC_O5C3irHVPCa8xS5DeZgApO5UvCC2_ZS6fxPI9PMhjSL41MkyV_thumb.webp?generation=1707739808046720&alt=media"
          },
          {
           "backgroundThumbUrl": "https://storage.googleapis.com/download/storage/v1/b/lastmile-ui/o/import%2Fphotos%2Fconverted%2Fchain%2Fglobal_WGELPUQ8jAPdPkwiIpPX_tkoQLL8xhuM8bg7QndYinWCDCU73_4FDCA3fbJ5zjLiN3kioe_big.jpg?generation=1696279405013058&alt=media",
           "hasLoyaltyProgram": false,
           "id": "WGELPUQ8jAPdPkwiIpPX",
           "isUsingStock": false,
           "loyaltyCardImage": null,
           "name": {
            "de": "GOLDEN ROSE",
            "en": "GOLDEN ROSE",
            "lt": "GOLDEN ROSE",
            "ru": "GOLDEN ROSE"
           },
           "slugs": [
            "GOLDEN-ROSE"
           ],
           "tags": [
            "newShop",
            "gifts"
           ],
           "thumbUrl": "https://storage.googleapis.com/download/storage/v1/b/lastmile-ui/o/import%2Fphotos%2Fconverted%2Fchain%2Fglobal_WGELPUQ8jAPdPkwiIpPX_tkoQLL8xhuM8bg7QndYinWCDCU73_LxdUrl3FitsUri4Qe6Za_thumb.webp?generation=1698216051856154&alt=media"
          },
          {
           "backgroundThumbUrl": "https://storage.googleapis.com/download/storage/v1/b/lastmile-ui/o/import%2Fphotos%2Fconverted%2Fchain%2Fglobal_ZBaoNoHryuExUWExtCa8_tkoQLL8xhuM8bg7QndYinWCDCU73_R5MpaSZOen0YPeKARxcz_big.jpg?generation=1696279406618372&alt=media",
           "hasLoyaltyProgram": false,
           "id": "ZBaoNoHryuExUWExtCa8",
           "isUsingStock": false,
           "loyaltyCardImage": null,
           "name": {
            "de": "AUKSO PIEVA",
            "en": "AUKSO PIEVA",
            "lt": "AUKSO PIEVA",
            "ru": "AUKSO PIEVA"
           },
           "slugs": [
            "AUKSO-PIEVA"
           ],
           "tags": [
            "newShop"
           ],
           "thumbUrl": "https://storage.googleapis.com/download/storage/v1/b/lastmile-ui/o/import%2Fphotos%2Fconverted%2Fchain%2Fglobal_ZBaoNoHryuExUWExtCa8_tkoQLL8xhuM8bg7QndYinWCDCU73_x41F1WLObXZdKyrhIZ0D_thumb.webp?generation=1698216055469221&alt=media"
          },
          {
           "backgroundThumbUrl": "https://storage.googleapis.com/download/storage/v1/b/lastmile-ui/o/import%2Fphotos%2Fconverted%2Fchain%2Fglobal_qBH49gh6GlaUM4SJJhgS_cTAkEjfDTeMFXf0e6W4JKKhwXXA3_8U7KTapFArOlxZEAQd4v_big.webp?generation=1701427134998279&alt=media",
           "hasLoyaltyProgram": false,
           "id": "qBH49gh6GlaUM4SJJhgS",
           "isUsingStock": true,
           "loyaltyCardImage": null,
           "name": {
            "de": "Cascada",
            "en": "Cascada",
            "lt": "Cascada",
            "ru": "Cascada"
           },
           "slugs": [
            "Cascada"
           ],
           "tags": [
            "newShop",
            "gifts"
           ],
           "thumbUrl": "https://storage.googleapis.com/download/storage/v1/b/lastmile-ui/o/images%2Fchains%2Fconverted%2Fthumb_qBH49gh6GlaUM4SJJhgS.jpg?generation=1675689838931046&alt=media"
          },
          {
           "backgroundThumbUrl": "https://storage.googleapis.com/download/storage/v1/b/lastmile-ui/o/import%2Fphotos%2Fconverted%2Fchain%2Fglobal_XpGeUOcj2j7u3CmnGgn1_tkoQLL8xhuM8bg7QndYinWCDCU73_om2krPaTyELomRdVQ7Gh_big.jpg?generation=1696279405689781&alt=media",
           "hasLoyaltyProgram": false,
           "id": "XpGeUOcj2j7u3CmnGgn1",
           "isUsingStock": true,
           "loyaltyCardImage": null,
           "name": {
            "de": "OfficeDay",
            "en": "Officeday",
            "lt": "Officeday",
            "ru": "OfficeDay"
           },
           "slugs": [
            "OfficeDay",
            "Officeday"
           ],
           "tags": [
            "office"
           ],
           "thumbUrl": "https://storage.googleapis.com/download/storage/v1/b/lastmile-ui/o/import%2Fphotos%2Fconverted%2Fchain%2Fglobal_XpGeUOcj2j7u3CmnGgn1_tkoQLL8xhuM8bg7QndYinWCDCU73_FZ88x30h5LXZX0bM1Nf1_thumb.webp?generation=1698216051811417&alt=media"
          },
          {
           "backgroundThumbUrl": "https://storage.googleapis.com/download/storage/v1/b/lastmile-ui/o/import%2Fphotos%2Fconverted%2Fchain%2Fglobal_jtIUvuN1yUM4QEiYnY5P_tkoQLL8xhuM8bg7QndYinWCDCU73_jWFlez0tGq0F2gF8vGLy_big.jpg?generation=1696279399740400&alt=media",
           "hasLoyaltyProgram": false,
           "id": "jtIUvuN1yUM4QEiYnY5P",
           "isUsingStock": false,
           "loyaltyCardImage": null,
           "name": {
            "de": "Mon Ami",
            "en": "Mon Ami",
            "lt": "Mon Ami",
            "ru": "Mon Ami"
           },
           "slugs": [
            "Mon-Ami"
           ],
           "tags": [
            "bakery",
            "confectionery",
            "groceries",
            "gourmet",
            "gifts"
           ],
           "thumbUrl": "https://storage.googleapis.com/download/storage/v1/b/lastmile-ui/o/import%2Fphotos%2Fconverted%2Fchain%2Fglobal_jtIUvuN1yUM4QEiYnY5P_tkoQLL8xhuM8bg7QndYinWCDCU73_jJ8VPuN2YNSTEW6OXhyD_thumb.webp?generation=1698216053696567&alt=media"
          },
          {
           "backgroundThumbUrl": "https://storage.googleapis.com/download/storage/v1/b/lastmile-ui/o/import%2Fphotos%2Fconverted%2Fchain%2Fglobal_1Peqibnoe45eoaeIqhWY_tkoQLL8xhuM8bg7QndYinWCDCU73_swZUCIK2MTfYA3JWEsZN_big.webp?generation=1701071176642331&alt=media",
           "hasLoyaltyProgram": false,
           "id": "1Peqibnoe45eoaeIqhWY",
           "isUsingStock": false,
           "loyaltyCardImage": null,
           "name": {
            "de": "ARVI Kalakutai",
            "en": "ARVI Kalakutai",
            "lt": "ARVI Kalakutai",
            "ru": "ARVI Kalakutai"
           },
           "slugs": [
            "ARVI-Kalakutai"
           ],
           "tags": [
            "newShop",
            "groceries",
            "office"
           ],
           "thumbUrl": "https://storage.googleapis.com/download/storage/v1/b/lastmile-ui/o/import%2Fphotos%2Fconverted%2Fchain%2Fglobal_1Peqibnoe45eoaeIqhWY_tkoQLL8xhuM8bg7QndYinWCDCU73_xP1r72EXSMItuLH9xGV3_thumb.webp?generation=1698216053665904&alt=media"
          },
          {
           "backgroundThumbUrl": "https://storage.googleapis.com/download/storage/v1/b/lastmile-ui/o/import%2Fphotos%2Fconverted%2Fchain%2Fglobal_YyDBoq38GJ2OvzJabBKX_tkoQLL8xhuM8bg7QndYinWCDCU73_qxFtm1Hg0So9T2IP5aN1_big.jpg?generation=1696279406504228&alt=media",
           "hasLoyaltyProgram": false,
           "id": "YyDBoq38GJ2OvzJabBKX",
           "isUsingStock": false,
           "loyaltyCardImage": null,
           "name": {
            "de": "EkoMarket",
            "en": "EkoMarket",
            "lt": "EkoMarket",
            "ru": "EkoMarket"
           },
           "slugs": [
            "EkoMarket"
           ],
           "tags": [
            "organic",
            "groceries",
            "confectionery"
           ],
           "thumbUrl": "https://storage.googleapis.com/download/storage/v1/b/lastmile-ui/o/import%2Fphotos%2Fconverted%2Fchain%2Fglobal_YyDBoq38GJ2OvzJabBKX_tkoQLL8xhuM8bg7QndYinWCDCU73_cmgb4ONh32X1knYGAHdD_thumb.webp?generation=1698216055412953&alt=media"
          },
          {
           "backgroundThumbUrl": "https://storage.googleapis.com/download/storage/v1/b/lastmile-ui/o/import%2Fphotos%2Fconverted%2Fchain%2Fglobal_nKPj2l5y1zFwKigc7Ajh_5bf2JWMXo7aWQ7PzGf9afgfhEpG2_NM2updS1qJLINzP5t7Es_big.webp?generation=1700058369214317&alt=media",
           "hasLoyaltyProgram": false,
           "id": "nKPj2l5y1zFwKigc7Ajh",
           "isUsingStock": false,
           "loyaltyCardImage": null,
           "name": {
            "de": "MustBee",
            "en": "MustBee",
            "lt": "MustBee",
            "ru": "MustBee"
           },
           "slugs": [
            "MustBee"
           ],
           "tags": [
            "newShop"
           ],
           "thumbUrl": "https://storage.googleapis.com/download/storage/v1/b/lastmile-ui/o/images%2Fchains%2Fconverted%2Fthumb_nKPj2l5y1zFwKigc7Ajh.jpg?generation=1676644698061602&alt=media"
          },
          {
           "backgroundThumbUrl": "https://storage.googleapis.com/download/storage/v1/b/lastmile-ui/o/import%2Fphotos%2Fconverted%2Fchain%2Fglobal_BSlOISUsb351xizhb28w_tkoQLL8xhuM8bg7QndYinWCDCU73_I57ewYIfAW0MyOIDKQe2_big.jpg?generation=1696279399337864&alt=media",
           "hasLoyaltyProgram": false,
           "id": "BSlOISUsb351xizhb28w",
           "isUsingStock": false,
           "loyaltyCardImage": null,
           "name": {
            "de": "Tortai-pyragai",
            "en": "Tortai-pyragai",
            "lt": "Tortai-pyragai",
            "ru": "Tortai-pyragai"
           },
           "slugs": [
            "Tortai-pyragai"
           ],
           "tags": [
            "confectionery",
            "gourmet",
            "groceries",
            "gifts"
           ],
           "thumbUrl": "https://storage.googleapis.com/download/storage/v1/b/lastmile-ui/o/import%2Fphotos%2Fconverted%2Fchain%2Fglobal_BSlOISUsb351xizhb28w_tkoQLL8xhuM8bg7QndYinWCDCU73_J40dfaqEawR7loLj6vjK_thumb.webp?generation=1698216051424324&alt=media"
          },
          {
           "backgroundThumbUrl": "https://storage.googleapis.com/download/storage/v1/b/lastmile-ui/o/import%2Fphotos%2Fconverted%2Fchain%2Fglobal_td4XSCzKcTcDTvBeHML7_tkoQLL8xhuM8bg7QndYinWCDCU73_Lrh66YG5Z5WJWUh8ocil_big.jpg?generation=1696279404595268&alt=media",
           "hasLoyaltyProgram": false,
           "id": "td4XSCzKcTcDTvBeHML7",
           "isUsingStock": false,
           "loyaltyCardImage": null,
           "name": {
            "de": "BALTICMALL",
            "en": "BALTICMALL",
            "lt": "BALTICMALL",
            "ru": "BALTICMALL"
           },
           "slugs": [
            "BALTICMALL"
           ],
           "tags": [
            "newShop",
            "gifts"
           ],
           "thumbUrl": "https://storage.googleapis.com/download/storage/v1/b/lastmile-ui/o/import%2Fphotos%2Fconverted%2Fchain%2Fglobal_td4XSCzKcTcDTvBeHML7_tkoQLL8xhuM8bg7QndYinWCDCU73_tJaWrYgdp51WqUPbojtF_thumb.webp?generation=1698216054077951&alt=media"
          },
          {
           "backgroundThumbUrl": "https://storage.googleapis.com/download/storage/v1/b/lastmile-ui/o/import%2Fphotos%2Fconverted%2Fchain%2Fglobal_eUay0D521MNY2IEEecl4_tkoQLL8xhuM8bg7QndYinWCDCU73_irMJ7dyD6RLHeOjbme5P_big.jpg?generation=1696279397927295&alt=media",
           "hasLoyaltyProgram": false,
           "id": "eUay0D521MNY2IEEecl4",
           "isUsingStock": false,
           "loyaltyCardImage": null,
           "name": {
            "de": "GERŲ MINČIŲ ŪKIS",
            "en": "GERŲ MINČIŲ ŪKIS",
            "lt": "GERŲ MINČIŲ ŪKIS",
            "ru": "GERŲ MINČIŲ ŪKIS"
           },
           "slugs": [
            "GERU-MINCIU-uKIS"
           ],
           "tags": [
            "newShop"
           ],
           "thumbUrl": "https://storage.googleapis.com/download/storage/v1/b/lastmile-ui/o/import%2Fphotos%2Fconverted%2Fchain%2Fglobal_eUay0D521MNY2IEEecl4_tkoQLL8xhuM8bg7QndYinWCDCU73_UzC4gCpEiczfVZ2J0bLG_thumb.webp?generation=1698216050578570&alt=media"
          },
          {
           "backgroundThumbUrl": "https://storage.googleapis.com/download/storage/v1/b/lastmile-ui/o/import%2Fphotos%2Fconverted%2Fchain%2Fglobal_ktnOSFsfQPkWjLdUklmV_tkoQLL8xhuM8bg7QndYinWCDCU73_3oayff5WDmcZUqWLSI8c_big.jpg?generation=1696279399366265&alt=media",
           "hasLoyaltyProgram": false,
           "id": "ktnOSFsfQPkWjLdUklmV",
           "isUsingStock": false,
           "loyaltyCardImage": null,
           "name": {
            "de": "Rūta",
            "en": "Rūta",
            "lt": "Rūta",
            "ru": "Rūta"
           },
           "slugs": [
            "Ruta"
           ],
           "tags": [
            "sweets",
            "confectionery",
            "gourmet",
            "gifts"
           ],
           "thumbUrl": "https://storage.googleapis.com/download/storage/v1/b/lastmile-ui/o/import%2Fphotos%2Fconverted%2Fchain%2Fglobal_ktnOSFsfQPkWjLdUklmV_tkoQLL8xhuM8bg7QndYinWCDCU73_lAf6gtQ68RXku4TG11hR_thumb.webp?generation=1698216054789195&alt=media"
          },
          {
           "backgroundThumbUrl": "https://storage.googleapis.com/download/storage/v1/b/lastmile-ui/o/import%2Fphotos%2Fconverted%2Fchain%2Fglobal_TA8yAvtMEsga2tyvkcNg_tkoQLL8xhuM8bg7QndYinWCDCU73_gTOnJ7kR3s0pLQGLYN8r_big.jpg?generation=1696281314223127&alt=media",
           "hasLoyaltyProgram": false,
           "id": "TA8yAvtMEsga2tyvkcNg",
           "isUsingStock": false,
           "loyaltyCardImage": null,
           "name": {
            "de": "Grapperia",
            "en": "Grapperia",
            "lt": "Grapperia",
            "ru": "Grapperia"
           },
           "slugs": [
            "Grapperia"
           ],
           "tags": [],
           "thumbUrl": "https://storage.googleapis.com/download/storage/v1/b/lastmile-ui/o/import%2Fphotos%2Fconverted%2Fchain%2Fglobal_TA8yAvtMEsga2tyvkcNg_tkoQLL8xhuM8bg7QndYinWCDCU73_wd5kTTz5mkprPf0ZOXdo_thumb.webp?generation=1698216051090919&alt=media"
          },
          {
           "backgroundThumbUrl": "https://firebasestorage.googleapis.com/v0/b/lastmile-ui/o/import%2Fphotos%2Fconverted%2Fchain%2FbackgroundThumbUrl%2Fglobal_erXRsEJI7M3YzI5OkTjq_tkoQLL8xhuM8bg7QndYinWCDCU73_zAMxk5jGmL9qRRXNpCc5.webp?alt=media&token=0f64776b-7cfd-4aaa-8cfc-95b398db2fea",
           "hasLoyaltyProgram": false,
           "id": "erXRsEJI7M3YzI5OkTjq",
           "isUsingStock": false,
           "loyaltyCardImage": null,
           "name": {
            "de": "GOURMET LIFE",
            "en": "GOURMET LIFE",
            "lt": "GOURMET LIFE",
            "ru": "GOURMET LIFE"
           },
           "slugs": [
            "GOURMET-LIFE"
           ],
           "tags": [
            "newShop",
            "gourmet"
           ],
           "thumbUrl": "https://storage.googleapis.com/download/storage/v1/b/lastmile-ui/o/import%2Fphotos%2Fconverted%2Fchain%2Fglobal_erXRsEJI7M3YzI5OkTjq_tkoQLL8xhuM8bg7QndYinWCDCU73_8SJZDBzJtupk1c5e4LXV_thumb.webp?generation=1698216054782713&alt=media"
          },
          {
           "backgroundThumbUrl": "https://storage.googleapis.com/download/storage/v1/b/lastmile-ui/o/import%2Fphotos%2Fconverted%2Fchain%2Fglobal_55jawyGVW1js6Neetz3F_tkoQLL8xhuM8bg7QndYinWCDCU73_b5V0uwGxPLC8xTfX9uka_big.jpg?generation=1696279396061257&alt=media",
           "hasLoyaltyProgram": false,
           "id": "55jawyGVW1js6Neetz3F",
           "isUsingStock": false,
           "loyaltyCardImage": null,
           "name": {
            "de": "Piestro",
            "en": "Piestro",
            "lt": "Piestro",
            "ru": "Piestro"
           },
           "slugs": [
            "Piestro"
           ],
           "tags": [
            "groceries",
            "bakery"
           ],
           "thumbUrl": "https://storage.googleapis.com/download/storage/v1/b/lastmile-ui/o/import%2Fphotos%2Fconverted%2Fchain%2Fglobal_55jawyGVW1js6Neetz3F_tkoQLL8xhuM8bg7QndYinWCDCU73_u6FAQTMwEymXracNGYNv_thumb.webp?generation=1698216053766652&alt=media"
          },
          {
           "backgroundThumbUrl": "https://storage.googleapis.com/download/storage/v1/b/lastmile-ui/o/import%2Fphotos%2Fconverted%2Fchain%2Fglobal_Uh3YbF5KiffpeWMkBBze_tkoQLL8xhuM8bg7QndYinWCDCU73_z8c4Yt3ImzkOU0FcAQ3S_big.jpg?generation=1696279404744493&alt=media",
           "hasLoyaltyProgram": false,
           "id": "Uh3YbF5KiffpeWMkBBze",
           "isUsingStock": true,
           "loyaltyCardImage": null,
           "name": {
            "de": "Guggie",
            "en": "Guggie",
            "lt": "Guggie",
            "ru": "Guggie"
           },
           "slugs": [
            "Guggie"
           ],
           "tags": [
            "newShop"
           ],
           "thumbUrl": "https://storage.googleapis.com/download/storage/v1/b/lastmile-ui/o/import%2Fphotos%2Fconverted%2Fchain%2Fglobal_Uh3YbF5KiffpeWMkBBze_tkoQLL8xhuM8bg7QndYinWCDCU73_GcdeQzUYTFovPMfcRjXh_thumb.webp?generation=1698216052619957&alt=media"
          },
          {
           "backgroundThumbUrl": "https://storage.googleapis.com/download/storage/v1/b/lastmile-ui/o/import%2Fphotos%2Fconverted%2Fchain%2Fglobal_ISy3KkTutWNd3S9Ng2JC_tkoQLL8xhuM8bg7QndYinWCDCU73_EP4vhQmq91G4TJqMi1iG_big.jpg?generation=1696279398653357&alt=media",
           "hasLoyaltyProgram": false,
           "id": "ISy3KkTutWNd3S9Ng2JC",
           "isUsingStock": false,
           "loyaltyCardImage": null,
           "name": {
            "de": "MEDIKATUS",
            "en": "MEDIKATUS",
            "lt": "MEDIKATUS",
            "ru": "MEDIKATUS"
           },
           "slugs": [
            "MEDIKATUS"
           ],
           "tags": [
            "promotions",
            "newShop",
            "gifts",
            "organic"
           ],
           "thumbUrl": "https://storage.googleapis.com/download/storage/v1/b/lastmile-ui/o/import%2Fphotos%2Fconverted%2Fchain%2Fglobal_ISy3KkTutWNd3S9Ng2JC_tkoQLL8xhuM8bg7QndYinWCDCU73_mOxuLXjYNkFLip5Owg1e_thumb.webp?generation=1698216054209035&alt=media"
          },
          {
           "backgroundThumbUrl": "https://storage.googleapis.com/download/storage/v1/b/lastmile-ui/o/import%2Fphotos%2Fconverted%2Fchain%2Fglobal_xUhArfb04WkUN2Lqf415_tkoQLL8xhuM8bg7QndYinWCDCU73_0mmY3R9hhVojv8AvpoUN_big.webp?generation=1701337079654721&alt=media",
           "hasLoyaltyProgram": false,
           "id": "xUhArfb04WkUN2Lqf415",
           "isUsingStock": true,
           "loyaltyCardImage": null,
           "name": {
            "de": "OLIVER",
            "en": "OLIVER",
            "lt": "OLIVER",
            "ru": "OLIVER"
           },
           "slugs": [
            "OLIVER"
           ],
           "tags": [
            "newShop",
            "office"
           ],
           "thumbUrl": "https://storage.googleapis.com/download/storage/v1/b/lastmile-ui/o/import%2Fphotos%2Fconverted%2Fchain%2Fglobal_xUhArfb04WkUN2Lqf415_tkoQLL8xhuM8bg7QndYinWCDCU73_3MrDufBckHmQfRUuhsWh_thumb.webp?generation=1698216055501157&alt=media"
          },
          {
           "backgroundThumbUrl": "https://storage.googleapis.com/download/storage/v1/b/lastmile-ui/o/import%2Fphotos%2Fconverted%2Fchain%2Fglobal_bkq87WDAhS4w9R8xFM0C_tkoQLL8xhuM8bg7QndYinWCDCU73_kAqYEzxFGe1eLJJN3A0Q_big.jpg?generation=1696279397551081&alt=media",
           "hasLoyaltyProgram": false,
           "id": "bkq87WDAhS4w9R8xFM0C",
           "isUsingStock": false,
           "loyaltyCardImage": null,
           "name": {
            "de": "PORTUGALIŠKO VYNO AMBASADA",
            "en": "PORTUGALIŠKO VYNO AMBASADA",
            "lt": "PORTUGALIŠKO VYNO AMBASADA",
            "ru": "PORTUGALIŠKO VYNO AMBASADA"
           },
           "slugs": [
            "PORTUGALISKO-VYNO-AMBASADA"
           ],
           "tags": [
            "newShop",
            "alcohol",
            "gifts",
            "gourmet"
           ],
           "thumbUrl": "https://storage.googleapis.com/download/storage/v1/b/lastmile-ui/o/import%2Fphotos%2Fconverted%2Fchain%2Fglobal_bkq87WDAhS4w9R8xFM0C_tkoQLL8xhuM8bg7QndYinWCDCU73_b3KCfb4wCNjH4UKSIBLO_thumb.webp?generation=1698216051297141&alt=media"
          },
          {
           "backgroundThumbUrl": "https://storage.googleapis.com/download/storage/v1/b/lastmile-ui/o/import%2Fphotos%2Fconverted%2Fchain%2Fglobal_BKDsJmjka6w5Q6UYjq8Z_tkoQLL8xhuM8bg7QndYinWCDCU73_C0hkXVimbVZltQM5bF4z_big.jpg?generation=1696279400851911&alt=media",
           "hasLoyaltyProgram": false,
           "id": "BKDsJmjka6w5Q6UYjq8Z",
           "isUsingStock": false,
           "loyaltyCardImage": null,
           "name": {
            "de": "FLERA",
            "en": "FLERA",
            "lt": "FLERA",
            "ru": "FLERA"
           },
           "slugs": [
            "FLERA"
           ],
           "tags": [
            "gifts",
            "newShop"
           ],
           "thumbUrl": "https://storage.googleapis.com/download/storage/v1/b/lastmile-ui/o/import%2Fphotos%2Fconverted%2Fchain%2Fglobal_BKDsJmjka6w5Q6UYjq8Z_tkoQLL8xhuM8bg7QndYinWCDCU73_ydDTkVXT2EsyvP9Qu48d_thumb.webp?generation=1698216053102827&alt=media"
          },
          {
           "backgroundThumbUrl": "https://storage.googleapis.com/download/storage/v1/b/lastmile-ui/o/import%2Fphotos%2Fconverted%2Fchain%2Fglobal_HbHLIpX2lhEaZCBcSTHy_tkoQLL8xhuM8bg7QndYinWCDCU73_kRQfgHeo7e8VWo7968FC_big.jpg?generation=1696280905956399&alt=media",
           "hasLoyaltyProgram": false,
           "id": "HbHLIpX2lhEaZCBcSTHy",
           "isUsingStock": false,
           "loyaltyCardImage": null,
           "name": {
            "de": "Pieno namai",
            "en": "Pieno namai",
            "lt": "Pieno namai",
            "ru": "Pieno namai"
           },
           "slugs": [
            "Pieno-namai"
           ],
           "tags": [
            "groceries"
           ],
           "thumbUrl": "https://storage.googleapis.com/download/storage/v1/b/lastmile-ui/o/import%2Fphotos%2Fconverted%2Fchain%2Fglobal_HbHLIpX2lhEaZCBcSTHy_tkoQLL8xhuM8bg7QndYinWCDCU73_2rDKwEYNgPN0ShKE62kb_thumb.webp?generation=1698216054925049&alt=media"
          },
          {
           "backgroundThumbUrl": "https://storage.googleapis.com/download/storage/v1/b/lastmile-ui/o/import%2Fphotos%2Fconverted%2Fchain%2Fglobal_cKlzVZgS4jAmxYwp7yVY_tkoQLL8xhuM8bg7QndYinWCDCU73_VOhjm2yLecNj56V7p9dh_big.jpg?generation=1696280911015350&alt=media",
           "hasLoyaltyProgram": false,
           "id": "cKlzVZgS4jAmxYwp7yVY",
           "isUsingStock": false,
           "loyaltyCardImage": null,
           "name": {
            "de": "KETOFOOD",
            "en": "KETOFOOD",
            "lt": "KETOFOOD",
            "ru": "KETOFOOD"
           },
           "slugs": [
            "KETOFOOD"
           ],
           "tags": [
            "newShop",
            "promotions",
            "groceries",
            "organic"
           ],
           "thumbUrl": "https://storage.googleapis.com/download/storage/v1/b/lastmile-ui/o/import%2Fphotos%2Fconverted%2Fchain%2Fglobal_cKlzVZgS4jAmxYwp7yVY_tkoQLL8xhuM8bg7QndYinWCDCU73_yQ82jZrpxswpQMQrD96b_thumb.webp?generation=1698216053115479&alt=media"
          },
          {
           "backgroundThumbUrl": "https://storage.googleapis.com/download/storage/v1/b/lastmile-ui/o/import%2Fphotos%2Fconverted%2Fchain%2Fglobal_LH3gomcq0Wg15TcRPxM7_tkoQLL8xhuM8bg7QndYinWCDCU73_RrLiRcKBL9r3Qsg7QcYd_big.jpg?generation=1696279402287033&alt=media",
           "hasLoyaltyProgram": false,
           "id": "LH3gomcq0Wg15TcRPxM7",
           "isUsingStock": false,
           "loyaltyCardImage": null,
           "name": {
            "de": "KAFF",
            "en": "KAFF",
            "lt": "KAFF",
            "ru": "KAFF"
           },
           "slugs": [
            "KAFF"
           ],
           "tags": [
            "gourmet",
            "groceries"
           ],
           "thumbUrl": "https://storage.googleapis.com/download/storage/v1/b/lastmile-ui/o/import%2Fphotos%2Fconverted%2Fchain%2Fglobal_LH3gomcq0Wg15TcRPxM7_tkoQLL8xhuM8bg7QndYinWCDCU73_QFvo3aLxhwUhBpkdXxvW_thumb.webp?generation=1698216051459446&alt=media"
          },
          {
           "backgroundThumbUrl": "https://storage.googleapis.com/download/storage/v1/b/lastmile-ui/o/import%2Fphotos%2Fconverted%2Fchain%2Fglobal_mzYibwFlvQFMGojloWXh_tkoQLL8xhuM8bg7QndYinWCDCU73_uGH3omaitp1ahCWaafjT_big.jpg?generation=1696279400907793&alt=media",
           "hasLoyaltyProgram": false,
           "id": "mzYibwFlvQFMGojloWXh",
           "isUsingStock": false,
           "loyaltyCardImage": null,
           "name": {
            "de": "BIOCOS Pet Care",
            "en": "BIOCOS Pet Care",
            "lt": "BIOCOS Pet Care",
            "ru": "BIOCOS Pet Care"
           },
           "slugs": [
            "BIOCOS-Pet-Care"
           ],
           "tags": [
            "pets"
           ],
           "thumbUrl": "https://storage.googleapis.com/download/storage/v1/b/lastmile-ui/o/import%2Fphotos%2Fconverted%2Fchain%2Fglobal_mzYibwFlvQFMGojloWXh_tkoQLL8xhuM8bg7QndYinWCDCU73_rq40mUd8xfYJL0v5ynUu_thumb.webp?generation=1698216055743299&alt=media"
          },
          {
           "backgroundThumbUrl": "https://storage.googleapis.com/download/storage/v1/b/lastmile-ui/o/import%2Fphotos%2Fconverted%2Fchain%2Fglobal_yqO029PSPTFds5rdSdC5_tkoQLL8xhuM8bg7QndYinWCDCU73_8GTzXFCqjeyEXw5bt1ia_big.webp?generation=1704192421853243&alt=media",
           "hasLoyaltyProgram": false,
           "id": "yqO029PSPTFds5rdSdC5",
           "isUsingStock": false,
           "loyaltyCardImage": null,
           "name": {
            "en": "Dovanų Dovana",
            "lt": "Dovanų Dovana"
           },
           "slugs": [
            "Dovanu-Dovana"
           ],
           "tags": [
            "newShop"
           ],
           "thumbUrl": "https://storage.googleapis.com/download/storage/v1/b/lastmile-ui/o/import%2Fphotos%2Fconverted%2Fchain%2Fglobal_yqO029PSPTFds5rdSdC5_5bf2JWMXo7aWQ7PzGf9afgfhEpG2_kDSfP0an0pumqfvUZpTv_thumb.webp?generation=1699431332195394&alt=media"
          },
          {
           "backgroundThumbUrl": "https://storage.googleapis.com/download/storage/v1/b/lastmile-ui/o/import%2Fphotos%2Fconverted%2Fchain%2Fglobal_jv0dozbps89KEiqPTFte_tkoQLL8xhuM8bg7QndYinWCDCU73_vwF5OsAxN3hD6FrSoVTz_big.jpg?generation=1696279399076884&alt=media",
           "hasLoyaltyProgram": false,
           "id": "jv0dozbps89KEiqPTFte",
           "isUsingStock": false,
           "loyaltyCardImage": null,
           "name": {
            "de": "AMBRETI",
            "en": "AMBRETI",
            "lt": "AMBRETI",
            "ru": "AMBRETI"
           },
           "slugs": [
            "AMBRETI"
           ],
           "tags": [
            "newShop",
            "promotions"
           ],
           "thumbUrl": "https://storage.googleapis.com/download/storage/v1/b/lastmile-ui/o/import%2Fphotos%2Fconverted%2Fchain%2Fglobal_jv0dozbps89KEiqPTFte_tkoQLL8xhuM8bg7QndYinWCDCU73_cNWCf6iPLHLMOuckVsSc_thumb.webp?generation=1698216056208917&alt=media"
          }
         ],
         "country": {
          "availablePaymentMethods": [
           "bank",
           "card",
           "applePay",
           "googlePay"
          ],
          "constraintTable": {
           "alcohol": {
            "age": 20,
            "availabilityUpperBoundAdjustment": 0,
            "isAgeValidationRequired": true,
            "isPenalizable": true,
            "isSeparateOrder": true,
            "penaltyLowerTimeBound": 120,
            "scheduleId": "9PF7zYY0cYg1muclItCz",
            "skipPromoPrice": true,
            "upperBoundAdjustment": -60
           },
           "babyFood": {
            "skipPromoPrice": true
           },
           "energyDrink": {
            "age": 18
           },
           "fresh": {
            "isSeparateBag": true
           },
           "frozen": {
            "isPenalizable": false,
            "isSeparateBag": true,
            "losesValue": false
           }
          },
          "countryCode": "lt",
          "currency": "EUR",
          "currencySymbol": "€",
          "deliveryOptions": [
           {
            "cargoHeight": 0,
            "cargoLength": 0,
            "cargoWeightCap": 0,
            "cargoWidth": 0,
            "isOrderSplittable": false,
            "isParallelSteps": false,
            "isRouteBuilderRequired": true,
            "provider": "LastMile",
            "restrictedConstraintCodes": [],
            "scheduleId": "",
            "storeId": "",
            "vehicleTypes": [],
            "zoneNameToId": {},
            "zones": []
           }
          ],
          "fractionDigits": 2,
          "id": "gCHYvyhpNcKZgcPiDwRV",
          "minimalOrderedValue": 20,
          "minimalSurcharge": 3,
          "name": {
           "en": "Lithuania",
           "lt": "Lietuva"
          },
          "taxTable": {
           "deposit": 0.1
          },
          "timezone": "Europe/Vilnius"
         },
         "host": "lastmile.lt",
         "product": null,
         "queryParams": {}
        }
       },
       "query": {},
       "scriptLoader": []
      }
     },
     "execution_count": 41,
     "metadata": {},
     "output_type": "execute_result"
    }
   ],
   "source": [
    "show_json(iki_json)"
   ]
  },
  {
   "cell_type": "markdown",
   "id": "e8a425fc-1d7f-4f45-bd38-ff038f58e506",
   "metadata": {},
   "source": [
    "## Get product data in bulk\n"
   ]
  },
  {
   "cell_type": "code",
   "execution_count": 6,
   "id": "28e53cc6-c635-449c-b0c3-fed028d0aecc",
   "metadata": {},
   "outputs": [],
   "source": [
    "async function view_products(limit:number, fromIndex:number, chainIds:string[], categoryIds:string[],  slim:boolean) {\n",
    "    const product_url = 'https://search-dvbpbqktxq-lz.a.run.app/view_products';\n",
    "    let body = {\n",
    "      \"limit\": limit,\n",
    "      \"params\": {\n",
    "        \"type\": \"view_products\",\n",
    "        \"isActive\": true,\n",
    "        \"isApproved\": true,\n",
    "        \"filter\": {},\n",
    "        \"chainIds\": chainIds,\n",
    "        \"storeIds\": [],\n",
    "        \"categoryIds\": categoryIds,\n",
    "        \"isUsingStock\": true\n",
    "      },\n",
    "      \"fromIndex\": fromIndex,\n",
    "      \"slim\": slim\n",
    "    }\n",
    "    let options = {\n",
    "      method: 'POST',\n",
    "      headers: {'content-type': 'application/json'},\n",
    "      body: JSON.stringify(body)\n",
    "    };\n",
    "    \n",
    "    try {\n",
    "      let response = await fetch(product_url, options);\n",
    "      let data = await response.json();\n",
    "      return data\n",
    "    } catch (error) {\n",
    "      console.error(error);\n",
    "    }\n",
    "}"
   ]
  },
  {
   "cell_type": "code",
   "execution_count": 9,
   "id": "7a6705d2-afd0-4f9e-ad9d-80ff36611fb0",
   "metadata": {},
   "outputs": [
    {
     "data": {
      "application/json": {
       "count": 10294,
       "data": []
      }
     },
     "execution_count": 9,
     "metadata": {},
     "output_type": "execute_result"
    }
   ],
   "source": [
    "let product = await view_products(0, 0, [chains.IKI], [], true)\n",
    "show_json(product)"
   ]
  },
  {
   "cell_type": "code",
   "execution_count": 58,
   "id": "25c83b8e-e301-4966-98ac-94196dfcfe66",
   "metadata": {},
   "outputs": [
    {
     "data": {
      "text/plain": [
       "\u001b[33m10294\u001b[39m"
      ]
     },
     "execution_count": 58,
     "metadata": {},
     "output_type": "execute_result"
    }
   ],
   "source": [
    "product.count"
   ]
  },
  {
   "cell_type": "code",
   "execution_count": null,
   "id": "1e3b1f26-b6d9-42c2-8a8e-00b1193e9676",
   "metadata": {},
   "outputs": [],
   "source": [
    "let total_data = {}\n",
    "total_data.data = []; total_data.count=product.count//product.count\n",
    "for (let i = 0; i < total_data.count; i = i + 1000){\n",
    "    let product = await view_products(1000, i, [chains.IKI], [], false)\n",
    "    total_data.data = total_data.data.concat(product.data)\n",
    "}"
   ]
  },
  {
   "cell_type": "code",
   "execution_count": 11,
   "id": "1ab78ee6-07ea-4032-963c-0ac778bfbfa0",
   "metadata": {},
   "outputs": [
    {
     "data": {
      "text/plain": [
       "\u001b[33m10294\u001b[39m"
      ]
     },
     "execution_count": 11,
     "metadata": {},
     "output_type": "execute_result"
    }
   ],
   "source": [
    "total_data.data.length"
   ]
  },
  {
   "cell_type": "code",
   "execution_count": 12,
   "id": "f03e9d26-5840-43ef-8c12-56f8f81d05e4",
   "metadata": {},
   "outputs": [],
   "source": [
    "await Deno.writeTextFile(\"iki_product_data.json\", JSON.stringify(total_data.data));"
   ]
  },
  {
   "cell_type": "markdown",
   "id": "83c4288f-2506-4277-b6f2-ad772edd4600",
   "metadata": {},
   "source": [
    "# Move data to ObservableHQ\n",
    "To check\n",
    "- karma?\n",
    "- lastMonthLowestPrice\n",
    "- nutrition\n",
    "- prc, costPrice\n",
    "  ```\n",
    "    p\n",
    "    s\n",
    "    l\n",
    "    still\n",
    "    ltill\n",
    "    ap\n",
    "    lap\n",
    "    lstill\n",
    "  ```\n",
    "- \n",
    "  \t\n",
    "lastMonthLowestPrice"
   ]
  },
  {
   "cell_type": "markdown",
   "id": "20d37ce9-b070-49d3-8e40-c395bd8914b9",
   "metadata": {},
   "source": [
    "Final JSON 76.3MB, Observable limit 50MB.\\\n",
    "What to remove?"
   ]
  },
  {
   "cell_type": "code",
   "execution_count": 13,
   "id": "769e537e-25d2-47eb-a134-6496c7694c32",
   "metadata": {},
   "outputs": [],
   "source": [
    "let product_data = JSON.parse(await Deno.readTextFile(\"iki_product_data.json\"));"
   ]
  },
  {
   "cell_type": "code",
   "execution_count": 25,
   "id": "51fccd8b-3261-4281-9c12-65a3541b24d1",
   "metadata": {},
   "outputs": [],
   "source": [
    "let columns_to_delete = [\"bannerIds\", \"barcode\", \"categoryCode\", \"chainId\", \"countryId\", \"imageUrl\", \"photoUrl\", \"stockStores\", \"storeIds\", \"thumbUrl\"]\n",
    "for (let i in product_data){\n",
    "    columns_to_delete.forEach(key => delete product_data[i][key])//delete [a[1], a[2]]\n",
    "}"
   ]
  },
  {
   "cell_type": "code",
   "execution_count": 26,
   "id": "c987141d-fee1-46f6-a526-20ee6af72098",
   "metadata": {},
   "outputs": [],
   "source": [
    "await Deno.writeTextFile(\"iki_product_data_lite.json\", JSON.stringify(product_data));"
   ]
  },
  {
   "cell_type": "markdown",
   "id": "48cffbd0-3eda-4915-8463-042d3c41a559",
   "metadata": {},
   "source": [
    "# Learning JS"
   ]
  },
  {
   "cell_type": "code",
   "execution_count": null,
   "id": "032e9172-b499-4c1a-9b12-b6b8ef90b8b8",
   "metadata": {},
   "outputs": [],
   "source": [
    "iki_api_url = \"https://lastmile.lt/_next/data/zw0MqMxKRGQJqXmToYYJR/lt/chain/IKI.json?slug=chain&slug=IKI\""
   ]
  },
  {
   "cell_type": "code",
   "execution_count": null,
   "id": "2b9b8d0f-7ae1-4f00-8b96-e33bb3966e15",
   "metadata": {},
   "outputs": [],
   "source": [
    "pageProps"
   ]
  },
  {
   "cell_type": "code",
   "execution_count": 56,
   "id": "af01a779-a90a-4518-8d55-29c2a29d052a",
   "metadata": {},
   "outputs": [
    {
     "name": "stdout",
     "output_type": "stream",
     "text": [
      "Promise { \u001b[36m<pending>\u001b[39m }\n"
     ]
    }
   ],
   "source": [
    "console.log(res)"
   ]
  },
  {
   "cell_type": "code",
   "execution_count": 52,
   "id": "53c36a1e-a533-4873-8b0f-f5303ff76a21",
   "metadata": {},
   "outputs": [
    {
     "name": "stdout",
     "output_type": "stream",
     "text": [
      "Key 'JHR-AIRPANAS' not found in data\n"
     ]
    }
   ],
   "source": [
    "if (res.hasOwnProperty(\"pageProps\")) {\n",
    "  const value = res[\"pageProps\"];\n",
    "  console.log(\"Value for key 'JHR-AIRPANAS':\", value);\n",
    "} else {\n",
    "  console.log(\"Key 'JHR-AIRPANAS' not found in data\");\n",
    "}"
   ]
  },
  {
   "cell_type": "code",
   "execution_count": null,
   "id": "3a0dac9e-8557-47cc-b302-f2da560311ca",
   "metadata": {
    "editable": true,
    "slideshow": {
     "slide_type": ""
    },
    "tags": []
   },
   "outputs": [],
   "source": [
    "    .then(data => {\n",
    "    console.log(data); // Process the API data here\n",
    "\n",
    "        // Example: Access and display a specific property from the data\n",
    "    if (data.hasOwnProperty('message')) {\n",
    "      console.log(\"API message:\", data.message);\n",
    "    }\n",
    "  })\n",
    "  .catch(error => console.error(error));"
   ]
  },
  {
   "cell_type": "code",
   "execution_count": null,
   "id": "5d66a842-1449-44e8-a5cd-29d16a9f08e5",
   "metadata": {},
   "outputs": [],
   "source": [
    "url = \"https://lastmile.lt/_next/data/HGa-1uLPHniToDUk6yksQ/lt/product/IKI/IKI-sviezi-visciuku-broileriu-file-gabaliukai-500-g.json?slug=product&slug=IKI&slug=IKI-sviezi-visciuku-broileriu-file-gabaliukai-500-g\"\n",
    "let response = await fetch(url);\n",
    "response.then(data => {\n",
    "    console.log(data); // Process the API data here\n",
    "  }"
   ]
  },
  {
   "cell_type": "code",
   "execution_count": 56,
   "id": "2f4df069-6cfc-46bd-871b-269e947eab8b",
   "metadata": {},
   "outputs": [
    {
     "ename": "ReferenceError",
     "evalue": "d is not defined",
     "output_type": "error",
     "traceback": [
      "Stack trace:",
      "ReferenceError: d is not defined",
      "    at <anonymous>:1:24"
     ]
    }
   ],
   "source": [
    "d = 1"
   ]
  },
  {
   "cell_type": "code",
   "execution_count": 7,
   "id": "defe917a-b77d-429d-9ae4-03bd750edaee",
   "metadata": {
    "editable": true,
    "slideshow": {
     "slide_type": ""
    },
    "tags": []
   },
   "outputs": [
    {
     "name": "stdout",
     "output_type": "stream",
     "text": [
      "asdf \u001b[33m1\u001b[39m\n"
     ]
    }
   ],
   "source": [
    "let a = 1;\n",
    "console.log(\"asdf\",a);\n",
    "// a"
   ]
  },
  {
   "cell_type": "code",
   "execution_count": 8,
   "id": "133c0502-dc91-4d6b-9890-59b0c2959983",
   "metadata": {},
   "outputs": [
    {
     "data": {
      "application/json": {
       "buildId": "zw0MqMxKRGQJqXmToYYJR",
       "defaultLocale": "lt",
       "gssp": true,
       "isExperimentalCompile": false,
       "isFallback": false,
       "locale": "lt",
       "locales": [
        "lt",
        "en",
        "de",
        "ru"
       ],
       "page": "/[[...slug]]",
       "props": {
        "__N_SSP": true,
        "pageProps": {
         "__lang": "lt",
         "__namespaces": {
          "common": {
           "ASAP": "Kuo greičiau",
           "KG": "kg",
           "L": "l",
           "LastMile": "Kurjeris",
           "M": "m",
           "PAK": "pak",
           "VNT": "vnt",
           "View": "Peržiūrėti dovanas",
           "accept": "Priimti",
           "acceptDirectMarketing": "Ar tikrai norite sutikti su tiesiogine rinkodara?",
           "acceptTask": "Priimti užduotį",
           "accepted": "Užsakymas priimtas surinkimui.",
           "accounting_details": "Buhalterinės informacijos detalės",
           "accounting_invoices": "Buhalterinės informacijos sąskaitos",
           "actual": "Realus",
           "actualEnd": "Tikra pabaiga",
           "actualStart": "Tikra pradžia",
           "add": "Pridėti",
           "addAddress": "Pridėti adresą",
           "addCard": "Pridėti kortelę",
           "addComment": "Pridėti komentarą",
           "addCompany": "Pridėti įmonę",
           "addLoyaltyCard": "Pridėti lojalumo kortelę",
           "addNewAddress": "Pridėti naują adresą",
           "addNewPaymentMethod": "Pridėkite naują mokėjimo kortelę",
           "addProducts": "Pridėti prekių",
           "addProductsToOrder": "Pridėti papildomų produktų",
           "addSortingCategory": "Pridėti rūšiavimo kategoriją",
           "addTask": "Pridėti užduotį",
           "addToCart": "Įdėti į krepšelį",
           "addedProducts": "Pridėti produktai",
           "addedToCart": "Produktai sėkmingai pridėti į krepšelį",
           "addedToCartFromDifferent": "Atkreipkite dėmesį - Jūsų pasirinktos prekės yra iš skirtingų parduotuvių.",
           "addingCard": "Tikrinami kortelės duomenys. Gali atsidaryti papildomi (iššokantys) ekrano langai. Įsitikinkite, kad iššokantys langai yra leidžiami.",
           "addingComment": "Pridėdamas komentaras",
           "addingLoyaltyCard": "Pridedama lojalumo kortelė",
           "additionOrderAmount": "Papildomo užsakymo suma",
           "additionalProducts": "Papildomos prekės",
           "address": "Adresas",
           "addressDescription": "Adreso aprašymas",
           "addressExists": "Toks adresas jau yra",
           "addressLabel": "Adreso etiketė",
           "addressLow": "adresą",
           "addressSelection": "Adreso pasirinkimas",
           "addresses": "Adresai",
           "ageConstraint": "Amžiaus apribojimas",
           "ageRestrictionNoSelected": "Prašome uždaryti tinklapį.",
           "ageRestrictionSubtitle": "Parduotuvės turinys skirtas tik asmenims, sulaukusiems __age__ metų.",
           "ageRestrictionTitle": "Ar Jums jau yra __age__ metų?",
           "ageValidation": "Amžiaus patvirtinimas",
           "alcohol": "Alkoholis",
           "alcoholFree": "Be alkoholio",
           "alcoholicBeverages": "Alkoholiniai gėrimai",
           "algorithmType": "Algoritmo tipas",
           "all": "Visi",
           "allDeliveryTypes": "Visi pristatymo būdai",
           "allOrders": "Visi užsakymai",
           "allProducts": "Visi produktai",
           "allShopsNearby": "Visos parduotuvės netoliese",
           "allergens": "Alergenai",
           "alreadyHaveAccount": "Jau turite paskyrą?",
           "alternativesOfferedByUs": "Mūsų siūlomos alternatyvos",
           "amountLeftUntilFreeCartNearLeft": "Liko tik",
           "amountLeftUntilFreeCartNearRight": "iki minimalaus krepšelio!",
           "amountLeftUntilFreeCartStartLeft": "",
           "amountLeftUntilFreeCartStartRight": "iki minimalaus krepšelio!",
           "amountLeftUntilFreeDeliveryNearLeft": "Iki nemokamo pristatymo liko tik",
           "amountLeftUntilFreeDeliveryNearRight": "!",
           "amountLeftUntilFreeDeliveryStartLeft": "Pridėkite prekių už",
           "amountLeftUntilFreeDeliveryStartRight": "ir gaukite nemokamą pristatymą!",
           "apartmentNumberOrName": "Buto numeris arba pavadinimas",
           "appTransparancyText": "Mums rūpi jūsų privatumas ir duomenų saugumas. Ar galime ir toliau naudoti jūsų duomenis, kad pritaikytume jums skelbimus?\nGalite bet kada pakeisti savo pasirinkimą programos nustatymuose.",
           "appVersion": "Programėlės versija",
           "application": "Paraiška",
           "applicationApproved": "Jūsų paraiška patvirtinta, sveikiname.",
           "applicationDeclined": "Atsiprašome, bet jūsų paraiška buvo atmesta, linkime sėkmės ateityje.",
           "applicationInProgress": "Jūsų paraiška išsiųsta ir netrukus bus peržiūrėta.",
           "applicationPageTitle": "Užpildykite žemiau esančius laukus",
           "apply": "Pritaikyti",
           "applyFilter": "Filtruoti",
           "applyNow": "Pateikti paraišką",
           "applyToAllPromo": "Ar norite taikyti nuolaidą visiems užsakymams?",
           "applyingGiftCard": "Pridedama dovanų kortelė",
           "applyingPromo": "Pritaikoma nuolaida",
           "applyingReferral": "Pritaikoma rekomendacija",
           "approved": "Patvirtinta",
           "areYouSureYouWantToDeleteThisSelection": "Ar tikrai norite ištrinti šį pasirinkimą?",
           "asACourier": "Kaip kurjeris",
           "asAPartner": "Kaip verslo partneris",
           "attention": "Dėmesio",
           "autonomous_vehicle_tasks": "Autonominių transporto priemonių užduotys",
           "available": "Prieinama",
           "averageRating": "Vidutinis vertinimas",
           "back": "Grįžti",
           "badBarcode": "Brūkšniniai kodai nesutampa",
           "bad_input_data": "Įvesti duomenys yra neteisingi",
           "bakery": "Kepykla",
           "bankAccountNumber": "Banko sąskaita",
           "bannableSession": "Jūs būsite apriboti nustatytam laikotarpiui nutraukę šią sesiją.",
           "banner": "Reklamjuostė",
           "banners": "Reklamjuostės",
           "barcodeScanner": "Brūkšninių kodų skaitytuvas",
           "barcodes": "Barkodai",
           "beginShopping": "Pradėkite pirkimą",
           "billableEarnings": "Apmokestinamos pajamos",
           "birthdate": "Gimimo data",
           "blacklist_api_tokens": "Api žetonų sąrašas",
           "bodycare": "Kūno priežiūra",
           "bonus": "Priedas",
           "brand": "Prekės ženklas",
           "building": "Namas",
           "buildingNumberMissing": "Pastato numeris yra privalomas.",
           "businessCertificate": "Individualios veiklos pažymejimas",
           "buy": "Pirkti",
           "buyCheaper": "Pirk pigiau",
           "buyWithoutRegistration": "Pirkti be registracijos",
           "buyerDetails": "Pirkėjo duomenys",
           "bytes": "Baitai",
           "camera": "Fotoaparatas",
           "canBeCombinedWith": "Galima derinti su",
           "cancel": "Atšaukti",
           "cancelOrder": "Atšaukti užsakymą",
           "cancelOrderDescription": "Ar tikrai norite atšaukti šį užsakymą?",
           "cancelOrderInTask": "Atšaukti užduoties užsakymą",
           "cancelSession": "Atšaukti sesiją",
           "cancelSessionDescription": "Ar tikrai norite atšaukti sesiją?",
           "cancelTask": "Atšaukti užduotį",
           "cancelTaskDescription": "Ar tikrai norite atšaukti užduotį?",
           "canceledOrder": "Atšauktas užsakymas",
           "cancelled": "Atšauktas",
           "cancellingPromo": "Atšaukiama nuolaida",
           "cannotFindAddress": "Nepavyko rasti adreso",
           "cant_deliver": "Nepristatyti",
           "car": "Automobilis",
           "carNumber": "Automobilio valstybinis numeris",
           "carNumberExample": "ABC123",
           "carbs": "Angliavandeniai",
           "cardFound": "Kortelė rasta!",
           "cardHolder": "Kortelės sąvininkas",
           "cardInformation": "Kortelės informacija",
           "cardNumber": "Kortelės numeris",
           "cardProvider": "Kortelės tiekėjas",
           "cardSelected": "Mokėjimo būdas pasirinktas",
           "card_error_canceled": "Mokėjimas buvo atšauktas",
           "card_error_card_velocity_exceeded": "Įvyko klaida. Bandykite vėliau.",
           "card_error_expired_card": "Mokėjimo kortelės galiojimo laikas yra pasibaigęs. ",
           "card_error_failed": "Negalime patvirtinti jūsų mokėjimo metodo. Pasirinkite kitą mokėjimo metodą ir bandykite dar kartą.",
           "card_error_generic_decline": "​​Kortelė buvo atmesta dėl nežinomos priežasties.",
           "card_error_incorrect_cvc": "Neteisingas kortelės CVC numeris.",
           "card_error_incorrect_number": "Neteisingas kortelės numeris.",
           "card_error_insufficient_funds": "Pasirinktoje kortelėje neužtenka lėšų atlikti mokėjimo.",
           "card_error_lost_card": "Mokėjimas buvo atšauktas, nes kortelė buvo registruota kaip pamesta.",
           "card_error_processing_error": "Apdorojant kortelę įvyko klaida.",
           "card_error_stolen_card": "Mokėjimas buvo atšauktas, nes kortelė buvo registruota kaip pavogta.",
           "card_travel": "Kelionių kortelės",
           "cart": "Krepšelis",
           "cartKen": "Robotas",
           "cartNotAvailable": "Ši parduotuvė negalima Jūsų pasirinktoje lokacijoje.",
           "cart_headers": "Krepšelio antraštės",
           "carts": "Krepšeliai",
           "categories": "Kategorijos",
           "category": "Kategorija",
           "chain": "Tinklas",
           "chainId": "Tinklo Id",
           "chain_orders_queue": "Grandininių užsakymų eilė",
           "chain_pricing": "Tinklo kainos",
           "chain_products": "Grandininiai produktai",
           "chains": "Tinklai",
           "change": "Keisti",
           "changeAddress": "Pakeisti adresą",
           "changeCarNumber": "Pakeisti automobilio valstybinį numerį",
           "changeDeliveryTime": "Keisti pristatymo laiką",
           "changeEmail": "Pakeisti el.paštą",
           "changeName": "Pakeisti vardą",
           "changePhoneNumber": "Pakeisti telefono numerį",
           "changeStore": "Keisti parduotuvę",
           "chat": "Klientų aptarnavimo \"chat\"",
           "check": "Tikrinti",
           "checkout": "Pirkti",
           "chooseAlternative": "Pasirinkite alternatyvą",
           "chooseLanguage": "Pasirinkite kalbą:",
           "chooseOneType": "Pasirinkite vieną tipą",
           "chooseOption": "Pasirinkite vieną",
           "choosePickupStore": "Pasirinkite atsiėmimo vietą",
           "choosePromo": "Pasirinkite nuolaidą",
           "chooseStore": "Rinktis parduotuvę",
           "cities": "Miestai",
           "city": "Miestas",
           "cityDivider": "Miestas kur norėčiau dirbti",
           "cityId": "Miesto Id",
           "citySelectionTitle": "Title",
           "clear": "Išvalyti",
           "clevon": "Autonominis automobilis",
           "clickOnEmailExplanation": "Paspauskite gautame laiške esančią nuorodą, kad patvirtintumėte savo el. pašto adresą.",
           "clientCardId": "Kliento kortelės Id",
           "clientIsHere": "Klientas jau vietoje",
           "clientSupport": "Klientų aptarnavimas",
           "client_cards": "klientų kortelės",
           "client_order_headers": "Klientų užsakymų antraštės",
           "client_orderlines": "Klientų užsakymų eilutės",
           "client_orders": "Klientų užsakymai",
           "client_paymentlines": "Klientų mokėjimų eilutės",
           "client_suborders": " Klientų subužsakymai",
           "close": "Uždaryti",
           "cms": "CMS",
           "codeAccepted": "Kodas priimtas",
           "codeCopied": "Kodas nukopijuotas",
           "colorValues": "Spalvų gama",
           "comment": "Komentaras",
           "commentAdded": "Komentaras pridėtas",
           "companies": "Įmonės",
           "company": "Įmonė",
           "companyAddress": "Įmonės adresas",
           "companyCode": "Įmonės kodas",
           "companyName": "Įmonės pavadinimas",
           "companySelected": "Įmonė pasirinkta",
           "completeIntroductionContent": "Peržiūrėkite mūsų internetinį seminarą, apie darbą LastMile.",
           "completeOrderDescription": "Ar tikrai norite užbaigti šį užsakymą?",
           "completePickupOrder": "Užbaigti atsiėmimo užsakymą",
           "completeSession": "Užbaigti sesiją",
           "completeSessionDescription": "Ar tikrai norite užbaigti sesiją?",
           "completeTaskStep": "Pabaigti užduoties etapą",
           "completeTraining": "Užbaigti apmokymus",
           "completed": "Įvykdytas",
           "completedMissions": "Įvykdytos misijos",
           "completedOrder": "Įvykdytas užsakymas",
           "completedOrders": "Užbaigti užsakymai",
           "confectionery": "Konditerija",
           "confirm": "Patvirtinti",
           "confirmAccountDeletion": "Ar tikrai norite ištrinti vartotoją?",
           "confirmAddressRemoval": "Pašalinti adresą",
           "confirmAllCartsRemoval": "Pašalinti visus krepšelius",
           "confirmCartRemoval": "Pašalinti krepšelį",
           "confirmCodeSend": "Patvirtinimo kodas buvo išsiųstas numeriui",
           "confirmNotSelectedAlternative": "Patvirtinkite, kad nepasirenkate alternatyvos",
           "confirmPhoneNumber": "Patvirtinkite savo tel. numerį",
           "confirmRemoveCompany": "Patvirtinkite įmonės pašalinimą",
           "confirmRemoveLoyaltyCard": "Patvirtinkite lojalumo kortelės panaikinimą",
           "confirmRemovePaymentMethod": "Patvirtinkite mokėjimo kortelės panaikinimą",
           "confirmYourEmail": "Patvirtinkite savo el. paštą",
           "confirmationEmailHasBeenSent": "Jūsų el. pašto adresu išsiųstas patvirtinimo pranešimas.",
           "connection": "Prisijungimas",
           "constraint": "Apribojimas",
           "constraints": "Apribojimai",
           "contactless": "Bekontaktis",
           "contacts": "Kontaktai",
           "continue": "Tęsti",
           "continueAsGuest": "Tęsti neprisijungus",
           "continueShopping": "Tęsti apsipirkimą",
           "continueWithEmailLink": "Tęsti su el. pašto nuoroda",
           "continueWithPassword": "Tęsti su slaptažodžiu",
           "contract": "Sutartis",
           "contractHasBeenSentForSigning": "Darbo sutartis buvo išsiūsta į Jūsų elektroninį paštą pasirašymui.",
           "contractInformationHasBeenSent": "Jūsų paraiška yra sėkmingai užpildyta ir bus peržiūrėta artimiausiu metu.",
           "cookiesInfo": "Šioje svetainėje naudojami slapukai siekiant suasmeninti turinį ir reklamą, teikti socialinės žiniasklaidos funkcijas ir analizuoti naudojimosi mūsų svetaine ypatumus. Informaciją apie tai, kaip naudojatės mūsų svetaine, perduodame ir savo socialinės žiniasklaidos, reklamos ir analizės partneriams pagal privatumo politikos ir slapukų politikos nuostatas.",
           "cookiesSettings": "Slapukų nustatymai",
           "cookies_marketing": "Rinkodaros slapukai",
           "cookies_required": "Būtini slapukai",
           "cookies_statistics": "Statistiniai slapukai",
           "copyLink": "Kopijuoti nuorodą",
           "correct": "Teisingai!",
           "cosmetics": "Kosmetika",
           "countries": "Šalys",
           "country": "Šalis",
           "countryOfOrigin": "Kilmės šalis",
           "countrySelectTitle": "Pasirinkite šalies kodą",
           "courierService": "Kurjerių aptarnavimas",
           "create": "Sukurti",
           "createEmployee": "Sukurti darbuotoją",
           "createPartner": "Sukurti partnerį",
           "created": "Sukūrimo data",
           "currentLocation": "Dabartinė lokacija",
           "currentMissions": "Vykdomos misijos",
           "currentStep": "Dabartinis veiksmas yra __step__",
           "customerPayment": "Kliento apmokėjimo data",
           "darkColorMode": "Tamsi spalvų gama",
           "dashboardSearchPlaceholder": "Įveskite užklausą bet kokiam sistemos duomenų objektui. Užklausos ilgis turi būti bent trijų simbolių.",
           "date": "Data",
           "dateCreated": "Sukūrimo data",
           "day1": "Pirmadienis",
           "day2": "Antradienis",
           "day3": "Trečiadienis",
           "day4": "Ketvirtadienis",
           "day5": "Penktadienis",
           "day6": "Šeštadienis",
           "day7": "Sekmadienis",
           "de": "Deutsch",
           "dearUser": "Gerbiamas vartotojau",
           "debt": "Skola",
           "decline": "Atmesti",
           "declineAlternative": "Atsisakyti alternatyvos",
           "declineCookies": "Atsisakyti slapukų",
           "declineDirectMarketing": "Ar tikrai norite atsisakyti tiesioginės rinkodaros?",
           "declined": "Atmesta",
           "default": "Numatytasis",
           "delete": "Ištrinti",
           "deleteAccount": "Ištrinti vartotoją",
           "deleteAddress": "Ištrinti adresą",
           "deleteSelection": "Ištrinti pasirinkimą",
           "deleteUser": "Paskyros panaikinimas",
           "deleteUserWarning": "Jūsų paskyra bus pašalinta. Turite būti tikri dėl šio veiksmo, kadangi duomenys bus ištrinti visam laikui ir jų nebus galima atkurti. Paskyrą bus galima ištrinti tik atlikus visus mokėjimus.",
           "deliverFrom": "Pristatyti nuo",
           "deliverTo": "Pristatyti iki",
           "deliveredQuantity": "Pristatytas kiekis",
           "delivering": "Pristatoma",
           "delivery": "Pristatymas",
           "deliveryAddress": "Pristatymo adresas",
           "deliveryCapacity": "Pristatymo pajėgumas",
           "deliveryComment": "Pristatymo komentaras",
           "deliveryInstructions": "Pristatymo pastabos",
           "deliveryIntervals": "Pristatymo intervalai",
           "deliveryIsNearby": "Jūsų pristatymas netoliese ir bus netrukus...",
           "deliveryLocation": "Pristatymo vieta",
           "deliveryMethodAndTime": "Pristatymo būdas ir laikas",
           "deliveryNotAvailable": "Negalimas pristatymas ir atsiėmimas pasirinktoje lokacijoje",
           "deliveryOptions": "Prekių atidavimo būdai",
           "deliveryPrice": "Pristatymo kaina",
           "deliveryProvider": "Pristatymo paslaugos teikėjas",
           "deliveryRate": "Prastatymų norma",
           "deliverySpeedOrTime": "Pristatymo laikas/greitis",
           "deliveryTask": "Pristatymo užduotis",
           "deliveryTime": "Pristatymo laikas",
           "deliveryType": "Pristatymo būdas",
           "delivery_estimate": "Planuojama pristatyti",
           "delivery_estimates": "Užsakymų pristatymo laikai",
           "delivery_from": "Pristatymas nuo",
           "delivery_prices": "Užsakymų pristatymo kainos",
           "delivery_providers": "Užsakymų pristatymo tiekėjai",
           "delivery_to": "Pristatymas iki",
           "deposit": "Depozitas",
           "depositPrice": "Depozitas",
           "describeProductIssue": "Apibūdinkite iškilusią problemą:",
           "description": "Aprašymas",
           "detailedInfo": "Detali informacija",
           "didntReceiveCode": "Negavoto kodo?",
           "directMarketing": "Tiesioginė rinkodara",
           "directMarketingBodyText": "Ar sutinkate gauti tiesioginės rinkodaros pranešimus?",
           "discountPriceAndDeliveryTimeChanged": "Jūsų prekių pristatymas numatytas sekančiai dienai, o prekių su nuolaida kaina perskaičiuota dėl pasibaigusio akcijų galiojimo termino.",
           "discountPriceApplied": "Prekių su nuolaida kaina perskaičiuota pritaikius šiuo metu galiojančias akcijas.",
           "discountPriceChanged": "Pasirinkus šią pristatymo dieną, prekių su nuolaida kaina buvo automatiškai perskaičiuota dėl pasibaigusio akcijų galiojimo termino.",
           "displayName": "Vardas",
           "distance": "Atstumas",
           "document": "Dokumentas",
           "documentCopies": "Dokumentų kopijos",
           "dontHaveAccount": "Dar neturite paskyros?",
           "doorNumber": "Durų numeris",
           "downloadOurApp": "Atsisiųskite mūsų programą",
           "dragFilesHere": "Nutempkite failus arba paspauskite čia kad importuoti",
           "drinks": "Gėrimai",
           "driver": "Kurjeris",
           "drivingToClient": "Važiuoti pas klientą",
           "drivingToStore": "Važiuoti į parduotuvę",
           "dropOff": "Atiduoti prekes",
           "dropOffCode": "Užsakymo kodas",
           "dropOffConfirmationText": "Ar užsakymas buvo pristatytas klientui?",
           "earnings": "Uždarbis",
           "ecologic": "",
           "edit": "Redaguoti",
           "editAddress": "Redaguoti adresą",
           "editSession": "Redaguoti sesiją",
           "editTask": "Redaguoti užduotį",
           "efficiencyCoeficient": "Naudingumo koeficientas",
           "eko": "Ekologiška",
           "electronicBanking": "Elektroninė bankininkystė",
           "email": "El. paštas",
           "emailSendTo": "El. pašto patvirtinimo laiškas buvo išsiųstas į",
           "emailSentSuccesfuly": "El. laiškas išsiųstas!",
           "employee": "Darbuotojas",
           "employeeClothesSizeSelectionDescryption": "Dydis bus naudojamas drabužiams, kuriuos jums atsiųs LastMile.",
           "employeeClothesSizeSelectionText": "Pageidaujamas drabužių dydis.",
           "employeeId": "Darbuotojo Id",
           "employeeManagement": "Darbuotojų valdymas",
           "employeeSupport": "Pagalba darbuotojams",
           "employeeType": "Darbuotojo tipas",
           "employeeTypeDivider": "Norėčiau dirbti kaip",
           "employee_created": "Darbuotojas sukurtas",
           "employee_demands": "Darbuotojų poreikiai",
           "employee_prices": "Darbuotojų kainos",
           "employee_session": "Darbuotojų sesijos",
           "employee_session_travel": "Darbuotojų kelionės",
           "employee_task_steps": "Darbuotojų užduočių žingsniai",
           "employee_tasks": "Darbuotojų užduotys",
           "employees": "Darbuotojai",
           "emptyCart": "Jūsų krepšelis yra tuščias",
           "emptyCompany": "Nėra įmonės",
           "empty_field_error": "Laukas negali būti tuščias",
           "en": "English",
           "energy": "Energinė vertė",
           "enjoyServiceHere": "Mėgaukitės {{brand}} paslaugomis čia!",
           "enter3lastDigits": "Dokumento serijos numeris",
           "enterAdditionalInformation": "Įveskite papildomą informaciją",
           "enterAddress": "Įveskite adresą",
           "enterBarcode": "Įveskite brūkšninį kodą",
           "enterCode": "Įveskite kodą",
           "enterComment": "Įrašyti komentarą",
           "enterCompany": "Pridėti įmonę",
           "enterCompanyName": "Įveskite įmonės pavadinimą",
           "enterConfirmCode": "Suveskite gautą kodą žemiau:",
           "enterConfirmCode1": "Prašome įvesti patvirtinimo kodą, kurį mes išsiuntėme į ",
           "enterConfirmCode2": ", kad galėtume tęsti",
           "enterDocumentDigitsShort": "3 paskutiniai skaičiai",
           "enterInformation": "Įveskite informaciją",
           "enterLabelName": "Įveskite etiketės pavadinimą",
           "enterLocation": "Įveskite savo vietą",
           "enterName": "Įveskite vardą",
           "enterNumber": "Įvesti skaičių",
           "enterNumberOfBags": "Įveskite užsakymo maišelių skaičių",
           "enterPhoneNumber": "Įveskite telefono numerį",
           "enterPromoCode": "Suveskite nuolaidos kodą",
           "enterReferral": "Pridėti rekomendaciją",
           "enterVerificationCode": "Įveskite patvirtinimo kodą",
           "equipment": "Įranga",
           "equipmentConfirmationText": "Jei gavote įrangą, patvirtinkite paspausdami patvirtinimo mygtuką.",
           "equipmentHasBeenSent": "Įranga jums išsiųsta.",
           "equipmentWillBeSent": "Jums atsiųsime įranga kai administratorius patvirtins Jūsų prašymą.",
           "error": "Klaida",
           "errorNoTravelSpeedModifiers": "Nėra kelionės greičio modifikatorių.",
           "errorRecieveCode": "Atsiėmimo kodas neteisingas",
           "error_accept_task": "Nepavyko priimti užduoties",
           "error_active_session_required": "Reikalinga aktyvi sesija",
           "error_add_drop_off_photo": "Pridėkite prekių perdavimo vietos fotografiją",
           "error_adding_alternative": "Papildomi produktai negalėjo būti pridėti.",
           "error_additional_payments": "Šiame užsakymo išpildymo etape papildomos rezervacijos negali būti atliktos",
           "error_age_not_valid": "Klientas neatitinka amžiaus reikalavimų.",
           "error_already_in_session": "Pabaigite dabar vykstančią sesiją ir tuomet galėsite pradėti naują.",
           "error_already_referred": "Šiam vartotojui rekomendacija jau pritaikyta",
           "error_already_working_on_it": "Ramiai, užtenka paspausti vieną kartą :D",
           "error_anonymous_user_checkout": "Jūs esate anoniminis vartotojas",
           "error_anonymous_user_checkout_details": "Norėdami tęsti apsipirkimo procesą turite prisiregistruoti.",
           "error_another_promos_applied": "Kiti nuolaidos kodai jau pritaikyti",
           "error_apple_login_not_supported_yet": "Atsiprašome, tačiau prisijungimas su Apple šiuo metu interneto puslapyje nėra galimas. Naudokitės programėle arba prisijunkite su kitu profiliu.",
           "error_barcode_length": "Šis brūkšninis kodas yra netinkamo ilgio",
           "error_cancel_task_forbidden": "Užduotis atšaukta arba užbaigta, atšaukimas draudžiamas.",
           "error_cancel_task_order": "Nepavyko atšaukti užsakymo užduočių",
           "error_cannot_be_referred": "Pridėti rekomendacijos nepavyko, nes vartotojas neatitinka sąlygu",
           "error_cannot_get_token": "Promo autorizacija nepavyko, nes negautas token",
           "error_checkout_address_cannot_be_serviced": "Užsakymas nėra galimas į šį adresą",
           "error_checkout_no_address_selected": "Pridėkite pristatymo adresą.",
           "error_checkout_no_delivery_interval": "Pasirinkite pristatymo laiką.",
           "error_checkout_no_payment_method": "Pasirinkite mokėjimo kortelę.",
           "error_checkout_no_phone_number": "Pridėkite telefono numerį.",
           "error_checkout_no_pickup_interval": "Pasirinkite prekių atsiėmimo laiką",
           "error_client_not_here": "Klientas nepažymėjo, kad atvyko.",
           "error_complete_task": "Nepavyko užbaigti užduoties",
           "error_contact_support": "Prašome susisiekti su LastMile darbuotojų pagalba",
           "error_could_not_add_promotion_to_order": "Nuolaidos kodas negali būti pritaikytas, neatitinka užsakymo sąlygų.",
           "error_could_not_remove_promotion_from_order": "Nuolaidos kodo atšaukti nepavyko.",
           "error_could_not_use_user_promotions": "",
           "error_date_of_birth": "Įveskite teisingą gimimo datą",
           "error_different_password": "Skiriasi įvestas slaptažodis",
           "error_doc_num": "Įveskite paskutinius 3 tapatybės dokumento numerio skaičius",
           "error_document_not_valid": "Dokumento numeris neatitinka reikalavimų.",
           "error_email_sign_in": "Prisijungimo nuoroda neteisinga arba negalioja.",
           "error_employee_already_exists": "Darbuotojas jau įvestas sistemoje",
           "error_employee_to_create": "Nepavyko sukurti darbuotojo",
           "error_end_before_start": "Pabaiga negali būti prieš pradžią",
           "error_enter_receipt_id": "Įveskite teisingą čekio numerį",
           "error_enter_valid_address": "Suveskite tinkamą adresą",
           "error_enter_valid_date": "Įveskite tinkamą datą: yyyy-mm-dd",
           "error_enter_valid_document_number": "Dokumento numberis turi būti bent 3 simbolių.",
           "error_enter_valid_email": "Suveskite tinkamą el. pašto adresą",
           "error_enter_valid_loyalty_card_id": "Įveskite tinkamą lojalumo kortelės ID",
           "error_enter_valid_password": "Slaptažodis turi būti bent 6 simbolių",
           "error_enter_valid_phone_number": "Suveskite tinkamą telefono numerį",
           "error_enter_valid_receive_code": "Prekių atsiėmimo kodas neteisingas",
           "error_failed_to_accept": "Nepavyko priimti užduoties. Greičiausiai nespėjote ir ji yra perplanuojama.",
           "error_failed_to_add_card": "Mes negalėjome pridėti Jūsų kortelės",
           "error_failed_to_complete_order_payment": "Jūsų mokėjimas buvo atmestas. Bandykite dar kartą arba susisiekite su klientų aptarnavimu.",
           "error_false_condition": "Užsakymas neatitinka nuolaidos aprašytų salygų (todėl netaikomas)",
           "error_gps_disabled": "Įsijunkite lokacijos servisą.",
           "error_gps_permission": "Mūsų programa renka vietos duomenis, kad būtų galima sekti pristatymo būseną ir apskaičiuoti optimalų pristatymo maršrutą fone. Įgalinkite vietos leidimus „Leisti visą laiką“.",
           "error_inappropriate_status": "Užsakymo statusui neleidžia pritaikyti promo",
           "error_internal": "Vidinė klaida",
           "error_internal_code": "Vidinio kodo laukas turi būti unikalus.",
           "error_invalid_card_number": "Netinkamas kortelės numeris",
           "error_invalid_cvv": "Netinkamas CVV",
           "error_invalid_email": "Neteisingai suvestas el. paštas",
           "error_invalid_expiration_date": "Netinkama galiojimo data",
           "error_invalid_name": "Neteisingai suvestas vardas",
           "error_invalid_parameters": "Neteisingi parametrai",
           "error_invalid_password": "Įvestas slaptažodis neteisingas",
           "error_invalid_phone_number": "Neteisingai suvestas telefono numeris",
           "error_invalid_token": "Šis nuolaidos kodas negali būti pritaikytas.",
           "error_invalid_zone_name": "Įveskite tinkamą zonos pavadinimą",
           "error_login_cancelled": "Prisijungimas atšauktas.",
           "error_login_connection_failed": "Nepavyko prisijungti.",
           "error_missing_fields": "Prašome užpildyti trūkstamus laukus",
           "error_missing_header_or_order_id": "Nuolaidos kodo nepavyko priskirti, užsakymas nerastas.",
           "error_name_is_required": "Vardas privalomas",
           "error_no_address_could_be_found": "Jūsų suvestas adresas nebuvo surastas",
           "error_no_car_number": "Pridėkite automobilio valstybinį numerį.",
           "error_no_category": "Susisiekite su kurjerių aptarnavimo darbuotojais, produktas neturi kategorijos. Id: __productId__",
           "error_no_dedicated_user": "Nuolaidos kodas negali būti pridėtas, prisijunkite arba atlikite naujo vartotojo registraciją.",
           "error_no_orderid": "Šis nuolaidos kodas negali būti pritaikytas.",
           "error_no_paymentCard": "Jūs neturite pasirinkę mokėjimo kortelės.",
           "error_no_payment_card": "Kortelė su tokiais domenimis neegzistuoja.",
           "error_no_promo": "Įvestas nuolaidos kodas yra neteisingas.",
           "error_no_user_promo": "Vartotojas neturi nurodyto nuolaidos kupono",
           "error_not_a_partner": "Jūs nesate registruotas partneris. Jei norite juo tapti - susisiekite!",
           "error_not_a_shopper": "Jūs nesate registruotas darbuotojas. Jei norite juo tapti - susisiekite!",
           "error_not_allowed": "Promo autorizacija nepavyko - neleistina",
           "error_not_enough_points": "Nepakankamai taškų jūsų sąskaitoje",
           "error_not_valid_loyalty_card": "Jūsų lojalumo kortelė yra negaliojanti",
           "error_not_valid_number": "Neteisingas skaičius",
           "error_number_is_to_large": "Skaičius per didelis",
           "error_number_is_to_small": "Skaičius per mažas",
           "error_order_exceeds_max_weight_for_cityzone": "Jūsų užsakymas viršija maksimalų svorį. Pašalinkite keletą produktų iš krepšelio.",
           "error_order_not_found": "Pasirinktame mieste suvestas nuolaidos kodas negalioja.",
           "error_payment_date_too_old": "Mokėjimas atliktas per seniai, kad perkelti pristatymo laiką.",
           "error_payment_error": "Jūsų mokėjimas buvo atmestas, bandykite dar kartą.",
           "error_payment_expired": "Jūsų mokėjimo sesija baigėsi. Pabandykite mokėti iš naujo.",
           "error_phone_number_already_exists": "Telefono numeris jau yra pririštas prie kitos paskyros",
           "error_picker_must_complete_their_step_first": "Surinkėjas turi užbaigti savo 'Sandėliuoti prekes' žingsnį pirma",
           "error_promo_already_applied": "Nurodytas nuolaidos kodas jau pritaikytas",
           "error_promo_already_taken": "Nuolaidos kodas jau buvo panaudotas",
           "error_promo_cant_be_applied": "Nuolaida negali būti pritaikytaa nes tokios nėra arba ji negalioja",
           "error_promo_cant_be_applied_for_current_city": "Šis nuolaidos kodas negali būti pritaikytas šiam miestui.",
           "error_promo_cant_be_applied_for_current_store": "Šis nuolaidos kodas negali būti pritaikytas šiai parduotuvei.",
           "error_promo_cant_be_applied_for_current_zone": "Šis nuolaidos kodas negali būti pritaikytas šiam regionui.",
           "error_promo_expired": "Nuolaidos kodas baigė galioti",
           "error_promo_not_found": "Nuolaidos kodas nerastas pagal pateiktą kodą",
           "error_promo_out_of_stock": "Nuolaidos kodas buvo išparduotas",
           "error_promotion_could_not_be_created": "Nuolaidos kodas nerastas, patikrinkite ar teisingai suvedėte nuolaidos kodą.",
           "error_promotion_is_invalid": "Nuolaidos kodas nerastas, patikrinkite ar teisingai suvedėte nuolaidos kodą.",
           "error_promotion_is_out_of_stock": "Išnaudotas maksimalus nuolaidos kodų kiekis.",
           "error_promotion_not_found": "Nuolaidos kodas nerastas, patikrinkite ar teisingai suvedėte nuolaidos kodą.",
           "error_reservation_taken": "OOPS, kažkas kitas buvo greitesnis ir užėmė bent vieną jūsų pasirinktą intervalą.",
           "error_session_end_before_now": "Sesija negali baigtis ankščiau nei dabar.",
           "error_similar_promo_already_applied": "Panašus nuolaidos kodas jau pritaikytas",
           "error_store_not_available": "Šiuo metu pasirinkta parduotuvė nėra prieinama!",
           "error_surname_is_required": "Pavardė privaloma",
           "error_task_step_not_open": "Šis užduoties etapas negali būti keičiamas.",
           "error_task_step_still_has_tasks": "Šis užduoties etapas vis dar turi užduočių.",
           "error_terms_or_privacy_policy": "Privalote pažymėti, kad perskaitėte ir sutinkate su LastMile taisyklėmis ir privatumo politika",
           "error_too_early": "Jūs pradedate sesiją per anksti. Prašome palaukti arba pradėkite neplanuotą sesiją.",
           "error_too_early_to_deliver": "Per anksti pristatyti. Prašome palaukti. Užsakyme yra produktų kurių negalime pristatyti šiuo metu.",
           "error_too_late_to_deliver": "Per vėlu pristatyti. Prašome palaukti. Užsakyme yra produktų kurių negalime pristatyti šiuo metu.",
           "error_too_much_picked_weight": "Produkto svoris yra per didelis",
           "error_unexpected": "Įvyko nenumatyta klaida. Bandykite dar kartą.",
           "error_unknown": "Nenumatyta klaida, bandykite dar kartą.",
           "error_unresolvable_condition": "Klaida neteisingai aprašyta promo sąlyga",
           "error_user_email_exists": "Vartotojas su tokiu el. paštu jau egzistuoja",
           "error_user_not_found": "Vartotojas nebuvo rastas sistemoje",
           "error_user_promotion_assignment_failed": "Nepavyko pridėti nuolaidos kodo. ",
           "error_user_promotion_is_redeemed": "Nuolaidos kodas jau buvo panaudotas, daugiau panaudoti galimybės nėra.",
           "error_user_promotion_is_still_unused": "Nuolaidos kodo ieškokite nuolaidos kodai skiltyje. ",
           "error_user_used_all_promotions": "Nuolaidos kodas jau buvo panaudotas.",
           "error_version": "Apgailestaujame, tačiau programėlės versija yra antaujinta ir senos versijos nėra palaikomos. Prašome atsinaujinti programėlę.",
           "error_wrong_verify_code": "Neteisingas patvirtinimo kodas",
           "estimateLimit": "Preliminaraus laiko limitas",
           "estimatedPickerTaskEnd": "Numatoma surinkėjo užduoties pabaiga",
           "estimates": "Įvertinimai",
           "excludeInFilterDriver": "Neįtraukti vairuotojų",
           "excludeInFilterPicker": "Neįtraukti surinkėjų",
           "excludeInFilterShopper": "Neįtraukti vairuotojų-surinkėjų",
           "existingUser": "Esamas vartotojas",
           "existingUserSubtitle": "Pasirinkite prisijungimo būdą.",
           "existingUserTitle": "Sveikas sugrįžęs!",
           "expiryDate": "Kortelės galiojimo data (mm/yy)",
           "exports": "Eksportas",
           "failedToAddComment": "Nepaėjo pridėti komentaro",
           "failedToAddCompany": "Įmonės pridėti nepavyko",
           "failedToAddPromo": "Nuolaidos kodo pridėti nepavyko",
           "failedToApplyReferral": "Nepavyko pritaikyti rekomendacijos",
           "failedToRefreshOrder": "Nepavyko atnaujinti užsakymo informacijos.",
           "failedToRemoveComment": "Nepavyko ištrinti komentaro",
           "failedToSelect": "Nepavyko pasirinkti kortelės",
           "failedToSelectCompany": "Nepavyko pasirinkti įmonės",
           "faq": "DUK",
           "fastest": "Greičiausias",
           "fat": "Riebalai",
           "favoriteDescription": "Šiame puslapyje rasite visas prekes, kurias anksčiau pamėgote.",
           "favoriteEmpty": "Jūs neturite pamėgtų produktų",
           "favorites": "Mėgstamiausi",
           "feedback": "Atsiliepimai",
           "feedbackRatingContent1": "Kaip vertinate užsakymo įvykdymą? Jūsų nuomonė mums padeda tobulinti teikiamas paslaugas.",
           "feedbackRatingContent2": "Kas nulėmė Jūsų apsisprendimą? Kviečiame Jus palikti atsiliepimą ir taip prisidėti prie paslaugų gerinimo.",
           "feedbackRatingContent3": "Palikti arbatpinigiai bus padalinti tiesiogiai prie Jūsų užsakymo prisidėjusiam aptarnaujančiam parduotuvės ir Lastmile personalui.",
           "feedbackRatingContent4": "Lauksime sugrįžtant į Lastmile elektroninę parduotuvę.",
           "feedbackRatingTitle1": "Dėkojame, kad esate su mumis!",
           "feedbackRatingTitle2": "Ačiū, kad padedate mums tobulėti!",
           "feedbackRatingTitle3": "Arbatpinigiai surinkėjui ir kurjeriui",
           "feedbackRatingTitle4": "Esame dėkingi už Jūsų laiką ir nuomonę!",
           "feedback_is_sent": "",
           "fieldRequired": "Privaloma",
           "fifteenMinutes": "Penkiolika minučių",
           "fileExplorer": "Failų naršyklė",
           "files": "Failai",
           "filesUploaded": "Failai įkelti",
           "fillContractInformation": "Prašome užpildyti informaciją, reikalingą norint sudaryti sutartį su LastMile.",
           "fillInAllFieldsToSubmit": "Norėdami tęsti, turite užpildyti visus laukus.",
           "fillInformation": "Užpildykite informaciją",
           "fillRate": "Fill rate",
           "filter": "Filtras",
           "filterActive": "Aktyvūs",
           "filterActiveOrders": "Aktyvūs užsakymai",
           "filterApproved": "Patvirtinti",
           "filterCompletedOrders": "Įvykdyti užsakymai",
           "filterDeliveryAndPickupOrders": "Atsiėmimo ir pristatymo užsakymai",
           "filterInactive": "Ne aktyvūs",
           "filterOnlyPromotions": "Tik akcijos",
           "filterPriceTo": "Kaina iki",
           "filterUnapproved": "Ne patvirtinti",
           "findCity": "Ieškoti miesto",
           "findStore": "Ieškoti parduotuvės",
           "findyourlocation": "Rasti savo vietą",
           "finish": "Baigti",
           "first": "Pirmas",
           "flatDoorNumber": "Buto numeris",
           "flatNumber": "Butas",
           "floorNumber": "Aukšto numeris",
           "followUs": "Sekite mus",
           "fourHours": "Per keturias valandas",
           "fourtyfiveMinutes": "Keturiasdešimt penkios minutės",
           "free": "Nemokamai",
           "freeCartReached": "Minimalaus krepšelio mokestis panaikintas!",
           "freeDelivery": "Prekes pristatysime NEMOKAMAI.",
           "freeDeliveryReached": "Sveikiname! Prekes pristatysime nemokamai!",
           "free_upper": "LAISVAS",
           "freshBagLocation": "Šaldytuvas (+4°C)",
           "friend": "Draugas",
           "from": "Nuo",
           "frozenBagLocation": "Šaldytuvas (-18°C)",
           "frozenProducts": "Šaldyti produktai",
           "fullProductInfo": "Pilna prekės informacija",
           "gallery": "Galerija",
           "general": "Pagrindinis",
           "getGiftCard": "Pirkti dovanų kortelę",
           "getLoyaltyPoints": "Lojalumo taškų",
           "getStarted": "Pradėti",
           "gift": "Dovana",
           "giftCard": "Dovanų kortelė",
           "giftCardPurchaseSuccessful": "Sėkmingai įsigijote dovanų kortelę",
           "giftCards": "Dovanų kortelės",
           "gifts": "Dovanos",
           "giftsView": "Peržiūrėti dovanas",
           "giveOrder": "Atiduoti užsakymą",
           "giveOrderConfirmation": "Patvirtinkite, kad klientas gavo užsakymą",
           "globalSearch": "Globali paieška",
           "glutenFree": "Be glitimo",
           "goBackHome": "Grįžti į pradinį puslapį",
           "goShopping": "Apsipirkti",
           "gourmet": "Gurmanams",
           "groceries": "Maisto prekės",
           "guarantee": "Garantija",
           "guaranteedEarnings": "Garantuotas uždarbis",
           "guaranteedSession": "Garantuota sesija",
           "guaranteedSessionEarningIntervals": "Garantuotos sesijos uždarbio intervalai",
           "handOff": "Sandėliuoti prekes",
           "headerId": "Antraštės Id",
           "height": "Aukštis",
           "help": "Pagalba",
           "here": "Čia",
           "high": "Aukštas",
           "home": "Pagrindinis",
           "hours": "Valandos",
           "house": "Namas",
           "howOldIsTheCustomer": "Kiek metų yra prekes atsiimančiam asmeniui?",
           "hygieneCourses": "Higienos įgūdžių pažymejimas",
           "iAmHere": "Atvykau",
           "iAmHereFirst": "Prašome patvirtinti, jog atvykote.",
           "iAmHereSecond": "Šis pasirinkimas negali būti atstatytas atgal.",
           "iAmHereWarning": "Norint atsiimti prekes prašome pateikti užsakymo numerį aptarnaujančiam personalui parduotuvėje.",
           "icons": "Ikonos",
           "ikiLoyaltyCardInfo": "IKI lojalumo kortelės taisykles ir sąlygas rasite",
           "import": "Importas",
           "import_mappings": "Importuoti susiejimus",
           "imports": "Importas",
           "inProgress": "Vykdomas",
           "inYourAreaSoon": "Netrukus būsime jūsų vietovėje!",
           "incorrectTryAgain": "Atsakymas neteisingas. Bandykite dar kartą.",
           "individualActivityNumber": "Individialios veiklos pažymos numeris",
           "information": "Informacija",
           "ingredients": "Sudedamosios dalys",
           "initial": "Pradinis",
           "instantService": "Skubaus pristatymo valdymas",
           "internalCode": "Vidinis kodas",
           "interval": "Intervalas",
           "invalidConfirmationCode": "Neteisingas patvirtinimo kodas.",
           "invitation_to_sign_cooperation_contract": "",
           "invoice": "Sąskaita",
           "invoiceRequired": "Reikalinga sąskaita faktūra",
           "invoiceSent": "Sąskaita išsiųsta",
           "invoice_counter": "Sąskaita faktūra, ",
           "isActive": "Ar aktyvus",
           "isAlcoholic": "Turi alkoholinių gėrimų",
           "isAlternative": "Alternatyva",
           "isApproved": "Ar patvirtintas",
           "isFrozen": "Turi šaldytų produktų",
           "isGuaranteed": "Garantinė sesija",
           "isWorking": "Ar dirba",
           "issueTypeExplanation": "Pasirinkite vieną, kuris geriausiai apibūdina problemą:",
           "joinUs": "Prisijunkite prie mūsų",
           "karma": "Populiariausi",
           "karmaShop": "Populiariausios",
           "ketogenic": "Ketogeninis",
           "labelName": "Etiketės pavadinimas",
           "lactoseFree": "Be laktozės",
           "landingSubtitle": "Didesnis nei 28 000 prekių asortimentas",
           "landingTitle": "Gauk prekes per valandą",
           "language": "Kalba",
           "languageSelection": "Kalbų pasirinktis",
           "last": "Paskutinis",
           "leaveAddressComment": "Palikite adreso komentarą",
           "leaveAtTheDoor": "Palikti užsakymą prie durų",
           "leaveComment": "Palikti komentarą",
           "leaveCommentForCourier": "Palikite komentarą kurjeriui",
           "leavePickupStoreUnchanged": "Ar Jūs tikrai nenorite pakeisti prekių atsiėmimo parduotuvės?",
           "length": "Ilgis",
           "lesson": "Pamoka",
           "letsWorkTogether": "Bendradarbiaukime",
           "lightColorMode": "Šviesi spalvų gama",
           "liked": "Pamėgti",
           "link": "Nuoroda",
           "linkCopied": "Nuoroda nukopijuota",
           "linkEmail": "Įveskite el. pašto adresą, su kuriuo norite susieti savo paskyrą.",
           "linkToApple": "Susieti su Apple",
           "linkToFacebook": "Susieti su Facebook",
           "linkToGoogle": "Susieti su Google",
           "listOfProducts": "Prekių sąrašas",
           "liveOrders": "Gyvi užsakymai",
           "loadingArea": "Pakrovimo vieta",
           "locationPrompt": "Leisti LastMile matyti mano lokaciją",
           "locationTooFarSubtitle": "Jūsų pasirinkta lokacija yra per toli nuo Jūsų adreso.",
           "locationTooFarTitle": "Jūsų lokacija per toli.",
           "locationType": "Vietos tipas",
           "lockNumber": "Laiptinės durų kodas",
           "login": "Prisijunkite",
           "loginApple": "Tęsti su Apple",
           "loginEmail": "Tęsti su el.paštu",
           "loginFacebook": "Tęsti su Facebook",
           "loginFailed": "Nepavyko prisijungti. Bandykite dar kartą.",
           "loginGoogle": "Tęsti su Google",
           "loginWithEmail": "Prisijungimas el. paštu",
           "loginWithPhoneNumber": "Prisijungimas mob. telefonu",
           "low": "Žemas",
           "lowestPriceIn30Days": "Mažiausia kaina per 30 dienų",
           "loyaltyCard": "Lojalumo kortelė",
           "loyaltyCardAddSuccessful": "Lojalumo kortelė pridėta sėkmingai",
           "loyaltyCardAdditionFailed": "Nepavyko pridėti lojalumo kortelės",
           "loyaltyCardNumber": "Lojalumo kortelės numeris",
           "loyaltyCardRemovalFailed": "Nepavyko ištrinti lojalumo kortelės",
           "loyaltyCardRemoveSuccessful": "Lojalumo kortelė ištrinta sėkmingai",
           "loyaltyCards": "Lojalumo kortelės",
           "loyaltyPoints": "Lojalumo taškai",
           "loyalty_cards": "Lojalumo kortelės",
           "lt": "Lietuvių",
           "makeReturn": "Grąžinti",
           "marketingCost": "Marketingo kaštai",
           "marking": "Žymėjimas",
           "masterData": "Duomenų valdymas",
           "maximumOrderQuantity": "Pasirinkote maksimalų šios prekės kiekį. Dėl didesnio kiekio įmonėms kreiptis",
           "maximumQuantityContactUs": "Norintiems užsakyti didmenos sąlygomis, kreiptis:",
           "medium": "Vidutinis",
           "min": "min",
           "minimalOrderedValueInfo": "Minimali užsakymo vertė yra __minPrice__. Jei neviršysite šios užsakymo sumos, Jūsų užsakymui bus pridėtas minimalaus užsakymo mokestis __surcharge__.",
           "minimalSurcharge": "Minimalaus užsakymo mokestis",
           "minutes": "Minutės",
           "missedTasks": "Praleistos užduotys",
           "missing": "Trūkumai",
           "missionAccomplished": "Misija įvykdyta",
           "missionProgress": "Įvykdytų misijų",
           "missions": "Misijos",
           "mobile": "Mobilus",
           "mobileAppConvenience": "Mobiliosios programėlės patogumas",
           "money": "Pinigai",
           "month1": "Sausis",
           "month10": "Spalis",
           "month11": "Lapkritis",
           "month12": "Gruodis",
           "month2": "Vasaris",
           "month3": "Kovas",
           "month4": "Balandis",
           "month5": "Gegužė",
           "month6": "Birželis",
           "month7": "Liepa",
           "month8": "Rugpjūtis",
           "month9": "Rugsėjis",
           "more": "Daugiau",
           "multipleChainsWarning": "Ar tikrai norite formuoti užsakymą su daugiau nei viena parduotuve?",
           "multiplier": "Dauginamasis",
           "myExactLocation": "Mano dabartinė vieta",
           "name": "Vardas",
           "nameOfAddressToStored": "Išsaugojamo adreso pavadinimas",
           "new": "Naujiena",
           "newActionWillBeAvailableIn": "Naujas veiksmas bus galimas po",
           "newAdress": "Naujas adresas",
           "newCards": "Įsigyti",
           "newEmail": "Naujas el.paštas",
           "newName": "Naujas vardas",
           "newOrderTotal": "Papildyto užsakymo suma",
           "newShop": "Nauja parduotuvė",
           "newUser": "Naujas vartotojas",
           "newUserSubtitle": "Norėdami pateikti savo paraišką, turite sukurti naują paskyrą.",
           "newUserTitle": "Pasirinkite vieną iš prisijungimo būdų.",
           "next": "Tęsti",
           "nextProduct": "Kitas produktas",
           "nextStep": "Pereiti prie kito žingsnio",
           "no": "Ne",
           "noAddedSugar": "Be pridėtinio cukraus",
           "noAddresses": "Jūs neturite suvestų adresų savo sąraše. Pridėkite naują adresą.",
           "noBanner": "Reklamjuostė nerasta",
           "noCards": "Jūs neturite pridėtų kortelių.",
           "noCategories": "Be kategorijos",
           "noCategory": "Kategorija nerasta",
           "noCompanies": "Nėra pridėtų įmonių.",
           "noCountrySearchResultsSubtitle": "Jūsų paieška „{{searchQuery}}“ neatitiko jokios šalies. Bandykite dar kartą.",
           "noCountrySearchResultsTitle": "Nieko nerasta",
           "noDeliveryIntervals": "Šiuo metu nėra galimų pristatymo laikų.",
           "noInternet": "Nutrūko Jūsų interneto ryšys.",
           "noJobVacancies": "Deja, šiuo metu laisvų darbo vietų neturime. Bandykite dar kartą vėliau.",
           "noOrders": "Jūs dar nebuvote atlikę užsakymų.",
           "noPickupIntervals": "Šiuo metu nėra galimų prekių atsiėmimo laikų.",
           "noProductInStore": "Šiuo metu šios prekės nėra parduotuvėje.",
           "noPromos": "Nėra pridėtų nuolaidos kodų.",
           "noProviders": "Atsiprašome, parduotuvė neturi galimų pristatymo laikų.",
           "noResultsForSearchQuery": "Nepavyko rasti duomenų pagal pateiktą užklausą.",
           "noSearchResults": "Paieškos rezultatų nerasta",
           "noSessions": "Šiuo metu nėra sesijų.",
           "noStore": "Atsiprašome, tačiau ši parduotuvė negalima Jūsų adresui ...",
           "noStoreForDeliveryType": "Atsiprašome, ši parduotuvė nepasiekiama jūsų pasirinktam pristatymo tipui ...",
           "noTasks": "Šiuo metu nėra laukiančių užduočių.",
           "noUser": "Prašome prisijungti!",
           "notAvailable": "Nėra galimas",
           "notFound": "Nerasta",
           "notFoundProduct": "Nerastas produktas",
           "notGuaranteedPayment": "Jūs neturite jokių garantijų už šią sesiją.",
           "notPaidOrderLine": "Šis produktas vis dar neturi mokėjimo rezervacijos patvirtinimo.",
           "notPicked": "Nesurinkta",
           "notWantAlternative": "Nenoriu alternatyvos",
           "note": "Pastaba",
           "notification_AUTONOMOUS_VEHICLE_ARRIVED_description": "Užsakymo PIN – #. Autonominis automobilis lauks 10min. Užsakius alkoholinių/energinių gėrimų, paruoškite amžių patvirtinantį dokumentą.",
           "notification_AUTONOMOUS_VEHICLE_ARRIVED_title": "Užsakymas atvyko!",
           "notification_CANCELLED_ORDER_description": "Dėl detalesnės informacijos kreipkitės į klientų aptarnavimo skyrių. Atsiprašome 🥺",
           "notification_CANCELLED_ORDER_title": "Užsakymas atšauktas ⛔",
           "notification_CLIENT_ARRIVED_TO_PARKING_LOT_description": "Klientas atvyko atsiimti užsakymo <#> Parkinge, nr. #.",
           "notification_CLIENT_ARRIVED_TO_PARKING_LOT_title": "Klientas Atvyko!",
           "notification_CLIENT_ARRIVED_description": "Klientas atvyko atsiimti užsakymo <#> į Atsiėmimo vietą.",
           "notification_CLIENT_ARRIVED_title": "Klientas Atvyko!",
           "notification_DELIVERY_WILL_BE_LATE_description": "Galimas pristatymo vėlavimas dėl didelio užsakymų skaičiaus 😕🙏🏼",
           "notification_DELIVERY_WILL_BE_LATE_title": "Atsiprašome 🥺",
           "notification_GOT_TIPS_description": "Gavote #€ arbatpinigių",
           "notification_GOT_TIPS_title": "Arbatpinigiai",
           "notification_LONG_DELIVERY_description": "Prekes pristatėme nemokamai",
           "notification_LONG_DELIVERY_title": "Atsiprašome, pavėlavome ...",
           "notification_NEW_TASK_description": "Yra nauja užduotis!",
           "notification_NEW_TASK_title": "Nauja užduotis",
           "notification_ONBOARDING_UNLOCKED_description": "Įsidarbinimo žingsnis ir duomeys yra patvirtinti, prašome pratęsti registraciją",
           "notification_ONBOARDING_UNLOCKED_title": "Įsidarbinimo žingsnis patvirtintas!",
           "notification_ORDER_ACCEPTED_description": "Jūsų užsakymas pradėtas vykdyti",
           "notification_ORDER_ACCEPTED_title": "Užsakymas priimtas",
           "notification_ORDER_COMPLETED_description": "Mums rūpi Jūsų nuomonė. Palikite atsiliepimą. Būsime dėkingi! 🙏",
           "notification_ORDER_COMPLETED_title": "Užsakymas įvykdytas 🛍",
           "notification_ORDER_DELIVERING_description": "Jūsų užsakymas jau pakeliui! Kurjerio kelionę galite stebėti programėlėje 📲",
           "notification_ORDER_DELIVERING_title": "Užsakymas pristatomas 🚙",
           "notification_ORDER_START_PICKING_description": "Prekių surinkimo statusą galite sekti LastMile programėlėje 🍉",
           "notification_ORDER_START_PICKING_title": "Prekių surinkimas pradėtas 🛒",
           "notification_PRODUCT_NOT_FOUND_description": "Prašome pasirinkti nerastai prekei alternatyvą 🥑",
           "notification_PRODUCT_NOT_FOUND_title": "Prekė nerasta ❌",
           "notification_TO_BE_DELIVERED_SOON_description": "Užsakymas pakeliui link Jūsų durų!",
           "notification_TO_BE_DELIVERED_SOON_title": "Kurjeris atvyko! 🤩",
           "notification_UPDATED_TASK_description": "Papildyta užduotis užsakymu, +#€ uždarbio",
           "notification_UPDATED_TASK_title": "Papildyta užduotis",
           "notification_WAITING_PICKUP_description": "Jūsų užsakymas surinktas ir paruoštas atsiėmimui 🍊",
           "notification_WAITING_PICKUP_title": "Užsakymas paruoštas atsiėmimui ⭐️",
           "numberOfBags": "Preliminarus maišelių skaičius:",
           "numberOfBagsInfo": "Maišelių skaičius",
           "nutrition": "Maistinė vertė",
           "of": "iš",
           "office": "Ofisas",
           "ok": "Gerai",
           "olderThen25": "Vyresnis nei 25",
           "onboardEmployee": "Darbuotojo sukūrimas",
           "onboardNewEmployee": "Naujo darbuotojo sukūrimas",
           "onboardingApplicationStep": "Aplikavimo žingnis",
           "onboardingContractStep": "Sutarties žingnis",
           "onboardingEquipmentStep": "Įrangos žingsnis",
           "onboardingSteps": "Įsidarbinimo žingsniai",
           "onboardingTrainingStep": "Mokymų žingsnis",
           "onboarding_contract": "",
           "oneHour": "Per valandą",
           "oneHourShort": "Per 1 h",
           "ongoingOrder": "Vykdomas užsakymas",
           "onlyDelivery": "Tik pristatymas",
           "onlyPickup": "Tik atsiėmimas",
           "onlyPickupChains": "Tik atsiėmimo tinklai",
           "openSettings": "Atidaryti nustatymus",
           "operationalData": "Operatyviniai duomenys",
           "or": "ARBA",
           "order": "Užsakymas",
           "orderAddition": "Užsakymo papildymas",
           "orderCode": "Atsiėmimo kodas",
           "orderColorValues": "Užsakymų spalvų gama",
           "orderComment": "Užsakymo komentaras",
           "orderCompletionOnHold": "Užsakymui liko puse planuoto laiko įvykdyti",
           "orderCompletionOnTime": "Užsakymui liko daug laiko įvykdyti",
           "orderCompletionPending": "Užsakymui liko mažai laiko įvykdyti",
           "orderCount": "Užsakymų skaičius",
           "orderDetails": "Užsakymo informacija",
           "orderFulfilment": "Užsakymo išpildymas",
           "orderHasBeenEvaluated": "Užsakymas buvo įvertintas",
           "orderId": "Užsakymo Id",
           "orderLines": "Užsakymo eilutės",
           "orderNotYetCollected": "Užsakymas dar nebaigtas rinkti, prašome palaukti.",
           "orderNumber": "Užsakymo numeris",
           "orderPriceChanged": "Pasikeitė užsakytų produktų kainos",
           "orderSearch": "Užsakymo paieška",
           "orderStatus": "Užsakymo būsena",
           "orderTotal": "Užsakymo suma",
           "order_queue": "Užsakymų eilė",
           "ordered": "Užsakytas",
           "orderedQuantity": "Užsakytas kiekis",
           "orderlines": "užsakymo eilutės",
           "orders": "Užsakymai",
           "organic": "Ekologiška",
           "originalText": "Originalus tekstas",
           "other": "Kita",
           "otherCities": "Kiti miestai",
           "overEstimate": "Pridėtinė preliminaraus laiko vertė",
           "override": "Perrašyti",
           "ownedCards": "Turimos",
           "packaging": "Pakuotė",
           "packagingOfGoods": "Prekių pakavimas",
           "packagingValue": "Pakuotė",
           "paid": "Sumokėta",
           "paidValue": "Sumokėta suma",
           "paleo": "Paleo",
           "parkingLot": "Automobilių stovėjimo aikštelė",
           "partnerManagement": "Partnerių valdymas",
           "partner_permissions": "Partnerių teisės",
           "partner_receipts": "Partnerių sąskaitos",
           "partner_service_invoice_line_name": "Pervežimo paslaugos pagal ataskaitą",
           "partners": "Partneriai",
           "password": "Slaptažodis",
           "password_too_short": "Slaptažodis per trumpas",
           "pay": "Mokėti",
           "payAttention": "Atkreipkite dėmesį!",
           "payment": "Susimokėti",
           "paymentMethod": "Atsiskaitymo būdas",
           "paymentMethods": "Atsiskaitymo būdai",
           "paymentProcessed": "Rezervacija pavyko",
           "payment_cards": "Mokėjimo kortelės",
           "payment_country": "Apmokėjimo šalis",
           "payment_date": "Apmokėjimo data",
           "payment_transactions": "Mokėjimai",
           "payments": "Mokėjimai",
           "pendingPayment": "Laukiama apmokėjimo patvirtinimo.",
           "pendingTask": "Laukianti užduotis",
           "people": "žmonės",
           "peopleReferred": "Rekomenduoti žmonės",
           "per100": "100 g/ml",
           "personalDocument": "Asmens dokumentas",
           "personalDocumentExpiryDate": "Asmens dokumento galiojimo data",
           "personalIdentificationNumber": "Asmens kodas",
           "personalInformation": "Asmeninė informacija",
           "pets": "Augintiniams",
           "phoneAdded": "Telefonas pridėtas!",
           "phoneAdditionFailed": "Nepavyko pridėti telefono.",
           "phoneNumber": "Telefono numeris",
           "phoneNumberSuggestion": "Įveskite savo telefono numerį.",
           "photo": "Nuotrauka",
           "photo_imports": "Nuotraukų importas",
           "pick": "Surinkti",
           "pickEnd": "Surinkta",
           "pickStart": "Renkama",
           "pickUpFromParking": "Atsiimti prekes automobilių aikštelėje",
           "pickUpFromParkingSubtitle": "Pasirinkus prekių atsiėmimą automobilių aikštelėje Jums nereikės eitį į parduotuvę.",
           "pickedProducts": "Surinkti produktai",
           "picker": "Surinkėjas",
           "pickerComment": "Surinkėjo komentaras",
           "pickerTask": "Rinkiklio užduotis",
           "pickers": "Rinkėjai",
           "picking": "Surinkti prekes",
           "pickingIsNearlyCompleted": "Prekių surinkimas beveik baigtas...",
           "pickingProvider": "Surinkimo paslaugos teikėjas",
           "pickup": "Atsiėmimas",
           "pickupAddress": "Atsiėmimo adresas",
           "pickupInParking": "Atsiimti automobilių aikštelėje",
           "pickupLocation": "Atsiėmimo vieta",
           "pickupPrice": "Prekių atsiėmimo kaina",
           "pickupTime": "Prekių atsiėmimo laikas",
           "pickupWarning": "Atkreipkite dėmesį - Jūs pasirinkote atsiėmimą parduotuvėje.",
           "pinCode": "Pin kodas",
           "planEnd": "Plano pabaiga",
           "planStart": "Plano pradžia",
           "planTimeForward": "Planuojamas laikas į priekį",
           "plannableOrders": "Planuojamų užsakymų skaičius",
           "plannedEnd": "Suplanuota pabaiga",
           "plannedStart": "Suplanuota pradžia",
           "plannerTimer": "Planuotojo laikmatis",
           "points": "Taškai",
           "poweredBy": "Veža",
           "preciseAddress": "Gal norėtumėte pridėti tikslesnį adresą?",
           "preciseAddressText": "Jūsų prisidėtas artimiausias adresas neatitinka jūsų lokacijos, todėl rodomas prekių asortimentas gali neatitikti siūlomo jūsų vietovėje.",
           "premium": "Aukštesnysis",
           "previousReservation": "Prieš tai rezervuota suma",
           "price": "Kaina",
           "priceAsc": "Kaina: nuo žemiausios",
           "priceDesc": "Kaina: nuo aukščiausios",
           "pricingType": "Kainodaros tipas",
           "privacyConfirmationText": "Aš susipažinau su ",
           "privacyPolicy": "Privatumo Politika",
           "privacyPolicyLink": "LastMile privatumo politika",
           "processingPayment": "Atliekama rezervacija",
           "product": "Prekė",
           "productAppearanceSlightly": "Realios prekės išvaizda gali šiek tiek skirtis nuo esančios nuotraukoje.",
           "productInfo": "Prekės informacija",
           "productIssueBarcode": "Neteisingas produkto barkodas",
           "productIssueImage": "Produkto nuotrauka nesutampa su tikru produktu",
           "productIssueName": "Neteisingas produkto pavadinimas",
           "productIssueOther": "Kita",
           "productIssuePrice": "Produkto kaina nesutampa su tikru produktu",
           "productIssues": "Produktų problemos",
           "productPrice": "Produktų kaina",
           "productQuality": "Produktų kokybė",
           "productRange": "Asortimentas",
           "product_changes": "Produktų pakeitimai",
           "product_issues": "Produktų problemos",
           "product_promo_definitions": "Produktų nuolaidų apibrėžimai",
           "products": "Produktai",
           "productsQuality": "Produktų kokybė",
           "profile": "Profilis",
           "profileSettings": "Profilio nustatymai",
           "promoApplied": "Nuolaida pritaikyta",
           "promoCancelled": "Nuolaida atšaukta",
           "promoCode": "Nuolaidos kodas",
           "promos": "Nuolaidos kodai",
           "promotion": "Akcija",
           "promotionAdded": "Nuolaidos kodas pridėtas",
           "promotionValue": "Nuolaidos",
           "promotionalOffers": "Akcijiniai pasiūlymai",
           "promotions": "Akcijos",
           "promotionsTitle": "Akcijos",
           "propertyType": "Pastato tipas",
           "protein": "Baltymai",
           "provider": "Teikėjas",
           "purchase": "Pirkimas",
           "purchases": "Įsigijimai",
           "quantity": "Kiekis",
           "question_comments": "Ar turite papildomų komentarų?",
           "question_feedback_tags": "Kas nulėmė Jūsų apsisprendimą?",
           "question_tip": "Ar norite palikti arbatpinigių kurjeriui?",
           "question_tip_picker": "Ar norite palikti arbatpinigių surinkėjui?",
           "rate": "Įvertinti",
           "rating": "Įvertinimas",
           "reallyWantDeleteCart": "Ar tikrai norite ištrinti krepšelį?",
           "reallyWantDeleteComment": "Tikrai norite ištrinti komentarą",
           "receiptId": "Čekio NR.",
           "receiptScanner": "Čekio NR. skaitytuvas",
           "receiver": "Gavėjas",
           "recentlyViewedItems": "Neseniai žiūrėtos prekės",
           "recieveCode": "Atsiėmimo kodas",
           "recipes": "Receptai",
           "recommended": "Rekomenduojamos",
           "record": "Įrašyti",
           "referralApplied": "Rekomendacija pritaikyta",
           "referralCode": "Rekomendacijos kodas",
           "referralPageSubtitle": "Tiesiog pakvieskit draugus",
           "referralPageTitle": "Gaukite kuponus",
           "referralSuccessful": "Rekomendacija sėkminga",
           "referrals": "Referrals",
           "refreshedOrder": "Užsakymo informacija atnaujinta.",
           "refreshingOrder": "Atnaujinama užsakymo informacija ...",
           "refundValue": "Grąžinama vertė",
           "register": "Registruotis",
           "registerWithEmail": "Registracija el. paštu",
           "registerWithPhoneNumber": "Registracija mob. telefonu",
           "regularBagLocation": "Sandėliavimo lentyna",
           "rememberMe": "Išsaugoti reikšmę",
           "remove": "Pašalinti",
           "removedComment": "Komentaras ištrintas",
           "removingComment": "Komentaras ištrinamas",
           "removingLoyaltyCard": "Ištrinama lojalumo kortelė",
           "renew": "Atnaujinti",
           "repeatOrder": "Pakartoti užsakymą",
           "repeatPassword": "Pakartoti slaptažodį",
           "reportProductIssue": "Pranešti apie produkto problemą",
           "resendCode": "Persiųsti dar kartą",
           "resendCodeIn": "Pakartotinai siųsti kodą už {{seconds}} s",
           "resendPhoneConfirmationCodeSheet": {
            "button1": "Siųsti dar kartą",
            "button2": "Neteisingas telefono numeris",
            "subtitle": "Mes išsiųsime kodą į {{phoneNumber}}. Jei negausite kodo, patikrinkite, ar teisingai įvestas telefono numeris.",
            "title": "Išsiųsti kodą dar kartą"
           },
           "reservation": "Rezervacija",
           "reservationRequired": "Reikalinga rezervacija",
           "reservationRequiredFirst": "Jūsų papildyto užsakymo suma yra didesnė nei prieš tai rezervuota suma:",
           "reservationRequiredSecond": "Reikalinga papildoma rezervacija (nepanaudotas skirtumas bus grąžintas):",
           "reservations": "Rezervacijos",
           "reserveDelivery": "Rezervuoti pristatymą",
           "reservePickup": "Rezervuoti atsiėmimą",
           "reservedAmountIsHigherThanOrderAmount": "Rezervuojama pinigų suma yra didesnė nei papildyto užsakymo suma dėl galimos paklaidos. Perskaičiavus užsakymo sumą, pinigų skirtumas bus grąžintas į Jūsų banko sąskaitą.",
           "reservedDeliveryTime": "Rezervuotas pristatymo laikas",
           "reservedPickupTime": "Rezervuotas atsiėmimo laikas",
           "reservedTokens": "Rezervuoti taškai",
           "reset": "Atstatyti",
           "resetLocation": "Sugrįžti į pradinę lokaciją",
           "returnProducts": "Grąžinti produktus",
           "returned": "Gražinta",
           "revolutCardInfo": "Revolut kortelės informacija",
           "risk": "Rizika",
           "routeBuilder": "Maršrutų planavimas",
           "ru": "Русский",
           "rulesAndPrivacyPolicy": "Taisyklės ir privatumo politika",
           "salesValidTill": "Akcija galioja, jei pristatymo laikas pasirinktas iki",
           "salt": "Druska",
           "satFat": "iš kurių sočiųjų riebalų rūgščių",
           "save": "Išsaugoti",
           "saveAddress": "Išsaugoti adresą",
           "schedules": "Tvarkaraščiai",
           "search": "Ieškoti",
           "searchAddress": "Ieškokite adreso",
           "searchAlternative": "Ieškokite alternatyvų",
           "searchCountryPlaceholder": "Ieškoti pagal šalį",
           "searchForProductsByName": "Ieškokite prekių pagal prekės pavadinimą",
           "searchMarket": "Ieškoti prekių, parduotuvių, puslapių",
           "searchProducts": "Ieškoti prekių",
           "searchScore": "Paieška",
           "searchingFor": "Ieškoma:",
           "searchingForCard": "Ieškoma kortelės ...",
           "secrets": "Paslaptys",
           "seeAll": "Žiūrėti visas",
           "seeMore": "Daugiau",
           "select": "Pasirinkti",
           "selectAddress": "Pasirinkti adresą",
           "selectCameraResolution": "Pasirinkite kameros kokybę",
           "selectCategories": "Pasirinkite kategorijas",
           "selectCity": "Arba pasirinkite savo miestą",
           "selectExactLocation": "Norint prekių pristatymo, pasirinkite konkretų adresą tikslesniam parduotuvių asortimentui Jūsų vietovėje:",
           "selectLocationType": "Pasirinkite vietos tipą",
           "selectPaymentMethod": "Pasirinkite atsiskaitymo būdą",
           "selectPaymentType": "Pasirinkite mokėjimo metodą",
           "selectSize": "Rinktis dydį",
           "selectStore": "Pasirinkite parduotuvę",
           "selectedOrder": "Pasirinktas užsakymas",
           "selectedPickupWarning": "Jūs pasirinkote prekių atsiėmimą. Ar norite tęsti?",
           "selectingCard": "Pasirenkamas mokėjimo būdas",
           "selectingCompany": "Pasirenkama įmonė",
           "selfie": "Asmenukė",
           "sendEmailLink": "Siųsti pašto nuorodą",
           "sendInvoice": "Išsiųsti sąskaitą",
           "sendVerificationCode": "Išiųsti patvirtinimo kodą",
           "sender": "Siuntėjas",
           "seo_description": "Greitas ir patogus prekių pristatymas iš parduotuvių į namus.",
           "service": "Paslauga",
           "session": "Sesija",
           "sessionColorValues": "Sesijų spalvų gama",
           "sessionId": "Sesijos Id",
           "sessionInformation": "Sesijos informacija",
           "sessionSelectionTitle": "Pasirinkite sesijos pabaigos laiką",
           "sessionTime": "Sesijos laikas",
           "sessionWillCloseAfterTask": "Sesija bus uždaryta po paskutinės atliktos užduoties.",
           "session_reports": "Sesijų ataskaitos",
           "session_tips": "Sesijų patarimai",
           "sessions": "Sesijos",
           "settings": "Nustatymai",
           "share": "Dalintis",
           "shareCode": "Dalintis kodu",
           "shopCount": "Parduotuvių",
           "shopper": "Kurjeris-surinkėjas",
           "shopperSupport": "Kurjerių aptarnavimas",
           "shopsNearby": "Parduotuvės netoliese",
           "showMore": "Rodyti daugiau",
           "showOnlyFreeEmployees": "Rodyti tik laisvus darbuotojus",
           "showing": "Rodoma",
           "signInButton": "Prisijungti",
           "signInOrApply": "Prisijunkite arba užsiregistruokite.",
           "signInSheetSubtitle": "Pasirinkite būdą, kuriuo norėtumėte prisijungti arba susikurkite naują paskyrą",
           "signInSheetTitle": "Susikurkite paskyrą arba prisijunkite",
           "signOut": "Atsijungti",
           "signUp": "Registruokitės",
           "signUpButton": "Užsiregistruoti",
           "signed": "Pasirašyta",
           "signedInWithOtherProvider": "Jūsų profilis sukurtas kitu prisijungimo metodu.",
           "signedInWithOtherProviderButton": "Prisijungti kitu būdu",
           "signedInWithOtherProviderDescription": "Savo profilį LastMile platformoje esate užregistravęs (-usi) kitu būdu.",
           "signedInWithOtherProviderTitle": "Pabandykite prisijungti kitu būdu ",
           "similarProducts": "Panašūs produktai",
           "singInOrRegister": "Prisijunkite arba susikurkite profilį",
           "size": "Dydis",
           "sizeGuide": "Dydžių gidas",
           "skip": "Praleisti",
           "sms_autonomous_vehicle_arrived": "Sveiki, autonominis automobilis atvyko. Užsakius alkoholinių/energinių gėrimų, paruoškite amžių patvirtinantį dokumentą. Jūsų užsakymo PIN - {{pinCode}}",
           "sms_order_notify_to_store": "{{statusLabel}} Užsakymo numeris: {{orderNumber}} Kodas: {{orderCode}} Pristatymas: {{from}} - {{to}}",
           "sms_product_not_found": "PREKĖ NERASTA❗️ Prašome pasirinkti produkto alternatyvą 🥑 {{shortLink}}",
           "somethingWentWrong": "Atsiprašome, kažkas nutiko, pabandykite atnaujinti puslapį",
           "sort": "Rūšiuoti",
           "sortDateCreated": "Rūšiuoti pagal sukūrimo datą",
           "sortKarmaDesc": "Populiariausi",
           "sortPriceAsc": "Kaina: nuo žemiausios",
           "sortPriceDesc": "Kaina: nuo aukščiausios",
           "sortSearchScore": "Paieškos tikslumas",
           "sorting": "Rūšiavimas",
           "speed": "Greitis",
           "splitView": "Padalintas vaizdas",
           "standard": "Standartinis",
           "startSession": "Pradėti sesiją",
           "start_locations": "Pradinės vietos",
           "static_data": "Stainiai duomenys",
           "statistics": "Statistika",
           "status": "Būsena",
           "statusCode": "Būsena",
           "statusPageSubtitle": "Norėdami tapti nauju LastMile darbuotoju, atlikite toliau nurodytus veiksmus.",
           "statusPageTitle": "Dar keli žingsniai",
           "step": "Žingsnis",
           "stepName": "Žingsnio pavadinimas",
           "stock": "Likutis",
           "stop": "Stabdyti",
           "stopSession": "Sustabdyti sesiją",
           "stopSessionAfterTask": "Sustabdyti sesiją po užduoties",
           "store": "Parduotuvė",
           "storeCategories": "Parduotuvių kategorijos",
           "storeId": "Parduotuvės Id",
           "storeName": "Parduotuvės pavadinimas",
           "storeType": "Namai",
           "store_info": "Parduotuvės informacija",
           "stores": "Parduotuvės",
           "storingConditions": "Laikymo sąlygos",
           "streamData": "Srautiniai duomenys",
           "street": "Gatvė",
           "streetAndBuilding": "Gatvė, namo numeris",
           "stripeId": "Stripe ID",
           "subcategories": "Pakategorės",
           "submit": "Patvirtinti",
           "success": "Sėkmingai įvykdyta",
           "sugar": "   iš kurių cukrų",
           "suggestions": "Pasiūlymai",
           "suitableForVegetarians": "Tinka vegetarams",
           "sum": "Suma",
           "supplier": "Tiekėjas",
           "supportEmail": "Klientų aptarnavimo el. paštas",
           "supportPhoneNumber": "Klientų aptarnavimo tel. nr.",
           "sureWantDeleteAddress": "Ar tikrai norite ištrinti {{address}} iš išsaugotų adresų?",
           "surname": "Pavardė",
           "sweets": "Saldumynai",
           "tablet": "Planšetinis kompiuteris",
           "tapIcon": "Spauskite __var__ ikoną",
           "task": "Užduotis",
           "taskCount": "Užduočių kiekis",
           "taskEarnings": "Atliktų užduočių uždarbis",
           "taskGeneration": "Užduočių generavimas",
           "taskId": "Užduoties Id",
           "taskSteps": "Užduoties žingsniai",
           "tasks": "Užduotys",
           "tax": "Mokesčiai",
           "taxes": "Mokesčiai",
           "termsAgreeWithPrivacyAlert": "Privalote pažymėti, kad perskaitėte ir sutinkate su LastMile taisyklėmis ir privatumo politika",
           "termsAgreementText1": "Prieš pradedant naudoti LastMile paslaugomis būtina perskaityti ir sutikti su taisyklėmis ir privatumo politika.",
           "termsAndConditions": "Taisyklės ir sąlygos",
           "termsAndConditionsLink": "LastMile taisyklėmis",
           "termsConfirmationText": "Aš perskaičiau ir sutinku su ",
           "test": "Testas",
           "testingKey": "",
           "thirdPartyInfo": "Jums sutikus ir paspaudus „Leisti slapukus“, naudojame trečiųjų šalių slapukus apsilankymo svetainėje ir naudojimosi ja duomenims rinkti. Tokiu būdu duomenys gali būti perduodami į ne ES šalį (kartais į JAV). Europos Teisingumo Teismas nusprendė, kad JAV nėra užtikrinta tinkamo lygio duomenų apsauga. Visų pirma kyla pavojus, kad JAV valdžios institucijos galės susipažinti su jūsų duomenimis kontrolės ir stebėjimo tikslais ir kad nebus įmanoma pasinaudoti veiksmingomis teisinėmis priemonėmis norint nuo to apsisaugoti. Davę sutikimą, galite jį bet kada atšaukti ir jis nebegalios nuo atšaukimo momento.",
           "thirtyMinutes": "Trisdešimt minučių",
           "threeHours": "Per tris valandas",
           "time": "Laikas",
           "tip_thank_you": "Jūsų kurjeris dėkoja už paliktus arbatpinigius!",
           "tips": "Arbatpinigiai",
           "to": "Iki",
           "toContinueAddAddress": "Norėdami tęsti naršymą papildykite profilį pridėdami savo adresą",
           "today": "Šiandien",
           "toggleIsWorking": "Dirba/nedirba",
           "tomorrow": "Rytoj",
           "tooMuch": "Too much",
           "tooMuchSubtitle": "It seems that we cannot deliver so much in one go. Please reduce your cart size. Thank you!",
           "tooMuchTitle": "Oops ...",
           "total": "Viso",
           "totalActual": "Faktinė suma",
           "totalEarnings": "Bendras uždarbis",
           "totalLifetimeEarnings": "Bendras visų laikų uždarbis",
           "totalMissedTasks": "Praleistų užduočių skaičius",
           "totalOrderedValue": "Visa užsakymo suma",
           "totalOverchargeValue": "Svorio paklaidos rezervacija",
           "totalPackagingValue": "Pakavimo mokestis",
           "totalPrice": "Iš viso:",
           "totalReceipt": "Visa čekio suma",
           "totalSaved": "Jūs sutaupėte",
           "totalServiceFeeValue": "Paslaugos mokestis",
           "totalSurchargeValue": "Minimalaus užsakymo mokestis",
           "totalTaxValue": "Taros užstatas",
           "totalVatValue": "Mokesčiai",
           "training": "Apmokymai",
           "trainingCompleted": "Apmokymai baigti",
           "trainingCompletedText": "Sveikiname! Mokymo etapas baigtas. Palaukite, kol paruošime jus kitam žingsniui.",
           "trainingProgress": "Apmokymų progresas",
           "traningFailed": "Neišlaikytas",
           "translatedText": "Išverstas tekstas",
           "turnOnLocationSettingsApp": "Įjunkite vietos nustatymus {{brand}}",
           "turnOnLocationSettingsWeb": "Naršyklėje įjunkite vietos nustatymus",
           "twoHours": "Per dvi valandas",
           "twoHoursShort": "Per 2 h",
           "typeHere": "Įveskite čia",
           "typeOfAddressToStore": "Išsaugojamo adreso tipas",
           "unitOfMeasure": "Matavimo vienetas",
           "unlink": "Atjungti",
           "unloadingArea": "Iškrovimo vieta",
           "unpaid_orderlines": "Neapmokėti užsakymai",
           "updateInformation": "Atnaujinti informaciją",
           "updateNow": "Atnaujinti dabar",
           "updateNowDetailed": "Išleista nauja programėlės versija, ar norite ją atnaujinti?",
           "updateNowTitle": "Nauja programėlės versija",
           "upload": "Įkelti",
           "uploadPhoto": "Įkelkite nuotrauką",
           "usedTokens": "Panaudoti žetonai",
           "usefulInformation": "Naudinga informacija",
           "usefulLinks": "Naudingos nuorodos",
           "user": "Vartotojas",
           "userDeleteRestorationMessage": "Vartotoją atkurti galėsite __days__ dienų nuo anketos ištrynimo.",
           "userDetails": "Vartotojo informacija",
           "userId": "Vartotojo Id",
           "userIds": "Vartotojo ID",
           "user_promotions": "Vartotojo akcijos",
           "username": "Vartotojo vardas",
           "users": "Vartotojai",
           "validTill": "Galioja iki",
           "validUntil": "Galioja iki",
           "validated": "Patvirtinta",
           "vatCode": "PVM kodas",
           "vegan": "Tinka veganams",
           "vegetarian": "Tinka vegetarams",
           "vehicleType": "Transporto priemonė",
           "vehicleTypeDivider": "Transporto priemonė, kurią naudosiu",
           "version": "Versija",
           "veryHigh": "Labai aukštas",
           "view": "Peržiūrėti",
           "viewProducts": "Peržiūrėti produktus",
           "view_products": "Produktai",
           "voucherAdditionSuccessful": "Sėkmingai prisidėjote kuponą",
           "w_customer_demands": "Klientų poreikiai",
           "w_setup_intents": "Sąrankos ketinimai",
           "waitingClientConfirmation": "Laukiama kliento patvirtinimo",
           "waitingConfirmation": "Užsakymas renkamas.",
           "waitingPickup": "Užsakymas surinktas.",
           "wantRemoveLoyaltyCard": "Ar tikrai norite ištrinti lojalumo kortelę?",
           "webConvenience": "El. parduotuvės patogumas",
           "week": "Savaitė",
           "wholeGrain": "Pilno grūdo",
           "width": "Plotis",
           "wingcopter": "Dronas",
           "withEmail": "El. paštu",
           "withPhoneNumber": "Mob. telefonu",
           "withoutRegistrationText": "Turėsite galimybę susikurti paskyrą ir sekti užsakymą, kai pabaigsite pirkimą",
           "withtax": "su PVM",
           "work": "Darbas",
           "wrongCode": "Neteisingas kodas",
           "wrongCompanyCode": "Įmonės kodas neteisingas",
           "wrongPhoneNumber": "Neteisingas tel. numeris",
           "year": "Metai",
           "years": "metų",
           "yes": "Taip",
           "youHaveAGift": "Jums priklauso dovana",
           "youWillFindUsIn": "Mes pristatome šiuose miestuose",
           "youngerThen25": "Jaunesnis nei 25",
           "yourInformation": "Jūsų informacija",
           "yourOrder": "Jūsų užsakymas",
           "zoneName": "Zonos pavadinimas",
           "zones": "Zonos"
          }
         },
         "banner": null,
         "banners": [
          {
           "bannerIds": [],
           "categoryIds": [
            "00sales"
           ],
           "chainIds": [
            "OiGzdqIuls86njWsPYmw"
           ],
           "cityIds": [
            "JOS2PezGRKgYa4QlqIEU",
            "ToaewVbOunrF5zJlzaud",
            "h1dqAwwzlMLrSrgjcS1S",
            "nDJFEmEMsGgM7nQcgEMN",
            "prqsdr2BADGPZfszFnnB",
            "zzLithuaniaPanevezys",
            "zzxLithuaniaKlaipeda",
            "zzxLithuaniaSiauliai",
            "zzzzLithuaniaPalanga",
            "zzzzzLithuaniaKaunas",
            "zzzzzLithuaniaTrakai"
           ],
           "countryIds": [
            "gCHYvyhpNcKZgcPiDwRV"
           ],
           "dateFrom": "2024-04-18T07:08:00.000Z",
           "dateLastRefresh": "2024-04-19T15:27:03.901Z",
           "dateTo": "2024-04-30T23:00:00.000Z",
           "id": "6INXMgMUygeslC8Ee48U",
           "isActive": true,
           "isOver": false,
           "link": "https://lastmile.lt/information/velniskas-greitis",
           "name": {
            "de": "Pirmam apsipirkimui -40%",
            "en": "Pirmam apsipirkimui -40%",
            "lt": "Pirmam apsipirkimui -40%",
            "ru": "Pirmam apsipirkimui -40%"
           },
           "photoUrl": {
            "de": "https://firebasestorage.googleapis.com/v0/b/lastmile-ui/o/import%2Fphotos%2Fconverted%2Fbanner%2FphotoUrl%2FOiGzdqIuls86njWsPYmw_6INXMgMUygeslC8Ee48U_UkcA7LGXIGVM1Lhmr8bPFarPtjs2_5xNnBpAtHpwqJbfhOAGt_lt.webp?alt=media&token=d6d3b232-b86b-45c2-a148-5f9ead4566b0",
            "en": "https://firebasestorage.googleapis.com/v0/b/lastmile-ui/o/import%2Fphotos%2Fconverted%2Fbanner%2FphotoUrl%2FOiGzdqIuls86njWsPYmw_6INXMgMUygeslC8Ee48U_UkcA7LGXIGVM1Lhmr8bPFarPtjs2_mT2avlyCkKgNOSnQcP7B_en.webp?alt=media&token=45f20f41-c9c7-4d04-9169-61b05103a7a5",
            "lt": "https://firebasestorage.googleapis.com/v0/b/lastmile-ui/o/import%2Fphotos%2Fconverted%2Fbanner%2FphotoUrl%2FOiGzdqIuls86njWsPYmw_6INXMgMUygeslC8Ee48U_UkcA7LGXIGVM1Lhmr8bPFarPtjs2_Cds8jIihxFzbDgNaaiUK_lt.webp?alt=media&token=27f8f52a-e935-4d02-b033-264a906b507f",
            "ru": "https://firebasestorage.googleapis.com/v0/b/lastmile-ui/o/import%2Fphotos%2Fconverted%2Fbanner%2FphotoUrl%2FOiGzdqIuls86njWsPYmw_6INXMgMUygeslC8Ee48U_UkcA7LGXIGVM1Lhmr8bPFarPtjs2_5xNnBpAtHpwqJbfhOAGt_lt.webp?alt=media&token=d6d3b232-b86b-45c2-a148-5f9ead4566b0"
           },
           "photoUrlDesktop": {
            "de": "https://firebasestorage.googleapis.com/v0/b/lastmile-ui/o/import%2Fphotos%2Fconverted%2Fbanner%2FphotoUrlDesktop%2FOiGzdqIuls86njWsPYmw_6INXMgMUygeslC8Ee48U_UkcA7LGXIGVM1Lhmr8bPFarPtjs2_EzOOnrlLoPz3w34gqL1s_lt.webp?alt=media&token=a1ab30af-08a6-405b-9e6f-5f50b60f9aed",
            "en": "https://firebasestorage.googleapis.com/v0/b/lastmile-ui/o/import%2Fphotos%2Fconverted%2Fbanner%2FphotoUrlDesktop%2FOiGzdqIuls86njWsPYmw_6INXMgMUygeslC8Ee48U_UkcA7LGXIGVM1Lhmr8bPFarPtjs2_ZLtL2xBcgiv1A5B8SOAO_en.webp?alt=media&token=f27638da-012b-485c-ade1-3969a1d9cbb1",
            "lt": "https://firebasestorage.googleapis.com/v0/b/lastmile-ui/o/import%2Fphotos%2Fconverted%2Fbanner%2FphotoUrlDesktop%2FOiGzdqIuls86njWsPYmw_6INXMgMUygeslC8Ee48U_UkcA7LGXIGVM1Lhmr8bPFarPtjs2_mwevRoyau7BXtB4KueXW_lt.webp?alt=media&token=b1a38487-989e-43cc-bf3b-367626cc9875",
            "ru": "https://firebasestorage.googleapis.com/v0/b/lastmile-ui/o/import%2Fphotos%2Fconverted%2Fbanner%2FphotoUrlDesktop%2FOiGzdqIuls86njWsPYmw_6INXMgMUygeslC8Ee48U_UkcA7LGXIGVM1Lhmr8bPFarPtjs2_EzOOnrlLoPz3w34gqL1s_lt.webp?alt=media&token=a1ab30af-08a6-405b-9e6f-5f50b60f9aed"
           },
           "productIds": [],
           "rank": 1,
           "showHome": true,
           "showMain": true,
           "slugs": [
            "Pirmam-apsipirkimui-40percent"
           ]
          },
          {
           "bannerIds": [],
           "categoryIds": [],
           "chainIds": [
            "CvKfTzV4TN5U8BTMF1Hl"
           ],
           "cityIds": [
            "JOS2PezGRKgYa4QlqIEU",
            "ToaewVbOunrF5zJlzaud",
            "h1dqAwwzlMLrSrgjcS1S",
            "nDJFEmEMsGgM7nQcgEMN",
            "prqsdr2BADGPZfszFnnB",
            "zzLithuaniaPanevezys",
            "zzxLithuaniaKlaipeda",
            "zzxLithuaniaSiauliai",
            "zzzzLithuaniaPalanga",
            "zzzzzLithuaniaKaunas",
            "zzzzzLithuaniaTrakai"
           ],
           "countryIds": [
            "gCHYvyhpNcKZgcPiDwRV"
           ],
           "dateFrom": "2024-04-22T00:08:00.000Z",
           "dateLastRefresh": "2024-04-22T00:30:03.746Z",
           "dateTo": "2024-04-25T23:00:00.000Z",
           "id": "DDmjatSg6g0WxVCsDrEa",
           "isActive": true,
           "isOver": false,
           "link": "/product/IKI/Sviezia-visciuku-broileriu-file-IKI-MESA-500-g",
           "name": {
            "de": "IKI. Vištiena -69%",
            "en": "IKI. Vištiena -69%",
            "lt": "IKI. Vištiena -69%",
            "ru": "IKI. Vištiena -69%"
           },
           "photoUrl": {
            "en": "https://firebasestorage.googleapis.com/v0/b/lastmile-ui/o/import%2Fphotos%2Fconverted%2Fbanner%2FphotoUrl%2FCvKfTzV4TN5U8BTMF1Hl_DDmjatSg6g0WxVCsDrEa_UkcA7LGXIGVM1Lhmr8bPFarPtjs2_jCCz0RvM5PPQMV0m5tyh_en.webp?alt=media&token=adce1618-b48d-4783-a566-9e06180cb158",
            "lt": "https://firebasestorage.googleapis.com/v0/b/lastmile-ui/o/import%2Fphotos%2Fconverted%2Fbanner%2FphotoUrl%2FCvKfTzV4TN5U8BTMF1Hl_DDmjatSg6g0WxVCsDrEa_UkcA7LGXIGVM1Lhmr8bPFarPtjs2_lvioDn4W4TczGUeoqIDf_lt.webp?alt=media&token=ef2b7431-f25a-44f5-aa85-9b1a3e5e5f19"
           },
           "photoUrlDesktop": {
            "en": "https://firebasestorage.googleapis.com/v0/b/lastmile-ui/o/import%2Fphotos%2Fconverted%2Fbanner%2FphotoUrlDesktop%2FCvKfTzV4TN5U8BTMF1Hl_DDmjatSg6g0WxVCsDrEa_UkcA7LGXIGVM1Lhmr8bPFarPtjs2_jEvgzD12MoJlaq2skKK7_en.webp?alt=media&token=9cf39536-9c7a-4955-a8ef-fdeaef8d31bc",
            "lt": "https://firebasestorage.googleapis.com/v0/b/lastmile-ui/o/import%2Fphotos%2Fconverted%2Fbanner%2FphotoUrlDesktop%2FCvKfTzV4TN5U8BTMF1Hl_DDmjatSg6g0WxVCsDrEa_UkcA7LGXIGVM1Lhmr8bPFarPtjs2_RTXpESc6wHqR1GksiwiU_lt.webp?alt=media&token=f8647b20-1662-49bd-871d-e654adfb82b4"
           },
           "productIds": [],
           "rank": 1,
           "showHome": false,
           "showMain": true,
           "slugs": [
            "IKI-Vistiena-69percent"
           ]
          },
          {
           "bannerIds": [],
           "categoryIds": [
            "00sales",
            "aAztRXgfDPJvZMHJ4N8m",
            "H3RV0iArgKveqJsFbnSq"
           ],
           "chainIds": [
            "OiGzdqIuls86njWsPYmw"
           ],
           "cityIds": [
            "JOS2PezGRKgYa4QlqIEU",
            "ToaewVbOunrF5zJlzaud",
            "h1dqAwwzlMLrSrgjcS1S",
            "nDJFEmEMsGgM7nQcgEMN",
            "prqsdr2BADGPZfszFnnB",
            "zzLithuaniaPanevezys",
            "zzxLithuaniaKlaipeda",
            "zzxLithuaniaSiauliai",
            "zzzzLithuaniaPalanga",
            "zzzzzLithuaniaKaunas",
            "zzzzzLithuaniaTrakai"
           ],
           "countryIds": [
            "gCHYvyhpNcKZgcPiDwRV"
           ],
           "dateFrom": "2024-04-22T12:00:00.000Z",
           "dateLastRefresh": "2024-04-22T10:48:25.518Z",
           "dateTo": "2024-04-28T23:00:00.000Z",
           "id": "sNBCvXTJFd0sS6Vf3HwT",
           "isActive": true,
           "isOver": false,
           "link": "/product/PROMO-CashandCarry/Atvesinta-atl-lasisu-file-nevak-su-oda-kg-14",
           "name": {
            "de": "Lašiša -69%",
            "en": "Lašiša -69%",
            "lt": "Lašiša -69%",
            "ru": "Lašiša -69%"
           },
           "photoUrl": {
            "en": "https://firebasestorage.googleapis.com/v0/b/lastmile-ui/o/import%2Fphotos%2Fconverted%2Fbanner%2FphotoUrl%2FOiGzdqIuls86njWsPYmw_sNBCvXTJFd0sS6Vf3HwT_UkcA7LGXIGVM1Lhmr8bPFarPtjs2_lTSYcTispLoH4jxxzoCb_en.webp?alt=media&token=8d5770b9-e770-4282-833b-bd6792277c9d",
            "lt": "https://firebasestorage.googleapis.com/v0/b/lastmile-ui/o/import%2Fphotos%2Fconverted%2Fbanner%2FphotoUrl%2FOiGzdqIuls86njWsPYmw_sNBCvXTJFd0sS6Vf3HwT_UkcA7LGXIGVM1Lhmr8bPFarPtjs2_lodnOMyn2Rq7hMyJz2kO_lt.webp?alt=media&token=ad7d6118-4d6f-4b2b-94c6-9e09164982c2"
           },
           "photoUrlDesktop": {
            "en": "https://firebasestorage.googleapis.com/v0/b/lastmile-ui/o/import%2Fphotos%2Fconverted%2Fbanner%2FphotoUrlDesktop%2FOiGzdqIuls86njWsPYmw_sNBCvXTJFd0sS6Vf3HwT_UkcA7LGXIGVM1Lhmr8bPFarPtjs2_CCu6O8uJHxyNBykpJ5oY_en.webp?alt=media&token=25d94a63-3fad-41dc-b285-468ec685e96f",
            "lt": "https://firebasestorage.googleapis.com/v0/b/lastmile-ui/o/import%2Fphotos%2Fconverted%2Fbanner%2FphotoUrlDesktop%2FOiGzdqIuls86njWsPYmw_sNBCvXTJFd0sS6Vf3HwT_UkcA7LGXIGVM1Lhmr8bPFarPtjs2_M3GGoN4MSBCQ7JPPUIii_lt.webp?alt=media&token=6d31ecaf-f2c8-48d3-a4f5-e682700be69b"
           },
           "productIds": [],
           "rank": 1,
           "showHome": true,
           "showMain": true,
           "slugs": [
            "Lasisa-69percent"
           ]
          },
          {
           "bannerIds": [],
           "categoryIds": [
            "00sales",
            "7aGnT9tzMYRqBwdgmLXG",
            "ICh90VGdN2OuYmgmrsj8"
           ],
           "chainIds": [
            "CvKfTzV4TN5U8BTMF1Hl"
           ],
           "cityIds": [
            "JOS2PezGRKgYa4QlqIEU",
            "ToaewVbOunrF5zJlzaud",
            "h1dqAwwzlMLrSrgjcS1S",
            "nDJFEmEMsGgM7nQcgEMN",
            "prqsdr2BADGPZfszFnnB",
            "zzLithuaniaPanevezys",
            "zzxLithuaniaKlaipeda",
            "zzxLithuaniaSiauliai",
            "zzzzLithuaniaPalanga",
            "zzzzzLithuaniaKaunas",
            "zzzzzLithuaniaTrakai"
           ],
           "countryIds": [
            "gCHYvyhpNcKZgcPiDwRV"
           ],
           "dateFrom": "2024-04-23T00:08:00.000Z",
           "dateLastRefresh": "2024-04-23T00:30:04.493Z",
           "dateTo": "2024-04-23T23:00:00.000Z",
           "id": "nqkWpHuodI0ZyOf1litB",
           "isActive": true,
           "isOver": false,
           "link": "/product/IKI/Gazuotas-gerimas-COCA-COLA-2-l",
           "name": {
            "de": "IKI. Coca cola -69%",
            "en": "IKI. Coca cola -69%",
            "lt": "IKI. Coca cola -69%",
            "ru": "IKI. Coca cola -69%"
           },
           "photoUrl": {
            "en": "https://firebasestorage.googleapis.com/v0/b/lastmile-ui/o/import%2Fphotos%2Fconverted%2Fbanner%2FphotoUrl%2FCvKfTzV4TN5U8BTMF1Hl_nqkWpHuodI0ZyOf1litB_UkcA7LGXIGVM1Lhmr8bPFarPtjs2_lR7Rsu5LmNYKrpjZuqYt_en.webp?alt=media&token=cf6f6543-3ec3-4838-b14f-e5a69fc6cb7c",
            "lt": "https://firebasestorage.googleapis.com/v0/b/lastmile-ui/o/import%2Fphotos%2Fconverted%2Fbanner%2FphotoUrl%2FCvKfTzV4TN5U8BTMF1Hl_nqkWpHuodI0ZyOf1litB_UkcA7LGXIGVM1Lhmr8bPFarPtjs2_tzkYVXygp3u42qe88YLJ_lt.webp?alt=media&token=d464c588-af76-46d2-95af-cfffb5921475"
           },
           "photoUrlDesktop": {
            "en": "https://firebasestorage.googleapis.com/v0/b/lastmile-ui/o/import%2Fphotos%2Fconverted%2Fbanner%2FphotoUrlDesktop%2FCvKfTzV4TN5U8BTMF1Hl_nqkWpHuodI0ZyOf1litB_UkcA7LGXIGVM1Lhmr8bPFarPtjs2_yPYrHY2ap5QNCusJp44G_en.webp?alt=media&token=7be1f94f-ee43-403b-8302-b525cf8ecd40",
            "lt": "https://firebasestorage.googleapis.com/v0/b/lastmile-ui/o/import%2Fphotos%2Fconverted%2Fbanner%2FphotoUrlDesktop%2FCvKfTzV4TN5U8BTMF1Hl_nqkWpHuodI0ZyOf1litB_UkcA7LGXIGVM1Lhmr8bPFarPtjs2_QPqiCBYZb8nR8Rm7pAeU_lt.webp?alt=media&token=3a42e084-b96d-4067-a792-902613db9cfb"
           },
           "productIds": [],
           "rank": 1,
           "showHome": true,
           "showMain": true,
           "slugs": [
            "IKI-Coca-cola-69percent"
           ]
          },
          {
           "bannerIds": [],
           "categoryIds": [
            "00sales",
            "Fjr0PdY3SpHbc2GKm9Cd",
            "iSYTdWjFGh5YWglqphtj",
            "dXm2I2xsSMKPb34maRSX"
           ],
           "chainIds": [
            "OiGzdqIuls86njWsPYmw"
           ],
           "cityIds": [
            "JOS2PezGRKgYa4QlqIEU",
            "ToaewVbOunrF5zJlzaud",
            "h1dqAwwzlMLrSrgjcS1S",
            "nDJFEmEMsGgM7nQcgEMN",
            "prqsdr2BADGPZfszFnnB",
            "zzLithuaniaPanevezys",
            "zzxLithuaniaKlaipeda",
            "zzxLithuaniaSiauliai",
            "zzzzLithuaniaPalanga",
            "zzzzzLithuaniaKaunas",
            "zzzzzLithuaniaTrakai"
           ],
           "countryIds": [
            "gCHYvyhpNcKZgcPiDwRV"
           ],
           "dateFrom": "2024-04-23T00:08:00.000Z",
           "dateLastRefresh": "2024-04-23T00:30:04.495Z",
           "dateTo": "2024-04-23T23:00:00.000Z",
           "id": "sRJqyBV7W1mAVag2CQPE",
           "isActive": true,
           "isOver": false,
           "link": "/product/PROMO-CashandCarry/Bananai-I-klase-kg",
           "name": {
            "de": "Bananai -69%",
            "en": "Bananai -69%",
            "lt": "Bananai -69%",
            "ru": "Bananai -69%"
           },
           "photoUrl": {
            "en": "https://firebasestorage.googleapis.com/v0/b/lastmile-ui/o/import%2Fphotos%2Fconverted%2Fbanner%2FphotoUrl%2FOiGzdqIuls86njWsPYmw_sRJqyBV7W1mAVag2CQPE_UkcA7LGXIGVM1Lhmr8bPFarPtjs2_zYybLl8VUl1fTXILRC0d_en.webp?alt=media&token=fad26aed-d76f-44f8-b2d9-f4ba779dc248",
            "lt": "https://firebasestorage.googleapis.com/v0/b/lastmile-ui/o/import%2Fphotos%2Fconverted%2Fbanner%2FphotoUrl%2FOiGzdqIuls86njWsPYmw_sRJqyBV7W1mAVag2CQPE_UkcA7LGXIGVM1Lhmr8bPFarPtjs2_pvt3WVqhhXyrfwI0NTuB_lt.webp?alt=media&token=e8ace74d-e58b-4757-b686-a3b73e478b99"
           },
           "photoUrlDesktop": {
            "en": "https://firebasestorage.googleapis.com/v0/b/lastmile-ui/o/import%2Fphotos%2Fconverted%2Fbanner%2FphotoUrlDesktop%2FOiGzdqIuls86njWsPYmw_sRJqyBV7W1mAVag2CQPE_UkcA7LGXIGVM1Lhmr8bPFarPtjs2_D5ftZ6N3L9iCfaYSey2M_en.webp?alt=media&token=996f1330-b3b5-48d4-8327-cea18e4b4bf1",
            "lt": "https://firebasestorage.googleapis.com/v0/b/lastmile-ui/o/import%2Fphotos%2Fconverted%2Fbanner%2FphotoUrlDesktop%2FOiGzdqIuls86njWsPYmw_sRJqyBV7W1mAVag2CQPE_UkcA7LGXIGVM1Lhmr8bPFarPtjs2_jFkkha9EFdrHye1YsAez_lt.webp?alt=media&token=d664713b-7789-4249-b6c2-6fd0ebe49642"
           },
           "productIds": [],
           "rank": 1,
           "showHome": true,
           "showMain": true,
           "slugs": [
            "Bananai-69percent"
           ]
          },
          {
           "bannerIds": [],
           "categoryIds": [],
           "chainIds": [
            "CvKfTzV4TN5U8BTMF1Hl"
           ],
           "cityIds": [
            "JOS2PezGRKgYa4QlqIEU",
            "ToaewVbOunrF5zJlzaud",
            "h1dqAwwzlMLrSrgjcS1S",
            "nDJFEmEMsGgM7nQcgEMN",
            "prqsdr2BADGPZfszFnnB",
            "zzLithuaniaPanevezys",
            "zzxLithuaniaKlaipeda",
            "zzxLithuaniaSiauliai",
            "zzzzLithuaniaPalanga",
            "zzzzzLithuaniaKaunas",
            "zzzzzLithuaniaTrakai"
           ],
           "countryIds": [
            "gCHYvyhpNcKZgcPiDwRV"
           ],
           "dateFrom": "2024-04-22T00:08:00.000Z",
           "dateLastRefresh": "2024-04-22T00:30:03.753Z",
           "dateTo": "2024-04-28T23:00:00.000Z",
           "id": "jnkeTtJH8lQmyklPPdPP",
           "isActive": true,
           "isOver": false,
           "link": "/chain/category/IKI/fAh2docYiH9UX5MgmSE7/CvKfTzV4TN5U8BTMF1Hl",
           "name": {
            "de": "IKI. Dvigubai daugiau",
            "en": "IKI. Dvigubai daugiau",
            "lt": "IKI. Dvigubai daugiau",
            "ru": "IKI. Dvigubai daugiau"
           },
           "photoUrl": {
            "en": "https://firebasestorage.googleapis.com/v0/b/lastmile-ui/o/import%2Fphotos%2Fconverted%2Fbanner%2FphotoUrl%2FCvKfTzV4TN5U8BTMF1Hl_jnkeTtJH8lQmyklPPdPP_UkcA7LGXIGVM1Lhmr8bPFarPtjs2_6LQuNHEvvGRsa8lWIfvR_en.webp?alt=media&token=78b1f0dc-22c1-4070-8f9c-377fe4a9a525",
            "lt": "https://firebasestorage.googleapis.com/v0/b/lastmile-ui/o/import%2Fphotos%2Fconverted%2Fbanner%2FphotoUrl%2FCvKfTzV4TN5U8BTMF1Hl_jnkeTtJH8lQmyklPPdPP_UkcA7LGXIGVM1Lhmr8bPFarPtjs2_jgUcOVUGBd7sN3wAtWkD_lt.webp?alt=media&token=d748a7cc-5e83-4bb5-859f-ba8792f09875"
           },
           "photoUrlDesktop": {
            "en": "https://firebasestorage.googleapis.com/v0/b/lastmile-ui/o/import%2Fphotos%2Fconverted%2Fbanner%2FphotoUrlDesktop%2FCvKfTzV4TN5U8BTMF1Hl_jnkeTtJH8lQmyklPPdPP_UkcA7LGXIGVM1Lhmr8bPFarPtjs2_sbjIy0Ejq7GjluDOqIX5_en.webp?alt=media&token=e47bb2c6-b31b-4ef7-a68b-d406bddea64c",
            "lt": "https://firebasestorage.googleapis.com/v0/b/lastmile-ui/o/import%2Fphotos%2Fconverted%2Fbanner%2FphotoUrlDesktop%2FCvKfTzV4TN5U8BTMF1Hl_jnkeTtJH8lQmyklPPdPP_UkcA7LGXIGVM1Lhmr8bPFarPtjs2_zW1x5SZ0DfCsWSQZzrq4_lt.webp?alt=media&token=99e3563e-2246-4945-9f9d-552154884306"
           },
           "productIds": [],
           "rank": 2,
           "showHome": false,
           "showMain": true,
           "slugs": [
            "IKI-Dvigubai-daugiau"
           ]
          },
          {
           "bannerIds": [],
           "categoryIds": [],
           "chainIds": [
            "OiGzdqIuls86njWsPYmw"
           ],
           "cityIds": [
            "JOS2PezGRKgYa4QlqIEU",
            "ToaewVbOunrF5zJlzaud",
            "h1dqAwwzlMLrSrgjcS1S",
            "nDJFEmEMsGgM7nQcgEMN",
            "prqsdr2BADGPZfszFnnB",
            "zzLithuaniaPanevezys",
            "zzxLithuaniaKlaipeda",
            "zzxLithuaniaSiauliai",
            "zzzzLithuaniaPalanga",
            "zzzzzLithuaniaKaunas",
            "zzzzzLithuaniaTrakai"
           ],
           "countryIds": [
            "gCHYvyhpNcKZgcPiDwRV"
           ],
           "dateFrom": "2024-04-22T00:08:00.000Z",
           "dateLastRefresh": "2024-04-22T00:30:03.748Z",
           "dateTo": "2024-04-28T23:00:00.000Z",
           "id": "Lxzk6kBIlrmAufmcFJ1m",
           "isActive": true,
           "isOver": false,
           "link": "/chain/banner/1+1/Y0UTpLffft3meyDZdshS/OiGzdqIuls86njWsPYmw",
           "name": {
            "de": "Promo Dvigubai daugiau",
            "en": "Promo Dvigubai daugiau",
            "lt": "Promo Dvigubai daugiau",
            "ru": "Promo Dvigubai daugiau"
           },
           "photoUrl": {
            "en": "https://firebasestorage.googleapis.com/v0/b/lastmile-ui/o/import%2Fphotos%2Fconverted%2Fbanner%2FphotoUrl%2FOiGzdqIuls86njWsPYmw_Lxzk6kBIlrmAufmcFJ1m_UkcA7LGXIGVM1Lhmr8bPFarPtjs2_SLYsqzVaiA6pCuAMpTNK_en.webp?alt=media&token=0d46ea33-64a8-4f06-9e37-3fb63a13f72b",
            "lt": "https://firebasestorage.googleapis.com/v0/b/lastmile-ui/o/import%2Fphotos%2Fconverted%2Fbanner%2FphotoUrl%2FOiGzdqIuls86njWsPYmw_Lxzk6kBIlrmAufmcFJ1m_UkcA7LGXIGVM1Lhmr8bPFarPtjs2_Q2GGp1qJu0qzjLVJXKCb_lt.webp?alt=media&token=f32ac490-7e3d-4c44-8a32-bcbb85e9ade4"
           },
           "photoUrlDesktop": {
            "en": "https://firebasestorage.googleapis.com/v0/b/lastmile-ui/o/import%2Fphotos%2Fconverted%2Fbanner%2FphotoUrlDesktop%2FOiGzdqIuls86njWsPYmw_Lxzk6kBIlrmAufmcFJ1m_UkcA7LGXIGVM1Lhmr8bPFarPtjs2_L0C62N5yQoqkhf8djanB_en.webp?alt=media&token=c4112215-67ae-4719-b534-550b358b5102",
            "lt": "https://firebasestorage.googleapis.com/v0/b/lastmile-ui/o/import%2Fphotos%2Fconverted%2Fbanner%2FphotoUrlDesktop%2FOiGzdqIuls86njWsPYmw_Lxzk6kBIlrmAufmcFJ1m_UkcA7LGXIGVM1Lhmr8bPFarPtjs2_0XnptOU044ZqKJ5xSOL8_lt.webp?alt=media&token=26d6137d-7e68-4f90-86e8-87aeda610669"
           },
           "productIds": [],
           "rank": 3,
           "showHome": false,
           "showMain": true,
           "slugs": [
            "Promo-Dvigubai-daugiau"
           ]
          },
          {
           "bannerIds": [],
           "categoryIds": [],
           "chainIds": [
            "CvKfTzV4TN5U8BTMF1Hl"
           ],
           "cityIds": [
            "JOS2PezGRKgYa4QlqIEU",
            "ToaewVbOunrF5zJlzaud",
            "h1dqAwwzlMLrSrgjcS1S",
            "nDJFEmEMsGgM7nQcgEMN",
            "prqsdr2BADGPZfszFnnB",
            "zzLithuaniaPanevezys",
            "zzxLithuaniaKlaipeda",
            "zzxLithuaniaSiauliai",
            "zzzzLithuaniaPalanga",
            "zzzzzLithuaniaKaunas",
            "zzzzzLithuaniaTrakai"
           ],
           "countryIds": [
            "gCHYvyhpNcKZgcPiDwRV"
           ],
           "dateFrom": "2024-04-22T00:08:00.000Z",
           "dateLastRefresh": "2024-04-22T00:30:03.752Z",
           "dateTo": "2024-04-28T23:00:00.000Z",
           "id": "Xz0kZyOiQCNggqVh8KT9",
           "isActive": true,
           "isOver": false,
           "link": "/chain/banner/vXMrDcH45OFZYR6xy7gK/vXMrDcH45OFZYR6xy7gK/CvKfTzV4TN5U8BTMF1Hl",
           "name": {
            "de": "IKI. Savaitės TOP",
            "en": "IKI. Savaitės TOP",
            "lt": "IKI. Savaitės TOP",
            "ru": "IKI. Savaitės TOP"
           },
           "photoUrl": {
            "en": "https://firebasestorage.googleapis.com/v0/b/lastmile-ui/o/import%2Fphotos%2Fconverted%2Fbanner%2FphotoUrl%2FCvKfTzV4TN5U8BTMF1Hl_Xz0kZyOiQCNggqVh8KT9_UkcA7LGXIGVM1Lhmr8bPFarPtjs2_2n20G8dKvdmErEQHx5Bj_en.webp?alt=media&token=04fd7488-1290-401c-905e-a7a972eb7353",
            "lt": "https://firebasestorage.googleapis.com/v0/b/lastmile-ui/o/import%2Fphotos%2Fconverted%2Fbanner%2FphotoUrl%2FCvKfTzV4TN5U8BTMF1Hl_Xz0kZyOiQCNggqVh8KT9_UkcA7LGXIGVM1Lhmr8bPFarPtjs2_kykbzJawsM48SoJv7hNa_lt.webp?alt=media&token=cab95fa9-9688-4de9-b0d9-6fa003c1b24e"
           },
           "photoUrlDesktop": {
            "en": "https://firebasestorage.googleapis.com/v0/b/lastmile-ui/o/import%2Fphotos%2Fconverted%2Fbanner%2FphotoUrlDesktop%2FCvKfTzV4TN5U8BTMF1Hl_Xz0kZyOiQCNggqVh8KT9_UkcA7LGXIGVM1Lhmr8bPFarPtjs2_1wk8XjSiBJdYagF1vVWs_en.webp?alt=media&token=f4f1f3f1-dae6-4a54-ac26-9c6cf08d6c3d",
            "lt": "https://firebasestorage.googleapis.com/v0/b/lastmile-ui/o/import%2Fphotos%2Fconverted%2Fbanner%2FphotoUrlDesktop%2FCvKfTzV4TN5U8BTMF1Hl_Xz0kZyOiQCNggqVh8KT9_UkcA7LGXIGVM1Lhmr8bPFarPtjs2_ha3xm1BC7Q6sCJoeEUL8_lt.webp?alt=media&token=78c8cc0c-e61b-42f0-bc08-a0f739a06c8d"
           },
           "productIds": [],
           "rank": 4,
           "showHome": false,
           "showMain": true,
           "slugs": [
            "IKI-Savaites-TOP"
           ]
          },
          {
           "bannerIds": [],
           "categoryIds": [],
           "chainIds": [
            "OiGzdqIuls86njWsPYmw"
           ],
           "cityIds": [
            "JOS2PezGRKgYa4QlqIEU",
            "ToaewVbOunrF5zJlzaud",
            "h1dqAwwzlMLrSrgjcS1S",
            "nDJFEmEMsGgM7nQcgEMN",
            "prqsdr2BADGPZfszFnnB",
            "zzLithuaniaPanevezys",
            "zzxLithuaniaKlaipeda",
            "zzxLithuaniaSiauliai",
            "zzzzLithuaniaPalanga",
            "zzzzzLithuaniaKaunas",
            "zzzzzLithuaniaTrakai"
           ],
           "countryIds": [
            "gCHYvyhpNcKZgcPiDwRV"
           ],
           "dateFrom": "2024-04-22T00:08:00.000Z",
           "dateLastRefresh": "2024-04-22T00:30:03.750Z",
           "dateTo": "2024-04-28T23:00:00.000Z",
           "id": "SdQhmtrH5jmkcQ17yag2",
           "isActive": true,
           "isOver": false,
           "link": "/chain/banner/Savaite/orbTOXTr2gSNbQxEj3Ni/OiGzdqIuls86njWsPYmw",
           "name": {
            "de": "Promo Savaitės Top",
            "en": "Promo Savaitės Top",
            "lt": "Promo Savaitės Top",
            "ru": "Promo Savaitės Top"
           },
           "photoUrl": {
            "en": "https://firebasestorage.googleapis.com/v0/b/lastmile-ui/o/import%2Fphotos%2Fconverted%2Fbanner%2FphotoUrl%2FOiGzdqIuls86njWsPYmw_SdQhmtrH5jmkcQ17yag2_UkcA7LGXIGVM1Lhmr8bPFarPtjs2_MQAZTB2fYcQf0O7Dkyt3_en.webp?alt=media&token=5ef10140-f99e-4233-b20b-449de6d50835",
            "lt": "https://firebasestorage.googleapis.com/v0/b/lastmile-ui/o/import%2Fphotos%2Fconverted%2Fbanner%2FphotoUrl%2FOiGzdqIuls86njWsPYmw_SdQhmtrH5jmkcQ17yag2_UkcA7LGXIGVM1Lhmr8bPFarPtjs2_HI5iq2RzEoVihE5Y0t9X_lt.webp?alt=media&token=dd22d4e0-4a83-417a-97a2-3bc11044476e"
           },
           "photoUrlDesktop": {
            "en": "https://firebasestorage.googleapis.com/v0/b/lastmile-ui/o/import%2Fphotos%2Fconverted%2Fbanner%2FphotoUrlDesktop%2FOiGzdqIuls86njWsPYmw_SdQhmtrH5jmkcQ17yag2_UkcA7LGXIGVM1Lhmr8bPFarPtjs2_vFrAsIhO784bffM7Uj8C_en.webp?alt=media&token=4ddc599f-89a6-48e3-bfee-1bbe183d244d",
            "lt": "https://firebasestorage.googleapis.com/v0/b/lastmile-ui/o/import%2Fphotos%2Fconverted%2Fbanner%2FphotoUrlDesktop%2FOiGzdqIuls86njWsPYmw_SdQhmtrH5jmkcQ17yag2_UkcA7LGXIGVM1Lhmr8bPFarPtjs2_UIarvfBa0K3JXXxYnop8_lt.webp?alt=media&token=543bdc88-c1f4-4cb1-82eb-1b58080f8783"
           },
           "productIds": [],
           "rank": 5,
           "showHome": false,
           "showMain": true,
           "slugs": [
            "Promo-Savaites-Top"
           ]
          },
          {
           "bannerIds": [],
           "categoryIds": [],
           "chainIds": [
            "CvKfTzV4TN5U8BTMF1Hl"
           ],
           "cityIds": [
            "JOS2PezGRKgYa4QlqIEU",
            "ToaewVbOunrF5zJlzaud",
            "h1dqAwwzlMLrSrgjcS1S",
            "nDJFEmEMsGgM7nQcgEMN",
            "prqsdr2BADGPZfszFnnB",
            "zzLithuaniaPanevezys",
            "zzxLithuaniaKlaipeda",
            "zzxLithuaniaSiauliai",
            "zzzzLithuaniaPalanga",
            "zzzzzLithuaniaKaunas",
            "zzzzzLithuaniaTrakai"
           ],
           "countryIds": [
            "gCHYvyhpNcKZgcPiDwRV"
           ],
           "dateFrom": "2024-04-22T00:08:00.000Z",
           "dateLastRefresh": "2024-04-22T00:30:03.752Z",
           "dateTo": "2024-04-28T23:00:00.000Z",
           "id": "iIOPpkbLMkHTIIWkM66t",
           "isActive": true,
           "isOver": false,
           "link": "/chain/banner/BcxFgFduiuETVx9GTtsw/BcxFgFduiuETVx9GTtsw/CvKfTzV4TN5U8BTMF1Hl",
           "name": {
            "de": "IKI. Super kaina",
            "en": "IKI. Super kaina",
            "lt": "IKI. Super kaina",
            "ru": "IKI. Super kaina"
           },
           "photoUrl": {
            "en": "https://firebasestorage.googleapis.com/v0/b/lastmile-ui/o/import%2Fphotos%2Fconverted%2Fbanner%2FphotoUrl%2FCvKfTzV4TN5U8BTMF1Hl_iIOPpkbLMkHTIIWkM66t_UkcA7LGXIGVM1Lhmr8bPFarPtjs2_GgXKbR38LwaCRyqXhuTw_en.webp?alt=media&token=99e26ad0-d24a-4af1-b7f3-cd440b8c3a88",
            "lt": "https://firebasestorage.googleapis.com/v0/b/lastmile-ui/o/import%2Fphotos%2Fconverted%2Fbanner%2FphotoUrl%2FCvKfTzV4TN5U8BTMF1Hl_iIOPpkbLMkHTIIWkM66t_UkcA7LGXIGVM1Lhmr8bPFarPtjs2_KZbY2GGjdn3HdEFAJLo2_lt.webp?alt=media&token=694d6c43-5765-4a30-991f-69b3e5ef5703"
           },
           "photoUrlDesktop": {
            "en": "https://firebasestorage.googleapis.com/v0/b/lastmile-ui/o/import%2Fphotos%2Fconverted%2Fbanner%2FphotoUrlDesktop%2FCvKfTzV4TN5U8BTMF1Hl_iIOPpkbLMkHTIIWkM66t_UkcA7LGXIGVM1Lhmr8bPFarPtjs2_GSBOch3eXGDTjh9FChXc_en.webp?alt=media&token=ab57c8f9-1168-4429-8bb4-edcaa43aa532",
            "lt": "https://firebasestorage.googleapis.com/v0/b/lastmile-ui/o/import%2Fphotos%2Fconverted%2Fbanner%2FphotoUrlDesktop%2FCvKfTzV4TN5U8BTMF1Hl_iIOPpkbLMkHTIIWkM66t_UkcA7LGXIGVM1Lhmr8bPFarPtjs2_THrU4noA3kMrmB56N7bN_lt.webp?alt=media&token=0173b850-d92d-414b-bf70-c00f003419eb"
           },
           "productIds": [],
           "rank": 6,
           "showHome": false,
           "showMain": true,
           "slugs": [
            "IKI-Super-kaina"
           ]
          },
          {
           "bannerIds": [],
           "categoryIds": [],
           "chainIds": [
            "CvKfTzV4TN5U8BTMF1Hl"
           ],
           "cityIds": [
            "JOS2PezGRKgYa4QlqIEU",
            "ToaewVbOunrF5zJlzaud",
            "h1dqAwwzlMLrSrgjcS1S",
            "nDJFEmEMsGgM7nQcgEMN",
            "prqsdr2BADGPZfszFnnB",
            "zzLithuaniaPanevezys",
            "zzxLithuaniaKlaipeda",
            "zzxLithuaniaSiauliai",
            "zzzzLithuaniaPalanga",
            "zzzzzLithuaniaKaunas",
            "zzzzzLithuaniaTrakai"
           ],
           "countryIds": [
            "gCHYvyhpNcKZgcPiDwRV"
           ],
           "dateFrom": "2024-04-22T00:08:00.000Z",
           "dateLastRefresh": "2024-04-22T00:30:03.745Z",
           "dateTo": "2024-04-28T23:00:00.000Z",
           "id": "BeEN0TPLPP8KldGvnGss",
           "isActive": true,
           "isOver": false,
           "link": "/chain/banner/ckytvOxXug7iONIcv41L/ckytvOxXug7iONIcv41L/CvKfTzV4TN5U8BTMF1Hl",
           "name": {
            "de": "IKI. Grill Vištiena ar kiauliena",
            "en": "IKI. Vištiena ar kiauliena",
            "lt": "IKI. Grill Vištiena ar kiauliena",
            "ru": "IKI. Grill Vištiena ar kiauliena"
           },
           "photoUrl": {
            "en": "https://firebasestorage.googleapis.com/v0/b/lastmile-ui/o/import%2Fphotos%2Fconverted%2Fbanner%2FphotoUrl%2FCvKfTzV4TN5U8BTMF1Hl_BeEN0TPLPP8KldGvnGss_UkcA7LGXIGVM1Lhmr8bPFarPtjs2_rEG5dAXRaDapC145czLq_en.webp?alt=media&token=be019eaf-374d-4dd3-b8fb-2751f27887b4",
            "lt": "https://firebasestorage.googleapis.com/v0/b/lastmile-ui/o/import%2Fphotos%2Fconverted%2Fbanner%2FphotoUrl%2FCvKfTzV4TN5U8BTMF1Hl_BeEN0TPLPP8KldGvnGss_UkcA7LGXIGVM1Lhmr8bPFarPtjs2_hxrPoQ6b7PVga3wm3sHU_lt.webp?alt=media&token=61ffa16c-8ef4-436d-ba6c-ed493dcd4a69"
           },
           "photoUrlDesktop": {
            "en": "https://firebasestorage.googleapis.com/v0/b/lastmile-ui/o/import%2Fphotos%2Fconverted%2Fbanner%2FphotoUrlDesktop%2FCvKfTzV4TN5U8BTMF1Hl_BeEN0TPLPP8KldGvnGss_UkcA7LGXIGVM1Lhmr8bPFarPtjs2_rAMpgdUCeyMLBKnDSO67_en.webp?alt=media&token=073ddf44-8b6d-4807-b50e-e2737f4db7c3",
            "lt": "https://firebasestorage.googleapis.com/v0/b/lastmile-ui/o/import%2Fphotos%2Fconverted%2Fbanner%2FphotoUrlDesktop%2FCvKfTzV4TN5U8BTMF1Hl_BeEN0TPLPP8KldGvnGss_UkcA7LGXIGVM1Lhmr8bPFarPtjs2_9QH6LpCkPOIZhArTfAnv_lt.webp?alt=media&token=fb998264-4126-4933-9216-27dc8d20c6a2"
           },
           "productIds": [],
           "rank": 10,
           "showHome": false,
           "showMain": true,
           "slugs": [
            "IKI-Grill-Vistiena-ar-kiauliena",
            "IKI-Vistiena-ar-kiauliena"
           ]
          },
          {
           "bannerIds": [],
           "categoryIds": [],
           "chainIds": [
            "OiGzdqIuls86njWsPYmw"
           ],
           "cityIds": [
            "JOS2PezGRKgYa4QlqIEU",
            "ToaewVbOunrF5zJlzaud",
            "h1dqAwwzlMLrSrgjcS1S",
            "nDJFEmEMsGgM7nQcgEMN",
            "prqsdr2BADGPZfszFnnB",
            "zzLithuaniaPanevezys",
            "zzxLithuaniaKlaipeda",
            "zzxLithuaniaSiauliai",
            "zzzzLithuaniaPalanga",
            "zzzzzLithuaniaKaunas",
            "zzzzzLithuaniaTrakai"
           ],
           "countryIds": [
            "gCHYvyhpNcKZgcPiDwRV"
           ],
           "dateFrom": "2024-04-22T00:08:00.000Z",
           "dateLastRefresh": "2024-04-22T00:30:03.747Z",
           "dateTo": "2024-04-28T23:00:00.000Z",
           "id": "GslJ2FrggyeT5E6k3ZNR",
           "isActive": true,
           "isOver": false,
           "link": "/chain/banner/Milka/v5cW1JKKEyhvVb06Svw1/OiGzdqIuls86njWsPYmw",
           "name": {
            "de": "Šokoladams Milka",
            "en": "Šokoladams Milka",
            "lt": "Šokoladams Milka",
            "ru": "Šokoladams Milka"
           },
           "photoUrl": {
            "en": "https://firebasestorage.googleapis.com/v0/b/lastmile-ui/o/import%2Fphotos%2Fconverted%2Fbanner%2FphotoUrl%2FOiGzdqIuls86njWsPYmw_GslJ2FrggyeT5E6k3ZNR_UkcA7LGXIGVM1Lhmr8bPFarPtjs2_KRZY0yWe5hbB9G9bnmIX_en.webp?alt=media&token=0a4fd768-3026-40d8-8947-40d4f4c5e61c",
            "lt": "https://firebasestorage.googleapis.com/v0/b/lastmile-ui/o/import%2Fphotos%2Fconverted%2Fbanner%2FphotoUrl%2FOiGzdqIuls86njWsPYmw_GslJ2FrggyeT5E6k3ZNR_UkcA7LGXIGVM1Lhmr8bPFarPtjs2_nMJZ34OcjYkbJPLbSuBA_lt.webp?alt=media&token=9c525fde-4ca4-46d4-9588-c5b30f301603"
           },
           "photoUrlDesktop": {
            "en": "https://firebasestorage.googleapis.com/v0/b/lastmile-ui/o/import%2Fphotos%2Fconverted%2Fbanner%2FphotoUrlDesktop%2FOiGzdqIuls86njWsPYmw_GslJ2FrggyeT5E6k3ZNR_UkcA7LGXIGVM1Lhmr8bPFarPtjs2_LLIRQcPDUzfFx8wWLrMI_en.webp?alt=media&token=5db09f37-4532-48b2-bf1f-6c8e70359b0a",
            "lt": "https://firebasestorage.googleapis.com/v0/b/lastmile-ui/o/import%2Fphotos%2Fconverted%2Fbanner%2FphotoUrlDesktop%2FOiGzdqIuls86njWsPYmw_GslJ2FrggyeT5E6k3ZNR_UkcA7LGXIGVM1Lhmr8bPFarPtjs2_kgs65FQrPb0fJ1rjsxER_lt.webp?alt=media&token=b41b9a5d-762c-40f0-a5e3-dc8fd39f5f09"
           },
           "productIds": [],
           "rank": 11,
           "showHome": false,
           "showMain": true,
           "slugs": [
            "Sokoladams-Milka"
           ]
          },
          {
           "bannerIds": [],
           "categoryIds": [],
           "chainIds": [
            "CvKfTzV4TN5U8BTMF1Hl"
           ],
           "cityIds": [
            "JOS2PezGRKgYa4QlqIEU",
            "ToaewVbOunrF5zJlzaud",
            "h1dqAwwzlMLrSrgjcS1S",
            "nDJFEmEMsGgM7nQcgEMN",
            "prqsdr2BADGPZfszFnnB",
            "zzLithuaniaPanevezys",
            "zzxLithuaniaKlaipeda",
            "zzxLithuaniaSiauliai",
            "zzzzLithuaniaPalanga",
            "zzzzzLithuaniaKaunas",
            "zzzzzLithuaniaTrakai"
           ],
           "countryIds": [
            "gCHYvyhpNcKZgcPiDwRV"
           ],
           "dateFrom": "2024-04-22T00:08:00.000Z",
           "dateLastRefresh": "2024-04-22T00:30:03.757Z",
           "dateTo": "2024-04-28T23:00:00.000Z",
           "id": "zv1LXDSkgfa9pblaF5x9",
           "isActive": true,
           "isOver": false,
           "link": "/chain/banner/flu41ohsvKwcBufNdyDh/flu41ohsvKwcBufNdyDh/CvKfTzV4TN5U8BTMF1Hl",
           "name": {
            "de": "IKI. Švaros fiesta",
            "en": "IKI. Švaros fiesta",
            "lt": "IKI. Švaros fiesta",
            "ru": "IKI. Švaros fiesta"
           },
           "photoUrl": {
            "en": "https://firebasestorage.googleapis.com/v0/b/lastmile-ui/o/import%2Fphotos%2Fconverted%2Fbanner%2FphotoUrl%2FCvKfTzV4TN5U8BTMF1Hl_zv1LXDSkgfa9pblaF5x9_UkcA7LGXIGVM1Lhmr8bPFarPtjs2_3wuGQkGCFy1kXsmPlfb5_en.webp?alt=media&token=a94b5c62-4849-4725-9d2d-0d71335ffe7c",
            "lt": "https://firebasestorage.googleapis.com/v0/b/lastmile-ui/o/import%2Fphotos%2Fconverted%2Fbanner%2FphotoUrl%2FCvKfTzV4TN5U8BTMF1Hl_zv1LXDSkgfa9pblaF5x9_UkcA7LGXIGVM1Lhmr8bPFarPtjs2_CJtZIUPD8s82MEtSGakX_lt.webp?alt=media&token=3a28cddb-28a3-4ea0-9e32-18fd2836a8c7"
           },
           "photoUrlDesktop": {
            "en": "https://firebasestorage.googleapis.com/v0/b/lastmile-ui/o/import%2Fphotos%2Fconverted%2Fbanner%2FphotoUrlDesktop%2FCvKfTzV4TN5U8BTMF1Hl_zv1LXDSkgfa9pblaF5x9_UkcA7LGXIGVM1Lhmr8bPFarPtjs2_FpfKz6SPYJfGfdANIol4_en.webp?alt=media&token=05acbfe7-50ec-4fd5-be53-fe2b5683ef0a",
            "lt": "https://firebasestorage.googleapis.com/v0/b/lastmile-ui/o/import%2Fphotos%2Fconverted%2Fbanner%2FphotoUrlDesktop%2FCvKfTzV4TN5U8BTMF1Hl_zv1LXDSkgfa9pblaF5x9_UkcA7LGXIGVM1Lhmr8bPFarPtjs2_Vf6z5FDf5VjQfs606plk_lt.webp?alt=media&token=4629eeae-e83e-4e0d-a51b-9260edace336"
           },
           "productIds": [],
           "rank": 12,
           "showHome": false,
           "showMain": true,
           "slugs": [
            "IKI-Svaros-fiesta"
           ]
          },
          {
           "bannerIds": [],
           "categoryIds": [],
           "chainIds": [
            "CvKfTzV4TN5U8BTMF1Hl"
           ],
           "cityIds": [
            "JOS2PezGRKgYa4QlqIEU",
            "ToaewVbOunrF5zJlzaud",
            "h1dqAwwzlMLrSrgjcS1S",
            "nDJFEmEMsGgM7nQcgEMN",
            "prqsdr2BADGPZfszFnnB",
            "zzLithuaniaPanevezys",
            "zzxLithuaniaKlaipeda",
            "zzxLithuaniaSiauliai",
            "zzzzLithuaniaPalanga",
            "zzzzzLithuaniaKaunas",
            "zzzzzLithuaniaTrakai"
           ],
           "countryIds": [
            "gCHYvyhpNcKZgcPiDwRV"
           ],
           "dateFrom": "2024-04-23T09:08:00.000Z",
           "dateLastRefresh": "2024-04-23T06:56:27.319Z",
           "dateTo": "2024-04-28T23:00:00.000Z",
           "id": "3qoOo5Z1u04JkEfIBcKn",
           "isActive": true,
           "isOver": false,
           "link": "/chain/banner/MxKesr5bkGGSCfbUzDJm/MxKesr5bkGGSCfbUzDJm/CvKfTzV4TN5U8BTMF1Hl",
           "name": {
            "de": "IKI. Užkandis \"Takis\"",
            "en": "IKI. Užkandis \"Takis\"",
            "lt": "IKI. Užkandis \"Takis\"",
            "ru": "IKI. Užkandis \"Takis\""
           },
           "photoUrl": {
            "en": "https://firebasestorage.googleapis.com/v0/b/lastmile-ui/o/import%2Fphotos%2Fconverted%2Fbanner%2FphotoUrl%2FCvKfTzV4TN5U8BTMF1Hl_3qoOo5Z1u04JkEfIBcKn_UkcA7LGXIGVM1Lhmr8bPFarPtjs2_xcyaGYqXbPHFcvLutTsw_en.webp?alt=media&token=0982601f-6ac2-427e-adfb-2efcc2e71efc"
           },
           "photoUrlDesktop": {
            "en": "https://firebasestorage.googleapis.com/v0/b/lastmile-ui/o/import%2Fphotos%2Fconverted%2Fbanner%2FphotoUrlDesktop%2FCvKfTzV4TN5U8BTMF1Hl_3qoOo5Z1u04JkEfIBcKn_UkcA7LGXIGVM1Lhmr8bPFarPtjs2_JLMekL0xDbsyP5Fj81S0_en.webp?alt=media&token=f7f08df2-a6f9-4742-a32d-e556b6f6c0c9",
            "lt": "https://firebasestorage.googleapis.com/v0/b/lastmile-ui/o/import%2Fphotos%2Fconverted%2Fbanner%2FphotoUrlDesktop%2FCvKfTzV4TN5U8BTMF1Hl_3qoOo5Z1u04JkEfIBcKn_UkcA7LGXIGVM1Lhmr8bPFarPtjs2_KGHlozHtEuHkIs1tBLQr_lt.webp?alt=media&token=4564e800-1316-478a-beac-5fa6e7cc3033"
           },
           "productIds": [],
           "rank": 13,
           "showHome": false,
           "showMain": true,
           "slugs": [
            "IKI-Uzkandis-Takis"
           ]
          },
          {
           "bannerIds": [],
           "categoryIds": [],
           "chainIds": [
            "OiGzdqIuls86njWsPYmw"
           ],
           "cityIds": [
            "JOS2PezGRKgYa4QlqIEU",
            "ToaewVbOunrF5zJlzaud",
            "h1dqAwwzlMLrSrgjcS1S",
            "nDJFEmEMsGgM7nQcgEMN",
            "prqsdr2BADGPZfszFnnB",
            "zzLithuaniaPanevezys",
            "zzxLithuaniaKlaipeda",
            "zzxLithuaniaSiauliai",
            "zzzzLithuaniaPalanga",
            "zzzzzLithuaniaKaunas",
            "zzzzzLithuaniaTrakai"
           ],
           "countryIds": [
            "gCHYvyhpNcKZgcPiDwRV"
           ],
           "dateFrom": "2024-04-22T00:08:00.000Z",
           "dateLastRefresh": "2024-04-22T06:35:35.905Z",
           "dateTo": "2024-04-28T23:00:00.000Z",
           "id": "tMjCmyfWNPPQrNrei5VZ",
           "isActive": true,
           "isOver": false,
           "link": "/chain/banner/Suriai/LY7tFxAEkroc3nqgBMwr/OiGzdqIuls86njWsPYmw",
           "name": {
            "de": "Sūrio gurmanams -30%",
            "en": "Sūrio gurmanams -30%",
            "lt": "Sūrio gurmanams -30%",
            "ru": "Sūrio gurmanams -30%"
           },
           "photoUrl": {
            "de": "https://firebasestorage.googleapis.com/v0/b/lastmile-ui/o/import%2Fphotos%2Fconverted%2Fbanner%2FphotoUrl%2FOiGzdqIuls86njWsPYmw_tMjCmyfWNPPQrNrei5VZ_UkcA7LGXIGVM1Lhmr8bPFarPtjs2_rWYBpVgHfW5YFCEG9cwX_lt.webp?alt=media&token=ab62f911-f966-41de-8bc6-a578a8f60f4f",
            "en": "https://firebasestorage.googleapis.com/v0/b/lastmile-ui/o/import%2Fphotos%2Fconverted%2Fbanner%2FphotoUrl%2FOiGzdqIuls86njWsPYmw_tMjCmyfWNPPQrNrei5VZ_UkcA7LGXIGVM1Lhmr8bPFarPtjs2_wYAClRODkYuEk5joIAlC_en.webp?alt=media&token=da4c3dff-fe38-45e8-a5d2-0791c45ea7e3",
            "lt": "https://firebasestorage.googleapis.com/v0/b/lastmile-ui/o/import%2Fphotos%2Fconverted%2Fbanner%2FphotoUrl%2FOiGzdqIuls86njWsPYmw_tMjCmyfWNPPQrNrei5VZ_UkcA7LGXIGVM1Lhmr8bPFarPtjs2_x2OZ0dxd95p1tbsvjdDB_lt.webp?alt=media&token=30fe367d-e9d0-46e3-92f0-4a34970f358e",
            "ru": "https://firebasestorage.googleapis.com/v0/b/lastmile-ui/o/import%2Fphotos%2Fconverted%2Fbanner%2FphotoUrl%2FOiGzdqIuls86njWsPYmw_tMjCmyfWNPPQrNrei5VZ_UkcA7LGXIGVM1Lhmr8bPFarPtjs2_rWYBpVgHfW5YFCEG9cwX_lt.webp?alt=media&token=ab62f911-f966-41de-8bc6-a578a8f60f4f"
           },
           "photoUrlDesktop": {
            "de": "https://firebasestorage.googleapis.com/v0/b/lastmile-ui/o/import%2Fphotos%2Fconverted%2Fbanner%2FphotoUrlDesktop%2FOiGzdqIuls86njWsPYmw_tMjCmyfWNPPQrNrei5VZ_UkcA7LGXIGVM1Lhmr8bPFarPtjs2_wN41UhX2ljRWGnNv5cNA_lt.webp?alt=media&token=ce89d85d-1214-43c2-bb2a-67cb2ee4303d",
            "en": "https://firebasestorage.googleapis.com/v0/b/lastmile-ui/o/import%2Fphotos%2Fconverted%2Fbanner%2FphotoUrlDesktop%2FOiGzdqIuls86njWsPYmw_tMjCmyfWNPPQrNrei5VZ_UkcA7LGXIGVM1Lhmr8bPFarPtjs2_kDn0OsG6ixlmCsdaQxxB_en.webp?alt=media&token=bff1de0f-d9df-42d4-998f-df7c01d0f29f",
            "lt": "https://firebasestorage.googleapis.com/v0/b/lastmile-ui/o/import%2Fphotos%2Fconverted%2Fbanner%2FphotoUrlDesktop%2FOiGzdqIuls86njWsPYmw_tMjCmyfWNPPQrNrei5VZ_UkcA7LGXIGVM1Lhmr8bPFarPtjs2_CR1iacBlPM8t41W9Q4Un_lt.webp?alt=media&token=8e815f9a-4fb1-4380-8204-e77386684b8a",
            "ru": "https://firebasestorage.googleapis.com/v0/b/lastmile-ui/o/import%2Fphotos%2Fconverted%2Fbanner%2FphotoUrlDesktop%2FOiGzdqIuls86njWsPYmw_tMjCmyfWNPPQrNrei5VZ_UkcA7LGXIGVM1Lhmr8bPFarPtjs2_wN41UhX2ljRWGnNv5cNA_lt.webp?alt=media&token=ce89d85d-1214-43c2-bb2a-67cb2ee4303d"
           },
           "productIds": [],
           "rank": 14,
           "showHome": false,
           "showMain": true,
           "slugs": [
            "Surio-gurmanams-30percent"
           ]
          },
          {
           "bannerIds": [],
           "categoryIds": [],
           "chainIds": [
            "CvKfTzV4TN5U8BTMF1Hl"
           ],
           "cityIds": [
            "JOS2PezGRKgYa4QlqIEU",
            "ToaewVbOunrF5zJlzaud",
            "h1dqAwwzlMLrSrgjcS1S",
            "nDJFEmEMsGgM7nQcgEMN",
            "prqsdr2BADGPZfszFnnB",
            "zzLithuaniaPanevezys",
            "zzxLithuaniaKlaipeda",
            "zzxLithuaniaSiauliai",
            "zzzzLithuaniaPalanga",
            "zzzzzLithuaniaKaunas",
            "zzzzzLithuaniaTrakai"
           ],
           "countryIds": [
            "gCHYvyhpNcKZgcPiDwRV"
           ],
           "dateFrom": "2024-04-22T00:08:00.000Z",
           "dateLastRefresh": "2024-04-22T00:30:03.739Z",
           "dateTo": "2024-04-28T23:00:00.000Z",
           "id": "1r5z4qQE6jDpxKXTyezv",
           "isActive": true,
           "isOver": false,
           "link": "/chain/banner/XW11mDe7WfdlWi4kWj9X/XW11mDe7WfdlWi4kWj9X/CvKfTzV4TN5U8BTMF1Hl",
           "name": {
            "de": "IKI. Red Bull iki 05.05",
            "en": "IKI. Red Bull  iki 05.05",
            "lt": "IKI. Red Bull iki 05.05",
            "ru": "IKI. Red Bull iki 05.05"
           },
           "photoUrl": {
            "en": "https://firebasestorage.googleapis.com/v0/b/lastmile-ui/o/import%2Fphotos%2Fconverted%2Fbanner%2FphotoUrl%2FCvKfTzV4TN5U8BTMF1Hl_1r5z4qQE6jDpxKXTyezv_UkcA7LGXIGVM1Lhmr8bPFarPtjs2_Dq8bTZKwodxbUplsGkFi_en.webp?alt=media&token=146c5a61-c8a7-4be9-b688-c172e40465ba",
            "lt": "https://firebasestorage.googleapis.com/v0/b/lastmile-ui/o/import%2Fphotos%2Fconverted%2Fbanner%2FphotoUrl%2FCvKfTzV4TN5U8BTMF1Hl_1r5z4qQE6jDpxKXTyezv_UkcA7LGXIGVM1Lhmr8bPFarPtjs2_bcrmfmPJ7qQvClJgGUVO_lt.webp?alt=media&token=41cffb07-3946-4ba3-8a98-ce0ba2a227b1"
           },
           "photoUrlDesktop": {
            "en": "https://firebasestorage.googleapis.com/v0/b/lastmile-ui/o/import%2Fphotos%2Fconverted%2Fbanner%2FphotoUrlDesktop%2FCvKfTzV4TN5U8BTMF1Hl_1r5z4qQE6jDpxKXTyezv_UkcA7LGXIGVM1Lhmr8bPFarPtjs2_F0pqCetq5qnt1uq6bmIb_en.webp?alt=media&token=5f02054a-212a-45f3-82d8-090a3271afc6",
            "lt": "https://firebasestorage.googleapis.com/v0/b/lastmile-ui/o/import%2Fphotos%2Fconverted%2Fbanner%2FphotoUrlDesktop%2FCvKfTzV4TN5U8BTMF1Hl_1r5z4qQE6jDpxKXTyezv_UkcA7LGXIGVM1Lhmr8bPFarPtjs2_XmADE3RCWwPQpBs1vsuS_lt.webp?alt=media&token=4ce0d212-ae98-465a-855b-a2431813fe16"
           },
           "productIds": [],
           "rank": 15,
           "showHome": false,
           "showMain": true,
           "slugs": [
            "IKI-Red-Bull-iki-0505"
           ]
          },
          {
           "bannerIds": [],
           "categoryIds": [],
           "chainIds": [
            "OiGzdqIuls86njWsPYmw"
           ],
           "cityIds": [
            "JOS2PezGRKgYa4QlqIEU",
            "ToaewVbOunrF5zJlzaud",
            "h1dqAwwzlMLrSrgjcS1S",
            "nDJFEmEMsGgM7nQcgEMN",
            "prqsdr2BADGPZfszFnnB",
            "zzLithuaniaPanevezys",
            "zzxLithuaniaKlaipeda",
            "zzxLithuaniaSiauliai",
            "zzzzLithuaniaPalanga",
            "zzzzzLithuaniaKaunas",
            "zzzzzLithuaniaTrakai"
           ],
           "countryIds": [
            "gCHYvyhpNcKZgcPiDwRV"
           ],
           "dateFrom": "2024-04-22T00:08:00.000Z",
           "dateLastRefresh": "2024-04-22T00:30:03.752Z",
           "dateTo": "2024-05-01T23:00:00.000Z",
           "id": "awiI1O3XkUuIhBY2pRtd",
           "isActive": true,
           "isOver": false,
           "link": "/chain/category/VAGA/Akcijos",
           "name": {
            "de": "Vaga. Knygos nuo 1 eur iki 05.01",
            "en": "Vaga. Knygos nuo 1 eur iki 05.01",
            "lt": "Vaga. Knygos nuo 1 eur iki 05.01",
            "ru": "Vaga. Knygos nuo 1 eur iki 05.01"
           },
           "photoUrl": {
            "en": "https://firebasestorage.googleapis.com/v0/b/lastmile-ui/o/import%2Fphotos%2Fconverted%2Fbanner%2FphotoUrl%2FOiGzdqIuls86njWsPYmw_awiI1O3XkUuIhBY2pRtd_UkcA7LGXIGVM1Lhmr8bPFarPtjs2_vJeaCPQllOsALJcfAmuI_en.webp?alt=media&token=6e1d8678-b20c-4ff0-80eb-009685e0cf22",
            "lt": "https://firebasestorage.googleapis.com/v0/b/lastmile-ui/o/import%2Fphotos%2Fconverted%2Fbanner%2FphotoUrl%2FOiGzdqIuls86njWsPYmw_awiI1O3XkUuIhBY2pRtd_UkcA7LGXIGVM1Lhmr8bPFarPtjs2_3XTdWghMEyCNeYjzLFo8_lt.webp?alt=media&token=89efb637-f631-4ac2-b230-029a192c04f1"
           },
           "photoUrlDesktop": {
            "en": "https://firebasestorage.googleapis.com/v0/b/lastmile-ui/o/import%2Fphotos%2Fconverted%2Fbanner%2FphotoUrlDesktop%2FOiGzdqIuls86njWsPYmw_awiI1O3XkUuIhBY2pRtd_UkcA7LGXIGVM1Lhmr8bPFarPtjs2_KENWPPaokIw6Nn6PBQhj_en.webp?alt=media&token=571e8d8e-a6fe-41ab-9520-ff3159808630",
            "lt": "https://firebasestorage.googleapis.com/v0/b/lastmile-ui/o/import%2Fphotos%2Fconverted%2Fbanner%2FphotoUrlDesktop%2FOiGzdqIuls86njWsPYmw_awiI1O3XkUuIhBY2pRtd_UkcA7LGXIGVM1Lhmr8bPFarPtjs2_I6erQoqWv3rLD9ZR82tV_lt.webp?alt=media&token=d8f63dc2-52ff-4192-9db7-551cbfd9a8cc"
           },
           "productIds": [],
           "rank": 16,
           "showHome": false,
           "showMain": true,
           "slugs": [
            "Vaga-Knygos-nuo-1-eur-iki-0501"
           ]
          },
          {
           "bannerIds": [],
           "categoryIds": [],
           "chainIds": [
            "CvKfTzV4TN5U8BTMF1Hl"
           ],
           "cityIds": [
            "JOS2PezGRKgYa4QlqIEU",
            "ToaewVbOunrF5zJlzaud",
            "h1dqAwwzlMLrSrgjcS1S",
            "nDJFEmEMsGgM7nQcgEMN",
            "prqsdr2BADGPZfszFnnB",
            "zzLithuaniaPanevezys",
            "zzxLithuaniaKlaipeda",
            "zzxLithuaniaSiauliai",
            "zzzzLithuaniaPalanga",
            "zzzzzLithuaniaKaunas",
            "zzzzzLithuaniaTrakai"
           ],
           "countryIds": [
            "gCHYvyhpNcKZgcPiDwRV"
           ],
           "dateFrom": "2024-04-22T00:08:00.000Z",
           "dateLastRefresh": "2024-04-22T00:30:03.754Z",
           "dateTo": "2024-05-30T23:00:00.000Z",
           "id": "pAkYLSZnBvGLKgQfO5Vv",
           "isActive": true,
           "isOver": false,
           "link": "https://lastmile.lt/information/atsiemimas-parduotuveje-nuolaida",
           "name": {
            "de": "IKI. Click and collect iki 05.30",
            "en": "IKI. Click and collect iki 05.30",
            "lt": "IKI. Click and collect iki 05.30",
            "ru": "IKI. Click and collect iki 05.30"
           },
           "photoUrl": {
            "en": "https://firebasestorage.googleapis.com/v0/b/lastmile-ui/o/import%2Fphotos%2Fconverted%2Fbanner%2FphotoUrl%2FCvKfTzV4TN5U8BTMF1Hl_pAkYLSZnBvGLKgQfO5Vv_UkcA7LGXIGVM1Lhmr8bPFarPtjs2_7valUjzjF1hMsblUb77Y_en.webp?alt=media&token=412e278d-5c1b-4a32-a523-7ee16e4a072f",
            "lt": "https://firebasestorage.googleapis.com/v0/b/lastmile-ui/o/import%2Fphotos%2Fconverted%2Fbanner%2FphotoUrl%2FCvKfTzV4TN5U8BTMF1Hl_pAkYLSZnBvGLKgQfO5Vv_UkcA7LGXIGVM1Lhmr8bPFarPtjs2_jB4Hx4vZWsOTXpNgFG4s_lt.webp?alt=media&token=481f89bd-68dc-4f04-939a-456cfb575998"
           },
           "photoUrlDesktop": {
            "en": "https://firebasestorage.googleapis.com/v0/b/lastmile-ui/o/import%2Fphotos%2Fconverted%2Fbanner%2FphotoUrlDesktop%2FCvKfTzV4TN5U8BTMF1Hl_pAkYLSZnBvGLKgQfO5Vv_UkcA7LGXIGVM1Lhmr8bPFarPtjs2_nDL8peKTonvHza74uVkl_en.webp?alt=media&token=db95e9f1-30af-40f6-a745-53a1fdd09d96",
            "lt": "https://firebasestorage.googleapis.com/v0/b/lastmile-ui/o/import%2Fphotos%2Fconverted%2Fbanner%2FphotoUrlDesktop%2FCvKfTzV4TN5U8BTMF1Hl_pAkYLSZnBvGLKgQfO5Vv_UkcA7LGXIGVM1Lhmr8bPFarPtjs2_ILBGAtA5FRzqIkEQxGRU_lt.webp?alt=media&token=455acdaa-c106-46cf-8b05-5e88eef3c80f"
           },
           "productIds": [],
           "rank": 16,
           "showHome": false,
           "showMain": true,
           "slugs": [
            "IKI-Click-and-collect-iki-0530"
           ]
          },
          {
           "bannerIds": [],
           "categoryIds": [],
           "chainIds": [
            "OiGzdqIuls86njWsPYmw"
           ],
           "cityIds": [
            "JOS2PezGRKgYa4QlqIEU",
            "ToaewVbOunrF5zJlzaud",
            "h1dqAwwzlMLrSrgjcS1S",
            "nDJFEmEMsGgM7nQcgEMN",
            "prqsdr2BADGPZfszFnnB",
            "zzLithuaniaPanevezys",
            "zzxLithuaniaKlaipeda",
            "zzxLithuaniaSiauliai",
            "zzzzLithuaniaPalanga",
            "zzzzzLithuaniaKaunas",
            "zzzzzLithuaniaTrakai"
           ],
           "countryIds": [
            "gCHYvyhpNcKZgcPiDwRV"
           ],
           "dateFrom": "2024-04-22T00:08:00.000Z",
           "dateLastRefresh": "2024-04-22T00:30:03.742Z",
           "dateTo": "2024-05-31T23:00:00.000Z",
           "id": "5hzW5QMsSXTXTPJMl6yK",
           "isActive": true,
           "isOver": false,
           "link": "/chain/banner/OD6dpkTCImHznXSiRdNh/OD6dpkTCImHznXSiRdNh/qBH49gh6GlaUM4SJJhgS",
           "name": {
            "de": "Osom",
            "en": "Osom",
            "lt": "Osom",
            "ru": "Osom"
           },
           "photoUrl": {
            "en": "https://firebasestorage.googleapis.com/v0/b/lastmile-ui/o/import%2Fphotos%2Fconverted%2Fbanner%2FphotoUrl%2FOiGzdqIuls86njWsPYmw_5hzW5QMsSXTXTPJMl6yK_UkcA7LGXIGVM1Lhmr8bPFarPtjs2_bEsA6jhlGGwqbT9MavEF_en.webp?alt=media&token=c98d4ae9-5942-4810-9b22-da1da9332143",
            "lt": "https://firebasestorage.googleapis.com/v0/b/lastmile-ui/o/import%2Fphotos%2Fconverted%2Fbanner%2FphotoUrl%2FOiGzdqIuls86njWsPYmw_5hzW5QMsSXTXTPJMl6yK_UkcA7LGXIGVM1Lhmr8bPFarPtjs2_gjEcqz8QcxJBoK4IMJxb_lt.webp?alt=media&token=47f644e0-0838-4ff6-954c-31f3b198657c"
           },
           "photoUrlDesktop": {
            "en": "https://firebasestorage.googleapis.com/v0/b/lastmile-ui/o/import%2Fphotos%2Fconverted%2Fbanner%2FphotoUrlDesktop%2FOiGzdqIuls86njWsPYmw_5hzW5QMsSXTXTPJMl6yK_UkcA7LGXIGVM1Lhmr8bPFarPtjs2_2e3JwzaiAOsnVCThi90w_en.webp?alt=media&token=ecc4303d-c85a-486b-b2c0-41332d0b11da",
            "lt": "https://firebasestorage.googleapis.com/v0/b/lastmile-ui/o/import%2Fphotos%2Fconverted%2Fbanner%2FphotoUrlDesktop%2FOiGzdqIuls86njWsPYmw_5hzW5QMsSXTXTPJMl6yK_UkcA7LGXIGVM1Lhmr8bPFarPtjs2_bH3p7YGwoXamE1r42BMJ_lt.webp?alt=media&token=1ecf8f96-7d8b-49a4-9a4d-680413524bf3"
           },
           "productIds": [],
           "rank": 17,
           "showHome": false,
           "showMain": true,
           "slugs": [
            "Osom"
           ]
          }
         ],
         "categories": [
          {
           "icon": "https://storage.googleapis.com/lastmile-ui/images/icons/NEW%20category%20tree%20icons/Akcijos.svg",
           "id": "00sales",
           "name": {
            "de": "Sonderangebote",
            "en": "Promotions",
            "lt": "Akcijos",
            "ru": "Акции"
           },
           "parentId": "00home",
           "rank": 0,
           "subcategories": []
          },
          {
           "icon": "https://storage.googleapis.com/lastmile-ui/images/icons/NEW%20category%20tree%20icons/Tavo%20produktai.svg",
           "id": "00frequentlyboughtproducts",
           "name": {
            "de": "Deine Produkte",
            "en": "Your Products",
            "lt": "Tavo produktai",
            "ru": "Твои продукты"
           },
           "parentId": "00home",
           "rank": 1,
           "subcategories": []
          },
          {
           "icon": "https://storage.googleapis.com/lastmile-ui/images/icons/NEW%20category%20tree%20icons/1%2B1.svg",
           "id": "Y5C805FzmW137oeYY1to",
           "name": {
            "de": "1+1 Pasiūlymai",
            "en": "1+1 Offers",
            "lt": "1+1 Pasiūlymai",
            "ru": "1+1 Pasiūlymai"
           },
           "parentId": "0",
           "rank": 2,
           "subcategories": [
            {
             "icon": "",
             "id": "fAh2docYiH9UX5MgmSE7",
             "name": {
              "de": "1+1",
              "en": "1+1",
              "lt": "1+1",
              "ru": "1+1"
             },
             "parentId": "Y5C805FzmW137oeYY1to",
             "rank": 11,
             "subcategories": []
            }
           ]
          },
          {
           "icon": "https://storage.googleapis.com/lastmile-ui/images/icons/NEW%20category%20tree%20icons/Specialu%CC%84s%20pasiu%CC%84lymai.svg",
           "id": "X94ufuUOO5rjmHh8n3gH",
           "name": {
            "de": "Special offers",
            "en": "Special offers",
            "lt": "Specialūs pasiūlymai",
            "ru": "Special offers"
           },
           "parentId": "0",
           "rank": 3,
           "subcategories": [
            {
             "icon": "",
             "id": "yAHwNJEppUmznAqK1WaG",
             "name": {
              "de": "Special offers for home",
              "en": "Special offers for home",
              "lt": "Pasiūlymai namams",
              "ru": "Special offers for home"
             },
             "parentId": "X94ufuUOO5rjmHh8n3gH",
             "rank": 11,
             "subcategories": []
            }
           ]
          },
          {
           "icon": "https://storage.googleapis.com/lastmile-ui/images/icons/Naujiena%20(2).svg",
           "id": "00latest",
           "name": {
            "de": "Neuheiten",
            "en": "New",
            "lt": "Naujienos",
            "ru": "Последний"
           },
           "parentId": "00home",
           "rank": 5,
           "subcategories": []
          },
          {
           "icon": "https://storage.googleapis.com/lastmile-ui/images/icons/NEW%20category%20tree%20icons/Me%CC%87gstamiausi.svg",
           "id": "00favorites",
           "name": {
            "de": "Favoriten",
            "en": "Favorites",
            "lt": "Mėgstamiausi",
            "ru": "Избранное"
           },
           "parentId": "00home",
           "rank": 6,
           "subcategories": []
          },
          {
           "icon": "https://storage.googleapis.com/lastmile-ui/images/icons/NEW%20category%20tree%20icons/Vaisiai%20ir%20darz%CC%8Cove%CC%87s.svg",
           "id": "Fjr0PdY3SpHbc2GKm9Cd",
           "name": {
            "de": "Obst und Gemüse",
            "en": "Fruits and vegetables",
            "lt": "Vaisiai ir daržovės",
            "ru": "Фрукты и овощи"
           },
           "parentId": "0",
           "rank": 12,
           "subcategories": [
            {
             "icon": "",
             "id": "iSYTdWjFGh5YWglqphtj",
             "name": {
              "de": "Obst",
              "en": "Fruits",
              "lt": "Vaisiai",
              "ru": "Фрукты"
             },
             "parentId": "Fjr0PdY3SpHbc2GKm9Cd",
             "rank": 12,
             "subcategories": []
            },
            {
             "icon": "",
             "id": "R9SDZX71J0Qapuvm1Lgp",
             "name": {
              "de": "Gemüse",
              "en": "Vegetables",
              "lt": "Daržovės",
              "ru": "Овощи"
             },
             "parentId": "Fjr0PdY3SpHbc2GKm9Cd",
             "rank": 13,
             "subcategories": []
            },
            {
             "icon": "",
             "id": "TyLpkJrj4VvzdZTgry59",
             "name": {
              "de": "Beeren",
              "en": "Berries",
              "lt": "Uogos",
              "ru": "Ягоды"
             },
             "parentId": "Fjr0PdY3SpHbc2GKm9Cd",
             "rank": 14,
             "subcategories": []
            },
            {
             "icon": "",
             "id": "VX72LbxC8cV0A1Kh40k6",
             "name": {
              "de": "Pilze",
              "en": "Mushrooms",
              "lt": "Grybai",
              "ru": "Грибы"
             },
             "parentId": "Fjr0PdY3SpHbc2GKm9Cd",
             "rank": 15,
             "subcategories": []
            }
           ]
          },
          {
           "icon": "https://storage.googleapis.com/lastmile-ui/images/icons/NEW%20category%20tree%20icons/Pieno%20produktai.svg",
           "id": "a9SEJfba4SNgSbGMycL5",
           "name": {
            "de": "Milchprodukte und Eier",
            "en": "Dairy products and eggs",
            "lt": "Pieno produktai ir kiaušiniai",
            "ru": "Молочные продукты и яйца"
           },
           "parentId": "0",
           "rank": 13,
           "subcategories": [
            {
             "icon": "",
             "id": "B7UTvIzcguAYSjSplM0z",
             "name": {
              "de": "Milch",
              "en": "Milk",
              "lt": "Pienas",
              "ru": "Молоко"
             },
             "parentId": "a9SEJfba4SNgSbGMycL5",
             "rank": 12,
             "subcategories": []
            },
            {
             "icon": "",
             "id": "lGecTHdAhyAnZCQCuwhh",
             "name": {
              "de": "Butter, Margarine und Fette",
              "en": "Butter, margarine and fats",
              "lt": "Sviestas, margarinas ir riebalai",
              "ru": "Сливочное масло, маргарин и жиры"
             },
             "parentId": "a9SEJfba4SNgSbGMycL5",
             "rank": 13,
             "subcategories": []
            },
            {
             "icon": "",
             "id": "CdWuu4uUCdxn6AIe4gqc",
             "name": {
              "de": "Käse",
              "en": "Cheese",
              "lt": "Sūris",
              "ru": "Сыр"
             },
             "parentId": "a9SEJfba4SNgSbGMycL5",
             "rank": 14,
             "subcategories": []
            },
            {
             "icon": "",
             "id": "NQUhVepop3OtR9njG12K",
             "name": {
              "de": "Saure Sahne",
              "en": "Sour cream",
              "lt": "Grietinė",
              "ru": "Сметана"
             },
             "parentId": "a9SEJfba4SNgSbGMycL5",
             "rank": 15,
             "subcategories": []
            },
            {
             "icon": "",
             "id": "TVQZUpgOyoRgF6QtXRHA",
             "name": {
              "de": "Quarkprodukte",
              "en": "Curd products",
              "lt": "Varškės produktai",
              "ru": "Творожные продукты"
             },
             "parentId": "a9SEJfba4SNgSbGMycL5",
             "rank": 17,
             "subcategories": []
            },
            {
             "icon": "",
             "id": "HLIolFbqYNRWg80KJDQq",
             "name": {
              "de": "Kefir, Sauermilch und Buttermilch",
              "en": "Kefir, sour milk and buttermilk",
              "lt": "Kefyras, rūgpienis ir pasukos",
              "ru": "Кефир, простокваша и пахта"
             },
             "parentId": "a9SEJfba4SNgSbGMycL5",
             "rank": 18,
             "subcategories": []
            },
            {
             "icon": "",
             "id": "feVWq0PcvnwNwZnSBycA",
             "name": {
              "de": "Joghurts",
              "en": "Yogurts",
              "lt": "Jogurtai",
              "ru": "Йогурты"
             },
             "parentId": "a9SEJfba4SNgSbGMycL5",
             "rank": 19,
             "subcategories": []
            },
            {
             "icon": "",
             "id": "JGMOQONuXr63w9SFUIWQ",
             "name": {
              "de": "Eier",
              "en": "Eggs",
              "lt": "Kiaušiniai",
              "ru": "Яйца"
             },
             "parentId": "a9SEJfba4SNgSbGMycL5",
             "rank": 20,
             "subcategories": []
            },
            {
             "icon": "",
             "id": "r7HtE8CjVMu3zGC8yqby",
             "name": {
              "de": "Mayonnaise",
              "en": "Mayonnaise",
              "lt": "Majonezas",
              "ru": "Майонез"
             },
             "parentId": "a9SEJfba4SNgSbGMycL5",
             "rank": 21,
             "subcategories": []
            }
           ]
          },
          {
           "icon": "https://storage.googleapis.com/lastmile-ui/images/icons/NEW%20category%20tree%20icons/Duonos%20gaminiai%20ir%20konditerija.svg",
           "id": "wIuggN5AnmDIBozs6eUA",
           "name": {
            "de": "Brot- und Konditoreiwaren",
            "en": "Bread products and confectionery",
            "lt": "Duonos gaminiai ir konditerija",
            "ru": "Хлебобулочные и кондитерские изделия"
           },
           "parentId": "0",
           "rank": 14,
           "subcategories": [
            {
             "icon": "",
             "id": "DLoQF9DWugzS6QDi9Iqn",
             "name": {
              "de": "Frisch gebackene Broterzeugnisse",
              "en": "Fresh baked bread products",
              "lt": "Šviežiai kepti duonos gaminiai",
              "ru": "Свежевыпеченные хлебобулочные изделия"
             },
             "parentId": "wIuggN5AnmDIBozs6eUA",
             "rank": 12,
             "subcategories": []
            },
            {
             "icon": "",
             "id": "FtgjCgmmcpD8W7bFn94C",
             "name": {
              "de": "Brot",
              "en": "Bread",
              "lt": "Duona",
              "ru": "Хлеб"
             },
             "parentId": "wIuggN5AnmDIBozs6eUA",
             "rank": 13,
             "subcategories": []
            },
            {
             "icon": "",
             "id": "CXmRw5Eqxzb8RvbLiRZE",
             "name": {
              "de": "Stangenbrot",
              "en": "Baton",
              "lt": "Batonas",
              "ru": "Батон"
             },
             "parentId": "wIuggN5AnmDIBozs6eUA",
             "rank": 14,
             "subcategories": []
            },
            {
             "icon": "",
             "id": "GzdonUwqd5iAXyISiSNu",
             "name": {
              "de": "Brotersatzprodukte",
              "en": "Bread substitutes",
              "lt": "Duonos pakaitalai",
              "ru": "Заменители хлеба"
             },
             "parentId": "wIuggN5AnmDIBozs6eUA",
             "rank": 15,
             "subcategories": []
            },
            {
             "icon": "",
             "id": "ex8Rhx6CSf091zVMlfdB",
             "name": {
              "de": "Brotkuchen, Kekse, Muffins",
              "en": "Bread cakes, muffins and cupcakes",
              "lt": "Duonos pyragai, keksai ir keksiukai",
              "ru": "Хлебные пироги, кексы и капкейки"
             },
             "parentId": "wIuggN5AnmDIBozs6eUA",
             "rank": 16,
             "subcategories": []
            },
            {
             "icon": "",
             "id": "mHAVj1rAYbfzEpDMk4nI",
             "name": {
              "de": "Zwieback, Lebkuchen, Bagel und Getreidesnacks",
              "en": "Crisps, gingerbread, pretzels and cereals",
              "lt": "Džiūvėsiai, meduoliai, riestainiai ir javinukai",
              "ru": "Сухарики, пряники, крендельки и хлопья"
             },
             "parentId": "wIuggN5AnmDIBozs6eUA",
             "rank": 17,
             "subcategories": []
            },
            {
             "icon": "",
             "id": "guVfF3XHMnBGq0LyD2oA",
             "name": {
              "de": "Brötchen und Krapfen",
              "en": "Muffins and donuts",
              "lt": "Bandelės ir spurgos",
              "ru": "Булочки и пончики"
             },
             "parentId": "wIuggN5AnmDIBozs6eUA",
             "rank": 19,
             "subcategories": []
            },
            {
             "icon": "",
             "id": "lyjTy293mSE1V6NPmWgs",
             "name": {
              "de": "Konditoreiwaren",
              "en": "Confectionery",
              "lt": "Konditerija",
              "ru": "Кондитерия"
             },
             "parentId": "wIuggN5AnmDIBozs6eUA",
             "rank": 20,
             "subcategories": []
            }
           ]
          },
          {
           "icon": "https://storage.googleapis.com/lastmile-ui/images/icons/NEW%20category%20tree%20icons/Me%CC%87sa%2C%20z%CC%8Cuvis%20ir%20kulinarija.svg",
           "id": "20x4e1fnrrqnQB7AyeGr",
           "name": {
            "de": "Fleisch, Fisch und Kulinarik",
            "en": "Meat, fish and cooking",
            "lt": "Mėsa, žuvis ir kulinarija",
            "ru": "Мясо, рыба и кулинария"
           },
           "parentId": "0",
           "rank": 15,
           "subcategories": [
            {
             "icon": "",
             "id": "1CKDIcxEpY7b2UHbAsaw",
             "name": {
              "de": "Frischfleisch",
              "en": "Fresh meat",
              "lt": "Šviežia mėsa",
              "ru": "Свежее мясо"
             },
             "parentId": "20x4e1fnrrqnQB7AyeGr",
             "rank": 12,
             "subcategories": []
            },
            {
             "icon": "",
             "id": "V6LgkRAG0FtJxk92EedA",
             "name": {
              "de": "Frisches Geflügelfleisch",
              "en": "Fresh poultry",
              "lt": "Šviežia paukštiena",
              "ru": "Свежее мясо птицы"
             },
             "parentId": "20x4e1fnrrqnQB7AyeGr",
             "rank": 13,
             "subcategories": []
            },
            {
             "icon": "",
             "id": "bwjLXqWL9aE79yQ8gXl9",
             "name": {
              "de": "Fleisch- und Geflügelfleischerzeugnisse",
              "en": "Meat and poultry products",
              "lt": "Mėsos ir paukštienos gaminiai",
              "ru": "Мясная и птицеводческая продукция"
             },
             "parentId": "20x4e1fnrrqnQB7AyeGr",
             "rank": 14,
             "subcategories": []
            },
            {
             "icon": "",
             "id": "YNBc38VZOEZvY2gMcZhr",
             "name": {
              "de": "Mariniertes Fleisch und Geflügel",
              "en": "Marinated meat and poultry",
              "lt": "Marinuota mėsa ir paukštiena",
              "ru": "Маринованное мясо и маринованное мясо птицы"
             },
             "parentId": "20x4e1fnrrqnQB7AyeGr",
             "rank": 15,
             "subcategories": []
            },
            {
             "icon": "",
             "id": "aAztRXgfDPJvZMHJ4N8m",
             "name": {
              "de": "Frischer Fisch und Meeresfrüchte",
              "en": "Fresh fish and seafood",
              "lt": "Šviežia žuvis ir jūrų gėrybės",
              "ru": "Свежая рыба и морепродукты"
             },
             "parentId": "20x4e1fnrrqnQB7AyeGr",
             "rank": 16,
             "subcategories": []
            },
            {
             "icon": "",
             "id": "uxZ0bIW63yS6X9E2Wrwt",
             "name": {
              "de": "Fischprodukte",
              "en": "Fish products",
              "lt": "Žuvies gaminiai",
              "ru": "Рыбная продукция"
             },
             "parentId": "20x4e1fnrrqnQB7AyeGr",
             "rank": 17,
             "subcategories": []
            },
            {
             "icon": "",
             "id": "z54qJvi1a0tFeOpMI4N1",
             "name": {
              "de": "Kulinarik",
              "en": "Cooking",
              "lt": "Kulinarija",
              "ru": "Кулинария"
             },
             "parentId": "20x4e1fnrrqnQB7AyeGr",
             "rank": 18,
             "subcategories": []
            }
           ]
          },
          {
           "icon": "https://storage.googleapis.com/lastmile-ui/images/icons/NEW%20category%20tree%20icons/S%CC%8Caldytas%20maistas.svg",
           "id": "PFRbPnT0oNK8QbQfqOLB",
           "name": {
            "de": "Tiefkühlkost",
            "en": "Frozen food",
            "lt": "Šaldytas maistas",
            "ru": "Замороженные продукты"
           },
           "parentId": "0",
           "rank": 16,
           "subcategories": [
            {
             "icon": "",
             "id": "4NPOaGBpSSAUVkFXItVn",
             "name": {
              "de": "Tiefgekühltes Gemüse, Beeren, Obst und Pilze",
              "en": "Frozen vegetables, berries, fruits and mushrooms",
              "lt": "Šaldytos daržovės, uogos, vaisiai ir grybai",
              "ru": "Замороженные овощи, ягоды, фрукты и грибы"
             },
             "parentId": "PFRbPnT0oNK8QbQfqOLB",
             "rank": 12,
             "subcategories": []
            },
            {
             "icon": "",
             "id": "IXYtNYcKM0Bnxn9C0fvs",
             "name": {
              "de": "Speiseeis",
              "en": "Ice cream",
              "lt": "Ledai",
              "ru": "Мороженное"
             },
             "parentId": "PFRbPnT0oNK8QbQfqOLB",
             "rank": 13,
             "subcategories": []
            },
            {
             "icon": "",
             "id": "nZUNr4dlYOBrpUtU4jfg",
             "name": {
              "de": "Eiswürfel",
              "en": "Ice cubes",
              "lt": "Ledo kubeliai",
              "ru": "Кубики льда"
             },
             "parentId": "PFRbPnT0oNK8QbQfqOLB",
             "rank": 14,
             "subcategories": []
            },
            {
             "icon": "",
             "id": "Uo6g8HNxbkZoBccKfBsB",
             "name": {
              "de": "Tiefgekühlte kulinarische Produkte und Süßwaren",
              "en": "Frozen culinary and confectionery products",
              "lt": "Šaldyti kulinarijos ir konditerijos gaminiai",
              "ru": "Замороженная кулинарная и кондитерская продукция"
             },
             "parentId": "PFRbPnT0oNK8QbQfqOLB",
             "rank": 15,
             "subcategories": []
            },
            {
             "icon": "",
             "id": "CprVsMkh7piddK3LzdMX",
             "name": {
              "de": "Gefrorener Fisch und Meeresfrüchte",
              "en": "Frozen fish and seafood",
              "lt": "Šaldyta žuvis ir jūrų gėrybės",
              "ru": "Замороженная рыба и морепродукты"
             },
             "parentId": "PFRbPnT0oNK8QbQfqOLB",
             "rank": 16,
             "subcategories": []
            },
            {
             "icon": "",
             "id": "3a9o6BBfMqpO1eP2LRd3",
             "name": {
              "de": "Gefrorenes Fleisch",
              "en": "Frozen meat",
              "lt": "Šaldyta mėsa",
              "ru": "Замороженное мясо"
             },
             "parentId": "PFRbPnT0oNK8QbQfqOLB",
             "rank": 17,
             "subcategories": []
            }
           ]
          },
          {
           "icon": "https://storage.googleapis.com/lastmile-ui/images/icons/NEW%20category%20tree%20icons/Bakale%CC%87ja.svg",
           "id": "4F8AnnblKenpWblCXMSJ",
           "name": {
            "de": "Lebensmittel",
            "en": "Groceries",
            "lt": "Bakalėja",
            "ru": "Бакалея"
           },
           "parentId": "0",
           "rank": 17,
           "subcategories": [
            {
             "icon": "",
             "id": "alSGOxSJTCEUc4AYVimh",
             "name": {
              "de": "Öl und Essig",
              "en": "Oil and vinegar",
              "lt": "Aliejus ir actas",
              "ru": "Масло и уксус"
             },
             "parentId": "4F8AnnblKenpWblCXMSJ",
             "rank": 12,
             "subcategories": []
            },
            {
             "icon": "",
             "id": "DVlT42gJS3sevRSkHkWE",
             "name": {
              "de": "Zucker, Süßungsmittel, Honig",
              "en": "Sugar, sweeteners, honey",
              "lt": "Cukrus, saldikliai, medus",
              "ru": "Сахар, подсластители, мед"
             },
             "parentId": "4F8AnnblKenpWblCXMSJ",
             "rank": 13,
             "subcategories": []
            },
            {
             "icon": "",
             "id": "eFlHBDHmobDg7BPxTBYa",
             "name": {
              "de": "Kaffee, Kakao, Kaffeegetränke",
              "en": "Coffee, cocoa, coffee drinks",
              "lt": "Kava, kakava, kavos gėrimai",
              "ru": "Кофе, какао, кофейные напитки"
             },
             "parentId": "4F8AnnblKenpWblCXMSJ",
             "rank": 14,
             "subcategories": []
            },
            {
             "icon": "",
             "id": "fi49LFhlfK8LVZN73CBd",
             "name": {
              "de": "Tee",
              "en": "Tea",
              "lt": "Arbata",
              "ru": "Чай"
             },
             "parentId": "4F8AnnblKenpWblCXMSJ",
             "rank": 15,
             "subcategories": []
            },
            {
             "icon": "",
             "id": "hww6HY7FA1of6l2tJSsO",
             "name": {
              "de": "Nudeln",
              "en": "Pasta",
              "lt": "Makaronai",
              "ru": "Макаронные изделия"
             },
             "parentId": "4F8AnnblKenpWblCXMSJ",
             "rank": 16,
             "subcategories": []
            },
            {
             "icon": "",
             "id": "Qcr3pLFVc8H5Jznf4l1f",
             "name": {
              "de": "Mehl",
              "en": "Flour",
              "lt": "Miltai",
              "ru": "Мука"
             },
             "parentId": "4F8AnnblKenpWblCXMSJ",
             "rank": 17,
             "subcategories": []
            },
            {
             "icon": "",
             "id": "RkxJvEZNHwXHsT4H9U3O",
             "name": {
              "de": "Grütze",
              "en": "Groats",
              "lt": "Kruopos",
              "ru": "Крупа"
             },
             "parentId": "4F8AnnblKenpWblCXMSJ",
             "rank": 18,
             "subcategories": []
            },
            {
             "icon": "",
             "id": "wqH0UDucPSMqw11XaYe0",
             "name": {
              "de": "Reis",
              "en": "Rice",
              "lt": "Ryžiai",
              "ru": "Рис"
             },
             "parentId": "4F8AnnblKenpWblCXMSJ",
             "rank": 19,
             "subcategories": []
            },
            {
             "icon": "",
             "id": "ISAig48P42h8ZXDBaPeZ",
             "name": {
              "de": "Hülsenfrüchte",
              "en": "Legumes",
              "lt": "Ankštinės daržovės",
              "ru": "Бобовые овощи"
             },
             "parentId": "4F8AnnblKenpWblCXMSJ",
             "rank": 20,
             "subcategories": []
            },
            {
             "icon": "",
             "id": "QAurOjd8UT5526MFHpIn",
             "name": {
              "de": "Saucen und Aufstriche",
              "en": "Sauces and spreads",
              "lt": "Padažai ir užtepėlės",
              "ru": "Соусы и спреды"
             },
             "parentId": "4F8AnnblKenpWblCXMSJ",
             "rank": 21,
             "subcategories": []
            },
            {
             "icon": "",
             "id": "fj9o35CmfqVMtXOIMlRV",
             "name": {
              "de": "Eingelegte, konservierte Lebensmittel",
              "en": "Pickled, canned food",
              "lt": "Marinuotas, konservuotas maistas",
              "ru": "Маринованные, консервированные продукты"
             },
             "parentId": "4F8AnnblKenpWblCXMSJ",
             "rank": 22,
             "subcategories": []
            },
            {
             "icon": "",
             "id": "ugS5OMkfCm7fLWWe8j8U",
             "name": {
              "de": "Trockenes Frühstück, Flocken und Getreideriegel",
              "en": "Dry breakfast cereals and cereal bars",
              "lt": "Sausi pusryčiai, dribsniai ir javainių batonėliai",
              "ru": "Сухой завтрак, хлопья и зерновые батончики"
             },
             "parentId": "4F8AnnblKenpWblCXMSJ",
             "rank": 23,
             "subcategories": []
            },
            {
             "icon": "",
             "id": "FKEA5rBnkQe9QXzOhUh4",
             "name": {
              "de": "Nüsse, Samen, Trockenfrüchte, Beeren",
              "en": "Nuts, seeds, dried fruits, berries",
              "lt": "Riešutai, sėklos, džiovinti vaisiai, uogos",
              "ru": "Орехи, семена, сухофрукты, ягоды"
             },
             "parentId": "4F8AnnblKenpWblCXMSJ",
             "rank": 24,
             "subcategories": []
            },
            {
             "icon": "",
             "id": "tzQHf1Pq60Y2m3V7dyCb",
             "name": {
              "de": "Instantgerichte",
              "en": "Quick food",
              "lt": "Greitai paruošiamas maistas",
              "ru": "Подготовка продуктов быстрого приготовления"
             },
             "parentId": "4F8AnnblKenpWblCXMSJ",
             "rank": 25,
             "subcategories": []
            },
            {
             "icon": "",
             "id": "XCmQGbiqAryyKyYKuPbr",
             "name": {
              "de": "Besondere Lebensmittel",
              "en": "Special food",
              "lt": "Specialus maistas",
              "ru": "Специальные пищевые продукты"
             },
             "parentId": "4F8AnnblKenpWblCXMSJ",
             "rank": 26,
             "subcategories": []
            },
            {
             "icon": "",
             "id": "KoJJP7J8EvEJpoNxv8qj",
             "name": {
              "de": "Kochhilfsmittel",
              "en": "Food preparation accessories",
              "lt": "Maisto ruošimo priedai",
              "ru": "Добавки для приготовления пищи"
             },
             "parentId": "4F8AnnblKenpWblCXMSJ",
             "rank": 27,
             "subcategories": []
            },
            {
             "icon": "",
             "id": "Hd0GxIHLNoFnmPntrBR1",
             "name": {
              "de": "Weltküchen",
              "en": "World cuisines",
              "lt": "Pasaulio virtuvės",
              "ru": "Кухни мира"
             },
             "parentId": "4F8AnnblKenpWblCXMSJ",
             "rank": 28,
             "subcategories": []
            },
            {
             "icon": "",
             "id": "xcDHOtxyRKocg4hsMzkf",
             "name": {
              "de": "Gewürze",
              "en": "Spices",
              "lt": "Prieskoniai",
              "ru": "Специи"
             },
             "parentId": "4F8AnnblKenpWblCXMSJ",
             "rank": 29,
             "subcategories": []
            }
           ]
          },
          {
           "icon": "https://storage.googleapis.com/lastmile-ui/images/icons/NEW%20category%20tree%20icons/Ge%CC%87rimai.svg",
           "id": "POgJ49EX1XStpTHYRWe7",
           "name": {
            "de": "Getränke",
            "en": "Drinks",
            "lt": "Gėrimai",
            "ru": "Напитки"
           },
           "parentId": "0",
           "rank": 18,
           "subcategories": [
            {
             "icon": "",
             "id": "Y0sDkVxqbzxjNFkQf6at",
             "name": {
              "de": "Wasser",
              "en": "Water",
              "lt": "Vanduo",
              "ru": "Вода"
             },
             "parentId": "POgJ49EX1XStpTHYRWe7",
             "rank": 12,
             "subcategories": []
            },
            {
             "icon": "",
             "id": "zmIxwXNYGCIq8mQgM2es",
             "name": {
              "de": "Säfte, Nektare und Saftgetränke",
              "en": "Juices, nectars and juice drinks",
              "lt": "Sultys, nektarai ir sulčių gėrimai",
              "ru": "Сок, нектар и сокосодержащие напитки"
             },
             "parentId": "POgJ49EX1XStpTHYRWe7",
             "rank": 13,
             "subcategories": []
            },
            {
             "icon": "",
             "id": "cKa7w3zTYPt5DyFvKykN",
             "name": {
              "de": "Alkoholfreie Getränke",
              "en": "Non-alcoholic beverages",
              "lt": "Nealkoholiniai gėrimai",
              "ru": "Безалкогольные напитки"
             },
             "parentId": "POgJ49EX1XStpTHYRWe7",
             "rank": 14,
             "subcategories": []
            },
            {
             "icon": "",
             "id": "7aGnT9tzMYRqBwdgmLXG",
             "name": {
              "de": "Erfrischungsgetränke",
              "en": "Beverages",
              "lt": "Gaivieji gėrimai",
              "ru": "Прохладительные напитки"
             },
             "parentId": "POgJ49EX1XStpTHYRWe7",
             "rank": 15,
             "subcategories": []
            },
            {
             "icon": "",
             "id": "AjKyXlSr5l0rWugRdHOk",
             "name": {
              "de": "Energiegetränke",
              "en": "Energy drinks",
              "lt": "Energiniai gėrimai",
              "ru": "Энергетические напитки"
             },
             "parentId": "POgJ49EX1XStpTHYRWe7",
             "rank": 16,
             "subcategories": []
            }
           ]
          },
          {
           "icon": "https://storage.googleapis.com/lastmile-ui/images/icons/NEW%20category%20tree%20icons/Saldumynai%20ir%20uz%CC%8Ckandz%CC%8Ciai.svg",
           "id": "TkH3cKCbsa8A4lxedhCv",
           "name": {
            "de": "Süßigkeiten und Snacks",
            "en": "Sweets and snacks",
            "lt": "Saldumynai ir užkandžiai",
            "ru": "Сладости и закуски"
           },
           "parentId": "0",
           "rank": 19,
           "subcategories": [
            {
             "icon": "",
             "id": "rib9oETO0liJd5FbdgNs",
             "name": {
              "de": "Süßigkeiten",
              "en": "Sweets",
              "lt": "Saldumynai",
              "ru": "Сладости"
             },
             "parentId": "TkH3cKCbsa8A4lxedhCv",
             "rank": 12,
             "subcategories": []
            },
            {
             "icon": "",
             "id": "IIk8FPKSn5XiDIZnUtnB",
             "name": {
              "de": "Bonbons",
              "en": "Sweets",
              "lt": "Saldainiai",
              "ru": "Конфеты"
             },
             "parentId": "TkH3cKCbsa8A4lxedhCv",
             "rank": 13,
             "subcategories": []
            },
            {
             "icon": "",
             "id": "8dtkfUj256Pbwh5EGKyd",
             "name": {
              "de": "Gummibonbons",
              "en": "Gummys",
              "lt": "Guminukai",
              "ru": "Мармеладки"
             },
             "parentId": "TkH3cKCbsa8A4lxedhCv",
             "rank": 14,
             "subcategories": []
            },
            {
             "icon": "",
             "id": "QqVct75UCrfTKdo93vQn",
             "name": {
              "de": "Schokolade",
              "en": "Chocolate",
              "lt": "Šokoladas",
              "ru": "Шоколад"
             },
             "parentId": "TkH3cKCbsa8A4lxedhCv",
             "rank": 15,
             "subcategories": []
            },
            {
             "icon": "",
             "id": "LWH0PkqIUc4XaibVwl33",
             "name": {
              "de": "Riegel",
              "en": "Bars",
              "lt": "Batonėliai",
              "ru": "Батончики"
             },
             "parentId": "TkH3cKCbsa8A4lxedhCv",
             "rank": 16,
             "subcategories": []
            },
            {
             "icon": "",
             "id": "4y3xrhP557EMbPLyI5k6",
             "name": {
              "de": "Lutscher",
              "en": "Lollipops",
              "lt": "Ledinukai",
              "ru": "Леденцы"
             },
             "parentId": "TkH3cKCbsa8A4lxedhCv",
             "rank": 17,
             "subcategories": []
            },
            {
             "icon": "",
             "id": "eUT3NGBsmKe3x5gMNkmc",
             "name": {
              "de": "Dragees, Nüsse",
              "en": "Dragee, nuts",
              "lt": "Dražė, riešutai",
              "ru": "Драже, орехи"
             },
             "parentId": "TkH3cKCbsa8A4lxedhCv",
             "rank": 18,
             "subcategories": []
            },
            {
             "icon": "",
             "id": "mVjH3msZjoKN0p7Jzqlw",
             "name": {
              "de": "Kaugummi",
              "en": "Chewing gum",
              "lt": "Kramtoma guma",
              "ru": "Жевательная резинка"
             },
             "parentId": "TkH3cKCbsa8A4lxedhCv",
             "rank": 19,
             "subcategories": []
            },
            {
             "icon": "",
             "id": "BHEhwM0RLWlnFZMjBEtF",
             "name": {
              "de": "Kekse",
              "en": "Cookies",
              "lt": "Sausainiai",
              "ru": "Печенье"
             },
             "parentId": "TkH3cKCbsa8A4lxedhCv",
             "rank": 20,
             "subcategories": []
            },
            {
             "icon": "",
             "id": "Xp09Lc6JKjIVq2WaFZtp",
             "name": {
              "de": "Waffeln",
              "en": "Waffles",
              "lt": "Vafliai",
              "ru": "Вафли"
             },
             "parentId": "TkH3cKCbsa8A4lxedhCv",
             "rank": 21,
             "subcategories": []
            },
            {
             "icon": "",
             "id": "73RvPfPPbUwsFdjg6a92",
             "name": {
              "de": "Marshmallows",
              "en": "Marshmallows",
              "lt": "Zefyrai",
              "ru": "Зефиры"
             },
             "parentId": "TkH3cKCbsa8A4lxedhCv",
             "rank": 22,
             "subcategories": []
            },
            {
             "icon": "",
             "id": "yL1Tacc76TSAfQd90r1v",
             "name": {
              "de": "Cremes",
              "en": "Creams",
              "lt": "Kremai",
              "ru": "Кремы"
             },
             "parentId": "TkH3cKCbsa8A4lxedhCv",
             "rank": 23,
             "subcategories": []
            },
            {
             "icon": "",
             "id": "sAJXURmLVrGswaaKV4QL",
             "name": {
              "de": "Chips",
              "en": "Chips",
              "lt": "Traškučiai",
              "ru": "Чипсы"
             },
             "parentId": "TkH3cKCbsa8A4lxedhCv",
             "rank": 24,
             "subcategories": []
            },
            {
             "icon": "",
             "id": "dOivnprbMzNnEMJD0hWO",
             "name": {
              "de": "Knabbereien",
              "en": "Snacks",
              "lt": "Užkandžiai",
              "ru": "Закуски"
             },
             "parentId": "TkH3cKCbsa8A4lxedhCv",
             "rank": 25,
             "subcategories": []
            },
            {
             "icon": "",
             "id": "zRfwlHX9EQ2Sisx6Vi1V",
             "name": {
              "de": "Cracker",
              "en": "Crackers",
              "lt": "Krekeriai",
              "ru": "Крекеры"
             },
             "parentId": "TkH3cKCbsa8A4lxedhCv",
             "rank": 26,
             "subcategories": []
            },
            {
             "icon": "",
             "id": "khKc3oxJ1uA5wDxHUwiY",
             "name": {
              "de": "Popcorn",
              "en": "Popcorn",
              "lt": "Popkornai",
              "ru": "Попкорн"
             },
             "parentId": "TkH3cKCbsa8A4lxedhCv",
             "rank": 27,
             "subcategories": []
            },
            {
             "icon": "",
             "id": "a9GRuOEAuBNhuYt9ztkh",
             "name": {
              "de": "Gebackenes Brot",
              "en": "Baked bread",
              "lt": "Kepta duona",
              "ru": "Печёный хлеб"
             },
             "parentId": "TkH3cKCbsa8A4lxedhCv",
             "rank": 28,
             "subcategories": []
            }
           ]
          },
          {
           "icon": "https://storage.googleapis.com/lastmile-ui/images/icons/NEW%20category%20tree%20icons/Alkoholiniai%20ge%CC%87rimai.svg",
           "id": "rkvST3V0Qa09HpjZr9RB",
           "name": {
            "de": "Alkoholische Getränke",
            "en": "Alcoholic beverages",
            "lt": "Alkoholiniai gėrimai",
            "ru": "Алкогольные напитки"
           },
           "parentId": "0",
           "rank": 20,
           "subcategories": [
            {
             "icon": "",
             "id": "0ANpirdIGoSM9c7giFz2",
             "name": {
              "de": "Getränkeführer",
              "en": "Drink Guide",
              "lt": "Gėrimų gidas",
              "ru": "Меню напитков"
             },
             "parentId": "rkvST3V0Qa09HpjZr9RB",
             "rank": 11,
             "subcategories": []
            },
            {
             "icon": "",
             "id": "9gSKSRNgd0pm96FfuOD0",
             "name": {
              "de": "Bier",
              "en": "Beer",
              "lt": "Alus",
              "ru": "Пиво"
             },
             "parentId": "rkvST3V0Qa09HpjZr9RB",
             "rank": 12,
             "subcategories": []
            },
            {
             "icon": "",
             "id": "OTigcvdJxUkH5lZ9xbMr",
             "name": {
              "de": "Alkoholische Cocktails",
              "en": "Alcoholic cocktails",
              "lt": "Alkoholiniai kokteiliai",
              "ru": "Алкогольные коктейли"
             },
             "parentId": "rkvST3V0Qa09HpjZr9RB",
             "rank": 13,
             "subcategories": []
            },
            {
             "icon": "",
             "id": "DOGRmmj56XBrCqeMF2bD",
             "name": {
              "de": "Wein und Champagner",
              "en": "Wine and champagne",
              "lt": "Vynas ir šampanas",
              "ru": "Вино и шампанское"
             },
             "parentId": "rkvST3V0Qa09HpjZr9RB",
             "rank": 14,
             "subcategories": []
            },
            {
             "icon": "",
             "id": "Zd0l99S8v3fqxw8MMi8i",
             "name": {
              "de": "Apfelwein",
              "en": "Cider",
              "lt": "Sidras",
              "ru": "Сидр"
             },
             "parentId": "rkvST3V0Qa09HpjZr9RB",
             "rank": 15,
             "subcategories": []
            },
            {
             "icon": "",
             "id": "BUpEiqZzGOWwFEr9sTdJ",
             "name": {
              "de": "Starke alkoholische Getränke",
              "en": "Strong alcoholic drinks",
              "lt": "Stiprūs alkoholiniai gėrimai",
              "ru": "Крепкие алкогольные напитки"
             },
             "parentId": "rkvST3V0Qa09HpjZr9RB",
             "rank": 16,
             "subcategories": []
            },
            {
             "icon": "",
             "id": "E3eQaKkDx2RIRghuRUAj",
             "name": {
              "de": "Andere alkoholische Getränke",
              "en": "Other alcoholic beverages",
              "lt": "Kiti alkoholiniai gėrimai",
              "ru": "Другие алкогольные напитки"
             },
             "parentId": "rkvST3V0Qa09HpjZr9RB",
             "rank": 17,
             "subcategories": []
            }
           ]
          },
          {
           "icon": "https://storage.googleapis.com/lastmile-ui/images/icons/NEW%20category%20tree%20icons/Kosmetika%20ir%20higiena.svg",
           "id": "ou44IMKmyHGlpLOHME04",
           "name": {
            "de": "Kosmetik und Hygiene",
            "en": "Cosmetics and hygiene",
            "lt": "Kosmetika ir higiena",
            "ru": "Косметические средства и гигиена"
           },
           "parentId": "0",
           "rank": 21,
           "subcategories": [
            {
             "icon": "",
             "id": "V8SuqwaYtZx2ykMZLriC",
             "name": {
              "de": "Produkte für die Mundhygiene",
              "en": "Oral hygiene products",
              "lt": "Burnos higienos priemonės",
              "ru": "Средства гигиены полости рта"
             },
             "parentId": "ou44IMKmyHGlpLOHME04",
             "rank": 12,
             "subcategories": []
            },
            {
             "icon": "",
             "id": "nFbfoiUGwDBNrKRVlXHi",
             "name": {
              "de": "Gesichtspflegeprodukte",
              "en": "Facial care products",
              "lt": "Veido priežiūros priemonės",
              "ru": "Средства по уходу за кожей лица"
             },
             "parentId": "ou44IMKmyHGlpLOHME04",
             "rank": 13,
             "subcategories": []
            },
            {
             "icon": "",
             "id": "qKulbFUDVJ4zIgsBLXWu",
             "name": {
              "de": "Haarpflegeprodukte",
              "en": "Haircare products",
              "lt": "Plaukų priežiūros priemonės",
              "ru": "Средства по уходу за волосами"
             },
             "parentId": "ou44IMKmyHGlpLOHME04",
             "rank": 14,
             "subcategories": []
            },
            {
             "icon": "",
             "id": "CdwJsxHsH0cZ9g0ntYoW",
             "name": {
              "de": "Körperpflegeprodukte",
              "en": "Body care products",
              "lt": "Kūno priežiūros priemonės",
              "ru": "Средства по уходу за телом"
             },
             "parentId": "ou44IMKmyHGlpLOHME04",
             "rank": 15,
             "subcategories": []
            },
            {
             "icon": "",
             "id": "dgncIxzPGoT0GaGcEUl8",
             "name": {
              "de": "Fuß- und Nagelpflegeprodukte",
              "en": "Foot and nail care products",
              "lt": "Kojų ir nagų priežiūros priemonės",
              "ru": "Средства по уходу за ногами и ногтями"
             },
             "parentId": "ou44IMKmyHGlpLOHME04",
             "rank": 16,
             "subcategories": []
            },
            {
             "icon": "",
             "id": "ezkubRzE4jrR3YUfByyd",
             "name": {
              "de": "Deodorantien",
              "en": "Deodorants",
              "lt": "Dezodorantai",
              "ru": "Дезодоранты"
             },
             "parentId": "ou44IMKmyHGlpLOHME04",
             "rank": 17,
             "subcategories": []
            },
            {
             "icon": "",
             "id": "ge33jFzpybfmL0snBRW3",
             "name": {
              "de": "Rasierprodukte",
              "en": "Shaving products",
              "lt": "Skutimosi prekės",
              "ru": "Средства для бритья"
             },
             "parentId": "ou44IMKmyHGlpLOHME04",
             "rank": 18,
             "subcategories": []
            },
            {
             "icon": "",
             "id": "gNJgGfzQd8shfxZLUXnD",
             "name": {
              "de": "Dekorative Kosmetik",
              "en": "Decorative cosmetics",
              "lt": "Dekoratyvinė kosmetika",
              "ru": "Декоративная косметика"
             },
             "parentId": "ou44IMKmyHGlpLOHME04",
             "rank": 19,
             "subcategories": []
            },
            {
             "icon": "",
             "id": "eu2IWn7PP8nQuV95TlqD",
             "name": {
              "de": "Sonnenkosmetik",
              "en": "Sun cosmetics",
              "lt": "Saulės kosmetika",
              "ru": "Солнечная косметика"
             },
             "parentId": "ou44IMKmyHGlpLOHME04",
             "rank": 20,
             "subcategories": []
            },
            {
             "icon": "",
             "id": "WxUTOb1b0m2WnNEX2i46",
             "name": {
              "de": "Kosmetik für Männer",
              "en": "Cosmetics for men",
              "lt": "Kosmetika vyrams",
              "ru": "Косметика для мужчин"
             },
             "parentId": "ou44IMKmyHGlpLOHME04",
             "rank": 21,
             "subcategories": []
            },
            {
             "icon": "",
             "id": "2BoNC1MeLqq0gsTXxKI0",
             "name": {
              "de": "Parfüm",
              "en": "Perfume",
              "lt": "Kvepalai",
              "ru": "Духи"
             },
             "parentId": "ou44IMKmyHGlpLOHME04",
             "rank": 22,
             "subcategories": []
            },
            {
             "icon": "",
             "id": "BcZWFpFRQVo6DudCvdmu",
             "name": {
              "de": "Intimpflege",
              "en": "Intimate Hygiene",
              "lt": "Intymi higiena",
              "ru": "Интимная гигиена"
             },
             "parentId": "ou44IMKmyHGlpLOHME04",
             "rank": 23,
             "subcategories": []
            },
            {
             "icon": "",
             "id": "siD52yVZKr7xm6CWTsH4",
             "name": {
              "de": "Medizinischer Bedarf",
              "en": "Medical goods",
              "lt": "Medicinos prekės",
              "ru": "Медицинские товары"
             },
             "parentId": "ou44IMKmyHGlpLOHME04",
             "rank": 24,
             "subcategories": []
            }
           ]
          },
          {
           "icon": "https://storage.googleapis.com/lastmile-ui/images/category_icons/new2/laisvalaikio%2C%20turizmo.svg",
           "id": "uAEw7X73oWIIQK9dLek2",
           "name": {
            "de": "Laisvalaikio ir turizmo prekės",
            "en": "Laisvalaikio ir turizmo prekės",
            "lt": "Laisvalaikio ir turizmo prekės",
            "ru": "Laisvalaikio ir turizmo prekės"
           },
           "parentId": "0",
           "rank": 22,
           "subcategories": [
            {
             "icon": "",
             "id": "iHQScdP6Uu7EtHsg8tj4",
             "name": {
              "de": "Šašlykinės, griliai, kepsninės",
              "en": "Šašlykinės, griliai, kepsninės",
              "lt": "Šašlykinės, griliai, kepsninės",
              "ru": "Šašlykinės, griliai, kepsninės"
             },
             "parentId": "uAEw7X73oWIIQK9dLek2",
             "rank": 1,
             "subcategories": []
            },
            {
             "icon": "",
             "id": "80OxrwqeLmASWNtwfXLn",
             "name": {
              "de": "Griliaus įrankiai ir indai",
              "en": "Griliaus įrankiai ir indai",
              "lt": "Griliaus įrankiai ir indai",
              "ru": "Griliaus įrankiai ir indai"
             },
             "parentId": "uAEw7X73oWIIQK9dLek2",
             "rank": 2,
             "subcategories": []
            },
            {
             "icon": "",
             "id": "dKeyPnlFUdsLfIFKsgZd",
             "name": {
              "de": "Campingartikel",
              "en": "Camping goods",
              "lt": "Stovyklavimo prekės",
              "ru": "Кемпинговые товары"
             },
             "parentId": "uAEw7X73oWIIQK9dLek2",
             "rank": 3,
             "subcategories": []
            },
            {
             "icon": "",
             "id": "Sf35kRIlUdrYS0yxU5Xb",
             "name": {
              "de": "Kuras ir rūkymas",
              "en": "Kuras ir rūkymas",
              "lt": "Kuras ir rūkymas",
              "ru": "Kuras ir rūkymas"
             },
             "parentId": "uAEw7X73oWIIQK9dLek2",
             "rank": 4,
             "subcategories": []
            },
            {
             "icon": "",
             "id": "WRa5d40C3u4CnXdbbgLZ",
             "name": {
              "de": "Sportartikel",
              "en": "Sports goods",
              "lt": "Sporto prekės",
              "ru": "Спортивные товары"
             },
             "parentId": "uAEw7X73oWIIQK9dLek2",
             "rank": 5,
             "subcategories": []
            },
            {
             "icon": "",
             "id": "Ax7F8cgVMBbJdIhHLqTS",
             "name": {
              "de": "Apsauga nuo kenkėjų",
              "en": "Apsauga nuo kenkėjų",
              "lt": "Apsauga nuo kenkėjų",
              "ru": "Apsauga nuo kenkėjų"
             },
             "parentId": "uAEw7X73oWIIQK9dLek2",
             "rank": 6,
             "subcategories": []
            }
           ]
          },
          {
           "icon": "https://storage.googleapis.com/lastmile-ui/images/icons/NEW%20category%20tree%20icons/Ku%CC%84dikiu%CC%A8%20ir%20vaiku%CC%A8%20preke%CC%87s.svg",
           "id": "UM88UOYjTXTEdcxszKZ3",
           "name": {
            "de": "Baby- und Kinderartikel",
            "en": "Baby and children's goods",
            "lt": "Kūdikių ir vaikų prekės",
            "ru": "Товары для малышей и детей"
           },
           "parentId": "0",
           "rank": 22,
           "subcategories": [
            {
             "icon": "",
             "id": "N397J3Zzgn5pbyGXACzn",
             "name": {
              "de": "Babynahrung, Kindernahrung",
              "en": "Baby food, food for children",
              "lt": "Kūdikių maistas, maistas vaikams",
              "ru": "Питание для малышей, питание для детей"
             },
             "parentId": "UM88UOYjTXTEdcxszKZ3",
             "rank": 12,
             "subcategories": []
            },
            {
             "icon": "",
             "id": "JG42bpoM8IycY4DszAbQ",
             "name": {
              "de": "Windeln",
              "en": "Diapers",
              "lt": "Sauskelnės",
              "ru": "Подгузники"
             },
             "parentId": "UM88UOYjTXTEdcxszKZ3",
             "rank": 13,
             "subcategories": []
            },
            {
             "icon": "",
             "id": "igYG43WGu2TxcrqXhzOh",
             "name": {
              "de": "Kinderservietten",
              "en": "Napkins for children",
              "lt": "Servetėlės vaikams",
              "ru": "Салфетки детские"
             },
             "parentId": "UM88UOYjTXTEdcxszKZ3",
             "rank": 14,
             "subcategories": []
            },
            {
             "icon": "",
             "id": "9QoRHGMpObE9r9YHWWgJ",
             "name": {
              "de": "Decken",
              "en": "Underpads",
              "lt": "Paklotai",
              "ru": "Настилы"
             },
             "parentId": "UM88UOYjTXTEdcxszKZ3",
             "rank": 15,
             "subcategories": []
            },
            {
             "icon": "",
             "id": "LnjL1p1Nml6HZuvmAKtu",
             "name": {
              "de": "Artikel für die Kinderbetreuung",
              "en": "Baby care products",
              "lt": "Vaikų priežiūros prekės",
              "ru": "Товары для ухода за детьми"
             },
             "parentId": "UM88UOYjTXTEdcxszKZ3",
             "rank": 16,
             "subcategories": []
            },
            {
             "icon": "",
             "id": "t06PvS8VAsuvA0NfirNo",
             "name": {
              "de": "Socken für Kinder",
              "en": "Socks for children",
              "lt": "Kojinės vaikams",
              "ru": "Носки детские"
             },
             "parentId": "UM88UOYjTXTEdcxszKZ3",
             "rank": 17,
             "subcategories": []
            },
            {
             "icon": "",
             "id": "zFsKWghpIiM9hlyVjDNy",
             "name": {
              "de": "Spielzeuge",
              "en": "Toys",
              "lt": "Žaislai",
              "ru": "Игрушки"
             },
             "parentId": "UM88UOYjTXTEdcxszKZ3",
             "rank": 18,
             "subcategories": []
            }
           ]
          },
          {
           "icon": "https://storage.googleapis.com/lastmile-ui/images/category_icons/new2/knygos.svg",
           "id": "Vi4viZ26iEei8kgKhKYu",
           "name": {
            "de": "Bücher ",
            "en": "Books",
            "lt": "Knygos",
            "ru": "Книги"
           },
           "parentId": "0",
           "rank": 23,
           "subcategories": [
            {
             "icon": "",
             "id": "GoQe3gWonMzZaI3XDcdd",
             "name": {
              "de": "Grožinė literatūra",
              "en": "Grožinė literatūra",
              "lt": "Grožinė literatūra",
              "ru": "Grožinė literatūra"
             },
             "parentId": "Vi4viZ26iEei8kgKhKYu",
             "rank": 1,
             "subcategories": []
            },
            {
             "icon": "",
             "id": "Z9F8pTvaVkACXHz7TyNb",
             "name": {
              "de": "Negrožinė literatūra",
              "en": "Negrožinė literatūra",
              "lt": "Negrožinė literatūra",
              "ru": "Negrožinė literatūra"
             },
             "parentId": "Vi4viZ26iEei8kgKhKYu",
             "rank": 2,
             "subcategories": []
            },
            {
             "icon": "",
             "id": "bq5TeOoqmvfCWVQiG6oK",
             "name": {
              "de": "Laisvalaikio knygos",
              "en": "Laisvalaikio knygos",
              "lt": "Laisvalaikio knygos",
              "ru": "Laisvalaikio knygos"
             },
             "parentId": "Vi4viZ26iEei8kgKhKYu",
             "rank": 3,
             "subcategories": []
            },
            {
             "icon": "",
             "id": "WRQDAv6Wq0NOFwiWLdKY",
             "name": {
              "de": "Zeitschriften",
              "en": "Magazines",
              "lt": "Žurnalai ir Laikraščiai",
              "ru": "Журналы"
             },
             "parentId": "Vi4viZ26iEei8kgKhKYu",
             "rank": 6,
             "subcategories": []
            }
           ]
          },
          {
           "icon": "https://storage.googleapis.com/lastmile-ui/images/icons/NEW%20category%20tree%20icons/Buitine%CC%87%20chemija%2C%20valymo%20preke%CC%87s2.svg",
           "id": "NyY46ZkM0VBgsJOESJ0p",
           "name": {
            "de": "Haushaltschemikalien, Reinigungsprodukte",
            "en": "Household chemicals, cleaning products",
            "lt": "Buitinė chemija, valymo prekės ",
            "ru": "Бытовая химия, чистящие средства"
           },
           "parentId": "0",
           "rank": 23,
           "subcategories": [
            {
             "icon": "",
             "id": "P2r0jlRak7v3suONvfJE",
             "name": {
              "de": "Produkte für Tiere",
              "en": "Animal products",
              "lt": "Gyvūnų prekės I",
              "ru": "Товары для животных"
             },
             "parentId": "NyY46ZkM0VBgsJOESJ0p",
             "rank": 12,
             "subcategories": []
            },
            {
             "icon": "",
             "id": "RQQKEr9M3ZqMlHoK9bIS",
             "name": {
              "de": "Papierprodukte",
              "en": "Paper products",
              "lt": "Popieriniai gaminiai",
              "ru": "Бумажная продукция"
             },
             "parentId": "NyY46ZkM0VBgsJOESJ0p",
             "rank": 13,
             "subcategories": []
            },
            {
             "icon": "",
             "id": "qgn2cxKCNh0MFXgnoq3f",
             "name": {
              "de": "Geschirrspülmittel",
              "en": "For washing dishes",
              "lt": "Indų plovimui",
              "ru": "Для мытья посуды"
             },
             "parentId": "NyY46ZkM0VBgsJOESJ0p",
             "rank": 14,
             "subcategories": []
            },
            {
             "icon": "",
             "id": "ufaohbxH1UJKfkekgbmm",
             "name": {
              "de": "Waschmittel",
              "en": "Washing tools",
              "lt": "Skalbimo priemonės",
              "ru": "Средства для стирки"
             },
             "parentId": "NyY46ZkM0VBgsJOESJ0p",
             "rank": 15,
             "subcategories": []
            },
            {
             "icon": "",
             "id": "DLd1d8PbOIF8UFS4c48J",
             "name": {
              "de": "Haushaltschemikalien",
              "en": "Household chemicals",
              "lt": "Buitinė chemija",
              "ru": "Бытовая химия"
             },
             "parentId": "NyY46ZkM0VBgsJOESJ0p",
             "rank": 16,
             "subcategories": []
            },
            {
             "icon": "",
             "id": "sAFA2bsv0BRZj8SE3Ivb",
             "name": {
              "de": "Reinigungsmittel",
              "en": "Cleaning tools",
              "lt": "Valymo priemonės",
              "ru": "Чистящие средства"
             },
             "parentId": "NyY46ZkM0VBgsJOESJ0p",
             "rank": 17,
             "subcategories": []
            }
           ]
          },
          {
           "icon": "https://storage.googleapis.com/lastmile-ui/images/category_icons/new2/namu%2C%20buities.svg",
           "id": "eLxayejtjn3K8bzAZCwH",
           "name": {
            "de": "Haus - und Haushaltswaren",
            "en": "Home and household goods",
            "lt": "Namų ir buities prekės",
            "ru": "Товары для дома и хозяйственные товары"
           },
           "parentId": "0",
           "rank": 24,
           "subcategories": [
            {
             "icon": "",
             "id": "2rRx7YMK9FgSrHVNJXyt",
             "name": {
              "de": "Haushaltsgeräte und Elektronik",
              "en": "Household appliances and electronics",
              "lt": "Buitinė technika ir elektronika",
              "ru": "Бытовая техника и электроника"
             },
             "parentId": "eLxayejtjn3K8bzAZCwH",
             "rank": 12,
             "subcategories": []
            },
            {
             "icon": "",
             "id": "gTxEr95g87a4zG4TPELs",
             "name": {
              "de": "Servierzubehör für Küche und Tisch",
              "en": "Kitchen and tableware",
              "lt": "Virtuvės ir stalo serviravimo reikmenys",
              "ru": "Кухонные и столовые принадлежности"
             },
             "parentId": "eLxayejtjn3K8bzAZCwH",
             "rank": 13,
             "subcategories": []
            },
            {
             "icon": "",
             "id": "3GM2jMLOpt6EnQAZ0ZV4",
             "name": {
              "de": "Haushaltsartikel",
              "en": "Household goods",
              "lt": "Namų apyvokos reikmenys",
              "ru": "Принадлежности домашнего обихода"
             },
             "parentId": "eLxayejtjn3K8bzAZCwH",
             "rank": 14,
             "subcategories": []
            },
            {
             "icon": "",
             "id": "9quDpanr4afNHceHh3cm",
             "name": {
              "de": "Lesebrillen",
              "en": "Reading glasses",
              "lt": "Skaitymo akiniai",
              "ru": "Очки для чтения"
             },
             "parentId": "eLxayejtjn3K8bzAZCwH",
             "rank": 15,
             "subcategories": []
            },
            {
             "icon": "",
             "id": "izQtOGPxBn0yuiqXBmt9",
             "name": {
              "de": "Freizeitgüter",
              "en": "Leisure products",
              "lt": "Laisvalaikio prekės",
              "ru": "Товары для отдыха"
             },
             "parentId": "eLxayejtjn3K8bzAZCwH",
             "rank": 16,
             "subcategories": []
            },
            {
             "icon": "",
             "id": "fjQl3HXRlRRLkOfppm9L",
             "name": {
              "de": "Socken und Unterwäsche",
              "en": "Socks and underwear",
              "lt": "Kojinės ir apatinis trikotažas",
              "ru": "Носки и нижнее белье"
             },
             "parentId": "eLxayejtjn3K8bzAZCwH",
             "rank": 17,
             "subcategories": []
            },
            {
             "icon": "",
             "id": "ZFYUMGFf4c5usIHbSS6d",
             "name": {
              "de": "Kfz-Güter",
              "en": "Car goods",
              "lt": "Automobilių prekės",
              "ru": "Автомобильные товары"
             },
             "parentId": "eLxayejtjn3K8bzAZCwH",
             "rank": 18,
             "subcategories": []
            },
            {
             "icon": "",
             "id": "zjGMlTrHpwoCI1khaMYA",
             "name": {
              "de": "Gartenprodukte",
              "en": "Gardening products",
              "lt": "Sodo prekės",
              "ru": "Садовые товары"
             },
             "parentId": "eLxayejtjn3K8bzAZCwH",
             "rank": 18,
             "subcategories": []
            }
           ]
          },
          {
           "icon": "https://storage.googleapis.com/lastmile-ui/images/category_icons/new2/ofisoirmokyklospreke%CC%87s.svg",
           "id": "O8purZjexjA1caZ8WKoL",
           "name": {
            "de": "Büro- und Schulbedarf",
            "en": "Office, school supplies",
            "lt": "Biuro, mokyklinės prekės",
            "ru": "канцелярские и школьные принадлежности"
           },
           "parentId": "0",
           "rank": 25,
           "subcategories": [
            {
             "icon": "",
             "id": "mBi4rKsnkSYFTBXwzFmN",
             "name": {
              "de": "Literatur",
              "en": "Literature",
              "lt": "Literatūra",
              "ru": "Литература"
             },
             "parentId": "O8purZjexjA1caZ8WKoL",
             "rank": 12,
             "subcategories": []
            },
            {
             "icon": "",
             "id": "GTXCbvO9oTMFtR2ntGz6",
             "name": {
              "de": "Büroartikel",
              "en": "Office supplies",
              "lt": "Biuro prekės",
              "ru": "Канцелярские принадлежности"
             },
             "parentId": "O8purZjexjA1caZ8WKoL",
             "rank": 13,
             "subcategories": []
            },
            {
             "icon": "",
             "id": "CDjL1EyRXthOeSGzx5YN",
             "name": {
              "de": "Schulbedarf",
              "en": "School supplies",
              "lt": "Mokyklinės prekės",
              "ru": "Школьные принадлежности"
             },
             "parentId": "O8purZjexjA1caZ8WKoL",
             "rank": 14,
             "subcategories": []
            }
           ]
          },
          {
           "icon": "https://storage.googleapis.com/lastmile-ui/images/icons/NEW%20category%20tree%20icons/Ge%CC%87le%CC%87s%20ir%20dovanos.svg",
           "id": "i5TgtZ6kpC3ouYedgdbd",
           "name": {
            "de": "Blumen und Geschenke",
            "en": "Flowers and gifts",
            "lt": "Gėlės ir dovanos",
            "ru": "Цветы и подарки"
           },
           "parentId": "0",
           "rank": 26,
           "subcategories": [
            {
             "icon": "",
             "id": "fzcaNtlnh5pwSROpbCht",
             "name": {
              "de": "Blumen",
              "en": "Flowers",
              "lt": "Gėlės",
              "ru": "Цветы"
             },
             "parentId": "i5TgtZ6kpC3ouYedgdbd",
             "rank": 12,
             "subcategories": []
            },
            {
             "icon": "",
             "id": "r6mhRf9wQKjV9mA7gxdS",
             "name": {
              "de": "Geschenke",
              "en": "Gifts",
              "lt": "Dovanos",
              "ru": "Подарки"
             },
             "parentId": "i5TgtZ6kpC3ouYedgdbd",
             "rank": 13,
             "subcategories": []
            }
           ]
          },
          {
           "icon": "https://storage.googleapis.com/lastmile-ui/images/icons/NEW%20category%20tree%20icons/Erotine%CC%87s%20preke%CC%87s.svg",
           "id": "lvEehnisp35GH3PKofIW",
           "name": {
            "de": "Erotische Waren",
            "en": "Erotic goods",
            "lt": "Erotinės prekės",
            "ru": "Эротические товары"
           },
           "parentId": "0",
           "rank": 27,
           "subcategories": [
            {
             "icon": "",
             "id": "ILhzp3JoN9xtkWcYExRM",
             "name": {
              "de": "Erotinės dovanos",
              "en": "Erotinės dovanos",
              "lt": "Erotinės dovanos",
              "ru": "Erotinės dovanos"
             },
             "parentId": "lvEehnisp35GH3PKofIW",
             "rank": 7,
             "subcategories": []
            },
            {
             "icon": "",
             "id": "uSKpV4Qzycjf5u2N3afN",
             "name": {
              "de": "Sexspielzeug",
              "en": "Sex toys",
              "lt": "Sekso žaislai",
              "ru": "Секс-игрушки"
             },
             "parentId": "lvEehnisp35GH3PKofIW",
             "rank": 12,
             "subcategories": []
            },
            {
             "icon": "",
             "id": "AsqEgmQJGeajS20Vfw23",
             "name": {
              "de": "Kondome",
              "en": "Condoms",
              "lt": "Prezervatyvai",
              "ru": "Презервативы"
             },
             "parentId": "lvEehnisp35GH3PKofIW",
             "rank": 13,
             "subcategories": []
            },
            {
             "icon": "",
             "id": "PIpbdyITzFoUXpwRfiuO",
             "name": {
              "de": "Gleitmittel",
              "en": "Lubricants",
              "lt": "Lubrikantai",
              "ru": "Лубриканты"
             },
             "parentId": "lvEehnisp35GH3PKofIW",
             "rank": 14,
             "subcategories": []
            },
            {
             "icon": "",
             "id": "wggTCNZnCSzaeiBdrN2V",
             "name": {
              "de": "Sexy Kleidung",
              "en": "Sexy outfit",
              "lt": "Seksuali apranga",
              "ru": "Сексуальная одежда"
             },
             "parentId": "lvEehnisp35GH3PKofIW",
             "rank": 15,
             "subcategories": []
            },
            {
             "icon": "",
             "id": "EBOxhNyPi4x4fdLbDqex",
             "name": {
              "de": "Kosmetik für Erwachsene",
              "en": "Cosmetics for adults",
              "lt": "Kosmetika suaugusiems",
              "ru": "Косметика для взрослых"
             },
             "parentId": "lvEehnisp35GH3PKofIW",
             "rank": 16,
             "subcategories": []
            },
            {
             "icon": "",
             "id": "WjHICy4y3bEMJCxEbns0",
             "name": {
              "de": "BDSM-Produkte",
              "en": "BDSM products",
              "lt": "BDSM prekės",
              "ru": "Товары БДСМ"
             },
             "parentId": "lvEehnisp35GH3PKofIW",
             "rank": 17,
             "subcategories": []
            }
           ]
          },
          {
           "icon": "https://storage.googleapis.com/lastmile-ui/images/category_icons/new2/Kompiuterine%CC%87%20technika%2C%20z%CC%8Caidimai%2C%20priedai.svg",
           "id": "m3y5VPeO0vEg8Rspvejo",
           "name": {
            "de": "Computertechnik, Spiele, Zubehör.",
            "en": "Computer technology, games, accessories",
            "lt": "Kompiuterinė technika,žaidimai, priedai",
            "ru": "Компьютерная техника, игры, аксессуары."
           },
           "parentId": "0",
           "rank": 28,
           "subcategories": [
            {
             "icon": "",
             "id": "zFNG0AaC0WfPsLPGk7jR",
             "name": {
              "de": "Spielerausrüstung",
              "en": "Player gear",
              "lt": "Žaidėjų atributika",
              "ru": "Игровое снаряжение"
             },
             "parentId": "m3y5VPeO0vEg8Rspvejo",
             "rank": 0,
             "subcategories": []
            },
            {
             "icon": "",
             "id": "qztwMHdpvKKcW84GvnJ5",
             "name": {
              "de": "Sony Playstation",
              "en": "Sony Playstation",
              "lt": "Sony Playstation",
              "ru": "Sony Playstation"
             },
             "parentId": "m3y5VPeO0vEg8Rspvejo",
             "rank": 0,
             "subcategories": []
            },
            {
             "icon": "",
             "id": "Sw3Jh4Qe7AaGZJ69zeo0",
             "name": {
              "de": "Spielerzubehör",
              "en": "Player accessories",
              "lt": "Žaidėjo priedai",
              "ru": "Аксессуары игрока"
             },
             "parentId": "m3y5VPeO0vEg8Rspvejo",
             "rank": 0,
             "subcategories": []
            }
           ]
          },
          {
           "icon": "https://storage.googleapis.com/lastmile-ui/images/category_icons/new2/Maisto%20papildai.svg",
           "id": "531o1i5AUWe4X5mZqcb7",
           "name": {
            "de": "FUTTERERGÄNZUNGSMITTEL",
            "en": "FOOD SUPPLEMENTS",
            "lt": "Maisto papildai",
            "ru": "ПИЩЕВЫЕ ДОБАВКИ"
           },
           "parentId": "0",
           "rank": 45,
           "subcategories": [
            {
             "icon": "",
             "id": "BTmfaORV1CCgd7iTalPR",
             "name": {
              "de": "CBD-Produkte",
              "en": "CBD products",
              "lt": "CBD Produktai",
              "ru": "Продукты с CBD"
             },
             "parentId": "531o1i5AUWe4X5mZqcb7",
             "rank": 0,
             "subcategories": []
            },
            {
             "icon": "",
             "id": "AejzgJt4Wa9C5crjDtPA",
             "name": {
              "de": "ANDERE ERGÄNZUNGSMITTEL",
              "en": "Other supplements",
              "lt": "Kiti papildai",
              "ru": "ДРУГИЕ ДОБАВКИ"
             },
             "parentId": "531o1i5AUWe4X5mZqcb7",
             "rank": 0,
             "subcategories": []
            },
            {
             "icon": "",
             "id": "SQUOz20q7yvBd2ulYdZy",
             "name": {
              "de": "Vitamine und mineralien",
              "en": "Vitamins and minerals",
              "lt": "Vitaminai ir mineralai",
              "ru": "ВИТАМИНЫ И МИНЕРАЛЫ"
             },
             "parentId": "531o1i5AUWe4X5mZqcb7",
             "rank": 10,
             "subcategories": []
            }
           ]
          },
          {
           "icon": "https://storage.googleapis.com/lastmile-ui/images/icons/NEW%20category%20tree%20icons/Gyvu%CC%84nu%CC%A8%20preke%CC%87s2.svg",
           "id": "JJTfSWH3okm9sTSeXc8d",
           "name": {
            "de": "Tierwaren",
            "en": "Products for animals",
            "lt": "Gyvūnų prekės",
            "ru": "Товары для животных"
           },
           "parentId": "0",
           "rank": 50,
           "subcategories": [
            {
             "icon": "",
             "id": "L52ZOdWjtP4HImC5t6os",
             "name": {
              "de": "Spielzeug für Tiere",
              "en": "Toys for animals",
              "lt": "Žaislai gyvūnams",
              "ru": "Игрушки для животных"
             },
             "parentId": "JJTfSWH3okm9sTSeXc8d",
             "rank": 0,
             "subcategories": []
            },
            {
             "icon": "",
             "id": "11dTaQRnkqN6dwQWaSrj",
             "name": {
              "de": "Waren für andere Tiere",
              "en": "Other animals' goods",
              "lt": "Kitų gyvūnų prekės",
              "ru": "Товары для других животных"
             },
             "parentId": "JJTfSWH3okm9sTSeXc8d",
             "rank": 0,
             "subcategories": []
            },
            {
             "icon": "",
             "id": "5MNLffg0OwNwd4uks2Uf",
             "name": {
              "de": "Hygiene, Pflege für Tiere",
              "en": "Hygiene, care for animals",
              "lt": "Higiena,priežiūra gyvūnams",
              "ru": "Гигиена и уход за животными"
             },
             "parentId": "JJTfSWH3okm9sTSeXc8d",
             "rank": 0,
             "subcategories": []
            },
            {
             "icon": "",
             "id": "UhVac6BwYPXJHSicFKT8",
             "name": {
              "de": "Heim-, Reiseausrüstung für Tiere",
              "en": "Home, travel gear for animals",
              "lt": "Namų, kelionių įranga gyvūnams",
              "ru": "Оборудование для дома и путешествий для животных"
             },
             "parentId": "JJTfSWH3okm9sTSeXc8d",
             "rank": 0,
             "subcategories": []
            },
            {
             "icon": "",
             "id": "G2vGN0HkYz0EKAnGSACe",
             "name": {
              "de": "Produkte für Vögel",
              "en": "Products for birds",
              "lt": "Prekės paukščiams",
              "ru": "Товары для птиц"
             },
             "parentId": "JJTfSWH3okm9sTSeXc8d",
             "rank": 0,
             "subcategories": []
            },
            {
             "icon": "",
             "id": "yKTh4YdGgj0KGGnlswRi",
             "name": {
              "de": "Hygiene, Pflege für Katzen",
              "en": "Hygiene, grooming products for cats",
              "lt": "Higiena,priežiūra katėms",
              "ru": "Гигиена, уход за кошками"
             },
             "parentId": "JJTfSWH3okm9sTSeXc8d",
             "rank": 0,
             "subcategories": []
            },
            {
             "icon": "",
             "id": "qmPGfYsCYMuh6y2O4lo2",
             "name": {
              "de": "Einstreu und Toiletten",
              "en": "Litter and litter boxes",
              "lt": "Kraikas ir tualetai",
              "ru": "Наполнители и туалеты"
             },
             "parentId": "JJTfSWH3okm9sTSeXc8d",
             "rank": 0,
             "subcategories": []
            },
            {
             "icon": "",
             "id": "XhZd6iJIxMQWL5S488Fe",
             "name": {
              "de": "Leckereien für Tiere",
              "en": "Treats for animals",
              "lt": "Skanėstai gyvūnams",
              "ru": "Лакомства для животных"
             },
             "parentId": "JJTfSWH3okm9sTSeXc8d",
             "rank": 0,
             "subcategories": []
            },
            {
             "icon": "",
             "id": "V8vLubXsNWuIKelWDm3N",
             "name": {
              "de": "Produkte für Nagetiere",
              "en": "Products for rodents",
              "lt": "Prekės graužikams",
              "ru": "Товары для грызунов"
             },
             "parentId": "JJTfSWH3okm9sTSeXc8d",
             "rank": 0,
             "subcategories": []
            },
            {
             "icon": "",
             "id": "q4LnXkWc1zGyMloCrB2A",
             "name": {
              "de": "Schalen für Tiere",
              "en": "Bowls for animals",
              "lt": "Dubenėliai gyvūnams",
              "ru": "Миски для животных"
             },
             "parentId": "JJTfSWH3okm9sTSeXc8d",
             "rank": 0,
             "subcategories": []
            },
            {
             "icon": "",
             "id": "JzFFv15ZZGZ3L0UhDQaD",
             "name": {
              "de": "Halsbänder, Geschirre für Tiere",
              "en": "Collars, harnesses for animals",
              "lt": "Pavadėliai, antkakliai gyvūnams",
              "ru": "Ошейники, поводки для животных"
             },
             "parentId": "JJTfSWH3okm9sTSeXc8d",
             "rank": 0,
             "subcategories": []
            },
            {
             "icon": "",
             "id": "TkYx4sQCCYDr4OuGmxjP",
             "name": {
              "de": "Tierfutter",
              "en": "Animal food",
              "lt": "Gyvūnų maistas",
              "ru": "Корм для животных"
             },
             "parentId": "JJTfSWH3okm9sTSeXc8d",
             "rank": 10,
             "subcategories": []
            }
           ]
          }
         ],
         "category": null,
         "chainsOrChain": [
          {
           "backgroundThumbUrl": "https://storage.googleapis.com/download/storage/v1/b/lastmile-ui/o/import%2Fphotos%2Fconverted%2Fchain%2Fglobal_CvKfTzV4TN5U8BTMF1Hl_tkoQLL8xhuM8bg7QndYinWCDCU73_fDQWvmettNXXNpSvLq5T_big.jpg?generation=1696279395396754&alt=media",
           "hasLoyaltyProgram": true,
           "id": "CvKfTzV4TN5U8BTMF1Hl",
           "isUsingStock": true,
           "loyaltyCardImage": {
            "de": "https://firebasestorage.googleapis.com/v0/b/lastmile-ui/o/images%2Fassets_v2%2Floyalty_CvKfTzV4TN5U8BTMF1Hl_lt.png?alt=media&token=28540a8e-8b56-44b7-9e6a-c894b8349932",
            "en": "https://firebasestorage.googleapis.com/v0/b/lastmile-ui/o/images%2Fassets_v2%2Floyalty_CvKfTzV4TN5U8BTMF1Hl_lt.png?alt=media&token=28540a8e-8b56-44b7-9e6a-c894b8349932",
            "lt": "https://firebasestorage.googleapis.com/v0/b/lastmile-ui/o/images%2Fassets_v2%2Floyalty_CvKfTzV4TN5U8BTMF1Hl_lt.png?alt=media&token=28540a8e-8b56-44b7-9e6a-c894b8349932",
            "ru": "https://firebasestorage.googleapis.com/v0/b/lastmile-ui/o/images%2Fassets_v2%2Floyalty_CvKfTzV4TN5U8BTMF1Hl_lt.png?alt=media&token=28540a8e-8b56-44b7-9e6a-c894b8349932"
           },
           "name": {
            "en": "IKI",
            "lt": "IKI"
           },
           "slugs": [
            "IKI"
           ],
           "tags": [
            "groceries",
            "drinks",
            "pets",
            "alcohol",
            "organic",
            "promotions"
           ],
           "thumbUrl": "https://storage.googleapis.com/download/storage/v1/b/lastmile-ui/o/import%2Fphotos%2Fconverted%2Fchain%2Fglobal_CvKfTzV4TN5U8BTMF1Hl_tkoQLL8xhuM8bg7QndYinWCDCU73_d21X4GYBytMv2Q1sutzT_thumb.webp?generation=1704191895496781&alt=media"
          },
          {
           "backgroundThumbUrl": "https://storage.googleapis.com/download/storage/v1/b/lastmile-ui/o/import%2Fphotos%2Fconverted%2Fchain%2Fglobal_OiGzdqIuls86njWsPYmw_tkoQLL8xhuM8bg7QndYinWCDCU73_pjzFeAl2Qgg5O6SjFgKg_big.jpg?generation=1696279404267016&alt=media",
           "hasLoyaltyProgram": false,
           "id": "OiGzdqIuls86njWsPYmw",
           "isUsingStock": true,
           "loyaltyCardImage": null,
           "name": {
            "en": "PROMO Cash&Carry",
            "lt": "PROMO Cash&Carry"
           },
           "slugs": [
            "LastMile-MARKET",
            "PROMO-CashandCarry"
           ],
           "tags": [
            "groceries",
            "alcohol"
           ],
           "thumbUrl": "https://storage.googleapis.com/download/storage/v1/b/lastmile-ui/o/import%2Fphotos%2Fconverted%2Fchain%2Fglobal_OiGzdqIuls86njWsPYmw_tkoQLL8xhuM8bg7QndYinWCDCU73_dT1muhNXcd76338R0ymt_thumb.webp?generation=1698216054875329&alt=media"
          },
          {
           "backgroundThumbUrl": "https://firebasestorage.googleapis.com/v0/b/lastmile-ui/o/import%2Fphotos%2Fconverted%2Fchain%2FbackgroundThumbUrl%2Fglobal_V0H88rGsB6VLgF78J9od_tkoQLL8xhuM8bg7QndYinWCDCU73_GnMUmkVt2AZv2GfOooHX.webp?alt=media&token=4fe89beb-4e2e-486e-8153-9a30d7afb39a",
           "hasLoyaltyProgram": false,
           "id": "V0H88rGsB6VLgF78J9od",
           "isUsingStock": false,
           "loyaltyCardImage": null,
           "name": {
            "en": "OSSU",
            "lt": "OSSU"
           },
           "slugs": [
            "OSSU"
           ],
           "tags": [
            "newShop",
            "organic"
           ],
           "thumbUrl": "https://firebasestorage.googleapis.com/v0/b/lastmile-ui/o/import%2Fphotos%2Fconverted%2Fchain%2FthumbUrl%2FV0H88rGsB6VLgF78J9od_V0H88rGsB6VLgF78J9od_O5C3irHVPCa8xS5DeZgApO5UvCC2_lZjfwaaCdMn8o0M0nCgc.webp?alt=media&token=ddd4c094-b24e-4e55-8764-4ea9aedab816"
          },
          {
           "backgroundThumbUrl": "https://firebasestorage.googleapis.com/v0/b/lastmile-ui/o/import%2Fphotos%2Fconverted%2Fchain%2FbackgroundThumbUrl%2Fglobal_f5sdEyrvfddGmcFKT01v_tkoQLL8xhuM8bg7QndYinWCDCU73_bNBJxZuOMj66ia22ep6O.webp?alt=media&token=f7ba79eb-97a8-4058-b5f9-564bf46daa42",
           "hasLoyaltyProgram": false,
           "id": "f5sdEyrvfddGmcFKT01v",
           "isUsingStock": false,
           "loyaltyCardImage": null,
           "name": {
            "de": "EP Bar",
            "en": "EP Bar",
            "lt": "EP Bar",
            "ru": "EP Bar"
           },
           "slugs": [
            "EP-Bar"
           ],
           "tags": [
            "newShop",
            "organic",
            "groceries"
           ],
           "thumbUrl": "https://storage.googleapis.com/download/storage/v1/b/lastmile-ui/o/images%2Fchains%2Fconverted%2Fthumb_f5sdEyrvfddGmcFKT01v.jpg?generation=1623842155943090&alt=media"
          },
          {
           "backgroundThumbUrl": "https://firebasestorage.googleapis.com/v0/b/lastmile-ui/o/import%2Fphotos%2Fconverted%2Fchain%2FbackgroundThumbUrl%2Fglobal_DgEa3bu5Yyk6NVj5XLAW_tkoQLL8xhuM8bg7QndYinWCDCU73_iedeZEfAog29fmsLPKaR.webp?alt=media&token=8ddd4e26-7f1c-4dab-801e-c7fd4c6358ff",
           "hasLoyaltyProgram": false,
           "id": "DgEa3bu5Yyk6NVj5XLAW",
           "isUsingStock": false,
           "loyaltyCardImage": null,
           "name": {
            "en": "Happy Nuts",
            "lt": "Happy Nuts"
           },
           "slugs": [
            "Happy-nuts",
            "Happy-Nuts"
           ],
           "tags": [
            "newShop",
            "gifts",
            "organic"
           ],
           "thumbUrl": "https://firebasestorage.googleapis.com/v0/b/lastmile-ui/o/import%2Fphotos%2Fconverted%2Fchain%2FthumbUrl%2FDgEa3bu5Yyk6NVj5XLAW_DgEa3bu5Yyk6NVj5XLAW_O5C3irHVPCa8xS5DeZgApO5UvCC2_eWy3dI90mRQ12HS0LJiD.webp?alt=media&token=2f974edd-1fe9-4fef-8eb0-7f7e38b17ccb"
          },
          {
           "backgroundThumbUrl": "https://firebasestorage.googleapis.com/v0/b/lastmile-ui/o/import%2Fphotos%2Fconverted%2Fchain%2FbackgroundThumbUrl%2Fglobal_EGhL2pJWdSnGxfZWx3NO_tkoQLL8xhuM8bg7QndYinWCDCU73_aeuotO1KucoHvsmTB245.webp?alt=media&token=f7e61656-8ea7-4e8e-bc3e-dab363d8014c",
           "hasLoyaltyProgram": false,
           "id": "EGhL2pJWdSnGxfZWx3NO",
           "isUsingStock": false,
           "loyaltyCardImage": null,
           "name": {
            "de": "CHAZZ CHIPS",
            "en": "CHAZZ CHIPS",
            "lt": "CHAZZ CHIPS",
            "ru": "CHAZZ CHIPS"
           },
           "slugs": [
            "CHAZZ-CHIPS"
           ],
           "tags": [
            "newShop",
            "gourmet",
            "groceries",
            "gifts"
           ],
           "thumbUrl": "https://firebasestorage.googleapis.com/v0/b/lastmile-ui/o/import%2Fphotos%2Fconverted%2Fchain%2FthumbUrl%2FEGhL2pJWdSnGxfZWx3NO_EGhL2pJWdSnGxfZWx3NO_O5C3irHVPCa8xS5DeZgApO5UvCC2_IrI6Fflg6ViOijDqg7L5.webp?alt=media&token=7e17efe8-c665-4ceb-ae6a-8b32e1a76133"
          },
          {
           "backgroundThumbUrl": "https://firebasestorage.googleapis.com/v0/b/lastmile-ui/o/import%2Fphotos%2Fconverted%2Fchain%2FbackgroundThumbUrl%2Fglobal_ME8nJYnuUfBKGfSLAaG5_tkoQLL8xhuM8bg7QndYinWCDCU73_NGrEeigtolaQMuq7jIbu.webp?alt=media&token=6bfc5ea3-0c03-49d2-ad82-a1313df1dbd9",
           "hasLoyaltyProgram": false,
           "id": "ME8nJYnuUfBKGfSLAaG5",
           "isUsingStock": false,
           "loyaltyCardImage": null,
           "name": {
            "en": "Mėsos broliai",
            "lt": "Mėsos broliai"
           },
           "slugs": [
            "Mesos-broliai-MB",
            "Mesos-broliai"
           ],
           "tags": [
            "newShop",
            "organic",
            "gourmet"
           ],
           "thumbUrl": "https://storage.googleapis.com/download/storage/v1/b/lastmile-ui/o/import%2Fphotos%2Fconverted%2Fchain%2Fglobal_ME8nJYnuUfBKGfSLAaG5_O5C3irHVPCa8xS5DeZgApO5UvCC2_Sj2VckWp56lr8QxJZbBN_thumb.webp?generation=1707313939366827&alt=media"
          },
          {
           "backgroundThumbUrl": "https://firebasestorage.googleapis.com/v0/b/lastmile-ui/o/import%2Fphotos%2Fconverted%2Fchain%2FbackgroundThumbUrl%2Fglobal_CHkeQjQ8UKmO9MeORPe4_tkoQLL8xhuM8bg7QndYinWCDCU73_WEQHRgS5Mc0mt2MvkwZv.webp?alt=media&token=c2906dd8-7094-44e4-91ac-9ff9314ea7c7",
           "hasLoyaltyProgram": false,
           "id": "CHkeQjQ8UKmO9MeORPe4",
           "isUsingStock": false,
           "loyaltyCardImage": null,
           "name": {
            "en": "Deistra",
            "lt": "Deistra"
           },
           "slugs": [
            "Deistra"
           ],
           "tags": [
            "newShop",
            "gifts"
           ],
           "thumbUrl": "https://firebasestorage.googleapis.com/v0/b/lastmile-ui/o/import%2Fphotos%2Fconverted%2Fchain%2FthumbUrl%2FCHkeQjQ8UKmO9MeORPe4_CHkeQjQ8UKmO9MeORPe4_O5C3irHVPCa8xS5DeZgApO5UvCC2_SWtVLT2YYE0Tv3w2jP6A.webp?alt=media&token=97dc1745-0eac-48ca-8b6f-74cdfb97a652"
          },
          {
           "backgroundThumbUrl": "https://storage.googleapis.com/download/storage/v1/b/lastmile-ui/o/import%2Fphotos%2Fconverted%2Fchain%2Fglobal_YBTctNWk7hQsbYf2njlj_tkoQLL8xhuM8bg7QndYinWCDCU73_tV4spWUWmbpQSz6eAryL_big.jpg?generation=1696279406977682&alt=media",
           "hasLoyaltyProgram": false,
           "id": "YBTctNWk7hQsbYf2njlj",
           "isUsingStock": false,
           "loyaltyCardImage": null,
           "name": {
            "de": "Naturalia Ūkis",
            "en": "Naturalia Ūkis",
            "lt": "Naturalia Ūkis",
            "ru": "Naturalia Ūkis"
           },
           "slugs": [
            "Naturalia-ukis"
           ],
           "tags": [
            "organic",
            "groceries",
            "gourmet"
           ],
           "thumbUrl": "https://storage.googleapis.com/download/storage/v1/b/lastmile-ui/o/import%2Fphotos%2Fconverted%2Fchain%2Fglobal_YBTctNWk7hQsbYf2njlj_tkoQLL8xhuM8bg7QndYinWCDCU73_gUKmmUR0GffwbQ7Yjdsf_thumb.webp?generation=1698216054403351&alt=media"
          },
          {
           "backgroundThumbUrl": "https://firebasestorage.googleapis.com/v0/b/lastmile-ui/o/import%2Fphotos%2Fconverted%2Fchain%2FbackgroundThumbUrl%2Fglobal_O2LBdkXTNAE3v3Mkrkc6_tkoQLL8xhuM8bg7QndYinWCDCU73_h103ZrMHtwslDG2cwMcR.webp?alt=media&token=dc8b9509-33e7-4934-8a9e-9ec8c364c2ae",
           "hasLoyaltyProgram": false,
           "id": "O2LBdkXTNAE3v3Mkrkc6",
           "isUsingStock": false,
           "loyaltyCardImage": null,
           "name": {
            "en": "ALUS GYVAS  Cin Cin ",
            "lt": "ALUS GYVAS Cin Cin "
           },
           "slugs": [
            "ALUS-GYVAS-Cin-Cin"
           ],
           "tags": [
            "newShop",
            "alcohol"
           ],
           "thumbUrl": "https://firebasestorage.googleapis.com/v0/b/lastmile-ui/o/import%2Fphotos%2Fconverted%2Fchain%2FthumbUrl%2FO2LBdkXTNAE3v3Mkrkc6_O2LBdkXTNAE3v3Mkrkc6_O5C3irHVPCa8xS5DeZgApO5UvCC2_WBvTWTc9HjHHMqMbCGpM.webp?alt=media&token=e83966fa-9184-4cca-856c-9323f7e9d695"
          },
          {
           "backgroundThumbUrl": "https://firebasestorage.googleapis.com/v0/b/lastmile-ui/o/import%2Fphotos%2Fconverted%2Fchain%2FbackgroundThumbUrl%2Fglobal_5JeoycvZoB0oU9Rx1CqS_tkoQLL8xhuM8bg7QndYinWCDCU73_G432nD3Mw7Zl0XY8a9BT.webp?alt=media&token=8f1c04f0-0b80-49db-b733-9258e7ca722b",
           "hasLoyaltyProgram": false,
           "id": "5JeoycvZoB0oU9Rx1CqS",
           "isUsingStock": false,
           "loyaltyCardImage": null,
           "name": {
            "en": "Rolando daržovės",
            "lt": "Rolando daržovės"
           },
           "slugs": [
            "Rolando-darzoves-UAB",
            "Rolando-darzoves"
           ],
           "tags": [
            "newShop",
            "groceries"
           ],
           "thumbUrl": "https://firebasestorage.googleapis.com/v0/b/lastmile-ui/o/import%2Fphotos%2Fconverted%2Fchain%2FthumbUrl%2F5JeoycvZoB0oU9Rx1CqS_5JeoycvZoB0oU9Rx1CqS_O5C3irHVPCa8xS5DeZgApO5UvCC2_N7Way6GW4uGqOO1AswQY.webp?alt=media&token=720f716c-f613-4699-ab04-9cc108ddfc6c"
          },
          {
           "backgroundThumbUrl": "https://storage.googleapis.com/download/storage/v1/b/lastmile-ui/o/import%2Fphotos%2Fconverted%2Fchain%2Fglobal_3cixqMb5xhJhYjIFED6x_tkoQLL8xhuM8bg7QndYinWCDCU73_TgYXeJMi8NRnqUGd1hFa_big.jpg?generation=1696279399925348&alt=media",
           "hasLoyaltyProgram": false,
           "id": "3cixqMb5xhJhYjIFED6x",
           "isUsingStock": false,
           "loyaltyCardImage": null,
           "name": {
            "de": "The Farm",
            "en": "The Farm",
            "lt": "The Farm",
            "ru": "The Farm"
           },
           "slugs": [
            "The-Farm"
           ],
           "tags": [
            "gourmet",
            "groceries"
           ],
           "thumbUrl": "https://storage.googleapis.com/download/storage/v1/b/lastmile-ui/o/import%2Fphotos%2Fconverted%2Fchain%2Fglobal_3cixqMb5xhJhYjIFED6x_tkoQLL8xhuM8bg7QndYinWCDCU73_HchtzzYTHdTVC8raqnLS_thumb.webp?generation=1698216049297531&alt=media"
          },
          {
           "backgroundThumbUrl": "https://firebasestorage.googleapis.com/v0/b/lastmile-ui/o/import%2Fphotos%2Fconverted%2Fchain%2FbackgroundThumbUrl%2Fglobal_gMVefiUhDs7QIomr2xdT_tkoQLL8xhuM8bg7QndYinWCDCU73_Wn5MgVF0y89xDFR8wKJe.webp?alt=media&token=3f087f48-eab0-4b01-a39d-cbe8b0ed4b6b",
           "hasLoyaltyProgram": false,
           "id": "gMVefiUhDs7QIomr2xdT",
           "isUsingStock": false,
           "loyaltyCardImage": null,
           "name": {
            "en": "Hdrop",
            "lt": "Hdrop"
           },
           "slugs": [
            "Hdrop"
           ],
           "tags": [
            "newShop",
            "organic"
           ],
           "thumbUrl": "https://firebasestorage.googleapis.com/v0/b/lastmile-ui/o/import%2Fphotos%2Fconverted%2Fchain%2FthumbUrl%2FgMVefiUhDs7QIomr2xdT_gMVefiUhDs7QIomr2xdT_O5C3irHVPCa8xS5DeZgApO5UvCC2_4FNoaDa8XqTpJWQoKRda.webp?alt=media&token=5287954c-3f9f-4739-84f9-d1c9b194457a"
          },
          {
           "backgroundThumbUrl": "https://storage.googleapis.com/download/storage/v1/b/lastmile-ui/o/import%2Fphotos%2Fconverted%2Fchain%2Fglobal_0vVwsUUqORLDU0PrZXRD_tkoQLL8xhuM8bg7QndYinWCDCU73_DDV7x5uoIMhwUfnodixi_big.jpg?generation=1696279408233637&alt=media",
           "hasLoyaltyProgram": false,
           "id": "0vVwsUUqORLDU0PrZXRD",
           "isUsingStock": true,
           "loyaltyCardImage": null,
           "name": {
            "de": "Livin",
            "en": "Livin",
            "lt": "Livin",
            "ru": "Livin"
           },
           "slugs": [
            "Livin"
           ],
           "tags": [
            "groceries",
            "organic",
            "gourmet"
           ],
           "thumbUrl": "https://storage.googleapis.com/download/storage/v1/b/lastmile-ui/o/import%2Fphotos%2Fconverted%2Fchain%2Fglobal_0vVwsUUqORLDU0PrZXRD_tkoQLL8xhuM8bg7QndYinWCDCU73_r642wXN88oYeyOmTYKc3_thumb.webp?generation=1698216048621240&alt=media"
          },
          {
           "backgroundThumbUrl": "https://storage.googleapis.com/download/storage/v1/b/lastmile-ui/o/import%2Fphotos%2Fconverted%2Fchain%2Fglobal_PDhUb8kDcuALavgGKXX2_tkoQLL8xhuM8bg7QndYinWCDCU73_Zrt6r0dFo3GoorZhWesE_big.jpg?generation=1696280908002214&alt=media",
           "hasLoyaltyProgram": false,
           "id": "PDhUb8kDcuALavgGKXX2",
           "isUsingStock": false,
           "loyaltyCardImage": null,
           "name": {
            "de": "sargiai.lt",
            "en": "sargiai.lt",
            "lt": "sargiai.lt",
            "ru": "sargiai.lt"
           },
           "slugs": [
            "sargiailt"
           ],
           "tags": [],
           "thumbUrl": "https://storage.googleapis.com/download/storage/v1/b/lastmile-ui/o/import%2Fphotos%2Fconverted%2Fchain%2Fglobal_PDhUb8kDcuALavgGKXX2_tkoQLL8xhuM8bg7QndYinWCDCU73_hV19G6ztUPWfDfWkSg3s_thumb.webp?generation=1698216056462149&alt=media"
          },
          {
           "backgroundThumbUrl": "https://storage.googleapis.com/download/storage/v1/b/lastmile-ui/o/import%2Fphotos%2Fconverted%2Fchain%2Fglobal_bc3S3gEhDfi5Bz0IkC82_tkoQLL8xhuM8bg7QndYinWCDCU73_pgQT2MEtKBWfencNWvUA_big.webp?generation=1704192469435263&alt=media",
           "hasLoyaltyProgram": false,
           "id": "bc3S3gEhDfi5Bz0IkC82",
           "isUsingStock": true,
           "loyaltyCardImage": null,
           "name": {
            "de": "GRILLMAN",
            "en": "GRILLMAN",
            "lt": "GRILLMAN",
            "ru": "GRILLMAN"
           },
           "slugs": [
            "GRILLMAN"
           ],
           "tags": [
            "newShop"
           ],
           "thumbUrl": "https://storage.googleapis.com/download/storage/v1/b/lastmile-ui/o/import%2Fphotos%2Fconverted%2Fchain%2Fglobal_bc3S3gEhDfi5Bz0IkC82_tkoQLL8xhuM8bg7QndYinWCDCU73_Vb5V5ewNglanlWGfil4u_thumb.webp?generation=1698216053738912&alt=media"
          },
          {
           "backgroundThumbUrl": "https://firebasestorage.googleapis.com/v0/b/lastmile-ui/o/import%2Fphotos%2Fconverted%2Fchain%2FbackgroundThumbUrl%2Fglobal_I3aA4Purr0E8vecuPBDA_tkoQLL8xhuM8bg7QndYinWCDCU73_8GlZm7XcZYEjNQ6XeuB8.webp?alt=media&token=1f509580-ce85-4752-b309-83ce9fa0e316",
           "hasLoyaltyProgram": false,
           "id": "I3aA4Purr0E8vecuPBDA",
           "isUsingStock": false,
           "loyaltyCardImage": null,
           "name": {
            "en": "Gummzy",
            "lt": "Gummzy"
           },
           "slugs": [
            "Gummzy"
           ],
           "tags": [
            "newShop"
           ],
           "thumbUrl": "https://firebasestorage.googleapis.com/v0/b/lastmile-ui/o/import%2Fphotos%2Fconverted%2Fchain%2FthumbUrl%2FI3aA4Purr0E8vecuPBDA_I3aA4Purr0E8vecuPBDA_O5C3irHVPCa8xS5DeZgApO5UvCC2_lSaZZCgb3GJd1rUBXmuT.webp?alt=media&token=80649896-fbc9-4d61-af73-ab4e848fcdaf"
          },
          {
           "backgroundThumbUrl": "https://firebasestorage.googleapis.com/v0/b/lastmile-ui/o/import%2Fphotos%2Fconverted%2Fchain%2FbackgroundThumbUrl%2Fglobal_kAokIGbkw2lqK63EJ9oT_tkoQLL8xhuM8bg7QndYinWCDCU73_qiFQjci9AvzvysaIEU6X.webp?alt=media&token=6e7be171-9f14-4ba7-8667-a0f96a73c79d",
           "hasLoyaltyProgram": false,
           "id": "kAokIGbkw2lqK63EJ9oT",
           "isUsingStock": false,
           "loyaltyCardImage": null,
           "name": {
            "en": "HIPSTERS ",
            "lt": "HIPSTERS "
           },
           "slugs": [
            "HIPSTERS-Good-beer-and-more",
            "HIPSTERS"
           ],
           "tags": [
            "alcohol",
            "newShop"
           ],
           "thumbUrl": "https://firebasestorage.googleapis.com/v0/b/lastmile-ui/o/import%2Fphotos%2Fconverted%2Fchain%2FthumbUrl%2FkAokIGbkw2lqK63EJ9oT_kAokIGbkw2lqK63EJ9oT_O5C3irHVPCa8xS5DeZgApO5UvCC2_nMB0smcPNTjajI787map.webp?alt=media&token=7df78543-82c6-495d-8ec3-cf6f6ec82723"
          },
          {
           "backgroundThumbUrl": "https://storage.googleapis.com/download/storage/v1/b/lastmile-ui/o/import%2Fphotos%2Fconverted%2Fchain%2Fglobal_59ks1hjKn7BKohQl6VNa_tkoQLL8xhuM8bg7QndYinWCDCU73_XIWSaZSXDNiKsmTkCu1Z_big.webp?generation=1701071247863322&alt=media",
           "hasLoyaltyProgram": false,
           "id": "59ks1hjKn7BKohQl6VNa",
           "isUsingStock": true,
           "loyaltyCardImage": {
            "de": "-",
            "en": "-",
            "lt": "-",
            "ru": "-"
           },
           "name": {
            "de": "VAGA",
            "en": "VAGA",
            "lt": "VAGA",
            "ru": "VAGA"
           },
           "slugs": [
            "VAGA"
           ],
           "tags": [
            "newShop"
           ],
           "thumbUrl": "https://storage.googleapis.com/download/storage/v1/b/lastmile-ui/o/import%2Fphotos%2Fconverted%2Fchain%2Fglobal_59ks1hjKn7BKohQl6VNa_tkoQLL8xhuM8bg7QndYinWCDCU73_AR9Q1VEJy6qQDg19Z5ab_thumb.webp?generation=1698216049716207&alt=media"
          },
          {
           "backgroundThumbUrl": "https://storage.googleapis.com/download/storage/v1/b/lastmile-ui/o/import%2Fphotos%2Fconverted%2Fchain%2Fglobal_iDW7ky4wlWNFIj1u1csw_tkoQLL8xhuM8bg7QndYinWCDCU73_4nE4GISY5xbIN51nIj6s_big.jpg?generation=1696279397070690&alt=media",
           "hasLoyaltyProgram": false,
           "id": "iDW7ky4wlWNFIj1u1csw",
           "isUsingStock": false,
           "loyaltyCardImage": null,
           "name": {
            "de": "Biocos",
            "en": "Biocos",
            "lt": "Biocos",
            "ru": "Biocos"
           },
           "slugs": [
            "Biocos"
           ],
           "tags": [
            "organic",
            "cosmetics",
            "bodycare"
           ],
           "thumbUrl": "https://storage.googleapis.com/download/storage/v1/b/lastmile-ui/o/import%2Fphotos%2Fconverted%2Fchain%2Fglobal_iDW7ky4wlWNFIj1u1csw_tkoQLL8xhuM8bg7QndYinWCDCU73_rHB8GvNdhE1uwp6xjF7I_thumb.jpg?generation=1696279397710224&alt=media"
          },
          {
           "backgroundThumbUrl": "https://storage.googleapis.com/download/storage/v1/b/lastmile-ui/o/import%2Fphotos%2Fconverted%2Fchain%2Fglobal_GZixRM8cnWeoje1sL1Mx_tkoQLL8xhuM8bg7QndYinWCDCU73_NkNDW8Kj4EcWpgcwuim0_big.webp?generation=1707145495512799&alt=media",
           "hasLoyaltyProgram": false,
           "id": "GZixRM8cnWeoje1sL1Mx",
           "isUsingStock": false,
           "loyaltyCardImage": null,
           "name": {
            "en": "Florisima",
            "lt": "Florisima"
           },
           "slugs": [
            "Florisima"
           ],
           "tags": [
            "newShop",
            "gifts"
           ],
           "thumbUrl": "https://storage.googleapis.com/download/storage/v1/b/lastmile-ui/o/import%2Fphotos%2Fconverted%2Fchain%2Fglobal_GZixRM8cnWeoje1sL1Mx_O5C3irHVPCa8xS5DeZgApO5UvCC2_p8ihbblrkatgnuBBFp8y_thumb.webp?generation=1706685594907585&alt=media"
          },
          {
           "backgroundThumbUrl": "https://storage.googleapis.com/download/storage/v1/b/lastmile-ui/o/import%2Fphotos%2Fconverted%2Fchain%2Fglobal_l5wpue0Ih6LIaG5xtRPR_tkoQLL8xhuM8bg7QndYinWCDCU73_2ggZefiGynzACYBtUp4C_big.jpg?generation=1696279400148447&alt=media",
           "hasLoyaltyProgram": false,
           "id": "l5wpue0Ih6LIaG5xtRPR",
           "isUsingStock": false,
           "loyaltyCardImage": null,
           "name": {
            "de": "Bluefish",
            "en": "Bluefish",
            "lt": "Bluefish",
            "ru": "Bluefish"
           },
           "slugs": [
            "Bluefish"
           ],
           "tags": [
            "newShop"
           ],
           "thumbUrl": "https://storage.googleapis.com/download/storage/v1/b/lastmile-ui/o/import%2Fphotos%2Fconverted%2Fchain%2Fglobal_l5wpue0Ih6LIaG5xtRPR_tkoQLL8xhuM8bg7QndYinWCDCU73_gyHWYH9UqFAbwSR0S4SR_thumb.webp?generation=1698216054698653&alt=media"
          },
          {
           "backgroundThumbUrl": "https://firebasestorage.googleapis.com/v0/b/lastmile-ui/o/import%2Fphotos%2Fconverted%2Fchain%2FbackgroundThumbUrl%2Fglobal_quN3J8pCMyt6s4ZEPRiU_tkoQLL8xhuM8bg7QndYinWCDCU73_qsBVd3FlirjJwrXbreiA.webp?alt=media&token=90dc8fca-d87d-4ca3-865f-3535a8de6d16",
           "hasLoyaltyProgram": false,
           "id": "quN3J8pCMyt6s4ZEPRiU",
           "isUsingStock": true,
           "loyaltyCardImage": null,
           "name": {
            "de": "Fantazijos.lt",
            "en": "Fantazijos.lt",
            "lt": "Fantazijos.lt",
            "ru": "Fantazijos.lt"
           },
           "slugs": [
            "Fantazijoslt"
           ],
           "tags": [
            "newShop",
            "gifts",
            "promotions"
           ],
           "thumbUrl": "https://storage.googleapis.com/download/storage/v1/b/lastmile-ui/o/import%2Fphotos%2Fconverted%2Fchain%2Fglobal_quN3J8pCMyt6s4ZEPRiU_tkoQLL8xhuM8bg7QndYinWCDCU73_S3tDW1aFh8YBmEOiX8lR_thumb.webp?generation=1698216054736949&alt=media"
          },
          {
           "backgroundThumbUrl": "https://storage.googleapis.com/download/storage/v1/b/lastmile-ui/o/import%2Fphotos%2Fconverted%2Fchain%2Fglobal_Ya1Xiu0sboidbfwwHKys_tkoQLL8xhuM8bg7QndYinWCDCU73_x2a6yRAuPJJWt0BckIGy_big.jpg?generation=1696279406228416&alt=media",
           "hasLoyaltyProgram": false,
           "id": "Ya1Xiu0sboidbfwwHKys",
           "isUsingStock": false,
           "loyaltyCardImage": null,
           "name": {
            "de": "Amor de flores",
            "en": "Amor de flores",
            "lt": "Amor de flores",
            "ru": "Amor de flores"
           },
           "slugs": [
            "Amor-de-flores"
           ],
           "tags": [
            "newShop",
            "gifts"
           ],
           "thumbUrl": "https://storage.googleapis.com/download/storage/v1/b/lastmile-ui/o/import%2Fphotos%2Fconverted%2Fchain%2Fglobal_Ya1Xiu0sboidbfwwHKys_tkoQLL8xhuM8bg7QndYinWCDCU73_FxEcFTBiw2Le4RHLWsVd_thumb.webp?generation=1698216055903857&alt=media"
          },
          {
           "backgroundThumbUrl": "https://storage.googleapis.com/download/storage/v1/b/lastmile-ui/o/import%2Fphotos%2Fconverted%2Fchain%2Fglobal_9x5xzlpz6kDDNZ0GhSm1_tkoQLL8xhuM8bg7QndYinWCDCU73_gEjWhryNDVAoJVDD4pqT_big.jpg?generation=1696279393614998&alt=media",
           "hasLoyaltyProgram": false,
           "id": "9x5xzlpz6kDDNZ0GhSm1",
           "isUsingStock": false,
           "loyaltyCardImage": null,
           "name": {
            "de": "KRISPO",
            "en": "KRISPO",
            "lt": "KRISPO",
            "ru": "KRISPO"
           },
           "slugs": [
            "KRISPO"
           ],
           "tags": [
            "newShop"
           ],
           "thumbUrl": "https://storage.googleapis.com/download/storage/v1/b/lastmile-ui/o/import%2Fphotos%2Fconverted%2Fchain%2Fglobal_9x5xzlpz6kDDNZ0GhSm1_tkoQLL8xhuM8bg7QndYinWCDCU73_wPNLQEvDywav4Ws4zlG1_thumb.webp?generation=1706780249475905&alt=media"
          },
          {
           "backgroundThumbUrl": "https://storage.googleapis.com/download/storage/v1/b/lastmile-ui/o/import%2Fphotos%2Fconverted%2Fchain%2Fglobal_Z3kStuxUlOTpNUKRMaIC_tkoQLL8xhuM8bg7QndYinWCDCU73_Ai4cfuogVKYcDrjGY104_big.webp?generation=1707805009811288&alt=media",
           "hasLoyaltyProgram": false,
           "id": "Z3kStuxUlOTpNUKRMaIC",
           "isUsingStock": false,
           "loyaltyCardImage": null,
           "name": {
            "en": "Skanios gėlės",
            "lt": "Skanios gėlės"
           },
           "slugs": [
            "Skanios-geles"
           ],
           "tags": [
            "gifts",
            "newShop"
           ],
           "thumbUrl": "https://storage.googleapis.com/download/storage/v1/b/lastmile-ui/o/import%2Fphotos%2Fconverted%2Fchain%2Fglobal_Z3kStuxUlOTpNUKRMaIC_O5C3irHVPCa8xS5DeZgApO5UvCC2_ZS6fxPI9PMhjSL41MkyV_thumb.webp?generation=1707739808046720&alt=media"
          },
          {
           "backgroundThumbUrl": "https://storage.googleapis.com/download/storage/v1/b/lastmile-ui/o/import%2Fphotos%2Fconverted%2Fchain%2Fglobal_WGELPUQ8jAPdPkwiIpPX_tkoQLL8xhuM8bg7QndYinWCDCU73_4FDCA3fbJ5zjLiN3kioe_big.jpg?generation=1696279405013058&alt=media",
           "hasLoyaltyProgram": false,
           "id": "WGELPUQ8jAPdPkwiIpPX",
           "isUsingStock": false,
           "loyaltyCardImage": null,
           "name": {
            "de": "GOLDEN ROSE",
            "en": "GOLDEN ROSE",
            "lt": "GOLDEN ROSE",
            "ru": "GOLDEN ROSE"
           },
           "slugs": [
            "GOLDEN-ROSE"
           ],
           "tags": [
            "newShop",
            "gifts"
           ],
           "thumbUrl": "https://storage.googleapis.com/download/storage/v1/b/lastmile-ui/o/import%2Fphotos%2Fconverted%2Fchain%2Fglobal_WGELPUQ8jAPdPkwiIpPX_tkoQLL8xhuM8bg7QndYinWCDCU73_LxdUrl3FitsUri4Qe6Za_thumb.webp?generation=1698216051856154&alt=media"
          },
          {
           "backgroundThumbUrl": "https://storage.googleapis.com/download/storage/v1/b/lastmile-ui/o/import%2Fphotos%2Fconverted%2Fchain%2Fglobal_ZBaoNoHryuExUWExtCa8_tkoQLL8xhuM8bg7QndYinWCDCU73_R5MpaSZOen0YPeKARxcz_big.jpg?generation=1696279406618372&alt=media",
           "hasLoyaltyProgram": false,
           "id": "ZBaoNoHryuExUWExtCa8",
           "isUsingStock": false,
           "loyaltyCardImage": null,
           "name": {
            "de": "AUKSO PIEVA",
            "en": "AUKSO PIEVA",
            "lt": "AUKSO PIEVA",
            "ru": "AUKSO PIEVA"
           },
           "slugs": [
            "AUKSO-PIEVA"
           ],
           "tags": [
            "newShop"
           ],
           "thumbUrl": "https://storage.googleapis.com/download/storage/v1/b/lastmile-ui/o/import%2Fphotos%2Fconverted%2Fchain%2Fglobal_ZBaoNoHryuExUWExtCa8_tkoQLL8xhuM8bg7QndYinWCDCU73_x41F1WLObXZdKyrhIZ0D_thumb.webp?generation=1698216055469221&alt=media"
          },
          {
           "backgroundThumbUrl": "https://storage.googleapis.com/download/storage/v1/b/lastmile-ui/o/import%2Fphotos%2Fconverted%2Fchain%2Fglobal_qBH49gh6GlaUM4SJJhgS_cTAkEjfDTeMFXf0e6W4JKKhwXXA3_8U7KTapFArOlxZEAQd4v_big.webp?generation=1701427134998279&alt=media",
           "hasLoyaltyProgram": false,
           "id": "qBH49gh6GlaUM4SJJhgS",
           "isUsingStock": true,
           "loyaltyCardImage": null,
           "name": {
            "de": "Cascada",
            "en": "Cascada",
            "lt": "Cascada",
            "ru": "Cascada"
           },
           "slugs": [
            "Cascada"
           ],
           "tags": [
            "newShop",
            "gifts"
           ],
           "thumbUrl": "https://storage.googleapis.com/download/storage/v1/b/lastmile-ui/o/images%2Fchains%2Fconverted%2Fthumb_qBH49gh6GlaUM4SJJhgS.jpg?generation=1675689838931046&alt=media"
          },
          {
           "backgroundThumbUrl": "https://storage.googleapis.com/download/storage/v1/b/lastmile-ui/o/import%2Fphotos%2Fconverted%2Fchain%2Fglobal_XpGeUOcj2j7u3CmnGgn1_tkoQLL8xhuM8bg7QndYinWCDCU73_om2krPaTyELomRdVQ7Gh_big.jpg?generation=1696279405689781&alt=media",
           "hasLoyaltyProgram": false,
           "id": "XpGeUOcj2j7u3CmnGgn1",
           "isUsingStock": true,
           "loyaltyCardImage": null,
           "name": {
            "de": "OfficeDay",
            "en": "Officeday",
            "lt": "Officeday",
            "ru": "OfficeDay"
           },
           "slugs": [
            "OfficeDay",
            "Officeday"
           ],
           "tags": [
            "office"
           ],
           "thumbUrl": "https://storage.googleapis.com/download/storage/v1/b/lastmile-ui/o/import%2Fphotos%2Fconverted%2Fchain%2Fglobal_XpGeUOcj2j7u3CmnGgn1_tkoQLL8xhuM8bg7QndYinWCDCU73_FZ88x30h5LXZX0bM1Nf1_thumb.webp?generation=1698216051811417&alt=media"
          },
          {
           "backgroundThumbUrl": "https://storage.googleapis.com/download/storage/v1/b/lastmile-ui/o/import%2Fphotos%2Fconverted%2Fchain%2Fglobal_jtIUvuN1yUM4QEiYnY5P_tkoQLL8xhuM8bg7QndYinWCDCU73_jWFlez0tGq0F2gF8vGLy_big.jpg?generation=1696279399740400&alt=media",
           "hasLoyaltyProgram": false,
           "id": "jtIUvuN1yUM4QEiYnY5P",
           "isUsingStock": false,
           "loyaltyCardImage": null,
           "name": {
            "de": "Mon Ami",
            "en": "Mon Ami",
            "lt": "Mon Ami",
            "ru": "Mon Ami"
           },
           "slugs": [
            "Mon-Ami"
           ],
           "tags": [
            "bakery",
            "confectionery",
            "groceries",
            "gourmet",
            "gifts"
           ],
           "thumbUrl": "https://storage.googleapis.com/download/storage/v1/b/lastmile-ui/o/import%2Fphotos%2Fconverted%2Fchain%2Fglobal_jtIUvuN1yUM4QEiYnY5P_tkoQLL8xhuM8bg7QndYinWCDCU73_jJ8VPuN2YNSTEW6OXhyD_thumb.webp?generation=1698216053696567&alt=media"
          },
          {
           "backgroundThumbUrl": "https://storage.googleapis.com/download/storage/v1/b/lastmile-ui/o/import%2Fphotos%2Fconverted%2Fchain%2Fglobal_1Peqibnoe45eoaeIqhWY_tkoQLL8xhuM8bg7QndYinWCDCU73_swZUCIK2MTfYA3JWEsZN_big.webp?generation=1701071176642331&alt=media",
           "hasLoyaltyProgram": false,
           "id": "1Peqibnoe45eoaeIqhWY",
           "isUsingStock": false,
           "loyaltyCardImage": null,
           "name": {
            "de": "ARVI Kalakutai",
            "en": "ARVI Kalakutai",
            "lt": "ARVI Kalakutai",
            "ru": "ARVI Kalakutai"
           },
           "slugs": [
            "ARVI-Kalakutai"
           ],
           "tags": [
            "newShop",
            "groceries",
            "office"
           ],
           "thumbUrl": "https://storage.googleapis.com/download/storage/v1/b/lastmile-ui/o/import%2Fphotos%2Fconverted%2Fchain%2Fglobal_1Peqibnoe45eoaeIqhWY_tkoQLL8xhuM8bg7QndYinWCDCU73_xP1r72EXSMItuLH9xGV3_thumb.webp?generation=1698216053665904&alt=media"
          },
          {
           "backgroundThumbUrl": "https://storage.googleapis.com/download/storage/v1/b/lastmile-ui/o/import%2Fphotos%2Fconverted%2Fchain%2Fglobal_YyDBoq38GJ2OvzJabBKX_tkoQLL8xhuM8bg7QndYinWCDCU73_qxFtm1Hg0So9T2IP5aN1_big.jpg?generation=1696279406504228&alt=media",
           "hasLoyaltyProgram": false,
           "id": "YyDBoq38GJ2OvzJabBKX",
           "isUsingStock": false,
           "loyaltyCardImage": null,
           "name": {
            "de": "EkoMarket",
            "en": "EkoMarket",
            "lt": "EkoMarket",
            "ru": "EkoMarket"
           },
           "slugs": [
            "EkoMarket"
           ],
           "tags": [
            "organic",
            "groceries",
            "confectionery"
           ],
           "thumbUrl": "https://storage.googleapis.com/download/storage/v1/b/lastmile-ui/o/import%2Fphotos%2Fconverted%2Fchain%2Fglobal_YyDBoq38GJ2OvzJabBKX_tkoQLL8xhuM8bg7QndYinWCDCU73_cmgb4ONh32X1knYGAHdD_thumb.webp?generation=1698216055412953&alt=media"
          },
          {
           "backgroundThumbUrl": "https://storage.googleapis.com/download/storage/v1/b/lastmile-ui/o/import%2Fphotos%2Fconverted%2Fchain%2Fglobal_nKPj2l5y1zFwKigc7Ajh_5bf2JWMXo7aWQ7PzGf9afgfhEpG2_NM2updS1qJLINzP5t7Es_big.webp?generation=1700058369214317&alt=media",
           "hasLoyaltyProgram": false,
           "id": "nKPj2l5y1zFwKigc7Ajh",
           "isUsingStock": false,
           "loyaltyCardImage": null,
           "name": {
            "de": "MustBee",
            "en": "MustBee",
            "lt": "MustBee",
            "ru": "MustBee"
           },
           "slugs": [
            "MustBee"
           ],
           "tags": [
            "newShop"
           ],
           "thumbUrl": "https://storage.googleapis.com/download/storage/v1/b/lastmile-ui/o/images%2Fchains%2Fconverted%2Fthumb_nKPj2l5y1zFwKigc7Ajh.jpg?generation=1676644698061602&alt=media"
          },
          {
           "backgroundThumbUrl": "https://storage.googleapis.com/download/storage/v1/b/lastmile-ui/o/import%2Fphotos%2Fconverted%2Fchain%2Fglobal_BSlOISUsb351xizhb28w_tkoQLL8xhuM8bg7QndYinWCDCU73_I57ewYIfAW0MyOIDKQe2_big.jpg?generation=1696279399337864&alt=media",
           "hasLoyaltyProgram": false,
           "id": "BSlOISUsb351xizhb28w",
           "isUsingStock": false,
           "loyaltyCardImage": null,
           "name": {
            "de": "Tortai-pyragai",
            "en": "Tortai-pyragai",
            "lt": "Tortai-pyragai",
            "ru": "Tortai-pyragai"
           },
           "slugs": [
            "Tortai-pyragai"
           ],
           "tags": [
            "confectionery",
            "gourmet",
            "groceries",
            "gifts"
           ],
           "thumbUrl": "https://storage.googleapis.com/download/storage/v1/b/lastmile-ui/o/import%2Fphotos%2Fconverted%2Fchain%2Fglobal_BSlOISUsb351xizhb28w_tkoQLL8xhuM8bg7QndYinWCDCU73_J40dfaqEawR7loLj6vjK_thumb.webp?generation=1698216051424324&alt=media"
          },
          {
           "backgroundThumbUrl": "https://storage.googleapis.com/download/storage/v1/b/lastmile-ui/o/import%2Fphotos%2Fconverted%2Fchain%2Fglobal_td4XSCzKcTcDTvBeHML7_tkoQLL8xhuM8bg7QndYinWCDCU73_Lrh66YG5Z5WJWUh8ocil_big.jpg?generation=1696279404595268&alt=media",
           "hasLoyaltyProgram": false,
           "id": "td4XSCzKcTcDTvBeHML7",
           "isUsingStock": false,
           "loyaltyCardImage": null,
           "name": {
            "de": "BALTICMALL",
            "en": "BALTICMALL",
            "lt": "BALTICMALL",
            "ru": "BALTICMALL"
           },
           "slugs": [
            "BALTICMALL"
           ],
           "tags": [
            "newShop",
            "gifts"
           ],
           "thumbUrl": "https://storage.googleapis.com/download/storage/v1/b/lastmile-ui/o/import%2Fphotos%2Fconverted%2Fchain%2Fglobal_td4XSCzKcTcDTvBeHML7_tkoQLL8xhuM8bg7QndYinWCDCU73_tJaWrYgdp51WqUPbojtF_thumb.webp?generation=1698216054077951&alt=media"
          },
          {
           "backgroundThumbUrl": "https://storage.googleapis.com/download/storage/v1/b/lastmile-ui/o/import%2Fphotos%2Fconverted%2Fchain%2Fglobal_eUay0D521MNY2IEEecl4_tkoQLL8xhuM8bg7QndYinWCDCU73_irMJ7dyD6RLHeOjbme5P_big.jpg?generation=1696279397927295&alt=media",
           "hasLoyaltyProgram": false,
           "id": "eUay0D521MNY2IEEecl4",
           "isUsingStock": false,
           "loyaltyCardImage": null,
           "name": {
            "de": "GERŲ MINČIŲ ŪKIS",
            "en": "GERŲ MINČIŲ ŪKIS",
            "lt": "GERŲ MINČIŲ ŪKIS",
            "ru": "GERŲ MINČIŲ ŪKIS"
           },
           "slugs": [
            "GERU-MINCIU-uKIS"
           ],
           "tags": [
            "newShop"
           ],
           "thumbUrl": "https://storage.googleapis.com/download/storage/v1/b/lastmile-ui/o/import%2Fphotos%2Fconverted%2Fchain%2Fglobal_eUay0D521MNY2IEEecl4_tkoQLL8xhuM8bg7QndYinWCDCU73_UzC4gCpEiczfVZ2J0bLG_thumb.webp?generation=1698216050578570&alt=media"
          },
          {
           "backgroundThumbUrl": "https://storage.googleapis.com/download/storage/v1/b/lastmile-ui/o/import%2Fphotos%2Fconverted%2Fchain%2Fglobal_ktnOSFsfQPkWjLdUklmV_tkoQLL8xhuM8bg7QndYinWCDCU73_3oayff5WDmcZUqWLSI8c_big.jpg?generation=1696279399366265&alt=media",
           "hasLoyaltyProgram": false,
           "id": "ktnOSFsfQPkWjLdUklmV",
           "isUsingStock": false,
           "loyaltyCardImage": null,
           "name": {
            "de": "Rūta",
            "en": "Rūta",
            "lt": "Rūta",
            "ru": "Rūta"
           },
           "slugs": [
            "Ruta"
           ],
           "tags": [
            "sweets",
            "confectionery",
            "gourmet",
            "gifts"
           ],
           "thumbUrl": "https://storage.googleapis.com/download/storage/v1/b/lastmile-ui/o/import%2Fphotos%2Fconverted%2Fchain%2Fglobal_ktnOSFsfQPkWjLdUklmV_tkoQLL8xhuM8bg7QndYinWCDCU73_lAf6gtQ68RXku4TG11hR_thumb.webp?generation=1698216054789195&alt=media"
          },
          {
           "backgroundThumbUrl": "https://storage.googleapis.com/download/storage/v1/b/lastmile-ui/o/import%2Fphotos%2Fconverted%2Fchain%2Fglobal_TA8yAvtMEsga2tyvkcNg_tkoQLL8xhuM8bg7QndYinWCDCU73_gTOnJ7kR3s0pLQGLYN8r_big.jpg?generation=1696281314223127&alt=media",
           "hasLoyaltyProgram": false,
           "id": "TA8yAvtMEsga2tyvkcNg",
           "isUsingStock": false,
           "loyaltyCardImage": null,
           "name": {
            "de": "Grapperia",
            "en": "Grapperia",
            "lt": "Grapperia",
            "ru": "Grapperia"
           },
           "slugs": [
            "Grapperia"
           ],
           "tags": [],
           "thumbUrl": "https://storage.googleapis.com/download/storage/v1/b/lastmile-ui/o/import%2Fphotos%2Fconverted%2Fchain%2Fglobal_TA8yAvtMEsga2tyvkcNg_tkoQLL8xhuM8bg7QndYinWCDCU73_wd5kTTz5mkprPf0ZOXdo_thumb.webp?generation=1698216051090919&alt=media"
          },
          {
           "backgroundThumbUrl": "https://firebasestorage.googleapis.com/v0/b/lastmile-ui/o/import%2Fphotos%2Fconverted%2Fchain%2FbackgroundThumbUrl%2Fglobal_erXRsEJI7M3YzI5OkTjq_tkoQLL8xhuM8bg7QndYinWCDCU73_zAMxk5jGmL9qRRXNpCc5.webp?alt=media&token=0f64776b-7cfd-4aaa-8cfc-95b398db2fea",
           "hasLoyaltyProgram": false,
           "id": "erXRsEJI7M3YzI5OkTjq",
           "isUsingStock": false,
           "loyaltyCardImage": null,
           "name": {
            "de": "GOURMET LIFE",
            "en": "GOURMET LIFE",
            "lt": "GOURMET LIFE",
            "ru": "GOURMET LIFE"
           },
           "slugs": [
            "GOURMET-LIFE"
           ],
           "tags": [
            "newShop",
            "gourmet"
           ],
           "thumbUrl": "https://storage.googleapis.com/download/storage/v1/b/lastmile-ui/o/import%2Fphotos%2Fconverted%2Fchain%2Fglobal_erXRsEJI7M3YzI5OkTjq_tkoQLL8xhuM8bg7QndYinWCDCU73_8SJZDBzJtupk1c5e4LXV_thumb.webp?generation=1698216054782713&alt=media"
          },
          {
           "backgroundThumbUrl": "https://storage.googleapis.com/download/storage/v1/b/lastmile-ui/o/import%2Fphotos%2Fconverted%2Fchain%2Fglobal_55jawyGVW1js6Neetz3F_tkoQLL8xhuM8bg7QndYinWCDCU73_b5V0uwGxPLC8xTfX9uka_big.jpg?generation=1696279396061257&alt=media",
           "hasLoyaltyProgram": false,
           "id": "55jawyGVW1js6Neetz3F",
           "isUsingStock": false,
           "loyaltyCardImage": null,
           "name": {
            "de": "Piestro",
            "en": "Piestro",
            "lt": "Piestro",
            "ru": "Piestro"
           },
           "slugs": [
            "Piestro"
           ],
           "tags": [
            "groceries",
            "bakery"
           ],
           "thumbUrl": "https://storage.googleapis.com/download/storage/v1/b/lastmile-ui/o/import%2Fphotos%2Fconverted%2Fchain%2Fglobal_55jawyGVW1js6Neetz3F_tkoQLL8xhuM8bg7QndYinWCDCU73_u6FAQTMwEymXracNGYNv_thumb.webp?generation=1698216053766652&alt=media"
          },
          {
           "backgroundThumbUrl": "https://storage.googleapis.com/download/storage/v1/b/lastmile-ui/o/import%2Fphotos%2Fconverted%2Fchain%2Fglobal_Uh3YbF5KiffpeWMkBBze_tkoQLL8xhuM8bg7QndYinWCDCU73_z8c4Yt3ImzkOU0FcAQ3S_big.jpg?generation=1696279404744493&alt=media",
           "hasLoyaltyProgram": false,
           "id": "Uh3YbF5KiffpeWMkBBze",
           "isUsingStock": true,
           "loyaltyCardImage": null,
           "name": {
            "de": "Guggie",
            "en": "Guggie",
            "lt": "Guggie",
            "ru": "Guggie"
           },
           "slugs": [
            "Guggie"
           ],
           "tags": [
            "newShop"
           ],
           "thumbUrl": "https://storage.googleapis.com/download/storage/v1/b/lastmile-ui/o/import%2Fphotos%2Fconverted%2Fchain%2Fglobal_Uh3YbF5KiffpeWMkBBze_tkoQLL8xhuM8bg7QndYinWCDCU73_GcdeQzUYTFovPMfcRjXh_thumb.webp?generation=1698216052619957&alt=media"
          },
          {
           "backgroundThumbUrl": "https://storage.googleapis.com/download/storage/v1/b/lastmile-ui/o/import%2Fphotos%2Fconverted%2Fchain%2Fglobal_ISy3KkTutWNd3S9Ng2JC_tkoQLL8xhuM8bg7QndYinWCDCU73_EP4vhQmq91G4TJqMi1iG_big.jpg?generation=1696279398653357&alt=media",
           "hasLoyaltyProgram": false,
           "id": "ISy3KkTutWNd3S9Ng2JC",
           "isUsingStock": false,
           "loyaltyCardImage": null,
           "name": {
            "de": "MEDIKATUS",
            "en": "MEDIKATUS",
            "lt": "MEDIKATUS",
            "ru": "MEDIKATUS"
           },
           "slugs": [
            "MEDIKATUS"
           ],
           "tags": [
            "promotions",
            "newShop",
            "gifts",
            "organic"
           ],
           "thumbUrl": "https://storage.googleapis.com/download/storage/v1/b/lastmile-ui/o/import%2Fphotos%2Fconverted%2Fchain%2Fglobal_ISy3KkTutWNd3S9Ng2JC_tkoQLL8xhuM8bg7QndYinWCDCU73_mOxuLXjYNkFLip5Owg1e_thumb.webp?generation=1698216054209035&alt=media"
          },
          {
           "backgroundThumbUrl": "https://storage.googleapis.com/download/storage/v1/b/lastmile-ui/o/import%2Fphotos%2Fconverted%2Fchain%2Fglobal_xUhArfb04WkUN2Lqf415_tkoQLL8xhuM8bg7QndYinWCDCU73_0mmY3R9hhVojv8AvpoUN_big.webp?generation=1701337079654721&alt=media",
           "hasLoyaltyProgram": false,
           "id": "xUhArfb04WkUN2Lqf415",
           "isUsingStock": true,
           "loyaltyCardImage": null,
           "name": {
            "de": "OLIVER",
            "en": "OLIVER",
            "lt": "OLIVER",
            "ru": "OLIVER"
           },
           "slugs": [
            "OLIVER"
           ],
           "tags": [
            "newShop",
            "office"
           ],
           "thumbUrl": "https://storage.googleapis.com/download/storage/v1/b/lastmile-ui/o/import%2Fphotos%2Fconverted%2Fchain%2Fglobal_xUhArfb04WkUN2Lqf415_tkoQLL8xhuM8bg7QndYinWCDCU73_3MrDufBckHmQfRUuhsWh_thumb.webp?generation=1698216055501157&alt=media"
          },
          {
           "backgroundThumbUrl": "https://storage.googleapis.com/download/storage/v1/b/lastmile-ui/o/import%2Fphotos%2Fconverted%2Fchain%2Fglobal_bkq87WDAhS4w9R8xFM0C_tkoQLL8xhuM8bg7QndYinWCDCU73_kAqYEzxFGe1eLJJN3A0Q_big.jpg?generation=1696279397551081&alt=media",
           "hasLoyaltyProgram": false,
           "id": "bkq87WDAhS4w9R8xFM0C",
           "isUsingStock": false,
           "loyaltyCardImage": null,
           "name": {
            "de": "PORTUGALIŠKO VYNO AMBASADA",
            "en": "PORTUGALIŠKO VYNO AMBASADA",
            "lt": "PORTUGALIŠKO VYNO AMBASADA",
            "ru": "PORTUGALIŠKO VYNO AMBASADA"
           },
           "slugs": [
            "PORTUGALISKO-VYNO-AMBASADA"
           ],
           "tags": [
            "newShop",
            "alcohol",
            "gifts",
            "gourmet"
           ],
           "thumbUrl": "https://storage.googleapis.com/download/storage/v1/b/lastmile-ui/o/import%2Fphotos%2Fconverted%2Fchain%2Fglobal_bkq87WDAhS4w9R8xFM0C_tkoQLL8xhuM8bg7QndYinWCDCU73_b3KCfb4wCNjH4UKSIBLO_thumb.webp?generation=1698216051297141&alt=media"
          },
          {
           "backgroundThumbUrl": "https://storage.googleapis.com/download/storage/v1/b/lastmile-ui/o/import%2Fphotos%2Fconverted%2Fchain%2Fglobal_BKDsJmjka6w5Q6UYjq8Z_tkoQLL8xhuM8bg7QndYinWCDCU73_C0hkXVimbVZltQM5bF4z_big.jpg?generation=1696279400851911&alt=media",
           "hasLoyaltyProgram": false,
           "id": "BKDsJmjka6w5Q6UYjq8Z",
           "isUsingStock": false,
           "loyaltyCardImage": null,
           "name": {
            "de": "FLERA",
            "en": "FLERA",
            "lt": "FLERA",
            "ru": "FLERA"
           },
           "slugs": [
            "FLERA"
           ],
           "tags": [
            "gifts",
            "newShop"
           ],
           "thumbUrl": "https://storage.googleapis.com/download/storage/v1/b/lastmile-ui/o/import%2Fphotos%2Fconverted%2Fchain%2Fglobal_BKDsJmjka6w5Q6UYjq8Z_tkoQLL8xhuM8bg7QndYinWCDCU73_ydDTkVXT2EsyvP9Qu48d_thumb.webp?generation=1698216053102827&alt=media"
          },
          {
           "backgroundThumbUrl": "https://storage.googleapis.com/download/storage/v1/b/lastmile-ui/o/import%2Fphotos%2Fconverted%2Fchain%2Fglobal_HbHLIpX2lhEaZCBcSTHy_tkoQLL8xhuM8bg7QndYinWCDCU73_kRQfgHeo7e8VWo7968FC_big.jpg?generation=1696280905956399&alt=media",
           "hasLoyaltyProgram": false,
           "id": "HbHLIpX2lhEaZCBcSTHy",
           "isUsingStock": false,
           "loyaltyCardImage": null,
           "name": {
            "de": "Pieno namai",
            "en": "Pieno namai",
            "lt": "Pieno namai",
            "ru": "Pieno namai"
           },
           "slugs": [
            "Pieno-namai"
           ],
           "tags": [
            "groceries"
           ],
           "thumbUrl": "https://storage.googleapis.com/download/storage/v1/b/lastmile-ui/o/import%2Fphotos%2Fconverted%2Fchain%2Fglobal_HbHLIpX2lhEaZCBcSTHy_tkoQLL8xhuM8bg7QndYinWCDCU73_2rDKwEYNgPN0ShKE62kb_thumb.webp?generation=1698216054925049&alt=media"
          },
          {
           "backgroundThumbUrl": "https://storage.googleapis.com/download/storage/v1/b/lastmile-ui/o/import%2Fphotos%2Fconverted%2Fchain%2Fglobal_cKlzVZgS4jAmxYwp7yVY_tkoQLL8xhuM8bg7QndYinWCDCU73_VOhjm2yLecNj56V7p9dh_big.jpg?generation=1696280911015350&alt=media",
           "hasLoyaltyProgram": false,
           "id": "cKlzVZgS4jAmxYwp7yVY",
           "isUsingStock": false,
           "loyaltyCardImage": null,
           "name": {
            "de": "KETOFOOD",
            "en": "KETOFOOD",
            "lt": "KETOFOOD",
            "ru": "KETOFOOD"
           },
           "slugs": [
            "KETOFOOD"
           ],
           "tags": [
            "newShop",
            "promotions",
            "groceries",
            "organic"
           ],
           "thumbUrl": "https://storage.googleapis.com/download/storage/v1/b/lastmile-ui/o/import%2Fphotos%2Fconverted%2Fchain%2Fglobal_cKlzVZgS4jAmxYwp7yVY_tkoQLL8xhuM8bg7QndYinWCDCU73_yQ82jZrpxswpQMQrD96b_thumb.webp?generation=1698216053115479&alt=media"
          },
          {
           "backgroundThumbUrl": "https://storage.googleapis.com/download/storage/v1/b/lastmile-ui/o/import%2Fphotos%2Fconverted%2Fchain%2Fglobal_LH3gomcq0Wg15TcRPxM7_tkoQLL8xhuM8bg7QndYinWCDCU73_RrLiRcKBL9r3Qsg7QcYd_big.jpg?generation=1696279402287033&alt=media",
           "hasLoyaltyProgram": false,
           "id": "LH3gomcq0Wg15TcRPxM7",
           "isUsingStock": false,
           "loyaltyCardImage": null,
           "name": {
            "de": "KAFF",
            "en": "KAFF",
            "lt": "KAFF",
            "ru": "KAFF"
           },
           "slugs": [
            "KAFF"
           ],
           "tags": [
            "gourmet",
            "groceries"
           ],
           "thumbUrl": "https://storage.googleapis.com/download/storage/v1/b/lastmile-ui/o/import%2Fphotos%2Fconverted%2Fchain%2Fglobal_LH3gomcq0Wg15TcRPxM7_tkoQLL8xhuM8bg7QndYinWCDCU73_QFvo3aLxhwUhBpkdXxvW_thumb.webp?generation=1698216051459446&alt=media"
          },
          {
           "backgroundThumbUrl": "https://storage.googleapis.com/download/storage/v1/b/lastmile-ui/o/import%2Fphotos%2Fconverted%2Fchain%2Fglobal_mzYibwFlvQFMGojloWXh_tkoQLL8xhuM8bg7QndYinWCDCU73_uGH3omaitp1ahCWaafjT_big.jpg?generation=1696279400907793&alt=media",
           "hasLoyaltyProgram": false,
           "id": "mzYibwFlvQFMGojloWXh",
           "isUsingStock": false,
           "loyaltyCardImage": null,
           "name": {
            "de": "BIOCOS Pet Care",
            "en": "BIOCOS Pet Care",
            "lt": "BIOCOS Pet Care",
            "ru": "BIOCOS Pet Care"
           },
           "slugs": [
            "BIOCOS-Pet-Care"
           ],
           "tags": [
            "pets"
           ],
           "thumbUrl": "https://storage.googleapis.com/download/storage/v1/b/lastmile-ui/o/import%2Fphotos%2Fconverted%2Fchain%2Fglobal_mzYibwFlvQFMGojloWXh_tkoQLL8xhuM8bg7QndYinWCDCU73_rq40mUd8xfYJL0v5ynUu_thumb.webp?generation=1698216055743299&alt=media"
          },
          {
           "backgroundThumbUrl": "https://storage.googleapis.com/download/storage/v1/b/lastmile-ui/o/import%2Fphotos%2Fconverted%2Fchain%2Fglobal_yqO029PSPTFds5rdSdC5_tkoQLL8xhuM8bg7QndYinWCDCU73_8GTzXFCqjeyEXw5bt1ia_big.webp?generation=1704192421853243&alt=media",
           "hasLoyaltyProgram": false,
           "id": "yqO029PSPTFds5rdSdC5",
           "isUsingStock": false,
           "loyaltyCardImage": null,
           "name": {
            "en": "Dovanų Dovana",
            "lt": "Dovanų Dovana"
           },
           "slugs": [
            "Dovanu-Dovana"
           ],
           "tags": [
            "newShop"
           ],
           "thumbUrl": "https://storage.googleapis.com/download/storage/v1/b/lastmile-ui/o/import%2Fphotos%2Fconverted%2Fchain%2Fglobal_yqO029PSPTFds5rdSdC5_5bf2JWMXo7aWQ7PzGf9afgfhEpG2_kDSfP0an0pumqfvUZpTv_thumb.webp?generation=1699431332195394&alt=media"
          },
          {
           "backgroundThumbUrl": "https://storage.googleapis.com/download/storage/v1/b/lastmile-ui/o/import%2Fphotos%2Fconverted%2Fchain%2Fglobal_jv0dozbps89KEiqPTFte_tkoQLL8xhuM8bg7QndYinWCDCU73_vwF5OsAxN3hD6FrSoVTz_big.jpg?generation=1696279399076884&alt=media",
           "hasLoyaltyProgram": false,
           "id": "jv0dozbps89KEiqPTFte",
           "isUsingStock": false,
           "loyaltyCardImage": null,
           "name": {
            "de": "AMBRETI",
            "en": "AMBRETI",
            "lt": "AMBRETI",
            "ru": "AMBRETI"
           },
           "slugs": [
            "AMBRETI"
           ],
           "tags": [
            "newShop",
            "promotions"
           ],
           "thumbUrl": "https://storage.googleapis.com/download/storage/v1/b/lastmile-ui/o/import%2Fphotos%2Fconverted%2Fchain%2Fglobal_jv0dozbps89KEiqPTFte_tkoQLL8xhuM8bg7QndYinWCDCU73_cNWCf6iPLHLMOuckVsSc_thumb.webp?generation=1698216056208917&alt=media"
          }
         ],
         "country": {
          "availablePaymentMethods": [
           "bank",
           "card",
           "applePay",
           "googlePay"
          ],
          "constraintTable": {
           "alcohol": {
            "age": 20,
            "availabilityUpperBoundAdjustment": 0,
            "isAgeValidationRequired": true,
            "isPenalizable": true,
            "isSeparateOrder": true,
            "penaltyLowerTimeBound": 120,
            "scheduleId": "9PF7zYY0cYg1muclItCz",
            "skipPromoPrice": true,
            "upperBoundAdjustment": -60
           },
           "babyFood": {
            "skipPromoPrice": true
           },
           "energyDrink": {
            "age": 18
           },
           "fresh": {
            "isSeparateBag": true
           },
           "frozen": {
            "isPenalizable": false,
            "isSeparateBag": true,
            "losesValue": false
           }
          },
          "countryCode": "lt",
          "currency": "EUR",
          "currencySymbol": "€",
          "deliveryOptions": [
           {
            "cargoHeight": 0,
            "cargoLength": 0,
            "cargoWeightCap": 0,
            "cargoWidth": 0,
            "isOrderSplittable": false,
            "isParallelSteps": false,
            "isRouteBuilderRequired": true,
            "provider": "LastMile",
            "restrictedConstraintCodes": [],
            "scheduleId": "",
            "storeId": "",
            "vehicleTypes": [],
            "zoneNameToId": {},
            "zones": []
           }
          ],
          "fractionDigits": 2,
          "id": "gCHYvyhpNcKZgcPiDwRV",
          "minimalOrderedValue": 20,
          "minimalSurcharge": 3,
          "name": {
           "en": "Lithuania",
           "lt": "Lietuva"
          },
          "taxTable": {
           "deposit": 0.1
          },
          "timezone": "Europe/Vilnius"
         },
         "host": "lastmile.lt",
         "product": null,
         "queryParams": {}
        }
       },
       "query": {},
       "scriptLoader": []
      }
     },
     "execution_count": 8,
     "metadata": {},
     "output_type": "execute_result"
    }
   ],
   "source": [
    "function show_json(json){\n",
    "    return {\n",
    "  [Symbol.for(\"Jupyter.display\")]() {\n",
    "    return {\n",
    "      // Plain text content\n",
    "      \"application/json\": json,\n",
    "    }\n",
    "  }\n",
    "}\n",
    "}\n",
    "show_json(jsonObject)"
   ]
  }
 ],
 "metadata": {
  "kernelspec": {
   "display_name": "Deno",
   "language": "typescript",
   "name": "deno"
  },
  "language_info": {
   "file_extension": ".ts",
   "mimetype": "text/x.typescript",
   "name": "typescript",
   "nb_converter": "script",
   "pygments_lexer": "typescript",
   "version": "5.4.3"
  }
 },
 "nbformat": 4,
 "nbformat_minor": 5
}
